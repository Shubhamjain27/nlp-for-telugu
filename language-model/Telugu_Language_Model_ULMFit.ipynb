{
  "nbformat": 4,
  "nbformat_minor": 0,
  "metadata": {
    "colab": {
      "name": "Telugu-Ulmfit V3.ipynb",
      "provenance": []
    },
    "kernelspec": {
      "name": "python3",
      "display_name": "Python 3"
    },
    "accelerator": "GPU"
  },
  "cells": [
    {
      "cell_type": "code",
      "metadata": {
        "id": "BtcZ6vFAixH1",
        "colab_type": "code",
        "colab": {}
      },
      "source": [
        "import fastai, torch"
      ],
      "execution_count": null,
      "outputs": []
    },
    {
      "cell_type": "code",
      "metadata": {
        "id": "xM1oCYNrmTiB",
        "colab_type": "code",
        "colab": {
          "base_uri": "https://localhost:8080/",
          "height": 34
        },
        "outputId": "3767859e-0775-44f1-9271-692959348a1f"
      },
      "source": [
        "fastai.__version__ , torch.__version__"
      ],
      "execution_count": null,
      "outputs": [
        {
          "output_type": "execute_result",
          "data": {
            "text/plain": [
              "('1.0.61', '1.5.1+cu101')"
            ]
          },
          "metadata": {
            "tags": []
          },
          "execution_count": 5
        }
      ]
    },
    {
      "cell_type": "code",
      "metadata": {
        "id": "GJmOyXtCmWw-",
        "colab_type": "code",
        "colab": {}
      },
      "source": [
        "from urllib.request import urlopen\n",
        "from bs4 import BeautifulSoup\n",
        "import pandas as pd\n",
        "import numpy as np\n",
        "import os\n",
        "import re"
      ],
      "execution_count": null,
      "outputs": []
    },
    {
      "cell_type": "code",
      "metadata": {
        "id": "5SBan4kY0aXh",
        "colab_type": "code",
        "colab": {}
      },
      "source": [
        "df = pd.read_csv('drive/My Drive/nlp-telugu/inltk/dataset/telugu_wiki_links.csv')\n",
        "unique_links = df['link'].values"
      ],
      "execution_count": null,
      "outputs": []
    },
    {
      "cell_type": "code",
      "metadata": {
        "id": "VvolGrXr0sYb",
        "colab_type": "code",
        "colab": {}
      },
      "source": [
        "def readout_buffer(response):\n",
        "    response.text = response.read()\n",
        "    return response.text.decode('utf-8')\n",
        "\n",
        "    \n",
        "def get_data_from_url(url):\n",
        "    try:\n",
        "        r = urlopen(url)\n",
        "        doc = readout_buffer(r)\n",
        "    except Exception as e:\n",
        "        # print(e)\n",
        "        doc = \"\"\n",
        "    return doc"
      ],
      "execution_count": null,
      "outputs": []
    },
    {
      "cell_type": "code",
      "metadata": {
        "id": "naVZKxqm3HUM",
        "colab_type": "code",
        "colab": {
          "base_uri": "https://localhost:8080/",
          "height": 34
        },
        "outputId": "0e02ecb4-739d-40eb-f6c3-480ba681308a"
      },
      "source": [
        "!pip install selectolax\n",
        "from selectolax.parser import HTMLParser\n",
        "def get_details(url):\n",
        "    doc = get_data_from_url(url)\n",
        "    try: \n",
        "        html_doc = HTMLParser(doc)\n",
        "        t = '\\n '.join(n.text() for n in html_doc.css(\"title\"))\n",
        "        a = '\\n '.join(n.text() for n in html_doc.css(\"p\"))\n",
        "    except:\n",
        "        t = \"\"\n",
        "        a = \"\"\n",
        "    return t, a"
      ],
      "execution_count": null,
      "outputs": [
        {
          "output_type": "stream",
          "text": [
            "Requirement already satisfied: selectolax in /usr/local/lib/python3.6/dist-packages (0.2.3)\n"
          ],
          "name": "stdout"
        }
      ]
    },
    {
      "cell_type": "code",
      "metadata": {
        "id": "RK5OTa8M3Lu2",
        "colab_type": "code",
        "colab": {}
      },
      "source": [
        "from datetime import datetime\n",
        "import multiprocessing as mp\n",
        "import multiprocessing.dummy as mpd\n",
        "import time\n",
        "\n",
        "start = datetime.now()\n",
        "cpu_cores = mp.cpu_count()\n",
        "print('parallelising the task on {} cpu cores'.format(cpu_cores))\n",
        "\n",
        "rows = []\n",
        "count = 0\n",
        "# divide pool\n",
        "pool = mpd.Pool(processes=cpu_cores)\n",
        "# iter over \n",
        "for row in pool.imap(get_details, unique_links):\n",
        "    rows.append(row)    \n",
        "    count = count + 1\n",
        "    # print/save\n",
        "    if not count%100:\n",
        "        print('done for,', count)\n",
        "    if not count%10000:\n",
        "        df = pd.DataFrame(rows, columns = ['title', 'text'])\n",
        "        df.to_parquet('telugu_wikipedia_dataset.parquet', index = None)\n",
        "        print(\"Done for {} rows ---> {}\".format(count, datetime.now() - start))\n",
        "# close the pool\n",
        "pool.close()\n",
        "pool.join()\n"
      ],
      "execution_count": null,
      "outputs": []
    },
    {
      "cell_type": "code",
      "metadata": {
        "id": "O6jfUApP3PCR",
        "colab_type": "code",
        "colab": {}
      },
      "source": [
        "from fastai.text import *\n",
        "import numpy as np\n",
        "from sklearn.model_selection import train_test_split\n",
        "import pickle\n",
        "import sentencepiece as spm"
      ],
      "execution_count": 2,
      "outputs": []
    },
    {
      "cell_type": "code",
      "metadata": {
        "id": "7r5ca37w3puu",
        "colab_type": "code",
        "colab": {
          "base_uri": "https://localhost:8080/",
          "height": 34
        },
        "outputId": "fa37d05a-36c6-4586-cf89-8fe23a7ef801"
      },
      "source": [
        "!pip install sentencepiece"
      ],
      "execution_count": 1,
      "outputs": [
        {
          "output_type": "stream",
          "text": [
            "Requirement already satisfied: sentencepiece in /usr/local/lib/python3.6/dist-packages (0.1.91)\n"
          ],
          "name": "stdout"
        }
      ]
    },
    {
      "cell_type": "code",
      "metadata": {
        "id": "nK7DW_0Fi5jM",
        "colab_type": "code",
        "colab": {
          "base_uri": "https://localhost:8080/",
          "height": 34
        },
        "outputId": "8cae3971-ff1d-4d6e-a547-0aa6f3a58503"
      },
      "source": [
        "import fastai, torch\n",
        "fastai.__version__ , torch.__version__"
      ],
      "execution_count": 3,
      "outputs": [
        {
          "output_type": "execute_result",
          "data": {
            "text/plain": [
              "('1.0.61', '1.5.1+cu101')"
            ]
          },
          "metadata": {
            "tags": []
          },
          "execution_count": 3
        }
      ]
    },
    {
      "cell_type": "code",
      "metadata": {
        "id": "PwVdj4eG32Js",
        "colab_type": "code",
        "colab": {}
      },
      "source": [
        "df = pd.read_parquet('drive/My Drive/nlp-telugu/telugu_wikipedia_dataset.parquet')"
      ],
      "execution_count": 4,
      "outputs": []
    },
    {
      "cell_type": "code",
      "metadata": {
        "id": "XXMNx5IYmWiO",
        "colab_type": "code",
        "colab": {
          "base_uri": "https://localhost:8080/",
          "height": 34
        },
        "outputId": "43c3ced4-181d-4957-b627-69e10264c234"
      },
      "source": [
        "df.shape, df.columns"
      ],
      "execution_count": 7,
      "outputs": [
        {
          "output_type": "execute_result",
          "data": {
            "text/plain": [
              "((90000, 2), Index(['title', 'text'], dtype='object'))"
            ]
          },
          "metadata": {
            "tags": []
          },
          "execution_count": 7
        }
      ]
    },
    {
      "cell_type": "code",
      "metadata": {
        "id": "yLTyGCsHmpJX",
        "colab_type": "code",
        "colab": {
          "base_uri": "https://localhost:8080/",
          "height": 34
        },
        "outputId": "410c76ca-2541-4e34-c0f0-c59df980646c"
      },
      "source": [
        "texts = df['text'].tolist()\n",
        "texts = [t for t in texts if len(t.strip())>1]\n",
        "print(len(texts))"
      ],
      "execution_count": 8,
      "outputs": [
        {
          "output_type": "stream",
          "text": [
            "83953\n"
          ],
          "name": "stdout"
        }
      ]
    },
    {
      "cell_type": "code",
      "metadata": {
        "id": "E3clm9lqm28E",
        "colab_type": "code",
        "colab": {}
      },
      "source": [
        "df2 = pd.DataFrame(texts, columns = ['text'])"
      ],
      "execution_count": 9,
      "outputs": []
    },
    {
      "cell_type": "code",
      "metadata": {
        "id": "JTUkteacm7kJ",
        "colab_type": "code",
        "colab": {
          "base_uri": "https://localhost:8080/",
          "height": 34
        },
        "outputId": "e7bf7a4f-1ae6-4df5-f251-f789623adfa0"
      },
      "source": [
        "del df, texts\n",
        "gc.collect()"
      ],
      "execution_count": 10,
      "outputs": [
        {
          "output_type": "execute_result",
          "data": {
            "text/plain": [
              "33"
            ]
          },
          "metadata": {
            "tags": []
          },
          "execution_count": 10
        }
      ]
    },
    {
      "cell_type": "code",
      "metadata": {
        "id": "4e7PCJCjm9_S",
        "colab_type": "code",
        "colab": {
          "base_uri": "https://localhost:8080/",
          "height": 34
        },
        "outputId": "8986a629-65a8-41f7-bdeb-bf7fb49d8e85"
      },
      "source": [
        "from sklearn.model_selection import train_test_split\n",
        "train_df, test_df = train_test_split(df2, test_size=0.2, random_state=42)\n",
        "train_df.shape, test_df.shape"
      ],
      "execution_count": 11,
      "outputs": [
        {
          "output_type": "execute_result",
          "data": {
            "text/plain": [
              "((67162, 1), (16791, 1))"
            ]
          },
          "metadata": {
            "tags": []
          },
          "execution_count": 11
        }
      ]
    },
    {
      "cell_type": "code",
      "metadata": {
        "id": "VvqsE-AvKoVo",
        "colab_type": "code",
        "colab": {}
      },
      "source": [
        "train_df.to_parquet('telugu_wiki_train.parquet', index = None)\n",
        "test_df.to_parquet('telugu_wiki_test.parquet', index = None)"
      ],
      "execution_count": null,
      "outputs": []
    },
    {
      "cell_type": "code",
      "metadata": {
        "id": "OdbgstuENhAT",
        "colab_type": "code",
        "colab": {
          "base_uri": "https://localhost:8080/",
          "height": 34
        },
        "outputId": "84027f32-1a45-4fdc-8edb-fc6ceef70e3d"
      },
      "source": [
        "!pwd"
      ],
      "execution_count": 10,
      "outputs": [
        {
          "output_type": "stream",
          "text": [
            "/content\n"
          ],
          "name": "stdout"
        }
      ]
    },
    {
      "cell_type": "code",
      "metadata": {
        "id": "cn7AOBwK2EFq",
        "colab_type": "code",
        "colab": {}
      },
      "source": [
        "from inltk.tokenizer import TeluguTokenizer"
      ],
      "execution_count": 12,
      "outputs": []
    },
    {
      "cell_type": "code",
      "metadata": {
        "id": "pKXmCY45nBc6",
        "colab_type": "code",
        "colab": {}
      },
      "source": [
        "sp = spm.SentencePieceProcessor()\n",
        "sp.Load('tokenizer.model')\n",
        "itos = [sp.IdToPiece(int(i)) for i in range(25000)] # 25,000 is the vocab_size selected in sm tokenizer\n",
        "telugu_vocab = Vocab(itos)"
      ],
      "execution_count": 13,
      "outputs": []
    },
    {
      "cell_type": "code",
      "metadata": {
        "id": "WIT3A0EXokLk",
        "colab_type": "code",
        "colab": {}
      },
      "source": [
        "tokenizer = Tokenizer(tok_func=TeluguTokenizer, lang='te')"
      ],
      "execution_count": 14,
      "outputs": []
    },
    {
      "cell_type": "code",
      "metadata": {
        "id": "L7PDo4fCoxyt",
        "colab_type": "code",
        "colab": {
          "base_uri": "https://localhost:8080/",
          "height": 170
        },
        "outputId": "7ec751b2-543d-4095-dd94-272879972c7a"
      },
      "source": [
        "tokenizer.special_cases"
      ],
      "execution_count": 15,
      "outputs": [
        {
          "output_type": "execute_result",
          "data": {
            "text/plain": [
              "['xxunk',\n",
              " 'xxpad',\n",
              " 'xxbos',\n",
              " 'xxeos',\n",
              " 'xxfld',\n",
              " 'xxmaj',\n",
              " 'xxup',\n",
              " 'xxrep',\n",
              " 'xxwrep']"
            ]
          },
          "metadata": {
            "tags": []
          },
          "execution_count": 15
        }
      ]
    },
    {
      "cell_type": "code",
      "metadata": {
        "id": "nK5irvl94lJA",
        "colab_type": "code",
        "colab": {}
      },
      "source": [
        "torch.cuda.set_device(0)"
      ],
      "execution_count": 16,
      "outputs": []
    },
    {
      "cell_type": "code",
      "metadata": {
        "id": "bEKoeGRVo0Mq",
        "colab_type": "code",
        "colab": {
          "base_uri": "https://localhost:8080/",
          "height": 17
        },
        "outputId": "2be723ac-3d01-456c-aefb-f88c81d1d89b"
      },
      "source": [
        "data_lm = TextLMDataBunch.from_df('/content/', train_df=train_df, valid_df=test_df,\n",
        "                                  text_cols=[\"text\"], bs=96,\n",
        "                                  tokenizer=tokenizer, vocab=telugu_vocab) # default bs=64\n",
        "data_lm.save('telugu_lm.data')\n"
      ],
      "execution_count": 17,
      "outputs": [
        {
          "output_type": "display_data",
          "data": {
            "text/html": [
              ""
            ],
            "text/plain": [
              "<IPython.core.display.HTML object>"
            ]
          },
          "metadata": {
            "tags": []
          }
        },
        {
          "output_type": "display_data",
          "data": {
            "text/html": [
              ""
            ],
            "text/plain": [
              "<IPython.core.display.HTML object>"
            ]
          },
          "metadata": {
            "tags": []
          }
        }
      ]
    },
    {
      "cell_type": "code",
      "metadata": {
        "id": "NWMy34EVpPMF",
        "colab_type": "code",
        "colab": {
          "base_uri": "https://localhost:8080/",
          "height": 34
        },
        "outputId": "4f2c5670-71bc-4e50-95ec-16fef0332018"
      },
      "source": [
        "data_lm.batch_size"
      ],
      "execution_count": 18,
      "outputs": [
        {
          "output_type": "execute_result",
          "data": {
            "text/plain": [
              "96"
            ]
          },
          "metadata": {
            "tags": []
          },
          "execution_count": 18
        }
      ]
    },
    {
      "cell_type": "code",
      "metadata": {
        "id": "aEIugs4O5y4_",
        "colab_type": "code",
        "colab": {
          "base_uri": "https://localhost:8080/",
          "height": 391
        },
        "outputId": "c96180eb-9841-42b8-fa52-3e2da93acf1a"
      },
      "source": [
        "\n",
        "data_lm.show_batch()"
      ],
      "execution_count": 19,
      "outputs": [
        {
          "output_type": "display_data",
          "data": {
            "text/html": [
              "<table border=\"1\" class=\"dataframe\">\n",
              "  <thead>\n",
              "    <tr style=\"text-align: right;\">\n",
              "      <th>idx</th>\n",
              "      <th>text</th>\n",
              "    </tr>\n",
              "  </thead>\n",
              "  <tbody>\n",
              "    <tr>\n",
              "      <td>0</td>\n",
              "      <td>8. ▁షెడ్యూల్డ్ ▁కులాల ▁సంఖ్య ▁33 ▁కాగా ▁షెడ్యూల్డ్ ▁తెగల ▁సంఖ్య ▁0. ▁గ్రామం ▁యొక్క ▁జనగణన ▁లొకేషన్ ▁కోడ్ ▁58 03 93 [1]. పిన్ ▁కోడ్ : ▁532 29 1. ▁సమీప ▁ప్రాథమిక ▁ఆరోగ్య ▁ఉప ▁కేంద్రం ▁గ్రామం ▁నుండి ▁5 ▁కి . మీ . ▁లోపు ▁దూరంలో ▁ఉంది . ▁ప్రాథమిక ▁ఆరోగ్య ▁కేంద్రం ▁గ్రామం ▁నుండి ▁5 ▁నుండి ▁10 ▁కి . మీ . ▁దూరంలో ▁ఉంది . ▁అలోపతి ▁ఆసుపత్రి , ▁ప్రత్యామ్నాయ ▁ఔషధ ▁ఆసుపత్రి , ▁పశు ▁వైద్యశాల , ▁సంచార ▁వైద్య ▁శాల ▁గ్రామం</td>\n",
              "    </tr>\n",
              "    <tr>\n",
              "      <td>1</td>\n",
              "      <td>▁స్థిరంగా ▁ఉండేవారు ▁కోపం తొ ▁ఎక్కడ ు న్నా వూ ' ▁ఇంత సేపు ▁అన డానికి ▁ఇలా ▁అంటారు . ▁తే రి పార ▁చూచ ుట ▁పై నుండి ▁క్రింది వరకు ▁చూచ ుట ▁\" పల్లెలో కి ▁క్రొత్త గా ▁వచ్చిన ▁వారిని ▁ఎగ ది గ ▁చూడటం ▁సర్వసాధారణ ం \" ▁వి ద్వేష ాలను ▁రెచ్చగొట్ట డం ▁== ▁వారి రువు రు ▁పో ట్ల ాడు కు ంటు ంటే ▁వీరు ▁పక్కన ▁చే ▁ఎగ దో స్తున్నారు . ▁తీసుకున్న ▁అప్పు ను ▁తిరిగి ▁ఇవ్వ కుంటే ▁వాడు</td>\n",
              "    </tr>\n",
              "    <tr>\n",
              "      <td>2</td>\n",
              "      <td>▁పోలింగ్ ▁స్టేషన్ ▁గ్రామం ▁నుండి ▁10 ▁కి . మీ . కి ▁పైబడిన ▁దూరంలో ▁ఉన్నాయి . ▁గ్రామంలో ▁గృహావసరాల ▁నిమిత్తం ▁విద్యుత్ ▁సరఫరా ▁వ్యవస్థ ▁ఉంది . ▁పెద స రియ పల్లిలో ▁భూ ▁వినియోగం ▁కింది ▁విధంగా ▁ఉంది : ▁పెద స రియ పల్లిలో ▁వ్యవసాయానికి ▁నీటి ▁సరఫరా ▁కింది ▁వనరుల ▁ద్వారా ▁జరుగుతోంది . ▁http : ▁/ ▁/ ▁c ens us ind ia . go v . in ▁/ ▁po pul ation f ind er ▁/ ▁sub &lt;unk&gt; &lt;unk&gt; di</td>\n",
              "    </tr>\n",
              "    <tr>\n",
              "      <td>3</td>\n",
              "      <td>▁కంకర ▁రోడ్లు ▁ఉన్నాయి . ▁గ్రామంలో ▁స్వయం ▁సహాయక ▁బృందం , ▁పౌర ▁సరఫరాల ▁కేంద్రం ▁ఉన్నాయి . ▁వాణిజ్య ▁బ్యాంకు , ▁సహకార ▁బ్యాంకు , ▁వ్యవసాయ ▁పరపతి ▁సంఘం ▁గ్రామం ▁నుండి ▁5 ▁నుండి ▁10 ▁కి . మీ . ▁దూరంలో ▁ఉన్నాయి . ▁వారం ▁వారం ▁సంత ▁గ్రామం ▁నుండి ▁5 ▁నుండి ▁10 ▁కి . మీ . ▁దూరంలో ▁ఉంది . ▁ఏటీఎమ్ ▁గ్రామం ▁నుండి ▁10 ▁కి . మీ . కి ▁పైబడిన ▁దూరంలో ▁ఉంది . ▁రోజువారీ ▁మార్కెట్ , ▁వ్యవసాయ ▁మార్కెటింగ్ ▁సొసైటీ ▁గ్రామం</td>\n",
              "    </tr>\n",
              "    <tr>\n",
              "      <td>4</td>\n",
              "      <td>హ్ ▁ &lt;unk&gt; ▁పూ ం చ్ ▁ &lt;unk&gt; ▁ పుల్ వా మా ▁ &lt;unk&gt; ▁రాజ ౌ రీ ▁ &lt;unk&gt; ▁శ్రీనగర్ ▁ &lt;unk&gt; ▁కాశ్మీర్ ▁ &lt;unk&gt; &lt;unk&gt; las pur – m andi – l e h ▁railway ▁ &lt;unk&gt; ▁ &lt;unk&gt; &lt;unk&gt; - p oon ch ▁railway ▁ &lt;unk&gt; &lt;unk&gt; na gar - k ar g il - l e h ▁railway ▁ &lt;unk&gt; ▁లె హ్ - ▁మన ాలి ▁హైవే ▁</td>\n",
              "    </tr>\n",
              "  </tbody>\n",
              "</table>"
            ],
            "text/plain": [
              "<IPython.core.display.HTML object>"
            ]
          },
          "metadata": {
            "tags": []
          }
        }
      ]
    },
    {
      "cell_type": "code",
      "metadata": {
        "id": "VGtpYmSN56fW",
        "colab_type": "code",
        "colab": {
          "base_uri": "https://localhost:8080/",
          "height": 34
        },
        "outputId": "2c967008-a307-4dc9-b709-f5b00c5c9bb3"
      },
      "source": [
        "len(data_lm.vocab.itos)"
      ],
      "execution_count": 20,
      "outputs": [
        {
          "output_type": "execute_result",
          "data": {
            "text/plain": [
              "25000"
            ]
          },
          "metadata": {
            "tags": []
          },
          "execution_count": 20
        }
      ]
    },
    {
      "cell_type": "code",
      "metadata": {
        "id": "9-8Cw1ew5_Nx",
        "colab_type": "code",
        "colab": {}
      },
      "source": [
        "learn = language_model_learner(data_lm, AWD_LSTM, drop_mult=0.25, pretrained=False)"
      ],
      "execution_count": 21,
      "outputs": []
    },
    {
      "cell_type": "code",
      "metadata": {
        "id": "OZ4yWclx6TVc",
        "colab_type": "code",
        "colab": {
          "base_uri": "https://localhost:8080/",
          "height": 34
        },
        "outputId": "38be82c8-e80d-4254-bad1-9d03e16dc02d"
      },
      "source": [
        "gc.collect()"
      ],
      "execution_count": 22,
      "outputs": [
        {
          "output_type": "execute_result",
          "data": {
            "text/plain": [
              "0"
            ]
          },
          "metadata": {
            "tags": []
          },
          "execution_count": 22
        }
      ]
    },
    {
      "cell_type": "code",
      "metadata": {
        "id": "Zt60At1w6ZhW",
        "colab_type": "code",
        "colab": {
          "base_uri": "https://localhost:8080/",
          "height": 112
        },
        "outputId": "c62b5198-3b21-40ab-b6ec-a541c9069c46"
      },
      "source": [
        "learn.lr_find()"
      ],
      "execution_count": 23,
      "outputs": [
        {
          "output_type": "display_data",
          "data": {
            "text/html": [
              "\n",
              "    <div>\n",
              "        <style>\n",
              "            /* Turns off some styling */\n",
              "            progress {\n",
              "                /* gets rid of default border in Firefox and Opera. */\n",
              "                border: none;\n",
              "                /* Needs to be in here for Safari polyfill so background images work as expected. */\n",
              "                background-size: auto;\n",
              "            }\n",
              "            .progress-bar-interrupted, .progress-bar-interrupted::-webkit-progress-bar {\n",
              "                background: #F44336;\n",
              "            }\n",
              "        </style>\n",
              "      <progress value='0' class='' max='1' style='width:300px; height:20px; vertical-align: middle;'></progress>\n",
              "      0.00% [0/1 00:00<00:00]\n",
              "    </div>\n",
              "    \n",
              "<table border=\"1\" class=\"dataframe\">\n",
              "  <thead>\n",
              "    <tr style=\"text-align: left;\">\n",
              "      <th>epoch</th>\n",
              "      <th>train_loss</th>\n",
              "      <th>valid_loss</th>\n",
              "      <th>accuracy</th>\n",
              "      <th>time</th>\n",
              "    </tr>\n",
              "  </thead>\n",
              "  <tbody>\n",
              "  </tbody>\n",
              "</table><p>\n",
              "\n",
              "    <div>\n",
              "        <style>\n",
              "            /* Turns off some styling */\n",
              "            progress {\n",
              "                /* gets rid of default border in Firefox and Opera. */\n",
              "                border: none;\n",
              "                /* Needs to be in here for Safari polyfill so background images work as expected. */\n",
              "                background-size: auto;\n",
              "            }\n",
              "            .progress-bar-interrupted, .progress-bar-interrupted::-webkit-progress-bar {\n",
              "                background: #F44336;\n",
              "            }\n",
              "        </style>\n",
              "      <progress value='99' class='' max='6585' style='width:300px; height:20px; vertical-align: middle;'></progress>\n",
              "      1.50% [99/6585 00:41<45:11 18.6606]\n",
              "    </div>\n",
              "    "
            ],
            "text/plain": [
              "<IPython.core.display.HTML object>"
            ]
          },
          "metadata": {
            "tags": []
          }
        },
        {
          "output_type": "stream",
          "text": [
            "LR Finder is complete, type {learner_name}.recorder.plot() to see the graph.\n"
          ],
          "name": "stdout"
        }
      ]
    },
    {
      "cell_type": "code",
      "metadata": {
        "id": "Kpvn32Tj6beJ",
        "colab_type": "code",
        "colab": {
          "base_uri": "https://localhost:8080/",
          "height": 279
        },
        "outputId": "c5986a5a-a8c1-4e3a-a088-1b5d54d1bd13"
      },
      "source": [
        "learn.recorder.plot()"
      ],
      "execution_count": 24,
      "outputs": [
        {
          "output_type": "display_data",
          "data": {
            "image/png": "[encoded data removed]",
            "text/plain": [
              "<Figure size 432x288 with 1 Axes>"
            ]
          },
          "metadata": {
            "tags": [],
            "needs_background": "light"
          }
        }
      ]
    },
    {
      "cell_type": "code",
      "metadata": {
        "id": "UW8TISLs6mgJ",
        "colab_type": "code",
        "colab": {
          "base_uri": "https://localhost:8080/",
          "height": 80
        },
        "outputId": "bcea1861-b03b-4b04-960f-594aafa02ed5"
      },
      "source": [
        "learn.fit_one_cycle(1, 1e-2, moms=(0.8,0.7))\n",
        "learn.save('first', with_opt=True)"
      ],
      "execution_count": 25,
      "outputs": [
        {
          "output_type": "display_data",
          "data": {
            "text/html": [
              "<table border=\"1\" class=\"dataframe\">\n",
              "  <thead>\n",
              "    <tr style=\"text-align: left;\">\n",
              "      <th>epoch</th>\n",
              "      <th>train_loss</th>\n",
              "      <th>valid_loss</th>\n",
              "      <th>accuracy</th>\n",
              "      <th>time</th>\n",
              "    </tr>\n",
              "  </thead>\n",
              "  <tbody>\n",
              "    <tr>\n",
              "      <td>0</td>\n",
              "      <td>3.348306</td>\n",
              "      <td>3.313400</td>\n",
              "      <td>0.475352</td>\n",
              "      <td>56:28</td>\n",
              "    </tr>\n",
              "  </tbody>\n",
              "</table>"
            ],
            "text/plain": [
              "<IPython.core.display.HTML object>"
            ]
          },
          "metadata": {
            "tags": []
          }
        }
      ]
    },
    {
      "cell_type": "code",
      "metadata": {
        "id": "35T609p8LYws",
        "colab_type": "code",
        "colab": {
          "base_uri": "https://localhost:8080/",
          "height": 34
        },
        "outputId": "36357d74-2bee-41a5-a75f-b6cfd7d433ce"
      },
      "source": [
        "weights = list(learn.model.parameters())\n",
        "len(weights)"
      ],
      "execution_count": 27,
      "outputs": [
        {
          "output_type": "execute_result",
          "data": {
            "text/plain": [
              "14"
            ]
          },
          "metadata": {
            "tags": []
          },
          "execution_count": 27
        }
      ]
    },
    {
      "cell_type": "code",
      "metadata": {
        "id": "n7LZJjSpzsB8",
        "colab_type": "code",
        "colab": {}
      },
      "source": [
        "with open('weights.txt', 'w') as f:\n",
        "    for item in weights:\n",
        "        f.write(\"%s\\n\" % item)"
      ],
      "execution_count": 28,
      "outputs": []
    },
    {
      "cell_type": "code",
      "metadata": {
        "id": "s3aoMCAf6r40",
        "colab_type": "code",
        "colab": {
          "base_uri": "https://localhost:8080/",
          "height": 1000
        },
        "outputId": "9b1de081-7a7e-4f70-cbb8-43fa523a6f60"
      },
      "source": [
        "learn.load('first', with_opt=True)"
      ],
      "execution_count": 29,
      "outputs": [
        {
          "output_type": "execute_result",
          "data": {
            "text/plain": [
              "LanguageLearner(data=TextLMDataBunch;\n",
              "\n",
              "Train: LabelList (67162 items)\n",
              "x: LMTextList\n",
              "▁x x bo s ▁జిల్ల ు ంద ▁శ్రీకాకుళం ▁జిల్లా , ▁కంచి లి ▁మండలం ▁లోని ▁గ్రామం . ▁ఇది ▁మండల ▁కేంద్రమైన ▁కంచి లి ▁నుండి ▁8 ▁కి . ▁మీ . ▁దూరం ▁లోను , ▁సమీప ▁పట్టణమైన ▁ఇచ్ఛాపురం ▁నుండి ▁19 ▁కి . ▁మీ . ▁దూరంలోనూ ▁ఉంది . ▁2011 ▁భారత ▁జనగణన ▁గణాంకాల ▁ప్రకారం ▁ఈ ▁గ్రామం ▁126 ▁ఇళ్లతో , ▁5 25 ▁జనాభాతో ▁10 2 ▁హెక్టార్లలో ▁విస్తరించి ▁ఉంది . ▁గ్రామంలో ▁మగవారి ▁సంఖ్య ▁2 67 , ▁ఆడవారి ▁సంఖ్య ▁25 8. ▁షెడ్యూల్డ్ ▁కులాల ▁సంఖ్య ▁33 ▁కాగా ▁షెడ్యూల్డ్ ▁తెగల ▁సంఖ్య ▁0. ▁గ్రామం ▁యొక్క ▁జనగణన ▁లొకేషన్ ▁కోడ్ ▁58 03 93 [1]. పిన్ ▁కోడ్ : ▁532 29 1. ▁సమీప ▁ప్రాథమిక ▁ఆరోగ్య ▁ఉప ▁కేంద్రం ▁గ్రామం ▁నుండి ▁5 ▁కి . మీ . ▁లోపు ▁దూరంలో ▁ఉంది . ▁ప్రాథమిక ▁ఆరోగ్య ▁కేంద్రం ▁గ్రామం ▁నుండి ▁5 ▁నుండి ▁10 ▁కి . మీ . ▁దూరంలో ▁ఉంది . ▁అలోపతి ▁ఆసుపత్రి , ▁ప్రత్యామ్నాయ ▁ఔషధ ▁ఆసుపత్రి , ▁పశు ▁వైద్యశాల , ▁సంచార ▁వైద్య ▁శాల ▁గ్రామం ▁నుండి ▁5 ▁నుండి ▁10 ▁కి . మీ . ▁దూరంలో ▁ఉన్నాయి . ▁సమీప ▁సామాజిక ▁ఆరోగ్య ▁కేంద్రం , ▁మాతా ▁శిశు ▁సంరక్షణ ▁కేంద్రం , ▁టి . ▁బి ▁వైద్యశాల ▁గ్రామం ▁నుండి ▁10 ▁కి . మీ . ▁కంటే ▁ఎక్కువ ▁దూరంలో ▁ఉన్నాయి . ▁డిస్పెన్సరీ , ▁కుటుంబ ▁సంక్షేమ ▁కేంద్రం ▁గ్రామం ▁నుండి ▁10 ▁కి . మీ . ▁కంటే ▁ఎక్కువ ▁దూరంలో ▁ఉన్నాయి . ▁బావుల ▁నీరు ▁గ్రామంలో ▁అందుబాటులో ▁ఉంది . ▁గ్రామంలో ▁ఏడాది ▁పొడుగునా ▁చేతిపంపుల ▁ద్వారా ▁నీరు ▁అందుతుంది . ▁బోరుబావుల ▁ద్వారా ▁కూడా ▁ఏడాది ▁పొడుగునా ▁నీరు ▁అందుతుంది . ▁చెరువు ▁ద్వారా ▁గ్రామానికి ▁తాగునీరు ▁లభిస్తుంది . ▁గ్రామంలో ▁మురుగునీటి ▁పారుదల ▁వ్యవస్థ ▁లేదు . ▁మురుగునీటి ని ▁నేరుగా ▁జలవనరుల్లోకి ▁వదులుతున్న ారు . ▁గ్రామంలో ▁సంపూర్ణ ▁పారిశుధ్య ▁పథకం ▁అమలవుతోంది . ▁సామాజిక ▁మరుగుదొడ్డి ▁సౌకర్యం ▁లేదు . ▁ఇంటింటిక ీ ▁తిరిగి ▁వ్యర్థాలను ▁సేకరించే ▁వ్యవస్థ ▁లేదు . ▁సామాజిక ▁బయోగ్యాస్ ▁ఉత్పాదక ▁వ్యవస్థ ▁లేదు . ▁చెత్తను ▁వీధుల ▁పక్కనే ▁పారబోస్తారు . ▁గ్రామంలో ▁స్వయం ▁సహాయక ▁బృందం , ▁పౌర ▁సరఫరాల ▁కేంద్రం ▁ఉన్నాయి . ▁రోజువారీ ▁మార్కెట్ ▁గ్రామం ▁నుండి ▁5 ▁కి . మీ . ▁లోపు ▁దూరంలో ▁ఉంది . ▁ఏటీఎమ్ , ▁వాణిజ్య ▁బ్యాంకు ▁గ్రామం ▁నుండి ▁5 ▁నుండి ▁10 ▁కి . మీ . ▁దూరంలో ▁ఉన్నాయి . ▁వారం ▁వారం ▁సంత , ▁వ్యవసాయ ▁మార్కెటింగ్ ▁సొసైటీ ▁గ్రామం ▁నుండి ▁5 ▁నుండి ▁10 ▁కి . మీ . ▁దూరంలో ▁ఉన్నాయి . ▁సహకార ▁బ్యాంకు , ▁వ్యవసాయ ▁పరపతి ▁సంఘం ▁గ్రామం ▁నుండి ▁10 ▁కి . మీ . కి ▁పైబడిన ▁దూరంలో ▁ఉన్నాయి . ▁గ్రామంలో ▁సమీకృత ▁బాలల ▁అభివృద్ధి ▁పథకం , ▁అంగన్ ▁వాడీ ▁కేంద్రం , ▁ఇతర ▁పోషకాహార ▁కేంద్రాలు , ▁ఆశా ▁కార్యకర్త ▁ఉన్నాయి . ▁గ్రామంలో ▁వార్తాపత్రిక ▁పంపిణీ ▁జరుగుతుంది . ▁అసెంబ్లీ ▁పోలింగ్ ▁స్టేషన్ , ▁జనన ▁మరణాల ▁నమోదు ▁కార్యాలయం ▁ఉన్నాయి . ▁ఆటల ▁మైదానం ▁గ్రామం ▁నుండి ▁5 ▁నుండి ▁10 ▁కి . మీ . ▁దూరంలో ▁ఉంది . ▁సినిమా ▁హాలు , ▁గ్రంథాలయం , ▁పబ్లిక్ ▁రీడింగ్ ▁రూం ▁గ్రామం ▁నుండి ▁5 ▁నుండి ▁10 ▁కి . మీ . ▁దూరంలో ▁ఉన్నాయి . ▁గ్రామంలో ▁గృహావసరాల ▁నిమిత్తం ▁విద్యుత్ ▁సరఫరా ▁వ్యవస్థ ▁ఉంది . ▁రోజుకు ▁7 ▁గంటల ▁పాటు ▁వ్యవసాయానికి , ▁10 ▁గంటల ▁పాటు ▁వాణిజ్య ▁అవసరాల ▁కోసం ▁కూడా ▁విద్యుత్ ▁సరఫరా ▁చేస్తున్నారు . ▁జిల్ల ు ంద లో ▁భూ ▁వినియోగం ▁కింది ▁విధంగా ▁ఉంది : ▁జిల్ల ు ంద లో ▁వ్యవసాయానికి ▁నీటి ▁సరఫరా ▁కింది ▁వనరుల ▁ద్వారా ▁జరుగుతోంది . ▁జిల్ల ు ంద లో ▁ఈ ▁కింది ▁వస్తువులు ▁ఉత్పత్తి ▁అవుతున్నాయి . ▁వరి , ▁పెసర,▁x x bo s ▁హరి పురము , ▁ఆంధ్ర ▁ప్రదేశ్ ▁రాష్ట్రములో ని ▁కృష్ణా ▁జిల్లా , ▁కోడూరు ▁మండలం ▁లోని ▁గ్రామం . ▁సముద్రమట్టానికి ▁7 ▁మీ . ఎత్తు ▁కమ్మ న మొ లు , ▁కోడూరు , ▁మంద పాక ల , ▁కృష్ణ పురం , ▁లింగ ా రెడ్డిపాలెం ▁ అవనిగడ్డ , ▁మోపిదేవి , ▁నాగ ాయ లక , ▁చల్లపల్లి ▁నాగాయలంక , ▁ అవనిగడ్డ ▁నుండి ▁రోడ్దురవాణా ▁సౌకర్యం ▁ఉంది . ▁రైల్వేస్టేషన్ ; ▁గుంటూరు ▁82 ▁కి . మీ ▁ఈ ▁వూరి లో ▁1950 ▁వ ▁సంవత్సరములో ▁స్థాపించబడిన ▁ఈ ▁ఉన్నత ▁పాఠశాలలో , ▁ఉల్లి పాలెం , ▁కోడూరు , ▁స్వతంత్ర పురం , ▁నరసింహ ాపురం ▁( కో డూరు ), ▁పరుచూరి వారిపాలెం ▁తదితర ▁గ్రామాల ▁నుండి ▁పిల్లలు ▁వచ్చి , ▁చదువ ుకొంటూ ▁ఉంటారు . ▁ప్రతి ▁సంవత్సరము ▁ఆ ▁స్కూలు కి ▁7 వ ▁తరగతి ▁పరీక్షల లో ▁మండలంలో ▁ప్రథమ ▁స్థానం ▁రావటం ▁ఈ ▁పాఠశాల ▁ప్రత్యేకత . ▁ఊర ▁చెరువు . ▁ఈ ▁గ్రామం ▁ఉల్లి పాలెం ▁పంచ ాయి తి ▁పరిధిలో ▁ఉంది . ▁ఈ ▁గ్రామంలో ని ▁శ్రీ ▁రామ ▁మంది ర మునందు ▁ప్రతి ▁సంవత్సరం ▁జరిగే ▁వేడుక ▁శ్రీరామనవమి . 1990 ▁నుండి ▁ఆ ▁వూ ళ్ళ ో ని ▁కొందరు ▁కలసి ▁యువజన ▁సంఘము గా ▁ఏర్పడి ▁శ్రీరామ ▁నవమి ▁ఉత్సవాలు ▁ప్రతి ▁సంవత్సరం ▁ఘనంగా ▁చెయ్యటం ▁పరిపాటి . ▁ఇది ▁ఒక ▁చిన్న ▁అందమైన ▁పల్లెటూరు . ▁పచ్చని ▁పైరు ▁పంటల తో ▁కళ కళ లాడ ుతుంటుంది .,▁x x bo s ▁చంద్ర మోహన్ ▁గా ▁ప్రసిద్ధ ులైన ▁మల్లంపల్లి ▁చంద్రశేఖర ▁రావు ▁తెలుగు ▁సినిమా ▁రంగంలో ▁ఎన్నో ▁విలక్షణమైన ▁పాత్రలు ▁పోషించిన ▁నటుడు . ▁1966 లో ▁రంగుల రాట్ నం ▁చిత్రంతో ▁ఇతని ▁సినీ ▁ప్రస్థానం ▁ఆరంభ మైంది . ▁అప్పటినుండి ▁సహ నాయకుడి గా , ▁నాయకుడు గా , ▁హాస్య నట ునిగా , ▁క్యా రె క్టర్ ▁యా క్టర్ ▁గా ▁ఎన్నో ▁వైవిధ్యమైన ▁పాత్రలు ▁పోషించాడు . ▁ప్రధానంగా ▁కామెడీ ▁పాత్రల ▁ద్వారా ▁చంద్ర మోహన్ ▁ప్రేక్షకులకు ▁చిరకాల ం ▁గుర్తు ంటాడు . ▁క్రొత్త ▁హీరో యన్ ▁లకు ▁లక్క ీ ▁హీరోగా ▁చంద్ర మోహన్ ▁ను ▁పేర్కొంటారు . ▁సిరి సి రి ము వ్వ లో ▁జయ ప్రద , ▁పద హార ేళ్ళ ▁వయసులో ▁శ్రీదేవి ▁తమ ▁నట జీవితం ▁ప్రా ంభ ంలో ▁చంద్ర మోహన్ ▁తో ▁నటించి ▁తరువాత ▁తారా ప ధం లో ▁ఉన్నత ▁స్థాయికి ▁చేరుకున్నారు . ▁\" ఈయన ే ▁కనుక ▁ఒక ▁అడుగు ▁పొడుగు ▁ఉంటే ▁సూపర్ ▁స్టార్ ▁అయి ఉండ ే ▁వారు \" ▁అని ▁సినీ అ భిమాన ులు ▁భావిస్తారు . ▁చంద్ర మోహన్ ▁కృష్ణా ▁జిల్లాకు ▁చెందిన ▁పమిడిముక్కల ▁గ్రామంలో ▁1942 , ▁మే ▁23 న ▁మల్లంపల్లి ▁వీరభద్ర శాస్త్రి , ▁శాం భ వి ▁దంపతులకు ▁జన్మించారు . ▁ఇతని ▁అసలు ▁పేరు ▁మల్లంపల్లి ▁చంద్రశేఖర్ ▁రావు . ▁వీరు ▁వ్యవసాయ ▁కళాశాల , ▁బాపట్ల లో ▁బి . యస్ . సి . ▁పూర్తిచేసి , ▁కొంతకాలం ▁ఏలూరులో ▁పనిచేశారు . ▁సినిమాలలో ▁నటించ ాలనే ▁ఉత్సాహం తో ▁మద్రాసు ▁చేరి ▁ప్రయత్నించారు . ▁హీరోగా ▁రంగుల రాట్ నం ▁(19 66 ) ▁చిత్రంతో ▁మొదలుపెట్టి , ▁హాస్య ▁నటుడిగా ▁మారి ▁తర్వాత ▁కాలంలో ▁కా రె క్టర్ ▁నటుడిగా ▁చిత్ర సీమ లో ▁స్థిరపడ్డారు . ▁చంద్ర మోహన్ ▁నటించిన ▁కొన్ని ▁చిత్రాలు ▁సుఖ దు ః ఖా లు , ▁పద హార ేళ్ళ ▁వయసు , ▁సిరి సి రి ము వ్వ , ▁సీతా మా లక్ష్మి ▁మొదలైనవి ▁హిట్ ▁కొట్ట ాయి . ▁ఆ ▁కాలంలో ▁వీరి తో ▁ఎందరో ▁కథానాయికగా ▁నటించి ▁అగ్ర స్థాన ాన్ని ▁చేరుకున్నారు . ▁శ్రీదేవి , ▁మంజ ుల , ▁రా ధిక , ▁జయ ప్రద , ▁జయ సు ధ , ▁ప్రభ , ▁విజయ శాంతి , ▁తాళ్ళ ూరి ▁రామేశ్వర ి ▁మొదలైన ▁వారు ▁ఈ ▁కోవ కు ▁చెందినవారు . ▁ఈయన ▁భార్య ▁పేరు ▁జలం ధర . ▁ఈమె ▁మంచి ▁రచయిత్రి . ▁కొన్ని ▁కథా ▁సంకలన ాలను ▁కూడా ▁వెలువరించ డం ▁జరిగింది .,▁x x bo s ▁దక్షిణ ▁విజయ పురి ▁గుంటూరు ▁జిల్లా , ▁మాచర్ల ▁మండలానికి ▁చెందిన ▁గ్రామం . ▁ఇది ▁మండల ▁కేంద్రమైన ▁మాచర్ల ▁నుండి ▁27 ▁కి . ▁మీ . ▁దూరంలో ▁ఉంది . ▁2011 ▁భారత ▁జనగణన ▁గణాంకాల ▁ప్రకారం ▁ఈ ▁గ్రామం ▁17 63 ▁ఇళ్లతో , ▁83 93 ▁జనాభాతో ▁47 04 ▁హెక్టార్లలో ▁విస్తరించి ▁ఉంది . ▁గ్రామంలో ▁మగవారి ▁సంఖ్య ▁45 97 , ▁ఆడవారి ▁సంఖ్య ▁37 96 . ▁షెడ్యూల్డ్ ▁కులాల ▁సంఖ్య ▁22 91 ▁కాగా ▁షెడ్యూల్డ్ ▁తెగల ▁సంఖ్య ▁13 19 . ▁గ్రామం ▁యొక్క ▁జనగణన ▁లొకేషన్ ▁కోడ్ ▁58 97 98 [1]. పిన్ ▁కోడ్ : ▁522 42 6. ▁ఎస్ . టి . డి . కోడ్ ▁= ▁086 47 . ▁ఇది ▁నాగార్జున ▁సాగర్ ▁ఆనకట్ట కు ▁దక్షిణం ▁వైపు న్న ▁నివాస ▁ప్రాంతం . ▁గ్రామంలో ▁ఒక ▁బాలబడి ▁ఉంది . ▁ప్రభుత్వ ▁ప్రాథమిక ▁పాఠశాలలు ▁ఆరు , ▁ప్రభుత్వ ▁మాధ్యమిక ▁పాఠశాలలు ▁ఐదు , ▁ప్రైవేటు ▁మాధ్యమిక ▁పాఠశాల ▁ఒకటి ▁ఉన్నాయి . ▁2 ▁ప్రభుత్వ ▁జూనియర్ ▁కళాశాలలు ▁ఒక ▁ప్రభుత్వ ▁ఆర్ట్స్ , ▁సైన్స్ , ▁డిగ్రీ ▁కళాశాల ▁ఉన్నాయి . సమీప ▁ఇంజనీరింగ్ ▁కళాశాల ▁అ లుగు రాజు పల్లిలో ▁ఉంది . సమీప ▁వైద్య ▁కళాశాల ▁గుంటూరులోను , ▁మేనేజిమెంటు ▁కళాశాల , ▁పాలీటెక్నిక్ ▁లు ▁అ లుగు రాజు పల్లి ▁లోనూ ▁ఉన్నాయి . ▁సమీప ▁వృత్తి ▁విద్యా ▁శిక్షణ ▁పాఠశాల , ▁అనియత ▁విద్యా ▁కేంద్రం ▁మాచర్ల లోను , ▁దివ్యాంగ ుల ▁ప్రత్యేక ▁పాఠశాల ▁గుంటూరు లోనూ ▁ఉన్నాయి . ▁ఈ ▁కళాశాల కు ▁చెందిన ▁వాణిజ్య ▁శాస్త్రం ▁అధ్యాపకులు ▁శ్రీ ▁ఎం . వి . రమణ , ▁2015, ▁సెప్టెంబరు -5 వ ▁తేదీనాడు , ▁ఉపాధ్యాయ ▁దినోత్సవం ▁సందర్భంగా ▁విశాఖపట్నంలో ▁నిర్వహించిన ▁ఒక ▁కార్యక్రమంలో , ▁ఆంధ్రప్రదేశ్ ▁రాష్ట్ర ▁ముఖ్యమంత్రి ▁నారా ▁చంద్రబాబునాయుడు ▁చేతులమీదుగా , ▁ఉత్తమ ▁ఉపాధ్యాయ ▁పురస్కారం ▁అందుకున్నారు . ▁[10] ▁ఇటీవల ▁కృష్ణా ▁జిల్లాలోని ▁కేత న కొండలో ▁నిర్వహించిన ▁రాష్ట్రస్థాయి ▁రెజ్లింగ్ ▁పోటీలలో , ▁ఈ ▁పాఠశాలలో ▁9 వ ▁తరగతి ▁చదువుచున్న ▁ఎన్ . విజయ కుమారి ▁40 ▁కె . జి . ల ▁విభాగం లోనూ , ▁10 వ ▁తరగతి ▁చదువుచున్న ▁వై . కవి త ▁43 ▁కె . జి . ల ▁విభాగం లోనూ ▁ప్రథమ ▁బహుమతి ▁సాధించి , ▁స్వర్ణ పత కం ▁సాధించి , ▁జాతీయస్థాయి ▁పోటీ లకు ▁ఎంపికైన ారు . ▁ఈ ▁పాఠశాల కే ▁చెందిన ▁10 వ ▁తరగతి ▁చదువుచున్న ▁మరియొక ▁విద్యార్థి ని , ▁వి . కె జియా , ▁ఈ ▁పోటీలలో ▁65 ▁కె . జి . ల ▁విభాగంలో ▁ద్వితీయ స్థానం ▁పొందినది . ▁[11] ఈ ▁పాఠశాలలో ▁8 వ ▁తరగతి ▁చదువుచున్న ▁ప్ర మీ లా బాయి , ▁9 వ ▁తరగతి ▁చదువుచున్న ▁సువార్త , ▁పదవ ▁తరగతి ▁చదువుచున్న ▁పుష్ప ల త ▁అను ▁విద్యార్థి ను లు , ▁బేస్ ▁బాల్ ▁జాతీయ పోటీ లకు ▁అండర్ -17 ▁విభాగంలో ▁ఎంపికైన ారు . ▁ప్రస్తుతం ▁నెల్లూరు లోని ▁శిక్షణా ▁శిబిరం లో ▁శిక్షణ ▁పొంద ుచున్న ▁వీరు , ▁2016, ▁ఫిబ్రవరి -3 ▁నుండి ▁6 ▁వరకు , ▁ఒడిషా ▁రాష్ట్రంలోని ▁భువనేశ్వర్ ▁లో ▁నిర్వహించ ు ▁జాతీయస్థాయి ▁పోటీలలో ▁పాల్గొంటారు . ▁[14] ▁కృష్ణా ▁తీరం ▁సాగర్ ▁జలాశయం ▁వెంట ▁ఉన్న ఈ ▁గ్రామములో ని ▁జిల్లా ▁పరిషత్తు ▁ఉన్నత ▁పాఠశాల ▁అభివృద్ధికి ▁దాత లు , ▁పూర్వ ▁విద్యార్థులు ▁ఎంతో ▁కృషి ▁చేశారు . ▁ఈ ▁పాఠశాల ▁కార్ పొ రేటు ▁పాఠశాల లను ▁తల పించే లాగా ▁ఉంది . ▁ప్రస్తుతం ▁300 ▁మంది ▁విద్యార్థులు ▁ఈ ▁పాఠశాలలో ▁విద్యనభ్యసించ ుచున్నారు . ▁పాఠశాలలో ▁అన్ని ▁సౌకర్యాల ూ ▁ఉన్నాయి . ▁పదవ ▁తరగతి లో ▁గూడా ▁ఉత్తీర్ణత ా ▁శాతం ▁చాలా ▁బాగు న్నది . ▁ఈ ▁పాఠశాల ▁స్వర్ణోత్సవ ాలు , ▁2013 ▁డిసెంబరు ▁13 , 14 ▁తేదీ లలో ▁జరిగిన వి . ▁400 ▁మందికి పై గా ▁పూర్వ ▁విద్యార్థులు ▁ఈ ▁కార్య క్ రామ ానికి ▁హాజరై , ▁తమ ▁బాల్య ▁స్ మృత ులను ▁నె మరు ▁వేసుకున్న ారు . ▁ఆనాటి ▁గురువుల తోపాటు ▁ప్రస్తుత ▁ప్రధానోపాధ్యాయు లు ▁శ్రీ ▁పందిరి ▁వెంకటేశ్వర్లు ని ▁సన్మానించ ారు . ▁ఈ ▁సందర్భంగా ▁పూర్వ ▁విద్యార్థులకు ▁సాంస్కృతిక ▁కార్య ▁కలాపాల ు , ▁ఆటల ▁పోటీలు ▁నిర్వహించారు . ▁పేద ▁విద్యార్థుల ▁అభివృద్ధికి ▁తమ ▁వంతు ▁కృషి ▁చేస్తామని ▁ప్రతి న ▁పూన ారు . ▁ఈ ▁పాఠశాలలో ▁2014, ▁జూలై -2 , ▁బుధవారం ▁నాడు , ▁దాత లు , ▁పూర్వ విద్య ార్థ ుల ▁వితరణ తో ▁ఒక ▁శుద్ధ జల కేంద్ర ాన్ని ▁( m ine ral <unk> ter ▁plan t ) ▁ప్రారంభించారు . ▁[2] ▁ <unk> ▁[6] ▁ఈ ▁పాఠశాల ▁రజత ోత్సవ ▁వేడుకలు ▁2015, ▁ఫిబ్రవరి - 25 వ ▁తేదీనాడు ▁ఘనంగా ▁నిర్వహించారు . ▁[7] ▁ప్రాథమిక ▁ఆరోగ్య ▁కేంద్రం , ▁ప్రాథమిక ▁ఆరోగ్య ▁ఉప ▁కేంద్రం ▁గ్రామం ▁నుండి ▁5 ▁నుండి ▁10 ▁కి . మీ . ▁దూరంలో ▁ఉన్నాయి . సమీప ▁సామాజిక ▁ఆరోగ్య ▁కేంద్రం , ▁మాతా ▁శిశు ▁సంరక్షణ ▁కేంద్రం , ▁టి . ▁బి ▁వైద్యశాల ▁గ్రామం ▁నుండి ▁10 ▁కి . మీ . ▁కంటే ▁ఎక్కువ ▁దూరంలో ▁ఉన్నాయి . అ లో పతి ▁ఆసుపత్రి , ▁ప్రత్యామ్నాయ ▁ఔషధ ▁ఆసుపత్రి , ▁డిస్పెన్సరీ , ▁పశు ▁వైద్యశాల , ▁సంచార ▁వైద్య ▁శాల , ▁కుటుంబ ▁సంక్షేమ ▁కేంద్రం ▁గ్రామం ▁నుండి ▁10 ▁కి . మీ . ▁కంటే ▁ఎక్కువ ▁దూరంలో ▁ఉన్నాయి . ▁గ్రామంలో ▁2 ▁ప్రభుత్వ ేతర ▁వైద్య ▁సౌకర్యాలున్నాయి . ▁ఇద్దరు ▁డిగ్రీ ▁లేని ▁డాక్టర్లు ▁ఉన్నారు . ▁గ్రామంలో ▁కుళాయిల ▁ద్వారా ▁రక్షిత ▁మంచినీటి ▁సరఫరా ▁జరుగుతోంది . ▁గ్రామంలో ▁ఏడాది ▁పొడుగునా ▁చేతిపంపుల ▁ద్వారా ▁నీరు ▁అందుతుంది . ▁కాలువ ▁/ ▁ వాగు ▁/ ▁నది ▁ద్వారా ▁గ్రామానికి ▁నీటిపారుదల ▁వసతి ▁ఉంది . ▁చెరువు ▁నీటి ▁సౌకర్యం ▁ఉంది . ▁మురుగునీరు ▁బహిరంగ ▁కాలువల ▁ద్వారా ▁ప్రవహిస్తుంది . ▁మురుగు ▁నీటిని ▁నేరుగా ▁జలవనరుల్లోకి ▁వదులుతున్న ారు . గ్రామంలో ▁సంపూర్ణ ▁పారిశుధ్య ▁పథకం ▁అమలవుతోంది . సామాజిక ▁మరుగుదొడ్డి ▁సౌకర్యం ▁లేదు . ఇంటింటిక ీ ▁తిరిగి ▁వ్యర్థాలను ▁సేకరించే ▁వ్యవస్థ ▁లేదు . సామాజిక ▁బయోగ్యాస్ ▁ఉత్పాదక ▁వ్యవస్థ ▁లేదు . ▁చెత్తను ▁వీధుల ▁పక్కనే ▁పారబోస్తారు . ▁విజయ పురి ▁దక్షిణ లో ▁పోస్టాఫీసు ▁సౌకర్యం ▁ఉంది . స బ్ ▁పోస్టాఫీసు ▁సౌకర్యం ▁గ్రామానికి ▁5 ▁కి . మీ . ▁లోపు ▁దూరంలో ▁ఉంది . పో స్ట్ ▁అండ్ ▁టెలిగ్రాఫ్ ▁ఆఫీసు ▁గ్రామం ▁నుండి ▁10 ▁కి . మీ . కి ▁పైబడిన ▁దూరంలో ▁ఉంది . ▁లాండ్ ▁లైన్ ▁టెలిఫోన్ , ▁పబ్లిక్ ▁ఫోన్ ▁ఆఫీసు , ▁మొబైల్ ▁ఫోన్ , ▁ఇంటర్నెట్ ▁కెఫె ▁/ ▁సామాన్య ▁సేవా ▁కేంద్రం , ▁ప్రైవేటు ▁కొరియర్ ▁మొదలైన ▁సౌకర్యాలు ▁ఉన్నాయి . గ్రామానికి ▁సమీప ▁ప్రాంతాల ▁నుండి ▁ప్రభుత్వ ▁రవాణా ▁సంస్థ ▁బస్సులు ▁ , ▁ప్రైవేటు ▁బస్సులు ▁తిరుగుతున్నాయి . ▁సమీప ▁గ్రామాల ▁నుండి ▁ఆటో ▁సౌకర్యం ▁కూడా ▁ఉంది . వ్యవసాయ ం ▁కొరకు ▁వాడేందుకు ▁గ్రామంలో ▁ట్రాక్టర్లు న్నాయి . ▁రైల్వే ▁స్టేషన్ ▁గ్రామం ▁నుండి ▁10 ▁కి . మీ . కి ▁పైబడిన ▁దూరంలో ▁ఉంది . రాష్ట్ర ▁రహదారి , ▁ప్రధాన ▁జిల్లా ▁రహదారి , ▁జిల్లా ▁రహదారి ▁గ్రామం ▁గుండా ▁పోతున్నాయి . ▁జాతీయ ▁రహదారి ▁గ్రామం ▁నుండి ▁10 ▁కి . మీ . కి ▁పైబడిన ▁దూరంలో ▁ఉంది . ▁గ్రామంలో ▁తారు ▁రోడ్లు , ▁కంకర ▁రోడ్లు , ▁మట్టిరోడ్ల ూ ▁ఉన్నాయి . ▁గ్రామంలో ▁ఏటీఎమ్ , ▁వాణిజ్య ▁బ్యాంకు ▁ఉన్నాయి . ▁గ్రామంలో ▁స్వయం ▁సహాయక ▁బృందం , ▁పౌర ▁సరఫరాల ▁కేంద్రం , ▁వ్యవసాయ ▁మార్కెటింగ్ ▁సొసైటీ ▁ఉన్నాయి . ▁వ్యవసాయ ▁పరపతి ▁సంఘం ▁గ్రామం ▁నుండి ▁5 ▁నుండి ▁10 ▁కి . మీ . ▁దూరంలో ▁ఉంది . సహకార ▁బ్యాంకు ▁గ్రామం ▁నుండి ▁10 ▁కి . మీ . కి ▁పైబడిన ▁దూరంలో ▁ఉంది . వారం ▁వారం ▁సంత ▁గ్రామం ▁నుండి ▁10 ▁కి . మీ . కి ▁పైబడిన ▁దూరంలో ▁ఉంది . ▁గ్రామంలో ▁అంగన్ ▁వాడీ ▁కేంద్రం , ▁ఇతర ▁పోషకాహార ▁కేంద్రాలు , ▁ఆశా ▁కార్యకర్త ▁ఉన్నాయి . ▁గ్రామంలో ▁ఆటల ▁మైదానం , ▁సినిమా ▁హాలు , ▁గ్రంథాలయం , ▁పబ్లిక్ ▁రీడింగ్ ▁రూం ▁ఉన్నాయి . ▁గ్రామంలో ▁వార్తాపత్రిక ▁పంపిణీ ▁జరుగుతుంది . ▁అసెంబ్లీ ▁పోలింగ్ ▁స్టేషన్ , ▁జనన ▁మరణాల ▁నమోదు ▁కార్యాలయం ▁ఉన్నాయి . ▁సమీకృత ▁బాలల ▁అభివృద్ధి ▁పథకం ▁గ్రామం ▁నుండి ▁10 ▁కి . మీ . కి ▁పైబడిన ▁దూరంలో ▁ఉంది . ▁గ్రామంలో ▁గృహావసరాల ▁నిమిత్తం ▁విద్యుత్ ▁సరఫరా ▁వ్యవస్థ ▁ఉంది . ▁రోజుకు ▁7 ▁గంటల ▁పాటు ▁వ్యవసాయానికి , ▁18 ▁గంటల ▁పాటు ▁వాణిజ్య ▁అవసరాల ▁కోసం ▁కూడా ▁విద్యుత్ ▁సరఫరా ▁చేస్తున్నారు . ▁విజయ పురి ▁దక్షిణ లో ▁భూ ▁వినియోగం ▁కింది ▁విధంగా ▁ఉంది : ▁విజయ పురి ▁దక్షిణ లో ▁వ్యవసాయానికి ▁నీటి ▁సరఫరా ▁కింది ▁వనరుల ▁ద్వారా ▁జరుగుతోంది ▁2013 ▁జూలైలో ▁ఈ ▁గ్రామ ▁పంచాయతీకి ▁నిర్వహించిన ▁ఎన్నికలలో ▁శ్రీ ▁దోస పాటి ▁అంజ య్య , ▁సర్పంచిగా ▁ఎన్నికైనారు . ▁[9] ▁వరి , ▁అపరాలు , ▁కాయగూరలు ▁వ్యవసాయం , ▁వ్యవసాయాధారిత ▁వృత్తులు ▁దక్షిణ ▁విజయ పురి ▁గ్రామానికి ▁చెందిన ▁వీరు , ▁ప్రస్తుతం ▁తెలంగాణా ▁రాష్ట్రంలోని ▁మహబూబ్ ▁నగర్ ▁లోని ▁పాలమూరు ▁విశ్వవిద్యాలయం లో ▁అసిస్టెంట్ ▁ప్రొ ఫె సరు గా ▁ఒప్పంద ▁ప్రాతిపదికన ▁విధులు ▁నిర్వహించుచున్న ారు . ▁ఈ ▁ఫెలోషిప్ ▁క్రింద ▁మంజ ూర య్యే ▁నిధులతో , ▁ఇటీవల ▁భారత ▁ప్రభుత్వం ▁ప్రవేశపెట్టిన ▁ఇ - జాతీయ ▁వ్యవసాయ ▁మార్కెట్ ▁అను ▁అంశంపై ▁పరిశోధన ▁చేస్తున్నారు . ▁వీరు ▁ప్రతిష్ఠాత్మక ▁జాతీయ ▁యు . జి . సి . ▁పోస్ట్ ▁డా క్ టొ రేట్ ▁ఫెలోషిప్ ▁కు , ▁కామర్స్ ▁విభాగంలో , ▁ఉస్మానియా ▁విశ్వవిద్యాలయం ▁తరఫున ▁ఎంపికైన ారు . ▁జాతీయస్థాయి లో ▁మొత్తం ▁ముగ్గురి ని ▁ఎంపిక చేయ గా , ▁ఆ ▁ముగ్గురి లో ▁వీర ొక్క రు . ▁తెలంగాణా ▁రాష్ట్రం ▁నుండి ▁ఎంపికైన ▁ఏకైక ▁వ్యక్తి ▁ఈయన ▁కావడం ▁గమనార్హం . ▁వీరు ▁వ్యవసాయ ▁మార్కెట్ ▁మీద ▁పరిశోధనలు ▁చేసి , ▁దానిని ▁రైతులకు ▁మరింత ▁ఉపయోగకరంగా ▁విస్తరించ ేలా గా ▁చేయాలని ▁వీరి ▁సంకల్పం . ▁[16] ▁2001 ▁వ . సంవత్సరం ▁జనాభా ▁లెక్కల ▁ప్రకారం ▁గ్రామ ▁జనాభా ▁8 , 12 4 .[2] ▁ఇందులో ▁పురుషుల ▁సంఖ్య ▁4 , 3 34 , ▁స్త్రీల ▁సంఖ్య ▁3, 7 90 , ▁గ్రామంలో ▁నివాస ▁గృహాలు ▁1,6 43 ▁ఉన్నాయి .,▁x x bo s ▁కందుకూరు , ▁తెలంగాణ ▁రాష్ట్రం , ▁నల్గొండ ▁జిల్లా , ▁గుండ్ల పల్లి ▁మండలంలోని ▁గ్రామం .[1] ▁ఇది ▁మండల ▁కేంద్రమైన ▁గుండ్ల పల్లి ▁నుండి ▁13 ▁కి . ▁మీ . ▁దూరం ▁లోను , ▁సమీప ▁పట్టణమైన ▁నల్గొండ ▁నుండి ▁80 ▁కి . ▁మీ . ▁దూరంలోనూ ▁ఉంది . ▁2011 ▁భారత ▁జనగణన ▁గణాంకాల ▁ప్రకారం ▁ఈ ▁గ్రామం ▁7 66 ▁ఇళ్లతో , ▁32 08 ▁జనాభాతో ▁21 20 ▁హెక్టార్లలో ▁విస్తరించి ▁ఉంది . ▁గ్రామంలో ▁మగవారి ▁సంఖ్య ▁16 09 , ▁ఆడవారి ▁సంఖ్య ▁15 99 . ▁షెడ్యూల్డ్ ▁కులాల ▁సంఖ్య ▁10 85 ▁కాగా ▁షెడ్యూల్డ్ ▁తెగల ▁సంఖ్య ▁121 . ▁గ్రామం ▁యొక్క ▁జనగణన ▁లొకేషన్ ▁కోడ్ ▁57 71 92 [2]. పిన్ ▁కోడ్ : ▁50 82 58 . ▁గ్రామంలో ▁ప్రభుత్వ ▁ప్రాథమిక ▁పాఠశాలలు ▁మూడు , ▁ప్రైవేటు ▁ప్రాథమిక ▁పాఠశాలలు ▁రెండు , ▁ప్రభుత్వ ▁ప్రాథమికోన్నత ▁పాఠశాల ▁ఒకటి ▁ , ▁ప్రభుత్వ ▁మాధ్యమిక ▁పాఠశాల ▁ఒకటి ▁ఉన్నాయి . సమీప ▁బాలబడి ▁గుండ్ల పల్లిలో ▁ఉంది . సమీప ▁జూనియర్ ▁కళాశాల ▁కా మే పల్లిలోను , ▁ప్రభుత్వ ▁ఆర్ట్స్ ▁/ ▁సైన్స్ ▁డిగ్రీ ▁కళాశాల , ▁ఇంజనీరింగ్ ▁కళాశాల ▁లు ▁దేవరకొండ లోనూ ▁ఉన్నాయి . ▁సమీప ▁వైద్య ▁కళాశాల ▁న ార్కట్ ▁ పల్లిలోను , ▁పాలీటెక్నిక్ ▁దేవరకొండ లోను , ▁మేనేజిమెంటు ▁కళాశాల ▁నల్గొండ లోనూ ▁ఉన్నాయి . ▁సమీప ▁వృత్తి ▁విద్యా ▁శిక్షణ ▁పాఠశాల , ▁అనియత ▁విద్యా ▁కేంద్రం ▁దేవరకొండ లోను , ▁దివ్యాంగ ుల ▁ప్రత్యేక ▁పాఠశాల ▁నల్గొండ ▁లోనూ ▁ఉన్నాయి . ▁కందుకూర్ లో ▁ఉన్న ▁ఒక ▁ప్రాథమిక ▁ఆరోగ్య ▁ఉప ▁కేంద్రంలో ▁డాక్టర్లు ▁లేరు . ▁ముగ్గురు ▁పారామెడికల్ ▁సిబ్బంది ▁ఉన్నారు . ▁ఒక ▁సంచార ▁వైద్య ▁శాలలో ▁డాక్టర్లు ▁లేరు . ▁ముగ్గురు ▁పారామెడికల్ ▁సిబ్బంది ▁ఉన్నారు . ▁పశు ▁వైద్యశాల ▁గ్రామం ▁నుండి ▁5 ▁నుండి ▁10 ▁కి . మీ . ▁దూరంలో ▁ఉంది . ▁సమీప ▁సామాజిక ▁ఆరోగ్య ▁కేంద్రం , ▁ప్రాథమిక ▁ఆరోగ్య ▁కేంద్రం , ▁మాతా ▁శిశు ▁సంరక్షణ ▁కేంద్రం , ▁టి . ▁బి ▁వైద్యశాల ▁గ్రామం ▁నుండి ▁10 ▁కి . మీ . ▁కంటే ▁ఎక్కువ ▁దూరంలో ▁ఉన్నాయి . ▁అలోపతి ▁ఆసుపత్రి , ▁ప్రత్యామ్నాయ ▁ఔషధ ▁ఆసుపత్రి , ▁డిస్పెన్సరీ , ▁కుటుంబ ▁సంక్షేమ ▁కేంద్రం ▁గ్రామం ▁నుండి ▁10 ▁కి . మీ . ▁కంటే ▁ఎక్కువ ▁దూరంలో ▁ఉన్నాయి . ▁గ్రామంలో ఒక ▁ప్రైవేటు ▁వైద్య ▁సౌకర్యం ▁ఉంది . ▁డిగ్రీ ▁లేని ▁డాక్టరు ▁ఒకరు ▁ఉన్నారు . ▁గ్రామంలో ▁కుళాయిల ▁ద్వారా ▁శుద్ధి ▁చేయని ▁నీరు ▁సరఫరా ▁అవుతోంది . ▁గ్రామంలో ▁ఏడాది ▁పొడుగునా ▁చేతిపంపుల ▁ద్వారా ▁నీరు ▁అందుతుంది . ▁బోరుబావుల ▁ద్వారా ▁కూడా ▁ఏడాది ▁పొడుగునా ▁నీరు ▁అందుతుంది . ▁మురుగునీరు ▁బహిరంగ ▁కాలువల ▁ద్వారా ▁ప్రవహిస్తుంది . ▁మురుగునీరు ▁బహిరంగంగా , ▁కచ్చా ▁కాలువల ▁ద్వారా ▁కూడా ▁ప్రవహిస్తుంది . ▁మురుగునీటి ని ▁నేరుగా ▁జలవనరుల్లోకి ▁వదులుతున్న ారు . ▁గ్రామంలో ▁సంపూర్ణ ▁పారిశుధ్య ▁పథకం ▁అమలవుతోంది . ▁సామాజిక ▁మరుగుదొడ్డి ▁సౌకర్యం ▁లేదు . ▁ఇంటింటిక ీ ▁తిరిగి ▁వ్యర్థాలను ▁సేకరించే ▁వ్యవస్థ ▁లేదు . ▁సామాజిక ▁బయోగ్యాస్ ▁ఉత్పాదక ▁వ్యవస్థ ▁లేదు . ▁చెత్తను ▁వీధుల ▁పక్కనే ▁పారబోస్తారు . ▁కందుకూర్ లో ▁సబ్ ▁పోస్టాఫీసు ▁సౌకర్యం ▁ఉంది . ▁పోస్టాఫీసు ▁సౌకర్యం , ▁పోస్ట్ ▁అండ్ ▁టెలిగ్రాఫ్ ▁ఆఫీసు ▁గ్రామం ▁నుండి ▁10 ▁కి . మీ . కి ▁పైబడిన ▁దూరంలో ▁ఉన్నాయి . ▁లాండ్ ▁లైన్ ▁టెలిఫోన్ , ▁పబ్లిక్ ▁ఫోన్ ▁ఆఫీసు , ▁మొబైల్ ▁ఫోన్ ▁మొదలైన ▁సౌకర్యాలు ▁ఉన్నాయి . ▁ఇంటర్నెట్ ▁కెఫె ▁/ ▁సామాన్య ▁సేవా ▁కేంద్రం , ▁ప్రైవేటు ▁కొరియర్ ▁గ్రామం ▁నుండి ▁10 ▁కి . మీ . కి ▁పైబడిన ▁దూరంలో ▁ఉన్నాయి . ▁గ్రామానికి ▁సమీప ▁ప్రాంతాల ▁నుండి ▁ప్రభుత్వ ▁రవాణా ▁సంస్థ ▁బస్సులు ▁తిరుగుతున్నాయి . ▁సమీప ▁గ్రామాల ▁నుండి ▁ఆటో ▁సౌకర్యం ▁కూడా ▁ఉంది . ▁వ్యవసాయం ▁కొరకు ▁వాడేందుకు ▁గ్రామంలో ▁ట్రాక్టర్లు న్నాయి . ▁ప్రైవేటు ▁బస్సు ▁సౌకర్యం ▁గ్రామానికి ▁5 ▁నుండి ▁10 ▁కి . మీ . ▁దూరంలో ▁ఉంది . ▁రైల్వే ▁స్టేషన్ ▁గ్రామం ▁నుండి ▁10 ▁కి . మీ . కి ▁పైబడిన ▁దూరంలో ▁ఉంది . ▁జిల్లా ▁రహదారి ▁గ్రామం ▁గుండా ▁పోతోంది . ▁రాష్ట్ర ▁రహదారి ▁గ్రామం ▁నుండి ▁5 ▁కి . మీ . ▁లోపు ▁దూరంలో ▁ఉంది . ▁ప్రధాన ▁జిల్లా ▁రహదారి ▁గ్రామం ▁నుండి ▁5 ▁నుండి ▁10 ▁కి . మీ . ▁దూరంలో ▁ఉంది . ▁జాతీయ ▁రహదారి ▁గ్రామం ▁నుండి ▁10 ▁కి . మీ . కి ▁పైబడిన ▁దూరంలో ▁ఉంది . ▁గ్రామంలో ▁తారు ▁రోడ్లు , ▁కంకర ▁రోడ్లు , ▁మట్టిరోడ్ల ూ ▁ఉన్నాయి . ▁గ్రామంలో ▁స్వయం ▁సహాయక ▁బృందం , ▁పౌర ▁సరఫరాల ▁కేంద్రం ▁ఉన్నాయి . ▁ఏటీఎమ్ , ▁వాణిజ్య ▁బ్యాంకు , ▁సహకార ▁బ్యాంకు , ▁వ్యవసాయ ▁పరపతి ▁సంఘం ▁గ్రామం ▁నుండి ▁10 ▁కి . మీ . కి ▁పైబడిన ▁దూరంలో ▁ఉన్నాయి . ▁రోజువారీ ▁మార్కెట్ , ▁వారం ▁వారం ▁సంత , ▁వ్యవసాయ ▁మార్కెటింగ్ ▁సొసైటీ ▁గ్రామం ▁నుండి ▁10 ▁కి . మీ . కి ▁పైబడిన ▁దూరంలో ▁ఉన్నాయి . ▁గ్రామంలో ▁సమీకృత ▁బాలల ▁అభివృద్ధి ▁పథకం , ▁అంగన్ ▁వాడీ ▁కేంద్రం , ▁ఇతర ▁పోషకాహార ▁కేంద్రాలు ▁ఉన్నాయి . ▁గ్రామంలో ▁వార్తాపత్రిక ▁పంపిణీ ▁జరుగుతుంది . ▁శాసనసభ ▁పోలింగ్ ▁కేంద్రం , ▁జనన ▁మరణాల ▁నమోదు ▁కార్యాలయం ▁ఉన్నాయి . ▁ఆశా ▁కార్యకర్త ▁గ్రామం ▁నుండి ▁5 ▁కి . మీ . ▁లోపు ▁దూరంలో ▁ఉంది . ▁ఆటల ▁మైదానం ▁గ్రామం ▁నుండి ▁5 ▁నుండి ▁10 ▁కి . మీ . ▁దూరంలో ▁ఉంది . ▁సినిమా ▁హాలు , ▁గ్రంథాలయం , ▁పబ్లిక్ ▁రీడింగ్ ▁రూం ▁గ్రామం ▁నుండి ▁10 ▁కి . మీ . కి ▁పైబడిన ▁దూరంలో ▁ఉన్నాయి . ▁గ్రామంలో ▁గృహావసరాల ▁నిమిత్తం ▁విద్యుత్ ▁సరఫరా ▁వ్యవస్థ ▁ఉంది . ▁రోజుకు ▁7 ▁గంటల ▁పాటు ▁వ్యవసాయానికి , ▁8 ▁గంటల ▁పాటు ▁వాణిజ్య ▁అవసరాల ▁కోసం ▁కూడా ▁విద్యుత్ ▁సరఫరా ▁చేస్తున్నారు . ▁కందుకూర్ లో ▁భూ ▁వినియోగం ▁కింది ▁విధంగా ▁ఉంది : ▁కందుకూర్ లో ▁వ్యవసాయానికి ▁నీటి ▁సరఫరా ▁కింది ▁వనరుల ▁ద్వారా ▁జరుగుతోంది . ▁కందుకూర్ లో ▁ఈ ▁కింది ▁వస్తువులు ▁ఉత్పత్తి ▁అవుతున్నాయి . ▁వరి , ▁వేరుశనగ , ▁కంది\n",
              "y: LMLabelList\n",
              ",,,,\n",
              "Path: /content;\n",
              "\n",
              "Valid: LabelList (16791 items)\n",
              "x: LMTextList\n",
              "▁x x bo s ▁కంప్యూటర్ ▁ఫ్యా న్ ▁అనగా ▁కంప్యూటర్ ▁యొక్క ▁క్రియాశీల ▁శీతలీకరణ ▁కోసం ▁బయట ▁నుండి ▁కంప్యూటర్ ▁లోకి ▁చల్లగా లి ని ▁తీసుకునే ందుకు , ▁కంప్యూటరు లోని ▁వేడి ▁గాలిని ▁బయటకు ▁తో స ేందుకు , ▁లేదా ▁కంప్యూటరు ▁లోని ▁ఒక ▁నిర్దిష్ట ▁భాగాన్ని ▁చల్ల బర చ ుటకు ▁హీట్ ▁సిం క్ ▁అంతటా ▁గాలిని ▁కదిలించ ేందుకు ▁కంప్యూటర్ ▁కేసు కు ▁జత పరచి వున్న ▁లేదా ▁కంప్యూటర్ ▁లోపల ▁ఉన్న ▁ఏదైనా ▁ఫ్యా న్ .,▁x x bo s ▁తూర్పు ▁గోదావరి ▁జిల్లాలో ▁ప్రముఖ ▁వ్యక్తులు ▁సర్ ▁ఆర్ ధర్ ▁కాటన్ , ▁కందుకూరి ▁వీరేశలింగం , ▁మల్ల ా డి ▁సత్య ▁లింగ ▁నాయక ర్ ▁లు . ▁వీరిలో ▁మల్ల ా డి ▁సత్య ▁లింగ ▁నాయక ర్ ▁స్వతంత్ర ము ▁రాక ▁పూర్వము ▁ఆంధ్ర ▁ప్రదేశ్ ▁రాష్ట్రం ▁లోని ▁కాకినాడ ▁పట్టణంలో ▁యం . యస్ . యన్ . ఛా రిటీ స్ ▁అనబడు ▁స్వ ఛ ంద ▁సంస్థ ▁స్థాపనకు ▁మూల ▁పురుషుడు . ▁మల్ల ా డి ▁సత్య ▁లింగ ▁నాయక ర్ ▁1912 ▁సం . లో ▁రంగ ూన్ ▁( బర్ మా ) ▁లోని ▁జిల్లా ▁కోర్టులో ▁ఒక ▁వీలునామా ను ▁ రిజి ష్ట ర్ ▁చేయించి రి . ▁ఆ ▁వీలునామా ▁ప్రకారం ▁తాను ▁సంపాదించిన ▁ఆస్తి లో ▁ఎనిమిది ▁లక్షల ▁రూపాయల ను ▁విద్యాలయ ములు , ▁దేవాలయము ల ▁నిర్వహణకు , ▁బీద ▁విద్యార్థులు ▁ఉన్నత ▁విద్య , ▁వృత్తి ▁విద్య లు ▁అభ్యసించ ుటకు , ▁బీద వారికి ▁తిండి ▁పెట్ట ుట ▁తదితర ▁సేవా ▁కార్యక్రమము లకు ▁కేటాయించ ిరి . ▁మల్ల ా డి ▁సత్య ▁లింగ ▁నాయక ర్ ▁వీలునామా ▁ప్రకారం ▁దీ వాన్ ▁బహదూర్ ▁డి . శేష గిరి ▁రావు ▁పంతులు ▁ప్రధాన ▁ధర్మ ▁కర్త ▁గా , ▁మల్ల ా డి ▁సత్య ▁లింగ ▁నాయక ర్ ▁యొక్క ▁దత్త ▁పుత్ర ుడయిన ▁సుబ్రహ్మణ్యం ▁నాయక ర్ , ▁పి న పోతు ▁గోవింద ▁రాజు , ▁కొ వ్వ ూరి ▁ఆది య్య రెడ్డి లు ▁ధర్మ ▁కర్త లుగా ▁యం . యస్ . యన్ . ఛా రిటీ స్ ▁అనబడు ▁స్వ ఛ ంద ▁సంస్థను ▁ఏర్పాటు ▁చేసి రి . ▁దిగువ ▁బర్మా ▁లోని ▁ప్రధాన ▁కోర్టు ▁చే ▁మార్చి ▁నెల ▁4 ▁వ ▁తారీఖు , 19 15 ▁సం . లో ▁కాకినాడ ▁పట్టణంలో ▁యం . యస్ . యన్ . ఛా రిటీ స్ ▁ధర్మ ▁కర్త లకు ▁వీలునామా లో ▁పేర్కొన్న విధ ముగా ▁ఎనిమిది ▁లక్షల ▁రూపాయలు ▁అంద చేయ బడినవి . వీ లు నా మా ▁ప్రకారం ▁ఎనిమిది ▁లక్షల ▁రూపాయల లో ▁అయిదు ▁లక్షల ▁రూపాయలు ▁వ్యవసాయ ▁భూములను ▁శాశ్వత ▁ప్రాతిపదికన ▁కొనుగోలు ▁చేయుటకు , ▁రెండు ▁లక్షల ▁రూపాయలు ▁బ్యాంకు లో ▁జమ ▁చేయుటకు , ▁మిగిలిన ▁ఒక ▁లక్ష ▁రూపాయల ను ▁విశాల మయిన ▁ఆట ▁స్థలము తో ▁ఒక ▁పాఠశాల ▁భవనము , ▁ఆధునిక ▁వ్యాయామ శాల , ▁పాఠశాల ▁భవనము ▁ప్రక్క గా ▁బీద ▁వారికి ▁భోజన ▁సదుపాయము ▁అందించే ▁ఒక ▁సత్ర ము , ▁చొ ల్ల ంగి ▁గ్రామములో ▁దేవాలయము లు ▁నిర్మించ ుటకు ▁ఉద్దేశించబడింది . ఎ ని మిది ▁లక్షల ▁రూపాయల లో ▁ఒక ▁లక్ష ▁రూపాయలు ▁నిర్మాణము లకు ▁కే ట య ించ గా ▁మిగిలిన ▁ఏడు ▁లక్షల ▁రూపాయల మీద ▁వచ్చు ▁ఆదాయ మును ▁పాఠశాల , ▁సత్ర ము , ▁దేవాలయము ల ▁నిర్వహణకు , ▁ఉన్నత ▁విద్యను ▁అభ్యసించ ు వారికి ▁ఒక ▁నిధి ▁ఏర్పాటుకు ▁ఖర్చు ▁పెట్ట ుటకు ▁ఉద్దేశించబడింది . ▁చొ ల్ల ంగి ▁గ్రామములో ▁ఒక ▁స్నాన ▁వాటి క , ▁ఒక ▁శివాలయ ము , ▁శ్రీ ▁రామ ుల వారి , ▁ఆంజనేయ ుల వారి ▁ఆలయము లు , ▁అర్చక ులకు ▁ఒక ▁భవనము , ▁యాత్రికుల కు ▁ఒక ▁విశ్రాంతి ▁గృహ ము ▁దశ ల వారి గా ▁నిర్మించబడిన వి . ▁మల్ల ా డి ▁సత్య ▁లింగ ▁నాయక ర్ ▁వీలునామా ▁ప్రకారం ▁ఈ ▁క్రింద ▁పేర్కొన్న ▁సంస్థలు ▁యం . యస్ . యన్ . ఛా రిటీ స్ ▁ఆధ్వర్యంలో ▁కాకినాడ ▁పట్టణము లో ▁స్థాపించ బడి , ▁నడుప బడుచున్న వి .,▁x x bo s ▁బారాముల్లా ▁రైల్వే ▁స్టేషను ▁భారతీయ ▁రైల్వే ▁యొక్క ▁ఉత్తర ▁రైల్వే ▁నెట్వర్క్ ▁జో ను ▁లోను ▁ఒక ▁స్టేషను . ▁ఈ ▁స్టేషను ను ▁జమ్మూ - బా రా ము ల్లా ▁రైలు ▁మార్గము ▁మెగా ప్రా జె క్ట్ ▁లోని ▁భాగంగా ▁నిర్మించారు . ▁ఇది ▁కాశ్మీర్ ▁లోయ తో ▁పాటుగా ▁మిగిలిన ▁భారతీయ ▁రైల్వే ▁నెట్వర్క్ ▁తో ▁అనుసంధానించ డానికి ▁ఉద్దేశించబడింది . ▁ఈ ▁నెట్వర్క్ ▁యొక్క ▁లె గ్ ▁2 ▁విభాగం ▁అసంపూర్ణ ంగా ▁ఉంది . ▁ఇది ▁20 21 ▁నాటికి ▁పూర్తి ▁అవుతుంది . ▁[2] ▁బారాముల్లా ▁రైల్వే ▁స్టేషను ▁బారాముల్లా ▁యొక్క ▁నోటి ఫై డ్ ▁ప్రాంతంలో ▁ఉంది . ▁ఇది ▁130 ▁కిలోమీటర్ల ▁పొడవైన ▁రైల్వే ▁లైన్ ▁స్టేషను . ▁ఇది ▁బ నీ హా ల్ ▁తో ▁కాశ్మీర్ ▁లోయ ను ▁కలుపుతుంది . ▁ఈ ▁మెగా ▁ప్రాజెక్టు లో ▁ప్రతి ▁ఇతర ▁స్టేషను ▁మాదిరిగానే , ▁ఈ ▁స్టేషన్ లో ▁కూడా ▁కాశ్మీరీ ▁కలప ▁నిర్మాణం తో , ▁రాయల్ ▁కోర్ట్ ▁యొక్క ▁ఉద్దేశించిన ▁వాతావరణం తో ▁ఇది ▁స్టేషను ▁యొక్క ▁స్థానిక ▁పరిసరాల తో ▁పాటుగా ▁పూర్తి ▁చేయడానికి ▁రూపొందించబడింది . ▁బారాముల్లా ▁రైల్వే ▁స్టేషను ▁నందు ▁ఎక్కువగా ▁ఉర్దూ , ▁ఇంగ్లీష్ , ▁హిందీ ల ▁భాషలలో ▁వ్రాయ బడి ▁ఉంటుంది . ▁ఈ ▁స్టేషను ▁సముద్ర ▁మట్టానికి ▁15 82 . 79 ▁మీటర్ల ▁ఎత్తులో ▁ఉంది . ▁[3],▁x x bo s ▁శత ానంద ▁మహర్షి ▁గౌతమ ▁మహర్షి , ▁అహల్య కి ▁జన్మించిన ▁నలుగురు ▁పుత్ర ులలో ▁జే ష్ట ుడు . ▁గౌతమ ▁మహర్షి ▁కొన్ని ▁వేల ▁సంవత్సరాలు ▁దాంపత్య ▁బ్రహ్మచర్య మును ▁గడిపిన ▁పిమ్మట ▁అహల్య ను ▁ఆదరించ ి ▁ వలసిన ▁కోరిక ▁కోరు మన ెను . ▁ఆమె ▁స్త్రీ సహ జ మగు ▁మాతృ త్వాన్ని ▁కాంక్ష ించింది . ▁గౌతమ ుడ ానంద ించి ▁యోగ బల మున ▁నవ యు వ కు డై ▁అహల్య ా కాంత ▁నిండు ▁యౌవన మునకు ▁పండు వెన్ నెల యై ▁సర్వ లో క ముల ంద లి ▁మనోహర ▁కే ళీ వన ముల ▁నూరు చోట్ల ▁నూరు విధ ముల గు ▁ర త్య ానంద ము ▁నామ ెను ▁అనుభవ ింపజేసి ▁ఆమె ▁కోరిక ను ▁తీర్చ ెను . ▁ఫలితము గా ▁ఆమె ▁గర్భ ము ▁ధరించి ▁నవ మాసము లు ▁మో సి ▁పుత్ర రత్న మును ▁పొంద ెను . ▁అహల్య ా గౌ త ముల ▁శా త విధానం ద ఫల ▁మగ ుటచే త ▁అతనికి ▁గౌతమ ుడు ▁\" శ త ానంద ుడు \" ▁అని ▁సార్థక ▁నామ కరణ ము ▁చేసె ను . ▁శత ానంద ుడు ▁తండ్రి ▁గౌతమ ుని ▁వద్ద నే ▁సమస్త ▁వేద శాస్త్ర ాది ▁విద్య లు ▁అభ్యసించి ▁బ్రహ్మచర్య ాశ్రమ ము ▁పాటించ ుచు ▁మహా ▁తప శ్శ ాలి ▁అయ్య ెను . ▁ఈతని ▁బుద్ధి వైభవ ము , ▁జ్ఞాన సంపద , ▁శీల గౌరవ ము , ▁తపో ని ర తి ▁విని ▁జనక ▁మహారాజు ▁తన ▁ఆస్థాన ▁పురోహిత ునిగా ▁వుండ ు మని ▁అర్ధ ించెను . ▁గౌతమ ▁మహర్షి ▁ఆనంద ించి , ▁గుణ శీల వతి ▁అయిన ▁కన్యా మణి తో ▁వివాహ మొ న రించి ▁భార్య ా స హిత ునిగా ▁శత ానంద ుని ▁జనక ▁చక్రవర్తి కి ▁కుల గురువు గా ▁మి థి లా ▁నగర మునకు ▁పంప ెను . ▁తరువాతి ▁కాలంలో ▁గౌతమ ుడు ▁అహల్య ను ▁శపించ ుట , ▁శ్రీరాముని ▁జనన ము , ▁వనవాస ము , ▁యాగ ▁రక్షణ ▁కొరకు ▁విశ్వామిత్ర ుని ▁వెంట ▁జన ుట , ▁శత ానంద ుని ▁తల్లిని ▁శాప వి మో చన ము ▁జరిగి ▁శ్రీరాముడు ▁మి ధి లకు ▁వచ్చినప్పుడు , ▁జనక ▁మహారాజు తో ▁శత ానంద ుడు ▁వారికి ▁స్వా గత ము ▁ప లిక ెను . ▁శ్రీరాముడు ▁శివ ధ ను ర్ భంగ ము ▁గావించి ▁సీతను ▁వివాహమాడ ు నపుడు ▁దశరథ ుని ▁వైపు ▁వశిష్ఠ ుడు , ▁జనక ుని ▁వైపు ▁శత ానంద ుడు ▁గోత్ర ప్ర వర ాదులు ▁చెప్పి ▁సీతారామ ▁కల్యాణ మును ▁జరిపించ ిరి . ▁అతనికి ▁సత్య ధృత ి ▁అను ▁కుమారుడు ▁కలి గె ను . ▁అతడు ▁పుట్ట గానే ▁చేత ▁బాణ ము ▁వుండి న ▁కారణము న ▁ఆతని కి ▁' శ ర ద్ వంతుడు ' ▁అని ▁పేరు ▁వచ్చె ను . ▁అప్పటి నుండే ▁శర ము ▁విడువ క ▁అతని ▁మనస్సు ▁వేద శాస్త్ర ాది ▁విద్య లందు ▁కంటే ▁ధనుర ్ వేద మ ందే ▁ల గ్న ము ▁కా జొ చ్చె ను . ▁సత్య ధృత ి ▁మహా త ప ▁మొన రించి ▁ధనుర ్ వేద మును , ▁వివిధ ాస్త్ర ములను ▁సాధించ ెను . ▁ఇతని ▁తపో భంగ మును ▁చెర ప , ▁ఇంద్రుడు ▁జాల వతి ▁అను ▁దేవ కన్య ను ▁పంప ెను . ▁మహా ▁సౌందర్య వతి ▁అయిన ▁ఆమెను ▁చూచి న దే ▁సత్య ధృత ి ▁చేతిలో ని ▁విల్ లమ్మ ులు ▁జారి ▁క్రింద పడ ెను . ▁అది ▁గ్రహించి ▁తన ▁కామ ోద్ రే కము ను ▁ని గ్రహ ించ ుకొనెను . ▁కాని , ▁అతనికి ▁తెలియ కుండ కుండా ▁రే తః ▁పతన మై ▁అది ▁రె ల్లు గడ్డి లో ▁పడ ెను . ▁అది ▁రెండు ▁భాగము లై ▁అందు ండి ▁ఒక ▁బాలుడు , ▁ఒక ▁బాలిక ▁జన్మించి రి . ▁కొంత కాల మునకు ▁శంతన ▁మహారాజు ▁వేటాడ ుచు ▁అక్కడికి ▁వచ్చి ▁వారిని ▁చూచి ▁తన ▁బిడ్డ లుగా ▁పెంచ ుకొనెను . ▁వారికి ▁జాతక ▁కర్మ ాది ▁సంస్కార ములు ▁గావించి ▁తన చే ▁కృప తో ▁పెంచ బడి రి ▁కావున ▁వారికి ▁కృప ుడు , ▁కృప ి ▁అని ▁నామ కరణ ము ▁చేయించ ెను . ▁ఈ ▁సంగతి ▁గ్రహించిన ▁సత్య ధృత ి ▁శంతన ునితో ▁తన ▁సంగతి ▁చెప్పి ▁కృప ునకు ▁చతుర్ విధ ▁ధనుర ్ వేద ములు ను ▁నానా ▁విధ ▁శాస్త్రము లను ▁నేర్ప ెను . ▁అతడే ▁విలువిద్య యందు ▁పరమ ాచార్య ుడై ▁భీష్ముని ▁ప్రార్థన మున ▁కౌరవ ▁పాండవుల కు ▁గురువు ▁అయ్య ెను .,▁x x bo s ▁చింత ాడ , ఆంధ్ర ▁ప్రదేశ్ ▁రాష్ట్రం , ▁విజయనగరం ▁జిల్లా , ▁జా మి ▁మండలానికి ▁చెందిన ▁గ్రామం .[1] ▁ఇది ▁మండల ▁కేంద్రమైన ▁జా మి ▁నుండి ▁9 ▁కి . మీ . ▁దూరం ▁లోను , ▁సమీప ▁పట్టణమైన ▁విజయనగరం ▁నుండి ▁28 ▁కి . మీ . ▁దూరంలోనూ ▁ఉంది . ▁2011 ▁భారత ▁జనగణన ▁గణాంకాల ▁ప్రకారం ▁ఈ ▁గ్రామం ▁3 26 ▁ఇళ్లతో , ▁12 25 ▁జనాభాతో ▁2 37 ▁హెక్టార్లలో ▁విస్తరించి ▁ఉంది . ▁గ్రామంలో ▁మగవారి ▁సంఖ్య ▁6 17 , ▁ఆడవారి ▁సంఖ్య ▁6 08 . ▁షెడ్యూల్డ్ ▁కులాల ▁జనాభా ▁143 ▁కాగా ▁షెడ్యూల్డ్ ▁తెగల ▁జనాభా ▁7 . ▁గ్రామం ▁యొక్క ▁జనగణన ▁లొకేషన్ ▁కోడ్ ▁58 30 87 [2]. పిన్ ▁కోడ్ : ▁5 35 250 . ▁గ్రామంలో ▁ప్రభుత్వ ▁ప్రాథమిక ▁పాఠశాల ▁ఒకటి ▁ఉంది . సమీప ▁బాలబడి , ▁మాధ్యమిక ▁పాఠశాల ▁లు ▁జా మి లోను , ▁ప్రాథమికోన్నత ▁పాఠశాల ▁జాగ రాం లోనూ ▁ఉన్నాయి . సమీప ▁జూనియర్ ▁కళాశాల , ▁ప్రభుత్వ ▁ఆర్ట్స్ ▁/ ▁సైన్స్ ▁డిగ్రీ ▁కళాశాల ▁జా మి లోను , ▁ఇంజనీరింగ్ ▁కళాశాల ▁విజయనగరం లోనూ ▁ఉన్నాయి . ▁సమీప ▁వైద్య ▁కళాశాల ▁నెల్లిమర్లలోన ు , ▁మేనేజిమెంటు ▁కళాశాల , ▁పాలీటెక్నిక్ ▁లు ▁విజయనగరం లోనూ ▁ఉన్నాయి . ▁సమీప ▁వృత్తి ▁విద్యా ▁శిక్షణ ▁పాఠశాల , ▁అనియత ▁విద్యా ▁కేంద్రం ▁జా మి లోను , ▁దివ్యాంగ ుల ▁ప్రత్యేక ▁పాఠశాల ▁విజయనగరం ▁లోనూ ▁ఉన్నాయి . ▁చింత ాడ ▁( జా మి ) లో ▁ఉన్న ▁ఒక ▁ప్రాథమిక ▁ఆరోగ్య ▁ఉప ▁కేంద్రంలో ▁డాక్టర్లు ▁లేరు . ▁పారామెడికల్ ▁సిబ్బంది ▁ముగ్గురు ▁ఉన్నారు . ప్రాథమిక ▁ఆరోగ్య ▁కేంద్రం ▁గ్రామం ▁నుండి ▁5 ▁నుండి ▁10 ▁కి . మీ . ▁దూరంలో ▁ఉంది . ▁డిస్పెన్సరీ , ▁పశు ▁వైద్యశాల ▁గ్రామం ▁నుండి ▁5 ▁నుండి ▁10 ▁కి . మీ . ▁దూరంలో ▁ఉన్నాయి . ▁సమీప ▁సామాజిక ▁ఆరోగ్య ▁కేంద్రం , ▁మాతా ▁శిశు ▁సంరక్షణ ▁కేంద్రం , ▁టి . ▁బి ▁వైద్యశాల ▁గ్రామం ▁నుండి ▁10 ▁కి . మీ . ▁కంటే ▁ఎక్కువ ▁దూరంలో ▁ఉన్నాయి . ▁అలోపతి ▁ఆసుపత్రి , ▁ప్రత్యామ్నాయ ▁ఔషధ ▁ఆసుపత్రి , ▁సంచార ▁వైద్య ▁శాల , ▁కుటుంబ ▁సంక్షేమ ▁కేంద్రం ▁గ్రామం ▁నుండి ▁10 ▁కి . మీ . ▁కంటే ▁ఎక్కువ ▁దూరంలో ▁ఉన్నాయి . ▁గ్రామంలో ▁కుళాయిల ▁ద్వారా ▁రక్షిత ▁మంచినీటి ▁సరఫరా ▁జరుగుతోంది . ▁బావుల ▁నీరు ▁కూడా ▁అందుబాటులో ▁ఉంది . ▁గ్రామంలో ▁ఏడాది ▁పొడుగునా ▁చేతిపంపుల ▁ద్వారా ▁నీరు ▁అందుతుంది . ▁బోరుబావుల ▁ద్వారా ▁కూడా ▁ఏడాది ▁పొడుగునా ▁నీరు ▁అందుతుంది . ▁మురుగునీరు ▁బహిరంగ ▁కాలువల ▁ద్వారా ▁ప్రవహిస్తుంది . ▁మురుగునీటి ని ▁నేరుగా ▁జలవనరుల్లోకి ▁వదులుతున్న ారు . ▁గ్రామంలో ▁సంపూర్ణ ▁పారిశుధ్య ▁పథకం ▁అమలవుతోంది . ▁సామాజిక ▁మరుగుదొడ్డి ▁సౌకర్యం ▁లేదు . ▁ఇంటింటిక ీ ▁తిరిగి ▁వ్యర్థాలను ▁సేకరించే ▁వ్యవస్థ ▁లేదు . ▁సామాజిక ▁బయోగ్యాస్ ▁ఉత్పాదక ▁వ్యవస్థ ▁లేదు . ▁చెత్తను ▁వీధుల ▁పక్కనే ▁పారబోస్తారు . ▁చింత ాడ ▁( జా మి ) లో ▁సబ్ ▁పోస్టాఫీసు ▁సౌకర్యం ▁ఉంది . ▁పోస్టాఫీసు ▁సౌకర్యం , ▁పోస్ట్ ▁అండ్ ▁టెలిగ్రాఫ్ ▁ఆఫీసు ▁గ్రామానికి ▁5 ▁నుండి ▁10 ▁కి . మీ . ▁దూరంలో ▁ఉన్నాయి . ▁లాండ్ ▁లైన్ ▁టెలిఫోన్ , ▁పబ్లిక్ ▁ఫోన్ ▁ఆఫీసు , ▁మొబైల్ ▁ఫోన్ ▁మొదలైన ▁సౌకర్యాలు ▁ఉన్నాయి . ▁ఇంటర్నెట్ ▁కెఫె ▁/ ▁సామాన్య ▁సేవా ▁కేంద్రం , ▁ప్రైవేటు ▁కొరియర్ ▁గ్రామం ▁నుండి ▁10 ▁కి . మీ . కి ▁పైబడిన ▁దూరంలో ▁ఉన్నాయి . ▁గ్రామానికి ▁సమీప ▁ప్రాంతాల ▁నుండి ▁ప్రభుత్వ ▁రవాణా ▁సంస్థ ▁బస్సులు ▁తిరుగుతున్నాయి . ▁సమీప ▁గ్రామాల ▁నుండి ▁ఆటో ▁సౌకర్యం ▁కూడా ▁ఉంది . ▁ప్రైవేటు ▁బస్సు ▁సౌకర్యం , ▁ట్రాక్టరు ▁సౌకర్యం ▁మొదలైనవి ▁గ్రామానికి ▁5 ▁నుండి ▁10 ▁కి . మీ . ▁దూరంలో ▁ఉన్నాయి . ▁రైల్వే ▁స్టేషన్ ▁గ్రామం ▁నుండి ▁10 ▁కి . మీ . కి ▁పైబడిన ▁దూరంలో ▁ఉంది . ▁ప్రధాన ▁జిల్లా ▁రహదారి , ▁జిల్లా ▁రహదారి ▁గ్రామం ▁గుండా ▁పోతున్నాయి . ▁రాష్ట్ర ▁రహదారి ▁గ్రామం ▁నుండి ▁5 ▁నుండి ▁10 ▁కి . మీ . ▁దూరంలో ▁ఉంది . ▁జాతీయ ▁రహదారి ▁గ్రామం ▁నుండి ▁10 ▁కి . మీ . కి ▁పైబడిన ▁దూరంలో ▁ఉంది . ▁గ్రామంలో ▁తారు ▁రోడ్లు , ▁కంకర ▁రోడ్లు ▁ఉన్నాయి . ▁గ్రామంలో ▁స్వయం ▁సహాయక ▁బృందం , ▁పౌర ▁సరఫరాల ▁కేంద్రం ▁ఉన్నాయి . ▁వాణిజ్య ▁బ్యాంకు , ▁వ్యవసాయ ▁పరపతి ▁సంఘం ▁గ్రామం ▁నుండి ▁5 ▁నుండి ▁10 ▁కి . మీ . ▁దూరంలో ▁ఉన్నాయి . ▁రోజువారీ ▁మార్కెట్ , ▁వారం ▁వారం ▁సంత ▁గ్రామం ▁నుండి ▁5 ▁నుండి ▁10 ▁కి . మీ . ▁దూరంలో ▁ఉన్నాయి . ▁ఏటీఎమ్ , ▁సహకార ▁బ్యాంకు ▁గ్రామం ▁నుండి ▁10 ▁కి . మీ . కి ▁పైబడిన ▁దూరంలో ▁ఉన్నాయి . ▁వ్యవసాయ ▁మార్కెటింగ్ ▁సొసైటీ ▁గ్రామం ▁నుండి ▁10 ▁కి . మీ . కి ▁పైబడిన ▁దూరంలో ▁ఉంది . ▁గ్రామంలో ▁సమీకృత ▁బాలల ▁అభివృద్ధి ▁పథకం , ▁అంగన్ ▁వాడీ ▁కేంద్రం , ▁ఇతర ▁పోషకాహార ▁కేంద్రాలు ▁ఉన్నాయి . ▁గ్రామంలో ▁వార్తాపత్రిక ▁పంపిణీ ▁జరుగుతుంది . ▁శాసనసభ ▁పోలింగ్ ▁కేంద్రం , ▁జనన ▁మరణాల ▁నమోదు ▁కార్యాలయం ▁ఉన్నాయి . ▁ఆశా ▁కార్యకర్త , ▁ఆటల ▁మైదానం ▁గ్రామం ▁నుండి ▁5 ▁నుండి ▁10 ▁కి . మీ . ▁దూరంలో ▁ఉన్నాయి . ▁సినిమా ▁హాలు , ▁గ్రంథాలయం , ▁పబ్లిక్ ▁రీడింగ్ ▁రూం ▁గ్రామం ▁నుండి ▁5 ▁నుండి ▁10 ▁కి . మీ . ▁దూరంలో ▁ఉన్నాయి . ▁గ్రామంలో ▁గృహావసరాల ▁నిమిత్తం ▁విద్యుత్ ▁సరఫరా ▁వ్యవస్థ ▁ఉంది . ▁రోజుకు ▁7 ▁గంటల ▁పాటు ▁వ్యవసాయానికి , ▁15 ▁గంటల ▁పాటు ▁వాణిజ్య ▁అవసరాల ▁కోసం ▁కూడా ▁విద్యుత్ ▁సరఫరా ▁చేస్తున్నారు . ▁చింత ాడ ▁( జా మి ) లో ▁భూ ▁వినియోగం ▁కింది ▁విధంగా ▁ఉంది : ▁చింత ాడ ▁( జా మి ) లో ▁వ్యవసాయానికి ▁నీటి ▁సరఫరా ▁కింది ▁వనరుల ▁ద్వారా ▁జరుగుతోంది . ▁చింత ాడ ▁( జా మి ) లో ▁ఈ ▁కింది ▁వస్తువులు ▁ఉత్పత్తి ▁అవుతున్నాయి . ▁వరి , ▁చెరకు\n",
              "y: LMLabelList\n",
              ",,,,\n",
              "Path: /content;\n",
              "\n",
              "Test: None, model=SequentialRNN(\n",
              "  (0): AWD_LSTM(\n",
              "    (encoder): Embedding(25000, 400, padding_idx=1)\n",
              "    (encoder_dp): EmbeddingDropout(\n",
              "      (emb): Embedding(25000, 400, padding_idx=1)\n",
              "    )\n",
              "    (rnns): ModuleList(\n",
              "      (0): WeightDropout(\n",
              "        (module): LSTM(400, 1152, batch_first=True)\n",
              "      )\n",
              "      (1): WeightDropout(\n",
              "        (module): LSTM(1152, 1152, batch_first=True)\n",
              "      )\n",
              "      (2): WeightDropout(\n",
              "        (module): LSTM(1152, 400, batch_first=True)\n",
              "      )\n",
              "    )\n",
              "    (input_dp): RNNDropout()\n",
              "    (hidden_dps): ModuleList(\n",
              "      (0): RNNDropout()\n",
              "      (1): RNNDropout()\n",
              "      (2): RNNDropout()\n",
              "    )\n",
              "  )\n",
              "  (1): LinearDecoder(\n",
              "    (decoder): Linear(in_features=400, out_features=25000, bias=True)\n",
              "    (output_dp): RNNDropout()\n",
              "  )\n",
              "), opt_func=functools.partial(<class 'torch.optim.adam.Adam'>, betas=(0.9, 0.99)), loss_func=FlattenedLoss of CrossEntropyLoss(), metrics=[<function accuracy at 0x7fb095204ea0>], true_wd=True, bn_wd=True, wd=0.01, train_bn=True, path=PosixPath('/content'), model_dir='models', callback_fns=[functools.partial(<class 'fastai.basic_train.Recorder'>, add_time=True, silent=False)], callbacks=[RNNTrainer\n",
              "learn: LanguageLearner(data=TextLMDataBunch;\n",
              "\n",
              "Train: LabelList (67162 items)\n",
              "x: LMTextList\n",
              "▁x x bo s ▁జిల్ల ు ంద ▁శ్రీకాకుళం ▁జిల్లా , ▁కంచి లి ▁మండలం ▁లోని ▁గ్రామం . ▁ఇది ▁మండల ▁కేంద్రమైన ▁కంచి లి ▁నుండి ▁8 ▁కి . ▁మీ . ▁దూరం ▁లోను , ▁సమీప ▁పట్టణమైన ▁ఇచ్ఛాపురం ▁నుండి ▁19 ▁కి . ▁మీ . ▁దూరంలోనూ ▁ఉంది . ▁2011 ▁భారత ▁జనగణన ▁గణాంకాల ▁ప్రకారం ▁ఈ ▁గ్రామం ▁126 ▁ఇళ్లతో , ▁5 25 ▁జనాభాతో ▁10 2 ▁హెక్టార్లలో ▁విస్తరించి ▁ఉంది . ▁గ్రామంలో ▁మగవారి ▁సంఖ్య ▁2 67 , ▁ఆడవారి ▁సంఖ్య ▁25 8. ▁షెడ్యూల్డ్ ▁కులాల ▁సంఖ్య ▁33 ▁కాగా ▁షెడ్యూల్డ్ ▁తెగల ▁సంఖ్య ▁0. ▁గ్రామం ▁యొక్క ▁జనగణన ▁లొకేషన్ ▁కోడ్ ▁58 03 93 [1]. పిన్ ▁కోడ్ : ▁532 29 1. ▁సమీప ▁ప్రాథమిక ▁ఆరోగ్య ▁ఉప ▁కేంద్రం ▁గ్రామం ▁నుండి ▁5 ▁కి . మీ . ▁లోపు ▁దూరంలో ▁ఉంది . ▁ప్రాథమిక ▁ఆరోగ్య ▁కేంద్రం ▁గ్రామం ▁నుండి ▁5 ▁నుండి ▁10 ▁కి . మీ . ▁దూరంలో ▁ఉంది . ▁అలోపతి ▁ఆసుపత్రి , ▁ప్రత్యామ్నాయ ▁ఔషధ ▁ఆసుపత్రి , ▁పశు ▁వైద్యశాల , ▁సంచార ▁వైద్య ▁శాల ▁గ్రామం ▁నుండి ▁5 ▁నుండి ▁10 ▁కి . మీ . ▁దూరంలో ▁ఉన్నాయి . ▁సమీప ▁సామాజిక ▁ఆరోగ్య ▁కేంద్రం , ▁మాతా ▁శిశు ▁సంరక్షణ ▁కేంద్రం , ▁టి . ▁బి ▁వైద్యశాల ▁గ్రామం ▁నుండి ▁10 ▁కి . మీ . ▁కంటే ▁ఎక్కువ ▁దూరంలో ▁ఉన్నాయి . ▁డిస్పెన్సరీ , ▁కుటుంబ ▁సంక్షేమ ▁కేంద్రం ▁గ్రామం ▁నుండి ▁10 ▁కి . మీ . ▁కంటే ▁ఎక్కువ ▁దూరంలో ▁ఉన్నాయి . ▁బావుల ▁నీరు ▁గ్రామంలో ▁అందుబాటులో ▁ఉంది . ▁గ్రామంలో ▁ఏడాది ▁పొడుగునా ▁చేతిపంపుల ▁ద్వారా ▁నీరు ▁అందుతుంది . ▁బోరుబావుల ▁ద్వారా ▁కూడా ▁ఏడాది ▁పొడుగునా ▁నీరు ▁అందుతుంది . ▁చెరువు ▁ద్వారా ▁గ్రామానికి ▁తాగునీరు ▁లభిస్తుంది . ▁గ్రామంలో ▁మురుగునీటి ▁పారుదల ▁వ్యవస్థ ▁లేదు . ▁మురుగునీటి ని ▁నేరుగా ▁జలవనరుల్లోకి ▁వదులుతున్న ారు . ▁గ్రామంలో ▁సంపూర్ణ ▁పారిశుధ్య ▁పథకం ▁అమలవుతోంది . ▁సామాజిక ▁మరుగుదొడ్డి ▁సౌకర్యం ▁లేదు . ▁ఇంటింటిక ీ ▁తిరిగి ▁వ్యర్థాలను ▁సేకరించే ▁వ్యవస్థ ▁లేదు . ▁సామాజిక ▁బయోగ్యాస్ ▁ఉత్పాదక ▁వ్యవస్థ ▁లేదు . ▁చెత్తను ▁వీధుల ▁పక్కనే ▁పారబోస్తారు . ▁గ్రామంలో ▁స్వయం ▁సహాయక ▁బృందం , ▁పౌర ▁సరఫరాల ▁కేంద్రం ▁ఉన్నాయి . ▁రోజువారీ ▁మార్కెట్ ▁గ్రామం ▁నుండి ▁5 ▁కి . మీ . ▁లోపు ▁దూరంలో ▁ఉంది . ▁ఏటీఎమ్ , ▁వాణిజ్య ▁బ్యాంకు ▁గ్రామం ▁నుండి ▁5 ▁నుండి ▁10 ▁కి . మీ . ▁దూరంలో ▁ఉన్నాయి . ▁వారం ▁వారం ▁సంత , ▁వ్యవసాయ ▁మార్కెటింగ్ ▁సొసైటీ ▁గ్రామం ▁నుండి ▁5 ▁నుండి ▁10 ▁కి . మీ . ▁దూరంలో ▁ఉన్నాయి . ▁సహకార ▁బ్యాంకు , ▁వ్యవసాయ ▁పరపతి ▁సంఘం ▁గ్రామం ▁నుండి ▁10 ▁కి . మీ . కి ▁పైబడిన ▁దూరంలో ▁ఉన్నాయి . ▁గ్రామంలో ▁సమీకృత ▁బాలల ▁అభివృద్ధి ▁పథకం , ▁అంగన్ ▁వాడీ ▁కేంద్రం , ▁ఇతర ▁పోషకాహార ▁కేంద్రాలు , ▁ఆశా ▁కార్యకర్త ▁ఉన్నాయి . ▁గ్రామంలో ▁వార్తాపత్రిక ▁పంపిణీ ▁జరుగుతుంది . ▁అసెంబ్లీ ▁పోలింగ్ ▁స్టేషన్ , ▁జనన ▁మరణాల ▁నమోదు ▁కార్యాలయం ▁ఉన్నాయి . ▁ఆటల ▁మైదానం ▁గ్రామం ▁నుండి ▁5 ▁నుండి ▁10 ▁కి . మీ . ▁దూరంలో ▁ఉంది . ▁సినిమా ▁హాలు , ▁గ్రంథాలయం , ▁పబ్లిక్ ▁రీడింగ్ ▁రూం ▁గ్రామం ▁నుండి ▁5 ▁నుండి ▁10 ▁కి . మీ . ▁దూరంలో ▁ఉన్నాయి . ▁గ్రామంలో ▁గృహావసరాల ▁నిమిత్తం ▁విద్యుత్ ▁సరఫరా ▁వ్యవస్థ ▁ఉంది . ▁రోజుకు ▁7 ▁గంటల ▁పాటు ▁వ్యవసాయానికి , ▁10 ▁గంటల ▁పాటు ▁వాణిజ్య ▁అవసరాల ▁కోసం ▁కూడా ▁విద్యుత్ ▁సరఫరా ▁చేస్తున్నారు . ▁జిల్ల ు ంద లో ▁భూ ▁వినియోగం ▁కింది ▁విధంగా ▁ఉంది : ▁జిల్ల ు ంద లో ▁వ్యవసాయానికి ▁నీటి ▁సరఫరా ▁కింది ▁వనరుల ▁ద్వారా ▁జరుగుతోంది . ▁జిల్ల ు ంద లో ▁ఈ ▁కింది ▁వస్తువులు ▁ఉత్పత్తి ▁అవుతున్నాయి . ▁వరి , ▁పెసర,▁x x bo s ▁హరి పురము , ▁ఆంధ్ర ▁ప్రదేశ్ ▁రాష్ట్రములో ని ▁కృష్ణా ▁జిల్లా , ▁కోడూరు ▁మండలం ▁లోని ▁గ్రామం . ▁సముద్రమట్టానికి ▁7 ▁మీ . ఎత్తు ▁కమ్మ న మొ లు , ▁కోడూరు , ▁మంద పాక ల , ▁కృష్ణ పురం , ▁లింగ ా రెడ్డిపాలెం ▁ అవనిగడ్డ , ▁మోపిదేవి , ▁నాగ ాయ లక , ▁చల్లపల్లి ▁నాగాయలంక , ▁ అవనిగడ్డ ▁నుండి ▁రోడ్దురవాణా ▁సౌకర్యం ▁ఉంది . ▁రైల్వేస్టేషన్ ; ▁గుంటూరు ▁82 ▁కి . మీ ▁ఈ ▁వూరి లో ▁1950 ▁వ ▁సంవత్సరములో ▁స్థాపించబడిన ▁ఈ ▁ఉన్నత ▁పాఠశాలలో , ▁ఉల్లి పాలెం , ▁కోడూరు , ▁స్వతంత్ర పురం , ▁నరసింహ ాపురం ▁( కో డూరు ), ▁పరుచూరి వారిపాలెం ▁తదితర ▁గ్రామాల ▁నుండి ▁పిల్లలు ▁వచ్చి , ▁చదువ ుకొంటూ ▁ఉంటారు . ▁ప్రతి ▁సంవత్సరము ▁ఆ ▁స్కూలు కి ▁7 వ ▁తరగతి ▁పరీక్షల లో ▁మండలంలో ▁ప్రథమ ▁స్థానం ▁రావటం ▁ఈ ▁పాఠశాల ▁ప్రత్యేకత . ▁ఊర ▁చెరువు . ▁ఈ ▁గ్రామం ▁ఉల్లి పాలెం ▁పంచ ాయి తి ▁పరిధిలో ▁ఉంది . ▁ఈ ▁గ్రామంలో ని ▁శ్రీ ▁రామ ▁మంది ర మునందు ▁ప్రతి ▁సంవత్సరం ▁జరిగే ▁వేడుక ▁శ్రీరామనవమి . 1990 ▁నుండి ▁ఆ ▁వూ ళ్ళ ో ని ▁కొందరు ▁కలసి ▁యువజన ▁సంఘము గా ▁ఏర్పడి ▁శ్రీరామ ▁నవమి ▁ఉత్సవాలు ▁ప్రతి ▁సంవత్సరం ▁ఘనంగా ▁చెయ్యటం ▁పరిపాటి . ▁ఇది ▁ఒక ▁చిన్న ▁అందమైన ▁పల్లెటూరు . ▁పచ్చని ▁పైరు ▁పంటల తో ▁కళ కళ లాడ ుతుంటుంది .,▁x x bo s ▁చంద్ర మోహన్ ▁గా ▁ప్రసిద్ధ ులైన ▁మల్లంపల్లి ▁చంద్రశేఖర ▁రావు ▁తెలుగు ▁సినిమా ▁రంగంలో ▁ఎన్నో ▁విలక్షణమైన ▁పాత్రలు ▁పోషించిన ▁నటుడు . ▁1966 లో ▁రంగుల రాట్ నం ▁చిత్రంతో ▁ఇతని ▁సినీ ▁ప్రస్థానం ▁ఆరంభ మైంది . ▁అప్పటినుండి ▁సహ నాయకుడి గా , ▁నాయకుడు గా , ▁హాస్య నట ునిగా , ▁క్యా రె క్టర్ ▁యా క్టర్ ▁గా ▁ఎన్నో ▁వైవిధ్యమైన ▁పాత్రలు ▁పోషించాడు . ▁ప్రధానంగా ▁కామెడీ ▁పాత్రల ▁ద్వారా ▁చంద్ర మోహన్ ▁ప్రేక్షకులకు ▁చిరకాల ం ▁గుర్తు ంటాడు . ▁క్రొత్త ▁హీరో యన్ ▁లకు ▁లక్క ీ ▁హీరోగా ▁చంద్ర మోహన్ ▁ను ▁పేర్కొంటారు . ▁సిరి సి రి ము వ్వ లో ▁జయ ప్రద , ▁పద హార ేళ్ళ ▁వయసులో ▁శ్రీదేవి ▁తమ ▁నట జీవితం ▁ప్రా ంభ ంలో ▁చంద్ర మోహన్ ▁తో ▁నటించి ▁తరువాత ▁తారా ప ధం లో ▁ఉన్నత ▁స్థాయికి ▁చేరుకున్నారు . ▁\" ఈయన ే ▁కనుక ▁ఒక ▁అడుగు ▁పొడుగు ▁ఉంటే ▁సూపర్ ▁స్టార్ ▁అయి ఉండ ే ▁వారు \" ▁అని ▁సినీ అ భిమాన ులు ▁భావిస్తారు . ▁చంద్ర మోహన్ ▁కృష్ణా ▁జిల్లాకు ▁చెందిన ▁పమిడిముక్కల ▁గ్రామంలో ▁1942 , ▁మే ▁23 న ▁మల్లంపల్లి ▁వీరభద్ర శాస్త్రి , ▁శాం భ వి ▁దంపతులకు ▁జన్మించారు . ▁ఇతని ▁అసలు ▁పేరు ▁మల్లంపల్లి ▁చంద్రశేఖర్ ▁రావు . ▁వీరు ▁వ్యవసాయ ▁కళాశాల , ▁బాపట్ల లో ▁బి . యస్ . సి . ▁పూర్తిచేసి , ▁కొంతకాలం ▁ఏలూరులో ▁పనిచేశారు . ▁సినిమాలలో ▁నటించ ాలనే ▁ఉత్సాహం తో ▁మద్రాసు ▁చేరి ▁ప్రయత్నించారు . ▁హీరోగా ▁రంగుల రాట్ నం ▁(19 66 ) ▁చిత్రంతో ▁మొదలుపెట్టి , ▁హాస్య ▁నటుడిగా ▁మారి ▁తర్వాత ▁కాలంలో ▁కా రె క్టర్ ▁నటుడిగా ▁చిత్ర సీమ లో ▁స్థిరపడ్డారు . ▁చంద్ర మోహన్ ▁నటించిన ▁కొన్ని ▁చిత్రాలు ▁సుఖ దు ః ఖా లు , ▁పద హార ేళ్ళ ▁వయసు , ▁సిరి సి రి ము వ్వ , ▁సీతా మా లక్ష్మి ▁మొదలైనవి ▁హిట్ ▁కొట్ట ాయి . ▁ఆ ▁కాలంలో ▁వీరి తో ▁ఎందరో ▁కథానాయికగా ▁నటించి ▁అగ్ర స్థాన ాన్ని ▁చేరుకున్నారు . ▁శ్రీదేవి , ▁మంజ ుల , ▁రా ధిక , ▁జయ ప్రద , ▁జయ సు ధ , ▁ప్రభ , ▁విజయ శాంతి , ▁తాళ్ళ ూరి ▁రామేశ్వర ి ▁మొదలైన ▁వారు ▁ఈ ▁కోవ కు ▁చెందినవారు . ▁ఈయన ▁భార్య ▁పేరు ▁జలం ధర . ▁ఈమె ▁మంచి ▁రచయిత్రి . ▁కొన్ని ▁కథా ▁సంకలన ాలను ▁కూడా ▁వెలువరించ డం ▁జరిగింది .,▁x x bo s ▁దక్షిణ ▁విజయ పురి ▁గుంటూరు ▁జిల్లా , ▁మాచర్ల ▁మండలానికి ▁చెందిన ▁గ్రామం . ▁ఇది ▁మండల ▁కేంద్రమైన ▁మాచర్ల ▁నుండి ▁27 ▁కి . ▁మీ . ▁దూరంలో ▁ఉంది . ▁2011 ▁భారత ▁జనగణన ▁గణాంకాల ▁ప్రకారం ▁ఈ ▁గ్రామం ▁17 63 ▁ఇళ్లతో , ▁83 93 ▁జనాభాతో ▁47 04 ▁హెక్టార్లలో ▁విస్తరించి ▁ఉంది . ▁గ్రామంలో ▁మగవారి ▁సంఖ్య ▁45 97 , ▁ఆడవారి ▁సంఖ్య ▁37 96 . ▁షెడ్యూల్డ్ ▁కులాల ▁సంఖ్య ▁22 91 ▁కాగా ▁షెడ్యూల్డ్ ▁తెగల ▁సంఖ్య ▁13 19 . ▁గ్రామం ▁యొక్క ▁జనగణన ▁లొకేషన్ ▁కోడ్ ▁58 97 98 [1]. పిన్ ▁కోడ్ : ▁522 42 6. ▁ఎస్ . టి . డి . కోడ్ ▁= ▁086 47 . ▁ఇది ▁నాగార్జున ▁సాగర్ ▁ఆనకట్ట కు ▁దక్షిణం ▁వైపు న్న ▁నివాస ▁ప్రాంతం . ▁గ్రామంలో ▁ఒక ▁బాలబడి ▁ఉంది . ▁ప్రభుత్వ ▁ప్రాథమిక ▁పాఠశాలలు ▁ఆరు , ▁ప్రభుత్వ ▁మాధ్యమిక ▁పాఠశాలలు ▁ఐదు , ▁ప్రైవేటు ▁మాధ్యమిక ▁పాఠశాల ▁ఒకటి ▁ఉన్నాయి . ▁2 ▁ప్రభుత్వ ▁జూనియర్ ▁కళాశాలలు ▁ఒక ▁ప్రభుత్వ ▁ఆర్ట్స్ , ▁సైన్స్ , ▁డిగ్రీ ▁కళాశాల ▁ఉన్నాయి . సమీప ▁ఇంజనీరింగ్ ▁కళాశాల ▁అ లుగు రాజు పల్లిలో ▁ఉంది . సమీప ▁వైద్య ▁కళాశాల ▁గుంటూరులోను , ▁మేనేజిమెంటు ▁కళాశాల , ▁పాలీటెక్నిక్ ▁లు ▁అ లుగు రాజు పల్లి ▁లోనూ ▁ఉన్నాయి . ▁సమీప ▁వృత్తి ▁విద్యా ▁శిక్షణ ▁పాఠశాల , ▁అనియత ▁విద్యా ▁కేంద్రం ▁మాచర్ల లోను , ▁దివ్యాంగ ుల ▁ప్రత్యేక ▁పాఠశాల ▁గుంటూరు లోనూ ▁ఉన్నాయి . ▁ఈ ▁కళాశాల కు ▁చెందిన ▁వాణిజ్య ▁శాస్త్రం ▁అధ్యాపకులు ▁శ్రీ ▁ఎం . వి . రమణ , ▁2015, ▁సెప్టెంబరు -5 వ ▁తేదీనాడు , ▁ఉపాధ్యాయ ▁దినోత్సవం ▁సందర్భంగా ▁విశాఖపట్నంలో ▁నిర్వహించిన ▁ఒక ▁కార్యక్రమంలో , ▁ఆంధ్రప్రదేశ్ ▁రాష్ట్ర ▁ముఖ్యమంత్రి ▁నారా ▁చంద్రబాబునాయుడు ▁చేతులమీదుగా , ▁ఉత్తమ ▁ఉపాధ్యాయ ▁పురస్కారం ▁అందుకున్నారు . ▁[10] ▁ఇటీవల ▁కృష్ణా ▁జిల్లాలోని ▁కేత న కొండలో ▁నిర్వహించిన ▁రాష్ట్రస్థాయి ▁రెజ్లింగ్ ▁పోటీలలో , ▁ఈ ▁పాఠశాలలో ▁9 వ ▁తరగతి ▁చదువుచున్న ▁ఎన్ . విజయ కుమారి ▁40 ▁కె . జి . ల ▁విభాగం లోనూ , ▁10 వ ▁తరగతి ▁చదువుచున్న ▁వై . కవి త ▁43 ▁కె . జి . ల ▁విభాగం లోనూ ▁ప్రథమ ▁బహుమతి ▁సాధించి , ▁స్వర్ణ పత కం ▁సాధించి , ▁జాతీయస్థాయి ▁పోటీ లకు ▁ఎంపికైన ారు . ▁ఈ ▁పాఠశాల కే ▁చెందిన ▁10 వ ▁తరగతి ▁చదువుచున్న ▁మరియొక ▁విద్యార్థి ని , ▁వి . కె జియా , ▁ఈ ▁పోటీలలో ▁65 ▁కె . జి . ల ▁విభాగంలో ▁ద్వితీయ స్థానం ▁పొందినది . ▁[11] ఈ ▁పాఠశాలలో ▁8 వ ▁తరగతి ▁చదువుచున్న ▁ప్ర మీ లా బాయి , ▁9 వ ▁తరగతి ▁చదువుచున్న ▁సువార్త , ▁పదవ ▁తరగతి ▁చదువుచున్న ▁పుష్ప ల త ▁అను ▁విద్యార్థి ను లు , ▁బేస్ ▁బాల్ ▁జాతీయ పోటీ లకు ▁అండర్ -17 ▁విభాగంలో ▁ఎంపికైన ారు . ▁ప్రస్తుతం ▁నెల్లూరు లోని ▁శిక్షణా ▁శిబిరం లో ▁శిక్షణ ▁పొంద ుచున్న ▁వీరు , ▁2016, ▁ఫిబ్రవరి -3 ▁నుండి ▁6 ▁వరకు , ▁ఒడిషా ▁రాష్ట్రంలోని ▁భువనేశ్వర్ ▁లో ▁నిర్వహించ ు ▁జాతీయస్థాయి ▁పోటీలలో ▁పాల్గొంటారు . ▁[14] ▁కృష్ణా ▁తీరం ▁సాగర్ ▁జలాశయం ▁వెంట ▁ఉన్న ఈ ▁గ్రామములో ని ▁జిల్లా ▁పరిషత్తు ▁ఉన్నత ▁పాఠశాల ▁అభివృద్ధికి ▁దాత లు , ▁పూర్వ ▁విద్యార్థులు ▁ఎంతో ▁కృషి ▁చేశారు . ▁ఈ ▁పాఠశాల ▁కార్ పొ రేటు ▁పాఠశాల లను ▁తల పించే లాగా ▁ఉంది . ▁ప్రస్తుతం ▁300 ▁మంది ▁విద్యార్థులు ▁ఈ ▁పాఠశాలలో ▁విద్యనభ్యసించ ుచున్నారు . ▁పాఠశాలలో ▁అన్ని ▁సౌకర్యాల ూ ▁ఉన్నాయి . ▁పదవ ▁తరగతి లో ▁గూడా ▁ఉత్తీర్ణత ా ▁శాతం ▁చాలా ▁బాగు న్నది . ▁ఈ ▁పాఠశాల ▁స్వర్ణోత్సవ ాలు , ▁2013 ▁డిసెంబరు ▁13 , 14 ▁తేదీ లలో ▁జరిగిన వి . ▁400 ▁మందికి పై గా ▁పూర్వ ▁విద్యార్థులు ▁ఈ ▁కార్య క్ రామ ానికి ▁హాజరై , ▁తమ ▁బాల్య ▁స్ మృత ులను ▁నె మరు ▁వేసుకున్న ారు . ▁ఆనాటి ▁గురువుల తోపాటు ▁ప్రస్తుత ▁ప్రధానోపాధ్యాయు లు ▁శ్రీ ▁పందిరి ▁వెంకటేశ్వర్లు ని ▁సన్మానించ ారు . ▁ఈ ▁సందర్భంగా ▁పూర్వ ▁విద్యార్థులకు ▁సాంస్కృతిక ▁కార్య ▁కలాపాల ు , ▁ఆటల ▁పోటీలు ▁నిర్వహించారు . ▁పేద ▁విద్యార్థుల ▁అభివృద్ధికి ▁తమ ▁వంతు ▁కృషి ▁చేస్తామని ▁ప్రతి న ▁పూన ారు . ▁ఈ ▁పాఠశాలలో ▁2014, ▁జూలై -2 , ▁బుధవారం ▁నాడు , ▁దాత లు , ▁పూర్వ విద్య ార్థ ుల ▁వితరణ తో ▁ఒక ▁శుద్ధ జల కేంద్ర ాన్ని ▁( m ine ral <unk> ter ▁plan t ) ▁ప్రారంభించారు . ▁[2] ▁ <unk> ▁[6] ▁ఈ ▁పాఠశాల ▁రజత ోత్సవ ▁వేడుకలు ▁2015, ▁ఫిబ్రవరి - 25 వ ▁తేదీనాడు ▁ఘనంగా ▁నిర్వహించారు . ▁[7] ▁ప్రాథమిక ▁ఆరోగ్య ▁కేంద్రం , ▁ప్రాథమిక ▁ఆరోగ్య ▁ఉప ▁కేంద్రం ▁గ్రామం ▁నుండి ▁5 ▁నుండి ▁10 ▁కి . మీ . ▁దూరంలో ▁ఉన్నాయి . సమీప ▁సామాజిక ▁ఆరోగ్య ▁కేంద్రం , ▁మాతా ▁శిశు ▁సంరక్షణ ▁కేంద్రం , ▁టి . ▁బి ▁వైద్యశాల ▁గ్రామం ▁నుండి ▁10 ▁కి . మీ . ▁కంటే ▁ఎక్కువ ▁దూరంలో ▁ఉన్నాయి . అ లో పతి ▁ఆసుపత్రి , ▁ప్రత్యామ్నాయ ▁ఔషధ ▁ఆసుపత్రి , ▁డిస్పెన్సరీ , ▁పశు ▁వైద్యశాల , ▁సంచార ▁వైద్య ▁శాల , ▁కుటుంబ ▁సంక్షేమ ▁కేంద్రం ▁గ్రామం ▁నుండి ▁10 ▁కి . మీ . ▁కంటే ▁ఎక్కువ ▁దూరంలో ▁ఉన్నాయి . ▁గ్రామంలో ▁2 ▁ప్రభుత్వ ేతర ▁వైద్య ▁సౌకర్యాలున్నాయి . ▁ఇద్దరు ▁డిగ్రీ ▁లేని ▁డాక్టర్లు ▁ఉన్నారు . ▁గ్రామంలో ▁కుళాయిల ▁ద్వారా ▁రక్షిత ▁మంచినీటి ▁సరఫరా ▁జరుగుతోంది . ▁గ్రామంలో ▁ఏడాది ▁పొడుగునా ▁చేతిపంపుల ▁ద్వారా ▁నీరు ▁అందుతుంది . ▁కాలువ ▁/ ▁ వాగు ▁/ ▁నది ▁ద్వారా ▁గ్రామానికి ▁నీటిపారుదల ▁వసతి ▁ఉంది . ▁చెరువు ▁నీటి ▁సౌకర్యం ▁ఉంది . ▁మురుగునీరు ▁బహిరంగ ▁కాలువల ▁ద్వారా ▁ప్రవహిస్తుంది . ▁మురుగు ▁నీటిని ▁నేరుగా ▁జలవనరుల్లోకి ▁వదులుతున్న ారు . గ్రామంలో ▁సంపూర్ణ ▁పారిశుధ్య ▁పథకం ▁అమలవుతోంది . సామాజిక ▁మరుగుదొడ్డి ▁సౌకర్యం ▁లేదు . ఇంటింటిక ీ ▁తిరిగి ▁వ్యర్థాలను ▁సేకరించే ▁వ్యవస్థ ▁లేదు . సామాజిక ▁బయోగ్యాస్ ▁ఉత్పాదక ▁వ్యవస్థ ▁లేదు . ▁చెత్తను ▁వీధుల ▁పక్కనే ▁పారబోస్తారు . ▁విజయ పురి ▁దక్షిణ లో ▁పోస్టాఫీసు ▁సౌకర్యం ▁ఉంది . స బ్ ▁పోస్టాఫీసు ▁సౌకర్యం ▁గ్రామానికి ▁5 ▁కి . మీ . ▁లోపు ▁దూరంలో ▁ఉంది . పో స్ట్ ▁అండ్ ▁టెలిగ్రాఫ్ ▁ఆఫీసు ▁గ్రామం ▁నుండి ▁10 ▁కి . మీ . కి ▁పైబడిన ▁దూరంలో ▁ఉంది . ▁లాండ్ ▁లైన్ ▁టెలిఫోన్ , ▁పబ్లిక్ ▁ఫోన్ ▁ఆఫీసు , ▁మొబైల్ ▁ఫోన్ , ▁ఇంటర్నెట్ ▁కెఫె ▁/ ▁సామాన్య ▁సేవా ▁కేంద్రం , ▁ప్రైవేటు ▁కొరియర్ ▁మొదలైన ▁సౌకర్యాలు ▁ఉన్నాయి . గ్రామానికి ▁సమీప ▁ప్రాంతాల ▁నుండి ▁ప్రభుత్వ ▁రవాణా ▁సంస్థ ▁బస్సులు ▁ , ▁ప్రైవేటు ▁బస్సులు ▁తిరుగుతున్నాయి . ▁సమీప ▁గ్రామాల ▁నుండి ▁ఆటో ▁సౌకర్యం ▁కూడా ▁ఉంది . వ్యవసాయ ం ▁కొరకు ▁వాడేందుకు ▁గ్రామంలో ▁ట్రాక్టర్లు న్నాయి . ▁రైల్వే ▁స్టేషన్ ▁గ్రామం ▁నుండి ▁10 ▁కి . మీ . కి ▁పైబడిన ▁దూరంలో ▁ఉంది . రాష్ట్ర ▁రహదారి , ▁ప్రధాన ▁జిల్లా ▁రహదారి , ▁జిల్లా ▁రహదారి ▁గ్రామం ▁గుండా ▁పోతున్నాయి . ▁జాతీయ ▁రహదారి ▁గ్రామం ▁నుండి ▁10 ▁కి . మీ . కి ▁పైబడిన ▁దూరంలో ▁ఉంది . ▁గ్రామంలో ▁తారు ▁రోడ్లు , ▁కంకర ▁రోడ్లు , ▁మట్టిరోడ్ల ూ ▁ఉన్నాయి . ▁గ్రామంలో ▁ఏటీఎమ్ , ▁వాణిజ్య ▁బ్యాంకు ▁ఉన్నాయి . ▁గ్రామంలో ▁స్వయం ▁సహాయక ▁బృందం , ▁పౌర ▁సరఫరాల ▁కేంద్రం , ▁వ్యవసాయ ▁మార్కెటింగ్ ▁సొసైటీ ▁ఉన్నాయి . ▁వ్యవసాయ ▁పరపతి ▁సంఘం ▁గ్రామం ▁నుండి ▁5 ▁నుండి ▁10 ▁కి . మీ . ▁దూరంలో ▁ఉంది . సహకార ▁బ్యాంకు ▁గ్రామం ▁నుండి ▁10 ▁కి . మీ . కి ▁పైబడిన ▁దూరంలో ▁ఉంది . వారం ▁వారం ▁సంత ▁గ్రామం ▁నుండి ▁10 ▁కి . మీ . కి ▁పైబడిన ▁దూరంలో ▁ఉంది . ▁గ్రామంలో ▁అంగన్ ▁వాడీ ▁కేంద్రం , ▁ఇతర ▁పోషకాహార ▁కేంద్రాలు , ▁ఆశా ▁కార్యకర్త ▁ఉన్నాయి . ▁గ్రామంలో ▁ఆటల ▁మైదానం , ▁సినిమా ▁హాలు , ▁గ్రంథాలయం , ▁పబ్లిక్ ▁రీడింగ్ ▁రూం ▁ఉన్నాయి . ▁గ్రామంలో ▁వార్తాపత్రిక ▁పంపిణీ ▁జరుగుతుంది . ▁అసెంబ్లీ ▁పోలింగ్ ▁స్టేషన్ , ▁జనన ▁మరణాల ▁నమోదు ▁కార్యాలయం ▁ఉన్నాయి . ▁సమీకృత ▁బాలల ▁అభివృద్ధి ▁పథకం ▁గ్రామం ▁నుండి ▁10 ▁కి . మీ . కి ▁పైబడిన ▁దూరంలో ▁ఉంది . ▁గ్రామంలో ▁గృహావసరాల ▁నిమిత్తం ▁విద్యుత్ ▁సరఫరా ▁వ్యవస్థ ▁ఉంది . ▁రోజుకు ▁7 ▁గంటల ▁పాటు ▁వ్యవసాయానికి , ▁18 ▁గంటల ▁పాటు ▁వాణిజ్య ▁అవసరాల ▁కోసం ▁కూడా ▁విద్యుత్ ▁సరఫరా ▁చేస్తున్నారు . ▁విజయ పురి ▁దక్షిణ లో ▁భూ ▁వినియోగం ▁కింది ▁విధంగా ▁ఉంది : ▁విజయ పురి ▁దక్షిణ లో ▁వ్యవసాయానికి ▁నీటి ▁సరఫరా ▁కింది ▁వనరుల ▁ద్వారా ▁జరుగుతోంది ▁2013 ▁జూలైలో ▁ఈ ▁గ్రామ ▁పంచాయతీకి ▁నిర్వహించిన ▁ఎన్నికలలో ▁శ్రీ ▁దోస పాటి ▁అంజ య్య , ▁సర్పంచిగా ▁ఎన్నికైనారు . ▁[9] ▁వరి , ▁అపరాలు , ▁కాయగూరలు ▁వ్యవసాయం , ▁వ్యవసాయాధారిత ▁వృత్తులు ▁దక్షిణ ▁విజయ పురి ▁గ్రామానికి ▁చెందిన ▁వీరు , ▁ప్రస్తుతం ▁తెలంగాణా ▁రాష్ట్రంలోని ▁మహబూబ్ ▁నగర్ ▁లోని ▁పాలమూరు ▁విశ్వవిద్యాలయం లో ▁అసిస్టెంట్ ▁ప్రొ ఫె సరు గా ▁ఒప్పంద ▁ప్రాతిపదికన ▁విధులు ▁నిర్వహించుచున్న ారు . ▁ఈ ▁ఫెలోషిప్ ▁క్రింద ▁మంజ ూర య్యే ▁నిధులతో , ▁ఇటీవల ▁భారత ▁ప్రభుత్వం ▁ప్రవేశపెట్టిన ▁ఇ - జాతీయ ▁వ్యవసాయ ▁మార్కెట్ ▁అను ▁అంశంపై ▁పరిశోధన ▁చేస్తున్నారు . ▁వీరు ▁ప్రతిష్ఠాత్మక ▁జాతీయ ▁యు . జి . సి . ▁పోస్ట్ ▁డా క్ టొ రేట్ ▁ఫెలోషిప్ ▁కు , ▁కామర్స్ ▁విభాగంలో , ▁ఉస్మానియా ▁విశ్వవిద్యాలయం ▁తరఫున ▁ఎంపికైన ారు . ▁జాతీయస్థాయి లో ▁మొత్తం ▁ముగ్గురి ని ▁ఎంపిక చేయ గా , ▁ఆ ▁ముగ్గురి లో ▁వీర ొక్క రు . ▁తెలంగాణా ▁రాష్ట్రం ▁నుండి ▁ఎంపికైన ▁ఏకైక ▁వ్యక్తి ▁ఈయన ▁కావడం ▁గమనార్హం . ▁వీరు ▁వ్యవసాయ ▁మార్కెట్ ▁మీద ▁పరిశోధనలు ▁చేసి , ▁దానిని ▁రైతులకు ▁మరింత ▁ఉపయోగకరంగా ▁విస్తరించ ేలా గా ▁చేయాలని ▁వీరి ▁సంకల్పం . ▁[16] ▁2001 ▁వ . సంవత్సరం ▁జనాభా ▁లెక్కల ▁ప్రకారం ▁గ్రామ ▁జనాభా ▁8 , 12 4 .[2] ▁ఇందులో ▁పురుషుల ▁సంఖ్య ▁4 , 3 34 , ▁స్త్రీల ▁సంఖ్య ▁3, 7 90 , ▁గ్రామంలో ▁నివాస ▁గృహాలు ▁1,6 43 ▁ఉన్నాయి .,▁x x bo s ▁కందుకూరు , ▁తెలంగాణ ▁రాష్ట్రం , ▁నల్గొండ ▁జిల్లా , ▁గుండ్ల పల్లి ▁మండలంలోని ▁గ్రామం .[1] ▁ఇది ▁మండల ▁కేంద్రమైన ▁గుండ్ల పల్లి ▁నుండి ▁13 ▁కి . ▁మీ . ▁దూరం ▁లోను , ▁సమీప ▁పట్టణమైన ▁నల్గొండ ▁నుండి ▁80 ▁కి . ▁మీ . ▁దూరంలోనూ ▁ఉంది . ▁2011 ▁భారత ▁జనగణన ▁గణాంకాల ▁ప్రకారం ▁ఈ ▁గ్రామం ▁7 66 ▁ఇళ్లతో , ▁32 08 ▁జనాభాతో ▁21 20 ▁హెక్టార్లలో ▁విస్తరించి ▁ఉంది . ▁గ్రామంలో ▁మగవారి ▁సంఖ్య ▁16 09 , ▁ఆడవారి ▁సంఖ్య ▁15 99 . ▁షెడ్యూల్డ్ ▁కులాల ▁సంఖ్య ▁10 85 ▁కాగా ▁షెడ్యూల్డ్ ▁తెగల ▁సంఖ్య ▁121 . ▁గ్రామం ▁యొక్క ▁జనగణన ▁లొకేషన్ ▁కోడ్ ▁57 71 92 [2]. పిన్ ▁కోడ్ : ▁50 82 58 . ▁గ్రామంలో ▁ప్రభుత్వ ▁ప్రాథమిక ▁పాఠశాలలు ▁మూడు , ▁ప్రైవేటు ▁ప్రాథమిక ▁పాఠశాలలు ▁రెండు , ▁ప్రభుత్వ ▁ప్రాథమికోన్నత ▁పాఠశాల ▁ఒకటి ▁ , ▁ప్రభుత్వ ▁మాధ్యమిక ▁పాఠశాల ▁ఒకటి ▁ఉన్నాయి . సమీప ▁బాలబడి ▁గుండ్ల పల్లిలో ▁ఉంది . సమీప ▁జూనియర్ ▁కళాశాల ▁కా మే పల్లిలోను , ▁ప్రభుత్వ ▁ఆర్ట్స్ ▁/ ▁సైన్స్ ▁డిగ్రీ ▁కళాశాల , ▁ఇంజనీరింగ్ ▁కళాశాల ▁లు ▁దేవరకొండ లోనూ ▁ఉన్నాయి . ▁సమీప ▁వైద్య ▁కళాశాల ▁న ార్కట్ ▁ పల్లిలోను , ▁పాలీటెక్నిక్ ▁దేవరకొండ లోను , ▁మేనేజిమెంటు ▁కళాశాల ▁నల్గొండ లోనూ ▁ఉన్నాయి . ▁సమీప ▁వృత్తి ▁విద్యా ▁శిక్షణ ▁పాఠశాల , ▁అనియత ▁విద్యా ▁కేంద్రం ▁దేవరకొండ లోను , ▁దివ్యాంగ ుల ▁ప్రత్యేక ▁పాఠశాల ▁నల్గొండ ▁లోనూ ▁ఉన్నాయి . ▁కందుకూర్ లో ▁ఉన్న ▁ఒక ▁ప్రాథమిక ▁ఆరోగ్య ▁ఉప ▁కేంద్రంలో ▁డాక్టర్లు ▁లేరు . ▁ముగ్గురు ▁పారామెడికల్ ▁సిబ్బంది ▁ఉన్నారు . ▁ఒక ▁సంచార ▁వైద్య ▁శాలలో ▁డాక్టర్లు ▁లేరు . ▁ముగ్గురు ▁పారామెడికల్ ▁సిబ్బంది ▁ఉన్నారు . ▁పశు ▁వైద్యశాల ▁గ్రామం ▁నుండి ▁5 ▁నుండి ▁10 ▁కి . మీ . ▁దూరంలో ▁ఉంది . ▁సమీప ▁సామాజిక ▁ఆరోగ్య ▁కేంద్రం , ▁ప్రాథమిక ▁ఆరోగ్య ▁కేంద్రం , ▁మాతా ▁శిశు ▁సంరక్షణ ▁కేంద్రం , ▁టి . ▁బి ▁వైద్యశాల ▁గ్రామం ▁నుండి ▁10 ▁కి . మీ . ▁కంటే ▁ఎక్కువ ▁దూరంలో ▁ఉన్నాయి . ▁అలోపతి ▁ఆసుపత్రి , ▁ప్రత్యామ్నాయ ▁ఔషధ ▁ఆసుపత్రి , ▁డిస్పెన్సరీ , ▁కుటుంబ ▁సంక్షేమ ▁కేంద్రం ▁గ్రామం ▁నుండి ▁10 ▁కి . మీ . ▁కంటే ▁ఎక్కువ ▁దూరంలో ▁ఉన్నాయి . ▁గ్రామంలో ఒక ▁ప్రైవేటు ▁వైద్య ▁సౌకర్యం ▁ఉంది . ▁డిగ్రీ ▁లేని ▁డాక్టరు ▁ఒకరు ▁ఉన్నారు . ▁గ్రామంలో ▁కుళాయిల ▁ద్వారా ▁శుద్ధి ▁చేయని ▁నీరు ▁సరఫరా ▁అవుతోంది . ▁గ్రామంలో ▁ఏడాది ▁పొడుగునా ▁చేతిపంపుల ▁ద్వారా ▁నీరు ▁అందుతుంది . ▁బోరుబావుల ▁ద్వారా ▁కూడా ▁ఏడాది ▁పొడుగునా ▁నీరు ▁అందుతుంది . ▁మురుగునీరు ▁బహిరంగ ▁కాలువల ▁ద్వారా ▁ప్రవహిస్తుంది . ▁మురుగునీరు ▁బహిరంగంగా , ▁కచ్చా ▁కాలువల ▁ద్వారా ▁కూడా ▁ప్రవహిస్తుంది . ▁మురుగునీటి ని ▁నేరుగా ▁జలవనరుల్లోకి ▁వదులుతున్న ారు . ▁గ్రామంలో ▁సంపూర్ణ ▁పారిశుధ్య ▁పథకం ▁అమలవుతోంది . ▁సామాజిక ▁మరుగుదొడ్డి ▁సౌకర్యం ▁లేదు . ▁ఇంటింటిక ీ ▁తిరిగి ▁వ్యర్థాలను ▁సేకరించే ▁వ్యవస్థ ▁లేదు . ▁సామాజిక ▁బయోగ్యాస్ ▁ఉత్పాదక ▁వ్యవస్థ ▁లేదు . ▁చెత్తను ▁వీధుల ▁పక్కనే ▁పారబోస్తారు . ▁కందుకూర్ లో ▁సబ్ ▁పోస్టాఫీసు ▁సౌకర్యం ▁ఉంది . ▁పోస్టాఫీసు ▁సౌకర్యం , ▁పోస్ట్ ▁అండ్ ▁టెలిగ్రాఫ్ ▁ఆఫీసు ▁గ్రామం ▁నుండి ▁10 ▁కి . మీ . కి ▁పైబడిన ▁దూరంలో ▁ఉన్నాయి . ▁లాండ్ ▁లైన్ ▁టెలిఫోన్ , ▁పబ్లిక్ ▁ఫోన్ ▁ఆఫీసు , ▁మొబైల్ ▁ఫోన్ ▁మొదలైన ▁సౌకర్యాలు ▁ఉన్నాయి . ▁ఇంటర్నెట్ ▁కెఫె ▁/ ▁సామాన్య ▁సేవా ▁కేంద్రం , ▁ప్రైవేటు ▁కొరియర్ ▁గ్రామం ▁నుండి ▁10 ▁కి . మీ . కి ▁పైబడిన ▁దూరంలో ▁ఉన్నాయి . ▁గ్రామానికి ▁సమీప ▁ప్రాంతాల ▁నుండి ▁ప్రభుత్వ ▁రవాణా ▁సంస్థ ▁బస్సులు ▁తిరుగుతున్నాయి . ▁సమీప ▁గ్రామాల ▁నుండి ▁ఆటో ▁సౌకర్యం ▁కూడా ▁ఉంది . ▁వ్యవసాయం ▁కొరకు ▁వాడేందుకు ▁గ్రామంలో ▁ట్రాక్టర్లు న్నాయి . ▁ప్రైవేటు ▁బస్సు ▁సౌకర్యం ▁గ్రామానికి ▁5 ▁నుండి ▁10 ▁కి . మీ . ▁దూరంలో ▁ఉంది . ▁రైల్వే ▁స్టేషన్ ▁గ్రామం ▁నుండి ▁10 ▁కి . మీ . కి ▁పైబడిన ▁దూరంలో ▁ఉంది . ▁జిల్లా ▁రహదారి ▁గ్రామం ▁గుండా ▁పోతోంది . ▁రాష్ట్ర ▁రహదారి ▁గ్రామం ▁నుండి ▁5 ▁కి . మీ . ▁లోపు ▁దూరంలో ▁ఉంది . ▁ప్రధాన ▁జిల్లా ▁రహదారి ▁గ్రామం ▁నుండి ▁5 ▁నుండి ▁10 ▁కి . మీ . ▁దూరంలో ▁ఉంది . ▁జాతీయ ▁రహదారి ▁గ్రామం ▁నుండి ▁10 ▁కి . మీ . కి ▁పైబడిన ▁దూరంలో ▁ఉంది . ▁గ్రామంలో ▁తారు ▁రోడ్లు , ▁కంకర ▁రోడ్లు , ▁మట్టిరోడ్ల ూ ▁ఉన్నాయి . ▁గ్రామంలో ▁స్వయం ▁సహాయక ▁బృందం , ▁పౌర ▁సరఫరాల ▁కేంద్రం ▁ఉన్నాయి . ▁ఏటీఎమ్ , ▁వాణిజ్య ▁బ్యాంకు , ▁సహకార ▁బ్యాంకు , ▁వ్యవసాయ ▁పరపతి ▁సంఘం ▁గ్రామం ▁నుండి ▁10 ▁కి . మీ . కి ▁పైబడిన ▁దూరంలో ▁ఉన్నాయి . ▁రోజువారీ ▁మార్కెట్ , ▁వారం ▁వారం ▁సంత , ▁వ్యవసాయ ▁మార్కెటింగ్ ▁సొసైటీ ▁గ్రామం ▁నుండి ▁10 ▁కి . మీ . కి ▁పైబడిన ▁దూరంలో ▁ఉన్నాయి . ▁గ్రామంలో ▁సమీకృత ▁బాలల ▁అభివృద్ధి ▁పథకం , ▁అంగన్ ▁వాడీ ▁కేంద్రం , ▁ఇతర ▁పోషకాహార ▁కేంద్రాలు ▁ఉన్నాయి . ▁గ్రామంలో ▁వార్తాపత్రిక ▁పంపిణీ ▁జరుగుతుంది . ▁శాసనసభ ▁పోలింగ్ ▁కేంద్రం , ▁జనన ▁మరణాల ▁నమోదు ▁కార్యాలయం ▁ఉన్నాయి . ▁ఆశా ▁కార్యకర్త ▁గ్రామం ▁నుండి ▁5 ▁కి . మీ . ▁లోపు ▁దూరంలో ▁ఉంది . ▁ఆటల ▁మైదానం ▁గ్రామం ▁నుండి ▁5 ▁నుండి ▁10 ▁కి . మీ . ▁దూరంలో ▁ఉంది . ▁సినిమా ▁హాలు , ▁గ్రంథాలయం , ▁పబ్లిక్ ▁రీడింగ్ ▁రూం ▁గ్రామం ▁నుండి ▁10 ▁కి . మీ . కి ▁పైబడిన ▁దూరంలో ▁ఉన్నాయి . ▁గ్రామంలో ▁గృహావసరాల ▁నిమిత్తం ▁విద్యుత్ ▁సరఫరా ▁వ్యవస్థ ▁ఉంది . ▁రోజుకు ▁7 ▁గంటల ▁పాటు ▁వ్యవసాయానికి , ▁8 ▁గంటల ▁పాటు ▁వాణిజ్య ▁అవసరాల ▁కోసం ▁కూడా ▁విద్యుత్ ▁సరఫరా ▁చేస్తున్నారు . ▁కందుకూర్ లో ▁భూ ▁వినియోగం ▁కింది ▁విధంగా ▁ఉంది : ▁కందుకూర్ లో ▁వ్యవసాయానికి ▁నీటి ▁సరఫరా ▁కింది ▁వనరుల ▁ద్వారా ▁జరుగుతోంది . ▁కందుకూర్ లో ▁ఈ ▁కింది ▁వస్తువులు ▁ఉత్పత్తి ▁అవుతున్నాయి . ▁వరి , ▁వేరుశనగ , ▁కంది\n",
              "y: LMLabelList\n",
              ",,,,\n",
              "Path: /content;\n",
              "\n",
              "Valid: LabelList (16791 items)\n",
              "x: LMTextList\n",
              "▁x x bo s ▁కంప్యూటర్ ▁ఫ్యా న్ ▁అనగా ▁కంప్యూటర్ ▁యొక్క ▁క్రియాశీల ▁శీతలీకరణ ▁కోసం ▁బయట ▁నుండి ▁కంప్యూటర్ ▁లోకి ▁చల్లగా లి ని ▁తీసుకునే ందుకు , ▁కంప్యూటరు లోని ▁వేడి ▁గాలిని ▁బయటకు ▁తో స ేందుకు , ▁లేదా ▁కంప్యూటరు ▁లోని ▁ఒక ▁నిర్దిష్ట ▁భాగాన్ని ▁చల్ల బర చ ుటకు ▁హీట్ ▁సిం క్ ▁అంతటా ▁గాలిని ▁కదిలించ ేందుకు ▁కంప్యూటర్ ▁కేసు కు ▁జత పరచి వున్న ▁లేదా ▁కంప్యూటర్ ▁లోపల ▁ఉన్న ▁ఏదైనా ▁ఫ్యా న్ .,▁x x bo s ▁తూర్పు ▁గోదావరి ▁జిల్లాలో ▁ప్రముఖ ▁వ్యక్తులు ▁సర్ ▁ఆర్ ధర్ ▁కాటన్ , ▁కందుకూరి ▁వీరేశలింగం , ▁మల్ల ా డి ▁సత్య ▁లింగ ▁నాయక ర్ ▁లు . ▁వీరిలో ▁మల్ల ా డి ▁సత్య ▁లింగ ▁నాయక ర్ ▁స్వతంత్ర ము ▁రాక ▁పూర్వము ▁ఆంధ్ర ▁ప్రదేశ్ ▁రాష్ట్రం ▁లోని ▁కాకినాడ ▁పట్టణంలో ▁యం . యస్ . యన్ . ఛా రిటీ స్ ▁అనబడు ▁స్వ ఛ ంద ▁సంస్థ ▁స్థాపనకు ▁మూల ▁పురుషుడు . ▁మల్ల ా డి ▁సత్య ▁లింగ ▁నాయక ర్ ▁1912 ▁సం . లో ▁రంగ ూన్ ▁( బర్ మా ) ▁లోని ▁జిల్లా ▁కోర్టులో ▁ఒక ▁వీలునామా ను ▁ రిజి ష్ట ర్ ▁చేయించి రి . ▁ఆ ▁వీలునామా ▁ప్రకారం ▁తాను ▁సంపాదించిన ▁ఆస్తి లో ▁ఎనిమిది ▁లక్షల ▁రూపాయల ను ▁విద్యాలయ ములు , ▁దేవాలయము ల ▁నిర్వహణకు , ▁బీద ▁విద్యార్థులు ▁ఉన్నత ▁విద్య , ▁వృత్తి ▁విద్య లు ▁అభ్యసించ ుటకు , ▁బీద వారికి ▁తిండి ▁పెట్ట ుట ▁తదితర ▁సేవా ▁కార్యక్రమము లకు ▁కేటాయించ ిరి . ▁మల్ల ా డి ▁సత్య ▁లింగ ▁నాయక ర్ ▁వీలునామా ▁ప్రకారం ▁దీ వాన్ ▁బహదూర్ ▁డి . శేష గిరి ▁రావు ▁పంతులు ▁ప్రధాన ▁ధర్మ ▁కర్త ▁గా , ▁మల్ల ా డి ▁సత్య ▁లింగ ▁నాయక ర్ ▁యొక్క ▁దత్త ▁పుత్ర ుడయిన ▁సుబ్రహ్మణ్యం ▁నాయక ర్ , ▁పి న పోతు ▁గోవింద ▁రాజు , ▁కొ వ్వ ూరి ▁ఆది య్య రెడ్డి లు ▁ధర్మ ▁కర్త లుగా ▁యం . యస్ . యన్ . ఛా రిటీ స్ ▁అనబడు ▁స్వ ఛ ంద ▁సంస్థను ▁ఏర్పాటు ▁చేసి రి . ▁దిగువ ▁బర్మా ▁లోని ▁ప్రధాన ▁కోర్టు ▁చే ▁మార్చి ▁నెల ▁4 ▁వ ▁తారీఖు , 19 15 ▁సం . లో ▁కాకినాడ ▁పట్టణంలో ▁యం . యస్ . యన్ . ఛా రిటీ స్ ▁ధర్మ ▁కర్త లకు ▁వీలునామా లో ▁పేర్కొన్న విధ ముగా ▁ఎనిమిది ▁లక్షల ▁రూపాయలు ▁అంద చేయ బడినవి . వీ లు నా మా ▁ప్రకారం ▁ఎనిమిది ▁లక్షల ▁రూపాయల లో ▁అయిదు ▁లక్షల ▁రూపాయలు ▁వ్యవసాయ ▁భూములను ▁శాశ్వత ▁ప్రాతిపదికన ▁కొనుగోలు ▁చేయుటకు , ▁రెండు ▁లక్షల ▁రూపాయలు ▁బ్యాంకు లో ▁జమ ▁చేయుటకు , ▁మిగిలిన ▁ఒక ▁లక్ష ▁రూపాయల ను ▁విశాల మయిన ▁ఆట ▁స్థలము తో ▁ఒక ▁పాఠశాల ▁భవనము , ▁ఆధునిక ▁వ్యాయామ శాల , ▁పాఠశాల ▁భవనము ▁ప్రక్క గా ▁బీద ▁వారికి ▁భోజన ▁సదుపాయము ▁అందించే ▁ఒక ▁సత్ర ము , ▁చొ ల్ల ంగి ▁గ్రామములో ▁దేవాలయము లు ▁నిర్మించ ుటకు ▁ఉద్దేశించబడింది . ఎ ని మిది ▁లక్షల ▁రూపాయల లో ▁ఒక ▁లక్ష ▁రూపాయలు ▁నిర్మాణము లకు ▁కే ట య ించ గా ▁మిగిలిన ▁ఏడు ▁లక్షల ▁రూపాయల మీద ▁వచ్చు ▁ఆదాయ మును ▁పాఠశాల , ▁సత్ర ము , ▁దేవాలయము ల ▁నిర్వహణకు , ▁ఉన్నత ▁విద్యను ▁అభ్యసించ ు వారికి ▁ఒక ▁నిధి ▁ఏర్పాటుకు ▁ఖర్చు ▁పెట్ట ుటకు ▁ఉద్దేశించబడింది . ▁చొ ల్ల ంగి ▁గ్రామములో ▁ఒక ▁స్నాన ▁వాటి క , ▁ఒక ▁శివాలయ ము , ▁శ్రీ ▁రామ ుల వారి , ▁ఆంజనేయ ుల వారి ▁ఆలయము లు , ▁అర్చక ులకు ▁ఒక ▁భవనము , ▁యాత్రికుల కు ▁ఒక ▁విశ్రాంతి ▁గృహ ము ▁దశ ల వారి గా ▁నిర్మించబడిన వి . ▁మల్ల ా డి ▁సత్య ▁లింగ ▁నాయక ర్ ▁వీలునామా ▁ప్రకారం ▁ఈ ▁క్రింద ▁పేర్కొన్న ▁సంస్థలు ▁యం . యస్ . యన్ . ఛా రిటీ స్ ▁ఆధ్వర్యంలో ▁కాకినాడ ▁పట్టణము లో ▁స్థాపించ బడి , ▁నడుప బడుచున్న వి .,▁x x bo s ▁బారాముల్లా ▁రైల్వే ▁స్టేషను ▁భారతీయ ▁రైల్వే ▁యొక్క ▁ఉత్తర ▁రైల్వే ▁నెట్వర్క్ ▁జో ను ▁లోను ▁ఒక ▁స్టేషను . ▁ఈ ▁స్టేషను ను ▁జమ్మూ - బా రా ము ల్లా ▁రైలు ▁మార్గము ▁మెగా ప్రా జె క్ట్ ▁లోని ▁భాగంగా ▁నిర్మించారు . ▁ఇది ▁కాశ్మీర్ ▁లోయ తో ▁పాటుగా ▁మిగిలిన ▁భారతీయ ▁రైల్వే ▁నెట్వర్క్ ▁తో ▁అనుసంధానించ డానికి ▁ఉద్దేశించబడింది . ▁ఈ ▁నెట్వర్క్ ▁యొక్క ▁లె గ్ ▁2 ▁విభాగం ▁అసంపూర్ణ ంగా ▁ఉంది . ▁ఇది ▁20 21 ▁నాటికి ▁పూర్తి ▁అవుతుంది . ▁[2] ▁బారాముల్లా ▁రైల్వే ▁స్టేషను ▁బారాముల్లా ▁యొక్క ▁నోటి ఫై డ్ ▁ప్రాంతంలో ▁ఉంది . ▁ఇది ▁130 ▁కిలోమీటర్ల ▁పొడవైన ▁రైల్వే ▁లైన్ ▁స్టేషను . ▁ఇది ▁బ నీ హా ల్ ▁తో ▁కాశ్మీర్ ▁లోయ ను ▁కలుపుతుంది . ▁ఈ ▁మెగా ▁ప్రాజెక్టు లో ▁ప్రతి ▁ఇతర ▁స్టేషను ▁మాదిరిగానే , ▁ఈ ▁స్టేషన్ లో ▁కూడా ▁కాశ్మీరీ ▁కలప ▁నిర్మాణం తో , ▁రాయల్ ▁కోర్ట్ ▁యొక్క ▁ఉద్దేశించిన ▁వాతావరణం తో ▁ఇది ▁స్టేషను ▁యొక్క ▁స్థానిక ▁పరిసరాల తో ▁పాటుగా ▁పూర్తి ▁చేయడానికి ▁రూపొందించబడింది . ▁బారాముల్లా ▁రైల్వే ▁స్టేషను ▁నందు ▁ఎక్కువగా ▁ఉర్దూ , ▁ఇంగ్లీష్ , ▁హిందీ ల ▁భాషలలో ▁వ్రాయ బడి ▁ఉంటుంది . ▁ఈ ▁స్టేషను ▁సముద్ర ▁మట్టానికి ▁15 82 . 79 ▁మీటర్ల ▁ఎత్తులో ▁ఉంది . ▁[3],▁x x bo s ▁శత ానంద ▁మహర్షి ▁గౌతమ ▁మహర్షి , ▁అహల్య కి ▁జన్మించిన ▁నలుగురు ▁పుత్ర ులలో ▁జే ష్ట ుడు . ▁గౌతమ ▁మహర్షి ▁కొన్ని ▁వేల ▁సంవత్సరాలు ▁దాంపత్య ▁బ్రహ్మచర్య మును ▁గడిపిన ▁పిమ్మట ▁అహల్య ను ▁ఆదరించ ి ▁ వలసిన ▁కోరిక ▁కోరు మన ెను . ▁ఆమె ▁స్త్రీ సహ జ మగు ▁మాతృ త్వాన్ని ▁కాంక్ష ించింది . ▁గౌతమ ుడ ానంద ించి ▁యోగ బల మున ▁నవ యు వ కు డై ▁అహల్య ా కాంత ▁నిండు ▁యౌవన మునకు ▁పండు వెన్ నెల యై ▁సర్వ లో క ముల ంద లి ▁మనోహర ▁కే ళీ వన ముల ▁నూరు చోట్ల ▁నూరు విధ ముల గు ▁ర త్య ానంద ము ▁నామ ెను ▁అనుభవ ింపజేసి ▁ఆమె ▁కోరిక ను ▁తీర్చ ెను . ▁ఫలితము గా ▁ఆమె ▁గర్భ ము ▁ధరించి ▁నవ మాసము లు ▁మో సి ▁పుత్ర రత్న మును ▁పొంద ెను . ▁అహల్య ా గౌ త ముల ▁శా త విధానం ద ఫల ▁మగ ుటచే త ▁అతనికి ▁గౌతమ ుడు ▁\" శ త ానంద ుడు \" ▁అని ▁సార్థక ▁నామ కరణ ము ▁చేసె ను . ▁శత ానంద ుడు ▁తండ్రి ▁గౌతమ ుని ▁వద్ద నే ▁సమస్త ▁వేద శాస్త్ర ాది ▁విద్య లు ▁అభ్యసించి ▁బ్రహ్మచర్య ాశ్రమ ము ▁పాటించ ుచు ▁మహా ▁తప శ్శ ాలి ▁అయ్య ెను . ▁ఈతని ▁బుద్ధి వైభవ ము , ▁జ్ఞాన సంపద , ▁శీల గౌరవ ము , ▁తపో ని ర తి ▁విని ▁జనక ▁మహారాజు ▁తన ▁ఆస్థాన ▁పురోహిత ునిగా ▁వుండ ు మని ▁అర్ధ ించెను . ▁గౌతమ ▁మహర్షి ▁ఆనంద ించి , ▁గుణ శీల వతి ▁అయిన ▁కన్యా మణి తో ▁వివాహ మొ న రించి ▁భార్య ా స హిత ునిగా ▁శత ానంద ుని ▁జనక ▁చక్రవర్తి కి ▁కుల గురువు గా ▁మి థి లా ▁నగర మునకు ▁పంప ెను . ▁తరువాతి ▁కాలంలో ▁గౌతమ ుడు ▁అహల్య ను ▁శపించ ుట , ▁శ్రీరాముని ▁జనన ము , ▁వనవాస ము , ▁యాగ ▁రక్షణ ▁కొరకు ▁విశ్వామిత్ర ుని ▁వెంట ▁జన ుట , ▁శత ానంద ుని ▁తల్లిని ▁శాప వి మో చన ము ▁జరిగి ▁శ్రీరాముడు ▁మి ధి లకు ▁వచ్చినప్పుడు , ▁జనక ▁మహారాజు తో ▁శత ానంద ుడు ▁వారికి ▁స్వా గత ము ▁ప లిక ెను . ▁శ్రీరాముడు ▁శివ ధ ను ర్ భంగ ము ▁గావించి ▁సీతను ▁వివాహమాడ ు నపుడు ▁దశరథ ుని ▁వైపు ▁వశిష్ఠ ుడు , ▁జనక ుని ▁వైపు ▁శత ానంద ుడు ▁గోత్ర ప్ర వర ాదులు ▁చెప్పి ▁సీతారామ ▁కల్యాణ మును ▁జరిపించ ిరి . ▁అతనికి ▁సత్య ధృత ి ▁అను ▁కుమారుడు ▁కలి గె ను . ▁అతడు ▁పుట్ట గానే ▁చేత ▁బాణ ము ▁వుండి న ▁కారణము న ▁ఆతని కి ▁' శ ర ద్ వంతుడు ' ▁అని ▁పేరు ▁వచ్చె ను . ▁అప్పటి నుండే ▁శర ము ▁విడువ క ▁అతని ▁మనస్సు ▁వేద శాస్త్ర ాది ▁విద్య లందు ▁కంటే ▁ధనుర ్ వేద మ ందే ▁ల గ్న ము ▁కా జొ చ్చె ను . ▁సత్య ధృత ి ▁మహా త ప ▁మొన రించి ▁ధనుర ్ వేద మును , ▁వివిధ ాస్త్ర ములను ▁సాధించ ెను . ▁ఇతని ▁తపో భంగ మును ▁చెర ప , ▁ఇంద్రుడు ▁జాల వతి ▁అను ▁దేవ కన్య ను ▁పంప ెను . ▁మహా ▁సౌందర్య వతి ▁అయిన ▁ఆమెను ▁చూచి న దే ▁సత్య ధృత ి ▁చేతిలో ని ▁విల్ లమ్మ ులు ▁జారి ▁క్రింద పడ ెను . ▁అది ▁గ్రహించి ▁తన ▁కామ ోద్ రే కము ను ▁ని గ్రహ ించ ుకొనెను . ▁కాని , ▁అతనికి ▁తెలియ కుండ కుండా ▁రే తః ▁పతన మై ▁అది ▁రె ల్లు గడ్డి లో ▁పడ ెను . ▁అది ▁రెండు ▁భాగము లై ▁అందు ండి ▁ఒక ▁బాలుడు , ▁ఒక ▁బాలిక ▁జన్మించి రి . ▁కొంత కాల మునకు ▁శంతన ▁మహారాజు ▁వేటాడ ుచు ▁అక్కడికి ▁వచ్చి ▁వారిని ▁చూచి ▁తన ▁బిడ్డ లుగా ▁పెంచ ుకొనెను . ▁వారికి ▁జాతక ▁కర్మ ాది ▁సంస్కార ములు ▁గావించి ▁తన చే ▁కృప తో ▁పెంచ బడి రి ▁కావున ▁వారికి ▁కృప ుడు , ▁కృప ి ▁అని ▁నామ కరణ ము ▁చేయించ ెను . ▁ఈ ▁సంగతి ▁గ్రహించిన ▁సత్య ధృత ి ▁శంతన ునితో ▁తన ▁సంగతి ▁చెప్పి ▁కృప ునకు ▁చతుర్ విధ ▁ధనుర ్ వేద ములు ను ▁నానా ▁విధ ▁శాస్త్రము లను ▁నేర్ప ెను . ▁అతడే ▁విలువిద్య యందు ▁పరమ ాచార్య ుడై ▁భీష్ముని ▁ప్రార్థన మున ▁కౌరవ ▁పాండవుల కు ▁గురువు ▁అయ్య ెను .,▁x x bo s ▁చింత ాడ , ఆంధ్ర ▁ప్రదేశ్ ▁రాష్ట్రం , ▁విజయనగరం ▁జిల్లా , ▁జా మి ▁మండలానికి ▁చెందిన ▁గ్రామం .[1] ▁ఇది ▁మండల ▁కేంద్రమైన ▁జా మి ▁నుండి ▁9 ▁కి . మీ . ▁దూరం ▁లోను , ▁సమీప ▁పట్టణమైన ▁విజయనగరం ▁నుండి ▁28 ▁కి . మీ . ▁దూరంలోనూ ▁ఉంది . ▁2011 ▁భారత ▁జనగణన ▁గణాంకాల ▁ప్రకారం ▁ఈ ▁గ్రామం ▁3 26 ▁ఇళ్లతో , ▁12 25 ▁జనాభాతో ▁2 37 ▁హెక్టార్లలో ▁విస్తరించి ▁ఉంది . ▁గ్రామంలో ▁మగవారి ▁సంఖ్య ▁6 17 , ▁ఆడవారి ▁సంఖ్య ▁6 08 . ▁షెడ్యూల్డ్ ▁కులాల ▁జనాభా ▁143 ▁కాగా ▁షెడ్యూల్డ్ ▁తెగల ▁జనాభా ▁7 . ▁గ్రామం ▁యొక్క ▁జనగణన ▁లొకేషన్ ▁కోడ్ ▁58 30 87 [2]. పిన్ ▁కోడ్ : ▁5 35 250 . ▁గ్రామంలో ▁ప్రభుత్వ ▁ప్రాథమిక ▁పాఠశాల ▁ఒకటి ▁ఉంది . సమీప ▁బాలబడి , ▁మాధ్యమిక ▁పాఠశాల ▁లు ▁జా మి లోను , ▁ప్రాథమికోన్నత ▁పాఠశాల ▁జాగ రాం లోనూ ▁ఉన్నాయి . సమీప ▁జూనియర్ ▁కళాశాల , ▁ప్రభుత్వ ▁ఆర్ట్స్ ▁/ ▁సైన్స్ ▁డిగ్రీ ▁కళాశాల ▁జా మి లోను , ▁ఇంజనీరింగ్ ▁కళాశాల ▁విజయనగరం లోనూ ▁ఉన్నాయి . ▁సమీప ▁వైద్య ▁కళాశాల ▁నెల్లిమర్లలోన ు , ▁మేనేజిమెంటు ▁కళాశాల , ▁పాలీటెక్నిక్ ▁లు ▁విజయనగరం లోనూ ▁ఉన్నాయి . ▁సమీప ▁వృత్తి ▁విద్యా ▁శిక్షణ ▁పాఠశాల , ▁అనియత ▁విద్యా ▁కేంద్రం ▁జా మి లోను , ▁దివ్యాంగ ుల ▁ప్రత్యేక ▁పాఠశాల ▁విజయనగరం ▁లోనూ ▁ఉన్నాయి . ▁చింత ాడ ▁( జా మి ) లో ▁ఉన్న ▁ఒక ▁ప్రాథమిక ▁ఆరోగ్య ▁ఉప ▁కేంద్రంలో ▁డాక్టర్లు ▁లేరు . ▁పారామెడికల్ ▁సిబ్బంది ▁ముగ్గురు ▁ఉన్నారు . ప్రాథమిక ▁ఆరోగ్య ▁కేంద్రం ▁గ్రామం ▁నుండి ▁5 ▁నుండి ▁10 ▁కి . మీ . ▁దూరంలో ▁ఉంది . ▁డిస్పెన్సరీ , ▁పశు ▁వైద్యశాల ▁గ్రామం ▁నుండి ▁5 ▁నుండి ▁10 ▁కి . మీ . ▁దూరంలో ▁ఉన్నాయి . ▁సమీప ▁సామాజిక ▁ఆరోగ్య ▁కేంద్రం , ▁మాతా ▁శిశు ▁సంరక్షణ ▁కేంద్రం , ▁టి . ▁బి ▁వైద్యశాల ▁గ్రామం ▁నుండి ▁10 ▁కి . మీ . ▁కంటే ▁ఎక్కువ ▁దూరంలో ▁ఉన్నాయి . ▁అలోపతి ▁ఆసుపత్రి , ▁ప్రత్యామ్నాయ ▁ఔషధ ▁ఆసుపత్రి , ▁సంచార ▁వైద్య ▁శాల , ▁కుటుంబ ▁సంక్షేమ ▁కేంద్రం ▁గ్రామం ▁నుండి ▁10 ▁కి . మీ . ▁కంటే ▁ఎక్కువ ▁దూరంలో ▁ఉన్నాయి . ▁గ్రామంలో ▁కుళాయిల ▁ద్వారా ▁రక్షిత ▁మంచినీటి ▁సరఫరా ▁జరుగుతోంది . ▁బావుల ▁నీరు ▁కూడా ▁అందుబాటులో ▁ఉంది . ▁గ్రామంలో ▁ఏడాది ▁పొడుగునా ▁చేతిపంపుల ▁ద్వారా ▁నీరు ▁అందుతుంది . ▁బోరుబావుల ▁ద్వారా ▁కూడా ▁ఏడాది ▁పొడుగునా ▁నీరు ▁అందుతుంది . ▁మురుగునీరు ▁బహిరంగ ▁కాలువల ▁ద్వారా ▁ప్రవహిస్తుంది . ▁మురుగునీటి ని ▁నేరుగా ▁జలవనరుల్లోకి ▁వదులుతున్న ారు . ▁గ్రామంలో ▁సంపూర్ణ ▁పారిశుధ్య ▁పథకం ▁అమలవుతోంది . ▁సామాజిక ▁మరుగుదొడ్డి ▁సౌకర్యం ▁లేదు . ▁ఇంటింటిక ీ ▁తిరిగి ▁వ్యర్థాలను ▁సేకరించే ▁వ్యవస్థ ▁లేదు . ▁సామాజిక ▁బయోగ్యాస్ ▁ఉత్పాదక ▁వ్యవస్థ ▁లేదు . ▁చెత్తను ▁వీధుల ▁పక్కనే ▁పారబోస్తారు . ▁చింత ాడ ▁( జా మి ) లో ▁సబ్ ▁పోస్టాఫీసు ▁సౌకర్యం ▁ఉంది . ▁పోస్టాఫీసు ▁సౌకర్యం , ▁పోస్ట్ ▁అండ్ ▁టెలిగ్రాఫ్ ▁ఆఫీసు ▁గ్రామానికి ▁5 ▁నుండి ▁10 ▁కి . మీ . ▁దూరంలో ▁ఉన్నాయి . ▁లాండ్ ▁లైన్ ▁టెలిఫోన్ , ▁పబ్లిక్ ▁ఫోన్ ▁ఆఫీసు , ▁మొబైల్ ▁ఫోన్ ▁మొదలైన ▁సౌకర్యాలు ▁ఉన్నాయి . ▁ఇంటర్నెట్ ▁కెఫె ▁/ ▁సామాన్య ▁సేవా ▁కేంద్రం , ▁ప్రైవేటు ▁కొరియర్ ▁గ్రామం ▁నుండి ▁10 ▁కి . మీ . కి ▁పైబడిన ▁దూరంలో ▁ఉన్నాయి . ▁గ్రామానికి ▁సమీప ▁ప్రాంతాల ▁నుండి ▁ప్రభుత్వ ▁రవాణా ▁సంస్థ ▁బస్సులు ▁తిరుగుతున్నాయి . ▁సమీప ▁గ్రామాల ▁నుండి ▁ఆటో ▁సౌకర్యం ▁కూడా ▁ఉంది . ▁ప్రైవేటు ▁బస్సు ▁సౌకర్యం , ▁ట్రాక్టరు ▁సౌకర్యం ▁మొదలైనవి ▁గ్రామానికి ▁5 ▁నుండి ▁10 ▁కి . మీ . ▁దూరంలో ▁ఉన్నాయి . ▁రైల్వే ▁స్టేషన్ ▁గ్రామం ▁నుండి ▁10 ▁కి . మీ . కి ▁పైబడిన ▁దూరంలో ▁ఉంది . ▁ప్రధాన ▁జిల్లా ▁రహదారి , ▁జిల్లా ▁రహదారి ▁గ్రామం ▁గుండా ▁పోతున్నాయి . ▁రాష్ట్ర ▁రహదారి ▁గ్రామం ▁నుండి ▁5 ▁నుండి ▁10 ▁కి . మీ . ▁దూరంలో ▁ఉంది . ▁జాతీయ ▁రహదారి ▁గ్రామం ▁నుండి ▁10 ▁కి . మీ . కి ▁పైబడిన ▁దూరంలో ▁ఉంది . ▁గ్రామంలో ▁తారు ▁రోడ్లు , ▁కంకర ▁రోడ్లు ▁ఉన్నాయి . ▁గ్రామంలో ▁స్వయం ▁సహాయక ▁బృందం , ▁పౌర ▁సరఫరాల ▁కేంద్రం ▁ఉన్నాయి . ▁వాణిజ్య ▁బ్యాంకు , ▁వ్యవసాయ ▁పరపతి ▁సంఘం ▁గ్రామం ▁నుండి ▁5 ▁నుండి ▁10 ▁కి . మీ . ▁దూరంలో ▁ఉన్నాయి . ▁రోజువారీ ▁మార్కెట్ , ▁వారం ▁వారం ▁సంత ▁గ్రామం ▁నుండి ▁5 ▁నుండి ▁10 ▁కి . మీ . ▁దూరంలో ▁ఉన్నాయి . ▁ఏటీఎమ్ , ▁సహకార ▁బ్యాంకు ▁గ్రామం ▁నుండి ▁10 ▁కి . మీ . కి ▁పైబడిన ▁దూరంలో ▁ఉన్నాయి . ▁వ్యవసాయ ▁మార్కెటింగ్ ▁సొసైటీ ▁గ్రామం ▁నుండి ▁10 ▁కి . మీ . కి ▁పైబడిన ▁దూరంలో ▁ఉంది . ▁గ్రామంలో ▁సమీకృత ▁బాలల ▁అభివృద్ధి ▁పథకం , ▁అంగన్ ▁వాడీ ▁కేంద్రం , ▁ఇతర ▁పోషకాహార ▁కేంద్రాలు ▁ఉన్నాయి . ▁గ్రామంలో ▁వార్తాపత్రిక ▁పంపిణీ ▁జరుగుతుంది . ▁శాసనసభ ▁పోలింగ్ ▁కేంద్రం , ▁జనన ▁మరణాల ▁నమోదు ▁కార్యాలయం ▁ఉన్నాయి . ▁ఆశా ▁కార్యకర్త , ▁ఆటల ▁మైదానం ▁గ్రామం ▁నుండి ▁5 ▁నుండి ▁10 ▁కి . మీ . ▁దూరంలో ▁ఉన్నాయి . ▁సినిమా ▁హాలు , ▁గ్రంథాలయం , ▁పబ్లిక్ ▁రీడింగ్ ▁రూం ▁గ్రామం ▁నుండి ▁5 ▁నుండి ▁10 ▁కి . మీ . ▁దూరంలో ▁ఉన్నాయి . ▁గ్రామంలో ▁గృహావసరాల ▁నిమిత్తం ▁విద్యుత్ ▁సరఫరా ▁వ్యవస్థ ▁ఉంది . ▁రోజుకు ▁7 ▁గంటల ▁పాటు ▁వ్యవసాయానికి , ▁15 ▁గంటల ▁పాటు ▁వాణిజ్య ▁అవసరాల ▁కోసం ▁కూడా ▁విద్యుత్ ▁సరఫరా ▁చేస్తున్నారు . ▁చింత ాడ ▁( జా మి ) లో ▁భూ ▁వినియోగం ▁కింది ▁విధంగా ▁ఉంది : ▁చింత ాడ ▁( జా మి ) లో ▁వ్యవసాయానికి ▁నీటి ▁సరఫరా ▁కింది ▁వనరుల ▁ద్వారా ▁జరుగుతోంది . ▁చింత ాడ ▁( జా మి ) లో ▁ఈ ▁కింది ▁వస్తువులు ▁ఉత్పత్తి ▁అవుతున్నాయి . ▁వరి , ▁చెరకు\n",
              "y: LMLabelList\n",
              ",,,,\n",
              "Path: /content;\n",
              "\n",
              "Test: None, model=SequentialRNN(\n",
              "  (0): AWD_LSTM(\n",
              "    (encoder): Embedding(25000, 400, padding_idx=1)\n",
              "    (encoder_dp): EmbeddingDropout(\n",
              "      (emb): Embedding(25000, 400, padding_idx=1)\n",
              "    )\n",
              "    (rnns): ModuleList(\n",
              "      (0): WeightDropout(\n",
              "        (module): LSTM(400, 1152, batch_first=True)\n",
              "      )\n",
              "      (1): WeightDropout(\n",
              "        (module): LSTM(1152, 1152, batch_first=True)\n",
              "      )\n",
              "      (2): WeightDropout(\n",
              "        (module): LSTM(1152, 400, batch_first=True)\n",
              "      )\n",
              "    )\n",
              "    (input_dp): RNNDropout()\n",
              "    (hidden_dps): ModuleList(\n",
              "      (0): RNNDropout()\n",
              "      (1): RNNDropout()\n",
              "      (2): RNNDropout()\n",
              "    )\n",
              "  )\n",
              "  (1): LinearDecoder(\n",
              "    (decoder): Linear(in_features=400, out_features=25000, bias=True)\n",
              "    (output_dp): RNNDropout()\n",
              "  )\n",
              "), opt_func=functools.partial(<class 'torch.optim.adam.Adam'>, betas=(0.9, 0.99)), loss_func=FlattenedLoss of CrossEntropyLoss(), metrics=[<function accuracy at 0x7fb095204ea0>], true_wd=True, bn_wd=True, wd=0.01, train_bn=True, path=PosixPath('/content'), model_dir='models', callback_fns=[functools.partial(<class 'fastai.basic_train.Recorder'>, add_time=True, silent=False)], callbacks=[...], layer_groups=[Sequential(\n",
              "  (0): WeightDropout(\n",
              "    (module): LSTM(400, 1152, batch_first=True)\n",
              "  )\n",
              "  (1): RNNDropout()\n",
              "), Sequential(\n",
              "  (0): WeightDropout(\n",
              "    (module): LSTM(1152, 1152, batch_first=True)\n",
              "  )\n",
              "  (1): RNNDropout()\n",
              "), Sequential(\n",
              "  (0): WeightDropout(\n",
              "    (module): LSTM(1152, 400, batch_first=True)\n",
              "  )\n",
              "  (1): RNNDropout()\n",
              "), Sequential(\n",
              "  (0): Embedding(25000, 400, padding_idx=1)\n",
              "  (1): EmbeddingDropout(\n",
              "    (emb): Embedding(25000, 400, padding_idx=1)\n",
              "  )\n",
              "  (2): LinearDecoder(\n",
              "    (decoder): Linear(in_features=400, out_features=25000, bias=True)\n",
              "    (output_dp): RNNDropout()\n",
              "  )\n",
              ")], add_time=True, silent=False)\n",
              "alpha: 2.0\n",
              "beta: 1.0], layer_groups=[Sequential(\n",
              "  (0): WeightDropout(\n",
              "    (module): LSTM(400, 1152, batch_first=True)\n",
              "  )\n",
              "  (1): RNNDropout()\n",
              "), Sequential(\n",
              "  (0): WeightDropout(\n",
              "    (module): LSTM(1152, 1152, batch_first=True)\n",
              "  )\n",
              "  (1): RNNDropout()\n",
              "), Sequential(\n",
              "  (0): WeightDropout(\n",
              "    (module): LSTM(1152, 400, batch_first=True)\n",
              "  )\n",
              "  (1): RNNDropout()\n",
              "), Sequential(\n",
              "  (0): Embedding(25000, 400, padding_idx=1)\n",
              "  (1): EmbeddingDropout(\n",
              "    (emb): Embedding(25000, 400, padding_idx=1)\n",
              "  )\n",
              "  (2): LinearDecoder(\n",
              "    (decoder): Linear(in_features=400, out_features=25000, bias=True)\n",
              "    (output_dp): RNNDropout()\n",
              "  )\n",
              ")], add_time=True, silent=False)"
            ]
          },
          "metadata": {
            "tags": []
          },
          "execution_count": 29
        }
      ]
    },
    {
      "cell_type": "code",
      "metadata": {
        "id": "yWB9AJJWlGHC",
        "colab_type": "code",
        "colab": {
          "base_uri": "https://localhost:8080/",
          "height": 34
        },
        "outputId": "e9120448-d162-49f8-8bd4-ff13da69eff1"
      },
      "source": [
        "np.exp(3.313400)"
      ],
      "execution_count": 30,
      "outputs": [
        {
          "output_type": "execute_result",
          "data": {
            "text/plain": [
              "27.478393364076332"
            ]
          },
          "metadata": {
            "tags": []
          },
          "execution_count": 30
        }
      ]
    },
    {
      "cell_type": "code",
      "metadata": {
        "id": "yblB8vqzriuZ",
        "colab_type": "code",
        "colab": {}
      },
      "source": [
        "TEXT = \"ఇది మండల కేంద్రమైన రంపచోడవరం నుండి\"\n",
        "N_WORDS = 20\n",
        "N_SENTENCES = 2"
      ],
      "execution_count": 31,
      "outputs": []
    },
    {
      "cell_type": "code",
      "metadata": {
        "id": "RKRi_6GYsJWA",
        "colab_type": "code",
        "colab": {
          "base_uri": "https://localhost:8080/",
          "height": 71
        },
        "outputId": "2a95e481-1743-4cdd-fcb5-3b552ff7f56b"
      },
      "source": [
        "print(\"\\n\".join(learn.predict(TEXT, N_WORDS, temperature=0.9) for _ in range(N_SENTENCES)))"
      ],
      "execution_count": 32,
      "outputs": [
        {
          "output_type": "stream",
          "text": [
            "ఇది మండల కేంద్రమైన రంపచోడవరం నుండి ▁25 ▁కి . ▁మీ . ▁దూరం ▁లోను , ▁సమీప ▁పట్టణమైన ▁అనకాపల్లి ▁నుండి ▁99 ▁కి . ▁మీ . ▁దూరంలోనూ ▁ఉంది .\n",
            "ఇది మండల కేంద్రమైన రంపచోడవరం నుండి ▁16 ▁కి . ▁మీ . ▁దూరం ▁లోను , ▁సమీప ▁పట్టణమైన ▁విశాఖపట్నం ▁నుండి ▁50 ▁కి . ▁మీ . ▁దూరంలోనూ ▁ఉంది .\n"
          ],
          "name": "stdout"
        }
      ]
    },
    {
      "cell_type": "code",
      "metadata": {
        "id": "2wcatTpisLen",
        "colab_type": "code",
        "colab": {}
      },
      "source": [
        "defaults.device = torch.device('cpu')\n",
        "learn.model.eval()\n",
        "learn.export()\n"
      ],
      "execution_count": 33,
      "outputs": []
    },
    {
      "cell_type": "code",
      "metadata": {
        "id": "7npzj7NVsTpI",
        "colab_type": "code",
        "colab": {}
      },
      "source": [
        "!cp -r 'export.pkl' 'drive/My Drive/nlp-telugu/ulmfit2/'"
      ],
      "execution_count": 34,
      "outputs": []
    },
    {
      "cell_type": "code",
      "metadata": {
        "id": "Su0VRmkYtJ8e",
        "colab_type": "code",
        "colab": {}
      },
      "source": [
        "defaults.device = torch.device('cpu')"
      ],
      "execution_count": 35,
      "outputs": []
    },
    {
      "cell_type": "code",
      "metadata": {
        "id": "tO24w5emt-5i",
        "colab_type": "code",
        "colab": {
          "base_uri": "https://localhost:8080/",
          "height": 17
        },
        "outputId": "a9885d53-f2bc-4ae8-c52d-1e06c5bf70e1"
      },
      "source": [
        "\n",
        "learn = load_learner('./')"
      ],
      "execution_count": 36,
      "outputs": [
        {
          "output_type": "display_data",
          "data": {
            "text/html": [
              ""
            ],
            "text/plain": [
              "<IPython.core.display.HTML object>"
            ]
          },
          "metadata": {
            "tags": []
          }
        },
        {
          "output_type": "display_data",
          "data": {
            "text/html": [
              ""
            ],
            "text/plain": [
              "<IPython.core.display.HTML object>"
            ]
          },
          "metadata": {
            "tags": []
          }
        }
      ]
    },
    {
      "cell_type": "code",
      "metadata": {
        "id": "ey307hMMsbny",
        "colab_type": "code",
        "colab": {}
      },
      "source": [
        "encoder = get_model(learn.model)[0]"
      ],
      "execution_count": 37,
      "outputs": []
    },
    {
      "cell_type": "code",
      "metadata": {
        "id": "KyVaT2Qus9Bw",
        "colab_type": "code",
        "colab": {
          "base_uri": "https://localhost:8080/",
          "height": 34
        },
        "outputId": "cfa1d76e-5de2-4682-a517-a77bc859436b"
      },
      "source": [
        "\n",
        "encoder.state_dict()['encoder.weight'].shape"
      ],
      "execution_count": 38,
      "outputs": [
        {
          "output_type": "execute_result",
          "data": {
            "text/plain": [
              "torch.Size([25000, 400])"
            ]
          },
          "metadata": {
            "tags": []
          },
          "execution_count": 38
        }
      ]
    },
    {
      "cell_type": "code",
      "metadata": {
        "id": "iR32f8Whs_pR",
        "colab_type": "code",
        "colab": {}
      },
      "source": [
        "embeddings = encoder.state_dict()['encoder.weight']"
      ],
      "execution_count": 39,
      "outputs": []
    },
    {
      "cell_type": "code",
      "metadata": {
        "id": "t7ElhRXrtBnG",
        "colab_type": "code",
        "colab": {}
      },
      "source": [
        "\n",
        "embeddings = np.array(embeddings)"
      ],
      "execution_count": 40,
      "outputs": []
    },
    {
      "cell_type": "code",
      "metadata": {
        "id": "-Rm7OkZAtDS-",
        "colab_type": "code",
        "colab": {
          "base_uri": "https://localhost:8080/",
          "height": 34
        },
        "outputId": "eae8acc3-578c-4fce-aa0a-ded599f2daf8"
      },
      "source": [
        "embeddings[0].shape"
      ],
      "execution_count": 41,
      "outputs": [
        {
          "output_type": "execute_result",
          "data": {
            "text/plain": [
              "(400,)"
            ]
          },
          "metadata": {
            "tags": []
          },
          "execution_count": 41
        }
      ]
    },
    {
      "cell_type": "code",
      "metadata": {
        "id": "dvDS3avvuHli",
        "colab_type": "code",
        "colab": {}
      },
      "source": [
        "df = pd.DataFrame(embeddings)"
      ],
      "execution_count": 42,
      "outputs": []
    },
    {
      "cell_type": "code",
      "metadata": {
        "id": "29yWmfz4uJvm",
        "colab_type": "code",
        "colab": {
          "base_uri": "https://localhost:8080/",
          "height": 34
        },
        "outputId": "380dc046-bb5b-475e-b3b9-732b301e00cd"
      },
      "source": [
        "df.shape"
      ],
      "execution_count": 43,
      "outputs": [
        {
          "output_type": "execute_result",
          "data": {
            "text/plain": [
              "(25000, 400)"
            ]
          },
          "metadata": {
            "tags": []
          },
          "execution_count": 43
        }
      ]
    },
    {
      "cell_type": "code",
      "metadata": {
        "id": "fSjjCfyOuLwE",
        "colab_type": "code",
        "colab": {}
      },
      "source": [
        "df.to_csv('embeddings.tsv', sep='\\t', index=False, header=False)"
      ],
      "execution_count": 44,
      "outputs": []
    },
    {
      "cell_type": "code",
      "metadata": {
        "id": "ZCVVM9XzuN55",
        "colab_type": "code",
        "colab": {
          "base_uri": "https://localhost:8080/",
          "height": 253
        },
        "outputId": "a4387e73-880f-4082-9899-5623faba4053"
      },
      "source": [
        "df.head()"
      ],
      "execution_count": 45,
      "outputs": [
        {
          "output_type": "execute_result",
          "data": {
            "text/html": [
              "<div>\n",
              "<style scoped>\n",
              "    .dataframe tbody tr th:only-of-type {\n",
              "        vertical-align: middle;\n",
              "    }\n",
              "\n",
              "    .dataframe tbody tr th {\n",
              "        vertical-align: top;\n",
              "    }\n",
              "\n",
              "    .dataframe thead th {\n",
              "        text-align: right;\n",
              "    }\n",
              "</style>\n",
              "<table border=\"1\" class=\"dataframe\">\n",
              "  <thead>\n",
              "    <tr style=\"text-align: right;\">\n",
              "      <th></th>\n",
              "      <th>0</th>\n",
              "      <th>1</th>\n",
              "      <th>2</th>\n",
              "      <th>3</th>\n",
              "      <th>4</th>\n",
              "      <th>5</th>\n",
              "      <th>6</th>\n",
              "      <th>7</th>\n",
              "      <th>8</th>\n",
              "      <th>9</th>\n",
              "      <th>10</th>\n",
              "      <th>11</th>\n",
              "      <th>12</th>\n",
              "      <th>13</th>\n",
              "      <th>14</th>\n",
              "      <th>15</th>\n",
              "      <th>16</th>\n",
              "      <th>17</th>\n",
              "      <th>18</th>\n",
              "      <th>19</th>\n",
              "      <th>20</th>\n",
              "      <th>21</th>\n",
              "      <th>22</th>\n",
              "      <th>23</th>\n",
              "      <th>24</th>\n",
              "      <th>25</th>\n",
              "      <th>26</th>\n",
              "      <th>27</th>\n",
              "      <th>28</th>\n",
              "      <th>29</th>\n",
              "      <th>30</th>\n",
              "      <th>31</th>\n",
              "      <th>32</th>\n",
              "      <th>33</th>\n",
              "      <th>34</th>\n",
              "      <th>35</th>\n",
              "      <th>36</th>\n",
              "      <th>37</th>\n",
              "      <th>38</th>\n",
              "      <th>39</th>\n",
              "      <th>...</th>\n",
              "      <th>360</th>\n",
              "      <th>361</th>\n",
              "      <th>362</th>\n",
              "      <th>363</th>\n",
              "      <th>364</th>\n",
              "      <th>365</th>\n",
              "      <th>366</th>\n",
              "      <th>367</th>\n",
              "      <th>368</th>\n",
              "      <th>369</th>\n",
              "      <th>370</th>\n",
              "      <th>371</th>\n",
              "      <th>372</th>\n",
              "      <th>373</th>\n",
              "      <th>374</th>\n",
              "      <th>375</th>\n",
              "      <th>376</th>\n",
              "      <th>377</th>\n",
              "      <th>378</th>\n",
              "      <th>379</th>\n",
              "      <th>380</th>\n",
              "      <th>381</th>\n",
              "      <th>382</th>\n",
              "      <th>383</th>\n",
              "      <th>384</th>\n",
              "      <th>385</th>\n",
              "      <th>386</th>\n",
              "      <th>387</th>\n",
              "      <th>388</th>\n",
              "      <th>389</th>\n",
              "      <th>390</th>\n",
              "      <th>391</th>\n",
              "      <th>392</th>\n",
              "      <th>393</th>\n",
              "      <th>394</th>\n",
              "      <th>395</th>\n",
              "      <th>396</th>\n",
              "      <th>397</th>\n",
              "      <th>398</th>\n",
              "      <th>399</th>\n",
              "    </tr>\n",
              "  </thead>\n",
              "  <tbody>\n",
              "    <tr>\n",
              "      <th>0</th>\n",
              "      <td>-0.304962</td>\n",
              "      <td>-0.854125</td>\n",
              "      <td>0.816927</td>\n",
              "      <td>-0.740171</td>\n",
              "      <td>0.114643</td>\n",
              "      <td>0.523756</td>\n",
              "      <td>0.567492</td>\n",
              "      <td>-0.207351</td>\n",
              "      <td>0.063229</td>\n",
              "      <td>0.267931</td>\n",
              "      <td>-0.127489</td>\n",
              "      <td>-0.494844</td>\n",
              "      <td>-0.303849</td>\n",
              "      <td>0.044972</td>\n",
              "      <td>-0.530967</td>\n",
              "      <td>-0.261266</td>\n",
              "      <td>-0.044202</td>\n",
              "      <td>0.631450</td>\n",
              "      <td>0.593543</td>\n",
              "      <td>-0.995314</td>\n",
              "      <td>-0.343815</td>\n",
              "      <td>-0.486484</td>\n",
              "      <td>-0.044174</td>\n",
              "      <td>0.442429</td>\n",
              "      <td>0.538471</td>\n",
              "      <td>0.366671</td>\n",
              "      <td>0.156149</td>\n",
              "      <td>-0.403572</td>\n",
              "      <td>-0.016612</td>\n",
              "      <td>-0.710529</td>\n",
              "      <td>0.705373</td>\n",
              "      <td>0.424650</td>\n",
              "      <td>-0.255136</td>\n",
              "      <td>0.142327</td>\n",
              "      <td>-0.464489</td>\n",
              "      <td>-0.664031</td>\n",
              "      <td>-0.460452</td>\n",
              "      <td>-0.136525</td>\n",
              "      <td>-0.143910</td>\n",
              "      <td>-0.152036</td>\n",
              "      <td>...</td>\n",
              "      <td>0.473137</td>\n",
              "      <td>-0.457397</td>\n",
              "      <td>-0.187661</td>\n",
              "      <td>-0.364001</td>\n",
              "      <td>0.534615</td>\n",
              "      <td>0.601249</td>\n",
              "      <td>0.513841</td>\n",
              "      <td>-0.804697</td>\n",
              "      <td>-0.160191</td>\n",
              "      <td>-0.467041</td>\n",
              "      <td>-0.429514</td>\n",
              "      <td>0.143800</td>\n",
              "      <td>0.370680</td>\n",
              "      <td>0.333282</td>\n",
              "      <td>-0.346054</td>\n",
              "      <td>-0.381931</td>\n",
              "      <td>-0.602253</td>\n",
              "      <td>-0.195652</td>\n",
              "      <td>0.183071</td>\n",
              "      <td>0.349388</td>\n",
              "      <td>0.622284</td>\n",
              "      <td>-0.140413</td>\n",
              "      <td>-0.073941</td>\n",
              "      <td>0.080385</td>\n",
              "      <td>-0.203360</td>\n",
              "      <td>-0.294157</td>\n",
              "      <td>-0.373519</td>\n",
              "      <td>-0.157722</td>\n",
              "      <td>-0.019439</td>\n",
              "      <td>0.740854</td>\n",
              "      <td>0.364073</td>\n",
              "      <td>-0.361380</td>\n",
              "      <td>-0.149707</td>\n",
              "      <td>0.523514</td>\n",
              "      <td>-0.557687</td>\n",
              "      <td>0.138733</td>\n",
              "      <td>0.279454</td>\n",
              "      <td>0.180209</td>\n",
              "      <td>0.072430</td>\n",
              "      <td>-0.176718</td>\n",
              "    </tr>\n",
              "    <tr>\n",
              "      <th>1</th>\n",
              "      <td>0.746587</td>\n",
              "      <td>-0.287359</td>\n",
              "      <td>0.804313</td>\n",
              "      <td>-0.291460</td>\n",
              "      <td>0.019184</td>\n",
              "      <td>-0.341141</td>\n",
              "      <td>-0.505657</td>\n",
              "      <td>0.441672</td>\n",
              "      <td>-0.242139</td>\n",
              "      <td>-0.339776</td>\n",
              "      <td>0.604874</td>\n",
              "      <td>0.124446</td>\n",
              "      <td>-0.341270</td>\n",
              "      <td>-0.511516</td>\n",
              "      <td>0.448505</td>\n",
              "      <td>-0.615291</td>\n",
              "      <td>-0.401169</td>\n",
              "      <td>0.157039</td>\n",
              "      <td>0.570236</td>\n",
              "      <td>0.394872</td>\n",
              "      <td>0.299136</td>\n",
              "      <td>0.003173</td>\n",
              "      <td>0.112313</td>\n",
              "      <td>-0.568661</td>\n",
              "      <td>0.119387</td>\n",
              "      <td>0.052189</td>\n",
              "      <td>0.830618</td>\n",
              "      <td>0.418727</td>\n",
              "      <td>-0.081045</td>\n",
              "      <td>-0.132129</td>\n",
              "      <td>0.281188</td>\n",
              "      <td>-0.391828</td>\n",
              "      <td>0.104731</td>\n",
              "      <td>-0.060997</td>\n",
              "      <td>0.552361</td>\n",
              "      <td>-0.004031</td>\n",
              "      <td>0.815312</td>\n",
              "      <td>0.287707</td>\n",
              "      <td>-0.160178</td>\n",
              "      <td>-0.355247</td>\n",
              "      <td>...</td>\n",
              "      <td>0.390930</td>\n",
              "      <td>0.753506</td>\n",
              "      <td>-0.544181</td>\n",
              "      <td>0.064992</td>\n",
              "      <td>-0.176855</td>\n",
              "      <td>0.162843</td>\n",
              "      <td>0.154716</td>\n",
              "      <td>0.577337</td>\n",
              "      <td>0.307820</td>\n",
              "      <td>-0.413491</td>\n",
              "      <td>0.352792</td>\n",
              "      <td>-0.225529</td>\n",
              "      <td>0.353234</td>\n",
              "      <td>0.086575</td>\n",
              "      <td>0.263974</td>\n",
              "      <td>0.840016</td>\n",
              "      <td>0.379274</td>\n",
              "      <td>-0.135659</td>\n",
              "      <td>0.445744</td>\n",
              "      <td>0.242938</td>\n",
              "      <td>-0.479606</td>\n",
              "      <td>0.050606</td>\n",
              "      <td>0.059206</td>\n",
              "      <td>-0.094526</td>\n",
              "      <td>-0.270256</td>\n",
              "      <td>0.080543</td>\n",
              "      <td>-0.301498</td>\n",
              "      <td>0.299762</td>\n",
              "      <td>-0.296878</td>\n",
              "      <td>-0.119959</td>\n",
              "      <td>0.464552</td>\n",
              "      <td>0.569265</td>\n",
              "      <td>0.218299</td>\n",
              "      <td>-0.786998</td>\n",
              "      <td>-0.331638</td>\n",
              "      <td>-0.271604</td>\n",
              "      <td>-0.407449</td>\n",
              "      <td>0.060154</td>\n",
              "      <td>0.455422</td>\n",
              "      <td>0.404388</td>\n",
              "    </tr>\n",
              "    <tr>\n",
              "      <th>2</th>\n",
              "      <td>0.769267</td>\n",
              "      <td>-0.261309</td>\n",
              "      <td>0.823631</td>\n",
              "      <td>-0.294262</td>\n",
              "      <td>-0.039134</td>\n",
              "      <td>-0.394921</td>\n",
              "      <td>-0.504443</td>\n",
              "      <td>0.486751</td>\n",
              "      <td>-0.285002</td>\n",
              "      <td>-0.365318</td>\n",
              "      <td>0.643396</td>\n",
              "      <td>0.178157</td>\n",
              "      <td>-0.314023</td>\n",
              "      <td>-0.549288</td>\n",
              "      <td>0.416143</td>\n",
              "      <td>-0.651169</td>\n",
              "      <td>-0.441695</td>\n",
              "      <td>0.099569</td>\n",
              "      <td>0.618936</td>\n",
              "      <td>0.398066</td>\n",
              "      <td>0.325331</td>\n",
              "      <td>0.028444</td>\n",
              "      <td>0.114136</td>\n",
              "      <td>-0.533256</td>\n",
              "      <td>0.100795</td>\n",
              "      <td>0.056511</td>\n",
              "      <td>0.836828</td>\n",
              "      <td>0.447610</td>\n",
              "      <td>-0.095906</td>\n",
              "      <td>-0.153727</td>\n",
              "      <td>0.260835</td>\n",
              "      <td>-0.407247</td>\n",
              "      <td>0.114020</td>\n",
              "      <td>-0.067179</td>\n",
              "      <td>0.580001</td>\n",
              "      <td>-0.004042</td>\n",
              "      <td>0.854286</td>\n",
              "      <td>0.259031</td>\n",
              "      <td>-0.106171</td>\n",
              "      <td>-0.305799</td>\n",
              "      <td>...</td>\n",
              "      <td>0.427773</td>\n",
              "      <td>0.799607</td>\n",
              "      <td>-0.549336</td>\n",
              "      <td>0.090591</td>\n",
              "      <td>-0.198922</td>\n",
              "      <td>0.195736</td>\n",
              "      <td>0.157957</td>\n",
              "      <td>0.584652</td>\n",
              "      <td>0.356541</td>\n",
              "      <td>-0.442383</td>\n",
              "      <td>0.303723</td>\n",
              "      <td>-0.215909</td>\n",
              "      <td>0.339207</td>\n",
              "      <td>0.129659</td>\n",
              "      <td>0.259664</td>\n",
              "      <td>0.841290</td>\n",
              "      <td>0.358249</td>\n",
              "      <td>-0.161460</td>\n",
              "      <td>0.443426</td>\n",
              "      <td>0.225453</td>\n",
              "      <td>-0.489818</td>\n",
              "      <td>0.059461</td>\n",
              "      <td>0.076043</td>\n",
              "      <td>-0.060593</td>\n",
              "      <td>-0.245187</td>\n",
              "      <td>0.092447</td>\n",
              "      <td>-0.286135</td>\n",
              "      <td>0.310124</td>\n",
              "      <td>-0.345357</td>\n",
              "      <td>-0.172597</td>\n",
              "      <td>0.505126</td>\n",
              "      <td>0.598452</td>\n",
              "      <td>0.217255</td>\n",
              "      <td>-0.711612</td>\n",
              "      <td>-0.356259</td>\n",
              "      <td>-0.254720</td>\n",
              "      <td>-0.354614</td>\n",
              "      <td>0.041928</td>\n",
              "      <td>0.467525</td>\n",
              "      <td>0.400152</td>\n",
              "    </tr>\n",
              "    <tr>\n",
              "      <th>3</th>\n",
              "      <td>-0.620579</td>\n",
              "      <td>-0.099209</td>\n",
              "      <td>-0.107510</td>\n",
              "      <td>0.398823</td>\n",
              "      <td>-0.704297</td>\n",
              "      <td>0.437214</td>\n",
              "      <td>0.785910</td>\n",
              "      <td>-1.302272</td>\n",
              "      <td>-0.612475</td>\n",
              "      <td>0.243462</td>\n",
              "      <td>-0.115222</td>\n",
              "      <td>0.413777</td>\n",
              "      <td>0.502825</td>\n",
              "      <td>-0.056071</td>\n",
              "      <td>-1.048623</td>\n",
              "      <td>0.411073</td>\n",
              "      <td>-0.401093</td>\n",
              "      <td>-3.063387</td>\n",
              "      <td>0.106645</td>\n",
              "      <td>0.427078</td>\n",
              "      <td>0.345168</td>\n",
              "      <td>0.031384</td>\n",
              "      <td>-0.561818</td>\n",
              "      <td>-0.076246</td>\n",
              "      <td>-0.474677</td>\n",
              "      <td>0.343013</td>\n",
              "      <td>1.843250</td>\n",
              "      <td>0.470708</td>\n",
              "      <td>-0.198929</td>\n",
              "      <td>0.029359</td>\n",
              "      <td>0.289392</td>\n",
              "      <td>0.573965</td>\n",
              "      <td>-0.601925</td>\n",
              "      <td>0.120501</td>\n",
              "      <td>-0.590043</td>\n",
              "      <td>-0.181074</td>\n",
              "      <td>-0.278223</td>\n",
              "      <td>0.143104</td>\n",
              "      <td>-0.534476</td>\n",
              "      <td>-0.057400</td>\n",
              "      <td>...</td>\n",
              "      <td>0.175021</td>\n",
              "      <td>-0.064035</td>\n",
              "      <td>-0.719035</td>\n",
              "      <td>0.394193</td>\n",
              "      <td>0.724353</td>\n",
              "      <td>0.510206</td>\n",
              "      <td>-0.043973</td>\n",
              "      <td>-0.228323</td>\n",
              "      <td>-0.438245</td>\n",
              "      <td>2.000589</td>\n",
              "      <td>0.409846</td>\n",
              "      <td>0.092057</td>\n",
              "      <td>0.242264</td>\n",
              "      <td>-0.512247</td>\n",
              "      <td>0.494762</td>\n",
              "      <td>0.380122</td>\n",
              "      <td>-0.736651</td>\n",
              "      <td>-0.114597</td>\n",
              "      <td>-0.368947</td>\n",
              "      <td>-0.293515</td>\n",
              "      <td>0.815657</td>\n",
              "      <td>-0.483516</td>\n",
              "      <td>0.155370</td>\n",
              "      <td>0.241767</td>\n",
              "      <td>0.235171</td>\n",
              "      <td>-0.130183</td>\n",
              "      <td>0.887547</td>\n",
              "      <td>0.366925</td>\n",
              "      <td>0.228319</td>\n",
              "      <td>0.470504</td>\n",
              "      <td>0.187413</td>\n",
              "      <td>-0.328805</td>\n",
              "      <td>0.642919</td>\n",
              "      <td>0.008046</td>\n",
              "      <td>-0.227374</td>\n",
              "      <td>1.077651</td>\n",
              "      <td>0.037076</td>\n",
              "      <td>-0.423753</td>\n",
              "      <td>0.025132</td>\n",
              "      <td>-0.534436</td>\n",
              "    </tr>\n",
              "    <tr>\n",
              "      <th>4</th>\n",
              "      <td>-0.414823</td>\n",
              "      <td>-0.635927</td>\n",
              "      <td>-0.168363</td>\n",
              "      <td>0.204977</td>\n",
              "      <td>-0.359367</td>\n",
              "      <td>0.267996</td>\n",
              "      <td>0.340700</td>\n",
              "      <td>-0.459147</td>\n",
              "      <td>0.103022</td>\n",
              "      <td>0.653587</td>\n",
              "      <td>-0.030151</td>\n",
              "      <td>-0.018544</td>\n",
              "      <td>0.540171</td>\n",
              "      <td>-0.071589</td>\n",
              "      <td>-1.518104</td>\n",
              "      <td>0.426200</td>\n",
              "      <td>0.126203</td>\n",
              "      <td>-1.459758</td>\n",
              "      <td>-0.372255</td>\n",
              "      <td>0.297586</td>\n",
              "      <td>-0.159065</td>\n",
              "      <td>0.152726</td>\n",
              "      <td>-0.263560</td>\n",
              "      <td>0.402611</td>\n",
              "      <td>-0.623115</td>\n",
              "      <td>0.259674</td>\n",
              "      <td>-0.375520</td>\n",
              "      <td>-0.148706</td>\n",
              "      <td>-0.405335</td>\n",
              "      <td>0.405485</td>\n",
              "      <td>0.409084</td>\n",
              "      <td>0.396358</td>\n",
              "      <td>-0.274483</td>\n",
              "      <td>0.167922</td>\n",
              "      <td>-0.275610</td>\n",
              "      <td>-0.169778</td>\n",
              "      <td>-0.180784</td>\n",
              "      <td>-0.037098</td>\n",
              "      <td>-0.102796</td>\n",
              "      <td>-0.143907</td>\n",
              "      <td>...</td>\n",
              "      <td>0.362177</td>\n",
              "      <td>-0.476263</td>\n",
              "      <td>0.159471</td>\n",
              "      <td>-0.241494</td>\n",
              "      <td>-0.062115</td>\n",
              "      <td>-0.385262</td>\n",
              "      <td>0.169125</td>\n",
              "      <td>-0.215646</td>\n",
              "      <td>-0.231334</td>\n",
              "      <td>0.525789</td>\n",
              "      <td>-0.223327</td>\n",
              "      <td>-0.093529</td>\n",
              "      <td>-0.197122</td>\n",
              "      <td>0.193389</td>\n",
              "      <td>0.039237</td>\n",
              "      <td>-0.246232</td>\n",
              "      <td>-0.232415</td>\n",
              "      <td>-0.261336</td>\n",
              "      <td>-0.673571</td>\n",
              "      <td>-0.057225</td>\n",
              "      <td>0.721375</td>\n",
              "      <td>-0.097261</td>\n",
              "      <td>-0.225245</td>\n",
              "      <td>0.599799</td>\n",
              "      <td>0.435519</td>\n",
              "      <td>-0.367488</td>\n",
              "      <td>0.380120</td>\n",
              "      <td>0.269556</td>\n",
              "      <td>0.216859</td>\n",
              "      <td>0.700396</td>\n",
              "      <td>-0.181492</td>\n",
              "      <td>-0.144799</td>\n",
              "      <td>0.500525</td>\n",
              "      <td>0.157795</td>\n",
              "      <td>0.006427</td>\n",
              "      <td>0.287094</td>\n",
              "      <td>0.149319</td>\n",
              "      <td>-0.124146</td>\n",
              "      <td>0.746460</td>\n",
              "      <td>-0.147818</td>\n",
              "    </tr>\n",
              "  </tbody>\n",
              "</table>\n",
              "<p>5 rows × 400 columns</p>\n",
              "</div>"
            ],
            "text/plain": [
              "        0         1         2    ...       397       398       399\n",
              "0 -0.304962 -0.854125  0.816927  ...  0.180209  0.072430 -0.176718\n",
              "1  0.746587 -0.287359  0.804313  ...  0.060154  0.455422  0.404388\n",
              "2  0.769267 -0.261309  0.823631  ...  0.041928  0.467525  0.400152\n",
              "3 -0.620579 -0.099209 -0.107510  ... -0.423753  0.025132 -0.534436\n",
              "4 -0.414823 -0.635927 -0.168363  ... -0.124146  0.746460 -0.147818\n",
              "\n",
              "[5 rows x 400 columns]"
            ]
          },
          "metadata": {
            "tags": []
          },
          "execution_count": 45
        }
      ]
    },
    {
      "cell_type": "code",
      "metadata": {
        "id": "4TO8O7Nwuan_",
        "colab_type": "code",
        "colab": {
          "base_uri": "https://localhost:8080/",
          "height": 34
        },
        "outputId": "8985642b-add3-44a9-f67b-e595e5c12f90"
      },
      "source": [
        "df2 = pd.DataFrame(itos)\n",
        "df2.shape"
      ],
      "execution_count": 46,
      "outputs": [
        {
          "output_type": "execute_result",
          "data": {
            "text/plain": [
              "(25000, 1)"
            ]
          },
          "metadata": {
            "tags": []
          },
          "execution_count": 46
        }
      ]
    },
    {
      "cell_type": "code",
      "metadata": {
        "id": "SmBo_we_ufbF",
        "colab_type": "code",
        "colab": {
          "base_uri": "https://localhost:8080/",
          "height": 204
        },
        "outputId": "e13329b2-c67f-44b8-d42c-b637cbb00cd4"
      },
      "source": [
        "df2.head()"
      ],
      "execution_count": 47,
      "outputs": [
        {
          "output_type": "execute_result",
          "data": {
            "text/html": [
              "<div>\n",
              "<style scoped>\n",
              "    .dataframe tbody tr th:only-of-type {\n",
              "        vertical-align: middle;\n",
              "    }\n",
              "\n",
              "    .dataframe tbody tr th {\n",
              "        vertical-align: top;\n",
              "    }\n",
              "\n",
              "    .dataframe thead th {\n",
              "        text-align: right;\n",
              "    }\n",
              "</style>\n",
              "<table border=\"1\" class=\"dataframe\">\n",
              "  <thead>\n",
              "    <tr style=\"text-align: right;\">\n",
              "      <th></th>\n",
              "      <th>0</th>\n",
              "    </tr>\n",
              "  </thead>\n",
              "  <tbody>\n",
              "    <tr>\n",
              "      <th>0</th>\n",
              "      <td>&lt;unk&gt;</td>\n",
              "    </tr>\n",
              "    <tr>\n",
              "      <th>1</th>\n",
              "      <td>&lt;s&gt;</td>\n",
              "    </tr>\n",
              "    <tr>\n",
              "      <th>2</th>\n",
              "      <td>&lt;/s&gt;</td>\n",
              "    </tr>\n",
              "    <tr>\n",
              "      <th>3</th>\n",
              "      <td>.</td>\n",
              "    </tr>\n",
              "    <tr>\n",
              "      <th>4</th>\n",
              "      <td>,</td>\n",
              "    </tr>\n",
              "  </tbody>\n",
              "</table>\n",
              "</div>"
            ],
            "text/plain": [
              "       0\n",
              "0  <unk>\n",
              "1    <s>\n",
              "2   </s>\n",
              "3      .\n",
              "4      ,"
            ]
          },
          "metadata": {
            "tags": []
          },
          "execution_count": 47
        }
      ]
    },
    {
      "cell_type": "code",
      "metadata": {
        "id": "rTlGdzEQuijm",
        "colab_type": "code",
        "colab": {}
      },
      "source": [
        "\n",
        "df2.to_csv('embedding_metadata.tsv', sep='\\t', index=False, header=False)"
      ],
      "execution_count": 48,
      "outputs": []
    },
    {
      "cell_type": "code",
      "metadata": {
        "id": "sVfNYp6vuk5w",
        "colab_type": "code",
        "colab": {}
      },
      "source": [
        "!cp -r 'embedding_metadata.tsv' 'drive/My Drive/nlp-telugu/ulmfit2/'"
      ],
      "execution_count": 50,
      "outputs": []
    },
    {
      "cell_type": "code",
      "metadata": {
        "id": "UjCDMBBduzt3",
        "colab_type": "code",
        "colab": {}
      },
      "source": [
        ""
      ],
      "execution_count": null,
      "outputs": []
    }
  ]
}