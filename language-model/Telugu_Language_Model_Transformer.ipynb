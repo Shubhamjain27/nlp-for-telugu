{
 "cells": [
  {
   "cell_type": "code",
   "execution_count": 1,
   "metadata": {
    "colab": {
     "base_uri": "https://localhost:8080/",
     "height": 122
    },
    "colab_type": "code",
    "id": "pa7e7zOZxrsn",
    "outputId": "c77b5654-66f5-4f53-8068-cd3f59483f1a"
   },
   "outputs": [
    {
     "name": "stdout",
     "output_type": "stream",
     "text": [
      "Collecting sentencepiece\n",
      "\u001b[?25l  Downloading https://files.pythonhosted.org/packages/74/f4/2d5214cbf13d06e7cb2c20d84115ca25b53ea76fa1f0ade0e3c9749de214/sentencepiece-0.1.85-cp36-cp36m-manylinux1_x86_64.whl (1.0MB)\n",
      "\r",
      "\u001b[K     |▎                               | 10kB 24.2MB/s eta 0:00:01\r",
      "\u001b[K     |▋                               | 20kB 6.4MB/s eta 0:00:01\r",
      "\u001b[K     |█                               | 30kB 9.1MB/s eta 0:00:01\r",
      "\u001b[K     |█▎                              | 40kB 5.8MB/s eta 0:00:01\r",
      "\u001b[K     |█▋                              | 51kB 7.1MB/s eta 0:00:01\r",
      "\u001b[K     |██                              | 61kB 8.4MB/s eta 0:00:01\r",
      "\u001b[K     |██▏                             | 71kB 9.5MB/s eta 0:00:01\r",
      "\u001b[K     |██▌                             | 81kB 7.7MB/s eta 0:00:01\r",
      "\u001b[K     |██▉                             | 92kB 8.5MB/s eta 0:00:01\r",
      "\u001b[K     |███▏                            | 102kB 9.3MB/s eta 0:00:01\r",
      "\u001b[K     |███▌                            | 112kB 9.3MB/s eta 0:00:01\r",
      "\u001b[K     |███▉                            | 122kB 9.3MB/s eta 0:00:01\r",
      "\u001b[K     |████                            | 133kB 9.3MB/s eta 0:00:01\r",
      "\u001b[K     |████▍                           | 143kB 9.3MB/s eta 0:00:01\r",
      "\u001b[K     |████▊                           | 153kB 9.3MB/s eta 0:00:01\r",
      "\u001b[K     |█████                           | 163kB 9.3MB/s eta 0:00:01\r",
      "\u001b[K     |█████▍                          | 174kB 9.3MB/s eta 0:00:01\r",
      "\u001b[K     |█████▊                          | 184kB 9.3MB/s eta 0:00:01\r",
      "\u001b[K     |██████                          | 194kB 9.3MB/s eta 0:00:01\r",
      "\u001b[K     |██████▎                         | 204kB 9.3MB/s eta 0:00:01\r",
      "\u001b[K     |██████▋                         | 215kB 9.3MB/s eta 0:00:01\r",
      "\u001b[K     |███████                         | 225kB 9.3MB/s eta 0:00:01\r",
      "\u001b[K     |███████▎                        | 235kB 9.3MB/s eta 0:00:01\r",
      "\u001b[K     |███████▋                        | 245kB 9.3MB/s eta 0:00:01\r",
      "\u001b[K     |███████▉                        | 256kB 9.3MB/s eta 0:00:01\r",
      "\u001b[K     |████████▏                       | 266kB 9.3MB/s eta 0:00:01\r",
      "\u001b[K     |████████▌                       | 276kB 9.3MB/s eta 0:00:01\r",
      "\u001b[K     |████████▉                       | 286kB 9.3MB/s eta 0:00:01\r",
      "\u001b[K     |█████████▏                      | 296kB 9.3MB/s eta 0:00:01\r",
      "\u001b[K     |█████████▌                      | 307kB 9.3MB/s eta 0:00:01\r",
      "\u001b[K     |█████████▊                      | 317kB 9.3MB/s eta 0:00:01\r",
      "\u001b[K     |██████████                      | 327kB 9.3MB/s eta 0:00:01\r",
      "\u001b[K     |██████████▍                     | 337kB 9.3MB/s eta 0:00:01\r",
      "\u001b[K     |██████████▊                     | 348kB 9.3MB/s eta 0:00:01\r",
      "\u001b[K     |███████████                     | 358kB 9.3MB/s eta 0:00:01\r",
      "\u001b[K     |███████████▍                    | 368kB 9.3MB/s eta 0:00:01\r",
      "\u001b[K     |███████████▋                    | 378kB 9.3MB/s eta 0:00:01\r",
      "\u001b[K     |████████████                    | 389kB 9.3MB/s eta 0:00:01\r",
      "\u001b[K     |████████████▎                   | 399kB 9.3MB/s eta 0:00:01\r",
      "\u001b[K     |████████████▋                   | 409kB 9.3MB/s eta 0:00:01\r",
      "\u001b[K     |█████████████                   | 419kB 9.3MB/s eta 0:00:01\r",
      "\u001b[K     |█████████████▎                  | 430kB 9.3MB/s eta 0:00:01\r",
      "\u001b[K     |█████████████▌                  | 440kB 9.3MB/s eta 0:00:01\r",
      "\u001b[K     |█████████████▉                  | 450kB 9.3MB/s eta 0:00:01\r",
      "\u001b[K     |██████████████▏                 | 460kB 9.3MB/s eta 0:00:01\r",
      "\u001b[K     |██████████████▌                 | 471kB 9.3MB/s eta 0:00:01\r",
      "\u001b[K     |██████████████▉                 | 481kB 9.3MB/s eta 0:00:01\r",
      "\u001b[K     |███████████████▏                | 491kB 9.3MB/s eta 0:00:01\r",
      "\u001b[K     |███████████████▍                | 501kB 9.3MB/s eta 0:00:01\r",
      "\u001b[K     |███████████████▊                | 512kB 9.3MB/s eta 0:00:01\r",
      "\u001b[K     |████████████████                | 522kB 9.3MB/s eta 0:00:01\r",
      "\u001b[K     |████████████████▍               | 532kB 9.3MB/s eta 0:00:01\r",
      "\u001b[K     |████████████████▊               | 542kB 9.3MB/s eta 0:00:01\r",
      "\u001b[K     |█████████████████               | 552kB 9.3MB/s eta 0:00:01\r",
      "\u001b[K     |█████████████████▎              | 563kB 9.3MB/s eta 0:00:01\r",
      "\u001b[K     |█████████████████▋              | 573kB 9.3MB/s eta 0:00:01\r",
      "\u001b[K     |██████████████████              | 583kB 9.3MB/s eta 0:00:01\r",
      "\u001b[K     |██████████████████▎             | 593kB 9.3MB/s eta 0:00:01\r",
      "\u001b[K     |██████████████████▋             | 604kB 9.3MB/s eta 0:00:01\r",
      "\u001b[K     |███████████████████             | 614kB 9.3MB/s eta 0:00:01\r",
      "\u001b[K     |███████████████████▏            | 624kB 9.3MB/s eta 0:00:01\r",
      "\u001b[K     |███████████████████▌            | 634kB 9.3MB/s eta 0:00:01\r",
      "\u001b[K     |███████████████████▉            | 645kB 9.3MB/s eta 0:00:01\r",
      "\u001b[K     |████████████████████▏           | 655kB 9.3MB/s eta 0:00:01\r",
      "\u001b[K     |████████████████████▌           | 665kB 9.3MB/s eta 0:00:01\r",
      "\u001b[K     |████████████████████▉           | 675kB 9.3MB/s eta 0:00:01\r",
      "\u001b[K     |█████████████████████▏          | 686kB 9.3MB/s eta 0:00:01\r",
      "\u001b[K     |█████████████████████▍          | 696kB 9.3MB/s eta 0:00:01\r",
      "\u001b[K     |█████████████████████▊          | 706kB 9.3MB/s eta 0:00:01\r",
      "\u001b[K     |██████████████████████          | 716kB 9.3MB/s eta 0:00:01\r",
      "\u001b[K     |██████████████████████▍         | 727kB 9.3MB/s eta 0:00:01\r",
      "\u001b[K     |██████████████████████▊         | 737kB 9.3MB/s eta 0:00:01\r",
      "\u001b[K     |███████████████████████         | 747kB 9.3MB/s eta 0:00:01\r",
      "\u001b[K     |███████████████████████▎        | 757kB 9.3MB/s eta 0:00:01\r",
      "\u001b[K     |███████████████████████▋        | 768kB 9.3MB/s eta 0:00:01\r",
      "\u001b[K     |████████████████████████        | 778kB 9.3MB/s eta 0:00:01\r",
      "\u001b[K     |████████████████████████▎       | 788kB 9.3MB/s eta 0:00:01\r",
      "\u001b[K     |████████████████████████▋       | 798kB 9.3MB/s eta 0:00:01\r",
      "\u001b[K     |█████████████████████████       | 808kB 9.3MB/s eta 0:00:01\r",
      "\u001b[K     |█████████████████████████▏      | 819kB 9.3MB/s eta 0:00:01\r",
      "\u001b[K     |█████████████████████████▌      | 829kB 9.3MB/s eta 0:00:01\r",
      "\u001b[K     |█████████████████████████▉      | 839kB 9.3MB/s eta 0:00:01\r",
      "\u001b[K     |██████████████████████████▏     | 849kB 9.3MB/s eta 0:00:01\r",
      "\u001b[K     |██████████████████████████▌     | 860kB 9.3MB/s eta 0:00:01\r",
      "\u001b[K     |██████████████████████████▉     | 870kB 9.3MB/s eta 0:00:01\r",
      "\u001b[K     |███████████████████████████     | 880kB 9.3MB/s eta 0:00:01\r",
      "\u001b[K     |███████████████████████████▍    | 890kB 9.3MB/s eta 0:00:01\r",
      "\u001b[K     |███████████████████████████▊    | 901kB 9.3MB/s eta 0:00:01\r",
      "\u001b[K     |████████████████████████████    | 911kB 9.3MB/s eta 0:00:01\r",
      "\u001b[K     |████████████████████████████▍   | 921kB 9.3MB/s eta 0:00:01\r",
      "\u001b[K     |████████████████████████████▊   | 931kB 9.3MB/s eta 0:00:01\r",
      "\u001b[K     |█████████████████████████████   | 942kB 9.3MB/s eta 0:00:01\r",
      "\u001b[K     |█████████████████████████████▎  | 952kB 9.3MB/s eta 0:00:01\r",
      "\u001b[K     |█████████████████████████████▋  | 962kB 9.3MB/s eta 0:00:01\r",
      "\u001b[K     |██████████████████████████████  | 972kB 9.3MB/s eta 0:00:01\r",
      "\u001b[K     |██████████████████████████████▎ | 983kB 9.3MB/s eta 0:00:01\r",
      "\u001b[K     |██████████████████████████████▋ | 993kB 9.3MB/s eta 0:00:01\r",
      "\u001b[K     |██████████████████████████████▉ | 1.0MB 9.3MB/s eta 0:00:01\r",
      "\u001b[K     |███████████████████████████████▏| 1.0MB 9.3MB/s eta 0:00:01\r",
      "\u001b[K     |███████████████████████████████▌| 1.0MB 9.3MB/s eta 0:00:01\r",
      "\u001b[K     |███████████████████████████████▉| 1.0MB 9.3MB/s eta 0:00:01\r",
      "\u001b[K     |████████████████████████████████| 1.0MB 9.3MB/s \n",
      "\u001b[?25hInstalling collected packages: sentencepiece\n",
      "Successfully installed sentencepiece-0.1.85\n"
     ]
    }
   ],
   "source": [
    "from fastai.text import *\n",
    "import numpy as np\n",
    "from sklearn.model_selection import train_test_split\n",
    "import pickle\n",
    "!pip install sentencepiece\n",
    "import sentencepiece as spm"
   ]
  },
  {
   "cell_type": "code",
   "execution_count": 2,
   "metadata": {
    "colab": {
     "base_uri": "https://localhost:8080/",
     "height": 34
    },
    "colab_type": "code",
    "id": "P54fvfBwyAt_",
    "outputId": "c242ccee-5281-42d1-9fca-15fd6ccd20bf"
   },
   "outputs": [
    {
     "data": {
      "text/plain": [
       "('1.0.60', '1.4.0')"
      ]
     },
     "execution_count": 2,
     "metadata": {
      "tags": []
     },
     "output_type": "execute_result"
    }
   ],
   "source": [
    "import fastai, torch\n",
    "fastai.__version__ , torch.__version__"
   ]
  },
  {
   "cell_type": "code",
   "execution_count": null,
   "metadata": {
    "colab": {},
    "colab_type": "code",
    "id": "qWl6kOp-yC_r"
   },
   "outputs": [],
   "source": [
    "df = pd.read_parquet('drive/My Drive/nlp-telugu/telugu_wikipedia_dataset.parquet')"
   ]
  },
  {
   "cell_type": "code",
   "execution_count": 4,
   "metadata": {
    "colab": {
     "base_uri": "https://localhost:8080/",
     "height": 34
    },
    "colab_type": "code",
    "id": "9uky3HYLyKoT",
    "outputId": "c487d052-c8a7-47be-c718-abde76d04b76"
   },
   "outputs": [
    {
     "data": {
      "text/plain": [
       "((90000, 2), Index(['title', 'text'], dtype='object'))"
      ]
     },
     "execution_count": 4,
     "metadata": {
      "tags": []
     },
     "output_type": "execute_result"
    }
   ],
   "source": [
    "df.shape, df.columns"
   ]
  },
  {
   "cell_type": "code",
   "execution_count": 5,
   "metadata": {
    "colab": {
     "base_uri": "https://localhost:8080/",
     "height": 34
    },
    "colab_type": "code",
    "id": "2Plc5oruyNFr",
    "outputId": "2ec54a85-6cc2-4ae5-b86c-03180532a101"
   },
   "outputs": [
    {
     "name": "stdout",
     "output_type": "stream",
     "text": [
      "83953\n"
     ]
    }
   ],
   "source": [
    "texts = (df['title'] + ' ' + df['text']).tolist()\n",
    "texts = [t for t in df['text'] if len(t.strip())>1]\n",
    "print(len(texts))"
   ]
  },
  {
   "cell_type": "code",
   "execution_count": null,
   "metadata": {
    "colab": {},
    "colab_type": "code",
    "id": "qx-Cp663yPqB"
   },
   "outputs": [],
   "source": [
    "df2 = pd.DataFrame(texts, columns = ['text'])"
   ]
  },
  {
   "cell_type": "code",
   "execution_count": 7,
   "metadata": {
    "colab": {
     "base_uri": "https://localhost:8080/",
     "height": 34
    },
    "colab_type": "code",
    "id": "LIA4xXGLySEi",
    "outputId": "a2c69b81-54ff-4c8b-d35a-1a13515e14f3"
   },
   "outputs": [
    {
     "data": {
      "text/plain": [
       "0"
      ]
     },
     "execution_count": 7,
     "metadata": {
      "tags": []
     },
     "output_type": "execute_result"
    }
   ],
   "source": [
    "del df, texts\n",
    "gc.collect()"
   ]
  },
  {
   "cell_type": "code",
   "execution_count": 8,
   "metadata": {
    "colab": {
     "base_uri": "https://localhost:8080/",
     "height": 34
    },
    "colab_type": "code",
    "id": "5sjRDA6KyUNg",
    "outputId": "9dea7aa5-962a-4882-b4cb-cc7763d838dc"
   },
   "outputs": [
    {
     "data": {
      "text/plain": [
       "((67162, 1), (16791, 1))"
      ]
     },
     "execution_count": 8,
     "metadata": {
      "tags": []
     },
     "output_type": "execute_result"
    }
   ],
   "source": [
    "from sklearn.model_selection import train_test_split\n",
    "train_df, test_df = train_test_split(df2, test_size=0.2)\n",
    "train_df.shape, test_df.shape"
   ]
  },
  {
   "cell_type": "code",
   "execution_count": null,
   "metadata": {
    "colab": {},
    "colab_type": "code",
    "id": "CpXvVbpLyWwE"
   },
   "outputs": [],
   "source": [
    "from inltk.tokenizer import TeluguTokenizer"
   ]
  },
  {
   "cell_type": "code",
   "execution_count": null,
   "metadata": {
    "colab": {},
    "colab_type": "code",
    "id": "cVv9GME9ynNm"
   },
   "outputs": [],
   "source": [
    "sp = spm.SentencePieceProcessor()\n",
    "sp.Load('tokenizer.model')\n",
    "itos = [sp.IdToPiece(int(i)) for i in range(25000)] # 25,000 is the vocab_size selected in sm tokenizer\n",
    "telugu_vocab = Vocab(itos)"
   ]
  },
  {
   "cell_type": "code",
   "execution_count": null,
   "metadata": {
    "colab": {},
    "colab_type": "code",
    "id": "ot7t0U0lypom"
   },
   "outputs": [],
   "source": [
    "tokenizer = Tokenizer(tok_func=TeluguTokenizer, lang='te')"
   ]
  },
  {
   "cell_type": "code",
   "execution_count": 12,
   "metadata": {
    "colab": {
     "base_uri": "https://localhost:8080/",
     "height": 170
    },
    "colab_type": "code",
    "id": "FFAG-pLTyrzH",
    "outputId": "9ca3733b-e4df-4cdd-c20e-a904e0584d1e"
   },
   "outputs": [
    {
     "data": {
      "text/plain": [
       "['xxunk',\n",
       " 'xxpad',\n",
       " 'xxbos',\n",
       " 'xxeos',\n",
       " 'xxfld',\n",
       " 'xxmaj',\n",
       " 'xxup',\n",
       " 'xxrep',\n",
       " 'xxwrep']"
      ]
     },
     "execution_count": 12,
     "metadata": {
      "tags": []
     },
     "output_type": "execute_result"
    }
   ],
   "source": [
    "tokenizer.special_cases"
   ]
  },
  {
   "cell_type": "code",
   "execution_count": null,
   "metadata": {
    "colab": {},
    "colab_type": "code",
    "id": "ZUdav3a8ytmz"
   },
   "outputs": [],
   "source": [
    "torch.cuda.set_device(0)"
   ]
  },
  {
   "cell_type": "code",
   "execution_count": 14,
   "metadata": {
    "colab": {
     "base_uri": "https://localhost:8080/",
     "height": 17
    },
    "colab_type": "code",
    "id": "UptKjr4HyvNl",
    "outputId": "6641701a-2b29-4c43-b6e2-2a7595817b9c"
   },
   "outputs": [
    {
     "data": {
      "text/html": [],
      "text/plain": [
       "<IPython.core.display.HTML object>"
      ]
     },
     "metadata": {
      "tags": []
     },
     "output_type": "display_data"
    },
    {
     "data": {
      "text/html": [],
      "text/plain": [
       "<IPython.core.display.HTML object>"
      ]
     },
     "metadata": {
      "tags": []
     },
     "output_type": "display_data"
    }
   ],
   "source": [
    "data_lm = TextLMDataBunch.from_df('/content/', train_df=train_df, valid_df=test_df,\n",
    "                                  text_cols=[\"text\"], bs=96,\n",
    "                                  tokenizer=tokenizer, vocab=telugu_vocab) # default bs=64\n",
    "data_lm.save('telugu_lm.data')\n"
   ]
  },
  {
   "cell_type": "code",
   "execution_count": 15,
   "metadata": {
    "colab": {
     "base_uri": "https://localhost:8080/",
     "height": 34
    },
    "colab_type": "code",
    "id": "1cHj5oqgyzO_",
    "outputId": "768f217c-1a72-4bc4-a09b-d84f2c9f97d5"
   },
   "outputs": [
    {
     "data": {
      "text/plain": [
       "96"
      ]
     },
     "execution_count": 15,
     "metadata": {
      "tags": []
     },
     "output_type": "execute_result"
    }
   ],
   "source": [
    "data_lm.batch_size"
   ]
  },
  {
   "cell_type": "code",
   "execution_count": 16,
   "metadata": {
    "colab": {
     "base_uri": "https://localhost:8080/",
     "height": 442
    },
    "colab_type": "code",
    "id": "EMc3Qyr1y2Uo",
    "outputId": "130d1ff7-fe61-42a9-968a-31cdba51112e"
   },
   "outputs": [
    {
     "data": {
      "text/html": [
       "<table border=\"1\" class=\"dataframe\">\n",
       "  <thead>\n",
       "    <tr style=\"text-align: right;\">\n",
       "      <th>idx</th>\n",
       "      <th>text</th>\n",
       "    </tr>\n",
       "  </thead>\n",
       "  <tbody>\n",
       "    <tr>\n",
       "      <td>0</td>\n",
       "      <td>▁ఇది ▁మండల ▁కేంద్రమైన ▁రావి క మతం ▁నుండి ▁10 ▁కి . ▁మీ . ▁దూరం ▁లోను , ▁సమీప ▁పట్టణమైన ▁అనకాపల్లి ▁నుండి ▁45 ▁కి . ▁మీ . ▁దూరంలోనూ ▁ఉంది . ▁2011 ▁భారత ▁జనగణన ▁గణాంకాల ▁ప్రకారం ▁ఈ ▁గ్రామం ▁39 52 ▁ఇళ్లతో , ▁146 69 ▁జనాభాతో ▁10 52 ▁హెక్టార్లలో ▁విస్తరించి ▁ఉంది . ▁గ్రామంలో ▁మగవారి ▁సంఖ్య ▁70 66 , ▁ఆడవారి ▁సంఖ్య ▁76 03 . ▁షెడ్యూల్డ్ ▁కులాల ▁సంఖ్య ▁1893 ▁కాగా ▁షెడ్యూల్డ్ ▁తెగల ▁సంఖ్య ▁35 . ▁గ్రామం ▁యొక్క</td>\n",
       "    </tr>\n",
       "    <tr>\n",
       "      <td>1</td>\n",
       "      <td>▁కంటే ▁ఎక్కువ ▁దూరంలో ▁ఉన్నాయి . ▁గ్రామంలో ▁కుళాయిల ▁ద్వారా ▁రక్షిత ▁మంచినీటి ▁సరఫరా ▁జరుగుతోంది . ▁బావుల ▁నీరు ▁కూడా ▁అందుబాటులో ▁ఉంది . ▁గ్రామంలో ▁ఏడాది ▁పొడుగునా ▁చేతిపంపుల ▁ద్వారా ▁నీరు ▁అందుతుంది . ▁బోరుబావుల ▁ద్వారా ▁కూడా ▁ఏడాది ▁పొడుగునా ▁నీరు ▁అందుతుంది . ▁చెరువు ▁ద్వారా ▁గ్రామానికి ▁తాగునీరు ▁లభిస్తుంది . ▁గ్రామంలో ▁మురుగునీటి ▁పారుదల ▁వ్యవస్థ ▁లేదు . ▁మురుగునీటి ని ▁నేరుగా ▁జలవనరుల్లోకి ▁వదులుతున్న ారు . ▁గ్రామంలో ▁సంపూర్ణ ▁పారిశుధ్య ▁పథకం ▁అమలవుతోంది . ▁సామాజిక ▁మరుగుదొడ్డి ▁సౌకర్యం ▁లేదు . ▁ఇంటింటిక ీ ▁తిరిగి ▁వ్యర్థాలను ▁సేకరించే</td>\n",
       "    </tr>\n",
       "    <tr>\n",
       "      <td>2</td>\n",
       "      <td>, ▁లక్నో , ▁ దారు ల్ ▁ఇస్లాం , ▁సుల్తాన్ ▁పూర్ , ▁తుగ్లక్ ▁పూర్ , ▁దౌ ల త ాబాదు , ▁ముల్ క్ - ఎ - తి ల ంగ్ ▁( తెలంగాణ ా ) ▁లలో ▁ముద్రించ ేవాడు . ▁ఇ ంతవరకూ ▁30 ▁రకాల ▁బిల్ లన్ ▁నాణేల ▁గూర్చి ▁తెలిసింది . ▁తుగ్లక్ ▁కాలం ▁నాటి ▁నాణెం ▁బలవంతంగా ▁ప్రవేశ ▁పెట్ట బడిన ▁నాణెం ▁తుగ్లక్ ▁అనీ , ▁పిచ్చి ▁తుగ్లక్ ▁అనీ , ▁తెలుగు ▁సినిమాలలో ▁సైతం , ▁ఇతడి ▁పేరు ▁ఒక ▁తరం లో</td>\n",
       "    </tr>\n",
       "    <tr>\n",
       "      <td>3</td>\n",
       "      <td>▁అతనిని ▁నా ▁గురువుగా ▁ , ▁' పథ ▁నిర్దేశ కు ని ' ▁గా ▁భావ ిస్తాను \" ▁అని ▁ఆయన ▁అన్నాడు . ▁' తిరు ప్పా వై ' ▁పై ▁తెలుగులో ▁శ్రీ బా ష్య ం ▁చేసిన ▁ఉపన్యాసాల ▁ నోట్స్ ▁తీసుకున్నాడు . ▁తరువాత ▁అతను ▁' తిరు ప్పా వై ' ▁ను ▁ఆంగ్లంలో కి ▁అనువదించాడు . ▁దీనిని ▁ఆంగ్ల ▁అనువాద ాన్ని ▁తిరుమల ▁తిరుపతి ▁దేవస్థాన ాలు ▁ప్రచురించ ాయి . ▁శ్రీ బా ష్య ం ▁' ▁వాల్మీకి ▁రామాయణం ▁' ▁గురించి ▁రాసిన ▁తెలుగు</td>\n",
       "    </tr>\n",
       "    <tr>\n",
       "      <td>4</td>\n",
       "      <td>▁జరిగిన ▁చాలా ▁నెలల ▁తరువాత ▁భారత్ ▁తన విగా ▁భావిస్తున్న ▁అ క్సా య్ ▁చి న్ ▁వంటి ▁అనేక ▁ప్రాంతాలను ▁చూప ిస్తూ ▁భారతదేశ ▁మ్యా పు లను ▁ప్రచురించ వలసినదిగా ▁నెహ్రూ ▁ఆదేశించాడు .[30] ▁ఈ ▁కొత్త ▁మ్యా పు ల్లో &lt;unk&gt; ▁n e f a ▁ప్రాంతంలోని ▁శిఖరాల ను ▁సరిహద్దు గా ▁సూచించారు . ▁ఈ ▁సరిహద్దు ▁మెక్ ▁మహా న్ ▁రేఖ కు ▁ఉత్తర ంగా ▁ఉన్నప్పటికీ ▁అలాగే ▁చూపించారు .[8] ▁1959 ▁లో ▁టిబెట్ ▁తిరుగుబాటు ▁విఫలమవ డం , ▁14 ▁వ ▁ద లై లా మా</td>\n",
       "    </tr>\n",
       "  </tbody>\n",
       "</table>"
      ],
      "text/plain": [
       "<IPython.core.display.HTML object>"
      ]
     },
     "metadata": {
      "tags": []
     },
     "output_type": "display_data"
    }
   ],
   "source": [
    "data_lm.show_batch()"
   ]
  },
  {
   "cell_type": "code",
   "execution_count": 17,
   "metadata": {
    "colab": {
     "base_uri": "https://localhost:8080/",
     "height": 34
    },
    "colab_type": "code",
    "id": "fFAAcH4vy389",
    "outputId": "14509d25-c37a-4992-8670-258661b2c31e"
   },
   "outputs": [
    {
     "data": {
      "text/plain": [
       "25000"
      ]
     },
     "execution_count": 17,
     "metadata": {
      "tags": []
     },
     "output_type": "execute_result"
    }
   ],
   "source": [
    "len(data_lm.vocab.itos)"
   ]
  },
  {
   "cell_type": "code",
   "execution_count": null,
   "metadata": {
    "colab": {},
    "colab_type": "code",
    "id": "UBeQXw1ty54U"
   },
   "outputs": [],
   "source": [
    "learn = language_model_learner(data_lm, TransformerXL, pretrained=False)"
   ]
  },
  {
   "cell_type": "code",
   "execution_count": 19,
   "metadata": {
    "colab": {
     "base_uri": "https://localhost:8080/",
     "height": 34
    },
    "colab_type": "code",
    "id": "mQNvNBofzzrr",
    "outputId": "8b4bcd97-9bb7-46bc-c045-1052ef282283"
   },
   "outputs": [
    {
     "data": {
      "text/plain": [
       "0"
      ]
     },
     "execution_count": 19,
     "metadata": {
      "tags": []
     },
     "output_type": "execute_result"
    }
   ],
   "source": [
    "gc.collect()"
   ]
  },
  {
   "cell_type": "code",
   "execution_count": null,
   "metadata": {
    "colab": {},
    "colab_type": "code",
    "id": "ODjUQyJ6z3XZ"
   },
   "outputs": [],
   "source": [
    "learn.lr_find()\n"
   ]
  },
  {
   "cell_type": "code",
   "execution_count": 21,
   "metadata": {
    "colab": {
     "base_uri": "https://localhost:8080/",
     "height": 279
    },
    "colab_type": "code",
    "id": "eWyhnX5Fz7BX",
    "outputId": "dab93e2d-7d51-431d-ba0b-832c0b146562"
   },
   "outputs": [
    {
     "data": {
      "image/png": "[encoded data removed]",
      "text/plain": [
       "<Figure size 432x288 with 1 Axes>"
      ]
     },
     "metadata": {
      "tags": []
     },
     "output_type": "display_data"
    }
   ],
   "source": [
    "learn.recorder.plot()"
   ]
  },
  {
   "cell_type": "code",
   "execution_count": 22,
   "metadata": {
    "colab": {
     "base_uri": "https://localhost:8080/",
     "height": 1000
    },
    "colab_type": "code",
    "id": "GyK6tD410VNQ",
    "outputId": "74774b4d-931b-4b57-e513-51002b5c9d92"
   },
   "outputs": [
    {
     "data": {
      "text/plain": [
       "SequentialRNN(\n",
       "  (0): TransformerXL(\n",
       "    (encoder): Embedding(25000, 410)\n",
       "    (pos_enc): PositionalEncoding()\n",
       "    (drop_emb): Dropout(p=0.1, inplace=False)\n",
       "    (layers): ModuleList(\n",
       "      (0): DecoderLayer(\n",
       "        (mhra): MultiHeadRelativeAttention(\n",
       "          (attention): Linear(in_features=410, out_features=1230, bias=False)\n",
       "          (out): Linear(in_features=410, out_features=410, bias=False)\n",
       "          (drop_att): Dropout(p=0.1, inplace=False)\n",
       "          (drop_res): Dropout(p=0.1, inplace=False)\n",
       "          (ln): LayerNorm((410,), eps=1e-05, elementwise_affine=True)\n",
       "          (r_attn): Linear(in_features=410, out_features=410, bias=False)\n",
       "        )\n",
       "        (ff): SequentialEx(\n",
       "          (layers): ModuleList(\n",
       "            (0): Linear(in_features=410, out_features=2100, bias=True)\n",
       "            (1): ReLU(inplace=True)\n",
       "            (2): Dropout(p=0.1, inplace=False)\n",
       "            (3): Linear(in_features=2100, out_features=410, bias=True)\n",
       "            (4): Dropout(p=0.1, inplace=False)\n",
       "            (5): MergeLayer()\n",
       "            (6): LayerNorm((410,), eps=1e-05, elementwise_affine=True)\n",
       "          )\n",
       "        )\n",
       "      )\n",
       "      (1): DecoderLayer(\n",
       "        (mhra): MultiHeadRelativeAttention(\n",
       "          (attention): Linear(in_features=410, out_features=1230, bias=False)\n",
       "          (out): Linear(in_features=410, out_features=410, bias=False)\n",
       "          (drop_att): Dropout(p=0.1, inplace=False)\n",
       "          (drop_res): Dropout(p=0.1, inplace=False)\n",
       "          (ln): LayerNorm((410,), eps=1e-05, elementwise_affine=True)\n",
       "          (r_attn): Linear(in_features=410, out_features=410, bias=False)\n",
       "        )\n",
       "        (ff): SequentialEx(\n",
       "          (layers): ModuleList(\n",
       "            (0): Linear(in_features=410, out_features=2100, bias=True)\n",
       "            (1): ReLU(inplace=True)\n",
       "            (2): Dropout(p=0.1, inplace=False)\n",
       "            (3): Linear(in_features=2100, out_features=410, bias=True)\n",
       "            (4): Dropout(p=0.1, inplace=False)\n",
       "            (5): MergeLayer()\n",
       "            (6): LayerNorm((410,), eps=1e-05, elementwise_affine=True)\n",
       "          )\n",
       "        )\n",
       "      )\n",
       "      (2): DecoderLayer(\n",
       "        (mhra): MultiHeadRelativeAttention(\n",
       "          (attention): Linear(in_features=410, out_features=1230, bias=False)\n",
       "          (out): Linear(in_features=410, out_features=410, bias=False)\n",
       "          (drop_att): Dropout(p=0.1, inplace=False)\n",
       "          (drop_res): Dropout(p=0.1, inplace=False)\n",
       "          (ln): LayerNorm((410,), eps=1e-05, elementwise_affine=True)\n",
       "          (r_attn): Linear(in_features=410, out_features=410, bias=False)\n",
       "        )\n",
       "        (ff): SequentialEx(\n",
       "          (layers): ModuleList(\n",
       "            (0): Linear(in_features=410, out_features=2100, bias=True)\n",
       "            (1): ReLU(inplace=True)\n",
       "            (2): Dropout(p=0.1, inplace=False)\n",
       "            (3): Linear(in_features=2100, out_features=410, bias=True)\n",
       "            (4): Dropout(p=0.1, inplace=False)\n",
       "            (5): MergeLayer()\n",
       "            (6): LayerNorm((410,), eps=1e-05, elementwise_affine=True)\n",
       "          )\n",
       "        )\n",
       "      )\n",
       "      (3): DecoderLayer(\n",
       "        (mhra): MultiHeadRelativeAttention(\n",
       "          (attention): Linear(in_features=410, out_features=1230, bias=False)\n",
       "          (out): Linear(in_features=410, out_features=410, bias=False)\n",
       "          (drop_att): Dropout(p=0.1, inplace=False)\n",
       "          (drop_res): Dropout(p=0.1, inplace=False)\n",
       "          (ln): LayerNorm((410,), eps=1e-05, elementwise_affine=True)\n",
       "          (r_attn): Linear(in_features=410, out_features=410, bias=False)\n",
       "        )\n",
       "        (ff): SequentialEx(\n",
       "          (layers): ModuleList(\n",
       "            (0): Linear(in_features=410, out_features=2100, bias=True)\n",
       "            (1): ReLU(inplace=True)\n",
       "            (2): Dropout(p=0.1, inplace=False)\n",
       "            (3): Linear(in_features=2100, out_features=410, bias=True)\n",
       "            (4): Dropout(p=0.1, inplace=False)\n",
       "            (5): MergeLayer()\n",
       "            (6): LayerNorm((410,), eps=1e-05, elementwise_affine=True)\n",
       "          )\n",
       "        )\n",
       "      )\n",
       "      (4): DecoderLayer(\n",
       "        (mhra): MultiHeadRelativeAttention(\n",
       "          (attention): Linear(in_features=410, out_features=1230, bias=False)\n",
       "          (out): Linear(in_features=410, out_features=410, bias=False)\n",
       "          (drop_att): Dropout(p=0.1, inplace=False)\n",
       "          (drop_res): Dropout(p=0.1, inplace=False)\n",
       "          (ln): LayerNorm((410,), eps=1e-05, elementwise_affine=True)\n",
       "          (r_attn): Linear(in_features=410, out_features=410, bias=False)\n",
       "        )\n",
       "        (ff): SequentialEx(\n",
       "          (layers): ModuleList(\n",
       "            (0): Linear(in_features=410, out_features=2100, bias=True)\n",
       "            (1): ReLU(inplace=True)\n",
       "            (2): Dropout(p=0.1, inplace=False)\n",
       "            (3): Linear(in_features=2100, out_features=410, bias=True)\n",
       "            (4): Dropout(p=0.1, inplace=False)\n",
       "            (5): MergeLayer()\n",
       "            (6): LayerNorm((410,), eps=1e-05, elementwise_affine=True)\n",
       "          )\n",
       "        )\n",
       "      )\n",
       "      (5): DecoderLayer(\n",
       "        (mhra): MultiHeadRelativeAttention(\n",
       "          (attention): Linear(in_features=410, out_features=1230, bias=False)\n",
       "          (out): Linear(in_features=410, out_features=410, bias=False)\n",
       "          (drop_att): Dropout(p=0.1, inplace=False)\n",
       "          (drop_res): Dropout(p=0.1, inplace=False)\n",
       "          (ln): LayerNorm((410,), eps=1e-05, elementwise_affine=True)\n",
       "          (r_attn): Linear(in_features=410, out_features=410, bias=False)\n",
       "        )\n",
       "        (ff): SequentialEx(\n",
       "          (layers): ModuleList(\n",
       "            (0): Linear(in_features=410, out_features=2100, bias=True)\n",
       "            (1): ReLU(inplace=True)\n",
       "            (2): Dropout(p=0.1, inplace=False)\n",
       "            (3): Linear(in_features=2100, out_features=410, bias=True)\n",
       "            (4): Dropout(p=0.1, inplace=False)\n",
       "            (5): MergeLayer()\n",
       "            (6): LayerNorm((410,), eps=1e-05, elementwise_affine=True)\n",
       "          )\n",
       "        )\n",
       "      )\n",
       "      (6): DecoderLayer(\n",
       "        (mhra): MultiHeadRelativeAttention(\n",
       "          (attention): Linear(in_features=410, out_features=1230, bias=False)\n",
       "          (out): Linear(in_features=410, out_features=410, bias=False)\n",
       "          (drop_att): Dropout(p=0.1, inplace=False)\n",
       "          (drop_res): Dropout(p=0.1, inplace=False)\n",
       "          (ln): LayerNorm((410,), eps=1e-05, elementwise_affine=True)\n",
       "          (r_attn): Linear(in_features=410, out_features=410, bias=False)\n",
       "        )\n",
       "        (ff): SequentialEx(\n",
       "          (layers): ModuleList(\n",
       "            (0): Linear(in_features=410, out_features=2100, bias=True)\n",
       "            (1): ReLU(inplace=True)\n",
       "            (2): Dropout(p=0.1, inplace=False)\n",
       "            (3): Linear(in_features=2100, out_features=410, bias=True)\n",
       "            (4): Dropout(p=0.1, inplace=False)\n",
       "            (5): MergeLayer()\n",
       "            (6): LayerNorm((410,), eps=1e-05, elementwise_affine=True)\n",
       "          )\n",
       "        )\n",
       "      )\n",
       "      (7): DecoderLayer(\n",
       "        (mhra): MultiHeadRelativeAttention(\n",
       "          (attention): Linear(in_features=410, out_features=1230, bias=False)\n",
       "          (out): Linear(in_features=410, out_features=410, bias=False)\n",
       "          (drop_att): Dropout(p=0.1, inplace=False)\n",
       "          (drop_res): Dropout(p=0.1, inplace=False)\n",
       "          (ln): LayerNorm((410,), eps=1e-05, elementwise_affine=True)\n",
       "          (r_attn): Linear(in_features=410, out_features=410, bias=False)\n",
       "        )\n",
       "        (ff): SequentialEx(\n",
       "          (layers): ModuleList(\n",
       "            (0): Linear(in_features=410, out_features=2100, bias=True)\n",
       "            (1): ReLU(inplace=True)\n",
       "            (2): Dropout(p=0.1, inplace=False)\n",
       "            (3): Linear(in_features=2100, out_features=410, bias=True)\n",
       "            (4): Dropout(p=0.1, inplace=False)\n",
       "            (5): MergeLayer()\n",
       "            (6): LayerNorm((410,), eps=1e-05, elementwise_affine=True)\n",
       "          )\n",
       "        )\n",
       "      )\n",
       "      (8): DecoderLayer(\n",
       "        (mhra): MultiHeadRelativeAttention(\n",
       "          (attention): Linear(in_features=410, out_features=1230, bias=False)\n",
       "          (out): Linear(in_features=410, out_features=410, bias=False)\n",
       "          (drop_att): Dropout(p=0.1, inplace=False)\n",
       "          (drop_res): Dropout(p=0.1, inplace=False)\n",
       "          (ln): LayerNorm((410,), eps=1e-05, elementwise_affine=True)\n",
       "          (r_attn): Linear(in_features=410, out_features=410, bias=False)\n",
       "        )\n",
       "        (ff): SequentialEx(\n",
       "          (layers): ModuleList(\n",
       "            (0): Linear(in_features=410, out_features=2100, bias=True)\n",
       "            (1): ReLU(inplace=True)\n",
       "            (2): Dropout(p=0.1, inplace=False)\n",
       "            (3): Linear(in_features=2100, out_features=410, bias=True)\n",
       "            (4): Dropout(p=0.1, inplace=False)\n",
       "            (5): MergeLayer()\n",
       "            (6): LayerNorm((410,), eps=1e-05, elementwise_affine=True)\n",
       "          )\n",
       "        )\n",
       "      )\n",
       "      (9): DecoderLayer(\n",
       "        (mhra): MultiHeadRelativeAttention(\n",
       "          (attention): Linear(in_features=410, out_features=1230, bias=False)\n",
       "          (out): Linear(in_features=410, out_features=410, bias=False)\n",
       "          (drop_att): Dropout(p=0.1, inplace=False)\n",
       "          (drop_res): Dropout(p=0.1, inplace=False)\n",
       "          (ln): LayerNorm((410,), eps=1e-05, elementwise_affine=True)\n",
       "          (r_attn): Linear(in_features=410, out_features=410, bias=False)\n",
       "        )\n",
       "        (ff): SequentialEx(\n",
       "          (layers): ModuleList(\n",
       "            (0): Linear(in_features=410, out_features=2100, bias=True)\n",
       "            (1): ReLU(inplace=True)\n",
       "            (2): Dropout(p=0.1, inplace=False)\n",
       "            (3): Linear(in_features=2100, out_features=410, bias=True)\n",
       "            (4): Dropout(p=0.1, inplace=False)\n",
       "            (5): MergeLayer()\n",
       "            (6): LayerNorm((410,), eps=1e-05, elementwise_affine=True)\n",
       "          )\n",
       "        )\n",
       "      )\n",
       "      (10): DecoderLayer(\n",
       "        (mhra): MultiHeadRelativeAttention(\n",
       "          (attention): Linear(in_features=410, out_features=1230, bias=False)\n",
       "          (out): Linear(in_features=410, out_features=410, bias=False)\n",
       "          (drop_att): Dropout(p=0.1, inplace=False)\n",
       "          (drop_res): Dropout(p=0.1, inplace=False)\n",
       "          (ln): LayerNorm((410,), eps=1e-05, elementwise_affine=True)\n",
       "          (r_attn): Linear(in_features=410, out_features=410, bias=False)\n",
       "        )\n",
       "        (ff): SequentialEx(\n",
       "          (layers): ModuleList(\n",
       "            (0): Linear(in_features=410, out_features=2100, bias=True)\n",
       "            (1): ReLU(inplace=True)\n",
       "            (2): Dropout(p=0.1, inplace=False)\n",
       "            (3): Linear(in_features=2100, out_features=410, bias=True)\n",
       "            (4): Dropout(p=0.1, inplace=False)\n",
       "            (5): MergeLayer()\n",
       "            (6): LayerNorm((410,), eps=1e-05, elementwise_affine=True)\n",
       "          )\n",
       "        )\n",
       "      )\n",
       "      (11): DecoderLayer(\n",
       "        (mhra): MultiHeadRelativeAttention(\n",
       "          (attention): Linear(in_features=410, out_features=1230, bias=False)\n",
       "          (out): Linear(in_features=410, out_features=410, bias=False)\n",
       "          (drop_att): Dropout(p=0.1, inplace=False)\n",
       "          (drop_res): Dropout(p=0.1, inplace=False)\n",
       "          (ln): LayerNorm((410,), eps=1e-05, elementwise_affine=True)\n",
       "          (r_attn): Linear(in_features=410, out_features=410, bias=False)\n",
       "        )\n",
       "        (ff): SequentialEx(\n",
       "          (layers): ModuleList(\n",
       "            (0): Linear(in_features=410, out_features=2100, bias=True)\n",
       "            (1): ReLU(inplace=True)\n",
       "            (2): Dropout(p=0.1, inplace=False)\n",
       "            (3): Linear(in_features=2100, out_features=410, bias=True)\n",
       "            (4): Dropout(p=0.1, inplace=False)\n",
       "            (5): MergeLayer()\n",
       "            (6): LayerNorm((410,), eps=1e-05, elementwise_affine=True)\n",
       "          )\n",
       "        )\n",
       "      )\n",
       "    )\n",
       "  )\n",
       "  (1): LinearDecoder(\n",
       "    (decoder): Linear(in_features=410, out_features=25000, bias=True)\n",
       "    (output_dp): RNNDropout()\n",
       "  )\n",
       ")"
      ]
     },
     "execution_count": 22,
     "metadata": {
      "tags": []
     },
     "output_type": "execute_result"
    }
   ],
   "source": [
    "learn.model\n"
   ]
  },
  {
   "cell_type": "code",
   "execution_count": null,
   "metadata": {
    "colab": {},
    "colab_type": "code",
    "id": "2XvV49BB0wPs"
   },
   "outputs": [],
   "source": [
    "import warnings\n",
    "warnings.filterwarnings('ignore')"
   ]
  },
  {
   "cell_type": "code",
   "execution_count": 26,
   "metadata": {
    "colab": {
     "base_uri": "https://localhost:8080/",
     "height": 80
    },
    "colab_type": "code",
    "id": "FqooHsD90XfJ",
    "outputId": "3311f37f-0b67-4b4e-a529-7c6e02a9f80d"
   },
   "outputs": [
    {
     "data": {
      "text/html": [
       "<table border=\"1\" class=\"dataframe\">\n",
       "  <thead>\n",
       "    <tr style=\"text-align: left;\">\n",
       "      <th>epoch</th>\n",
       "      <th>train_loss</th>\n",
       "      <th>valid_loss</th>\n",
       "      <th>accuracy</th>\n",
       "      <th>time</th>\n",
       "    </tr>\n",
       "  </thead>\n",
       "  <tbody>\n",
       "    <tr>\n",
       "      <td>0</td>\n",
       "      <td>3.418655</td>\n",
       "      <td>3.382510</td>\n",
       "      <td>0.479361</td>\n",
       "      <td>2:10:48</td>\n",
       "    </tr>\n",
       "  </tbody>\n",
       "</table>"
      ],
      "text/plain": [
       "<IPython.core.display.HTML object>"
      ]
     },
     "metadata": {
      "tags": []
     },
     "output_type": "display_data"
    }
   ],
   "source": [
    "learn.fit_one_cycle(1, 1e-3, moms=(0.8,0.7))\n",
    "learn.save('first', with_opt=True)"
   ]
  },
  {
   "cell_type": "code",
   "execution_count": null,
   "metadata": {
    "colab": {},
    "colab_type": "code",
    "id": "-sFHO0bC0dcA"
   },
   "outputs": [],
   "source": [
    "TEXT = \"ఇది మండల కేంద్రమైన రంపచోడవరం నుండి\"\n",
    "N_WORDS = 20\n",
    "N_SENTENCES = 2"
   ]
  },
  {
   "cell_type": "code",
   "execution_count": 28,
   "metadata": {
    "colab": {
     "base_uri": "https://localhost:8080/",
     "height": 71
    },
    "colab_type": "code",
    "id": "pKDoYnNAT8HZ",
    "outputId": "7d29f912-e06e-4329-eca9-b8e042d35a5f"
   },
   "outputs": [
    {
     "name": "stdout",
     "output_type": "stream",
     "text": [
      "ఇది మండల కేంద్రమైన రంపచోడవరం నుండి ▁25 ▁కి . ▁మీ . ▁దూరం ▁లోను , ▁సమీప ▁పట్టణమైన ▁తుని ▁నుండి ▁18 ▁కి . ▁మీ . ▁దూరంలోనూ ▁ఉంది .\n",
      "ఇది మండల కేంద్రమైన రంపచోడవరం నుండి ▁11 ▁కి . ▁మీ . ▁దూరం ▁లోను , ▁సమీప ▁పట్టణమైన ▁విశాఖపట్నం ▁నుండి ▁178 ▁కి . ▁మీ . ▁దూరంలోనూ ▁ఉంది .\n"
     ]
    }
   ],
   "source": [
    "print(\"\\n\".join(learn.predict(TEXT, N_WORDS, temperature=0.9) for _ in range(N_SENTENCES)))\n"
   ]
  },
  {
   "cell_type": "code",
   "execution_count": 29,
   "metadata": {
    "colab": {
     "base_uri": "https://localhost:8080/",
     "height": 34
    },
    "colab_type": "code",
    "id": "1bydPxVHT-BF",
    "outputId": "d9c2c04d-0cc2-4e5a-958c-1375691fe86e"
   },
   "outputs": [
    {
     "data": {
      "text/plain": [
       "29.44458434563783"
      ]
     },
     "execution_count": 29,
     "metadata": {
      "tags": []
     },
     "output_type": "execute_result"
    }
   ],
   "source": [
    "np.exp(3.38251)"
   ]
  },
  {
   "cell_type": "code",
   "execution_count": null,
   "metadata": {
    "colab": {},
    "colab_type": "code",
    "id": "8Pacb28zUFHd"
   },
   "outputs": [],
   "source": [
    "defaults.device = torch.device('cpu')\n",
    "learn.model.eval()\n",
    "learn.export()"
   ]
  },
  {
   "cell_type": "code",
   "execution_count": null,
   "metadata": {
    "colab": {},
    "colab_type": "code",
    "id": "RIq57UW4Ufdf"
   },
   "outputs": [],
   "source": [
    "!cp -r 'export.pkl' 'drive/My Drive/nlp-telugu/transformer/'"
   ]
  },
  {
   "cell_type": "code",
   "execution_count": null,
   "metadata": {
    "colab": {},
    "colab_type": "code",
    "id": "NtTf_oZvUnjq"
   },
   "outputs": [],
   "source": [
    "defaults.device = torch.device('cpu')"
   ]
  },
  {
   "cell_type": "code",
   "execution_count": 33,
   "metadata": {
    "colab": {
     "base_uri": "https://localhost:8080/",
     "height": 17
    },
    "colab_type": "code",
    "id": "qfjMBmvvUuTq",
    "outputId": "546d5611-1235-4c9e-f0eb-b1d221ded478"
   },
   "outputs": [
    {
     "data": {
      "text/html": [],
      "text/plain": [
       "<IPython.core.display.HTML object>"
      ]
     },
     "metadata": {
      "tags": []
     },
     "output_type": "display_data"
    },
    {
     "data": {
      "text/html": [],
      "text/plain": [
       "<IPython.core.display.HTML object>"
      ]
     },
     "metadata": {
      "tags": []
     },
     "output_type": "display_data"
    }
   ],
   "source": [
    "learn = load_learner('./')"
   ]
  },
  {
   "cell_type": "code",
   "execution_count": 34,
   "metadata": {
    "colab": {
     "base_uri": "https://localhost:8080/",
     "height": 34
    },
    "colab_type": "code",
    "id": "EB8eMrxfUx8Q",
    "outputId": "0a379324-4bbf-447a-cb9b-7f5b30df6dca"
   },
   "outputs": [
    {
     "data": {
      "text/plain": [
       "torch.Size([25000, 410])"
      ]
     },
     "execution_count": 34,
     "metadata": {
      "tags": []
     },
     "output_type": "execute_result"
    }
   ],
   "source": [
    "encoder = get_model(learn.model)[0]\n",
    "encoder.state_dict()['encoder.weight'].shape"
   ]
  },
  {
   "cell_type": "code",
   "execution_count": 35,
   "metadata": {
    "colab": {
     "base_uri": "https://localhost:8080/",
     "height": 34
    },
    "colab_type": "code",
    "id": "TCBPIlXtU6G2",
    "outputId": "e464e668-86c5-4abe-90c2-80f703bbff1a"
   },
   "outputs": [
    {
     "data": {
      "text/plain": [
       "(410,)"
      ]
     },
     "execution_count": 35,
     "metadata": {
      "tags": []
     },
     "output_type": "execute_result"
    }
   ],
   "source": [
    "embeddings = encoder.state_dict()['encoder.weight']\n",
    "embeddings = np.array(embeddings)\n",
    "embeddings[0].shape"
   ]
  },
  {
   "cell_type": "code",
   "execution_count": 36,
   "metadata": {
    "colab": {
     "base_uri": "https://localhost:8080/",
     "height": 34
    },
    "colab_type": "code",
    "id": "ZXEvwYPKb3VS",
    "outputId": "0ae18c96-b476-4618-f349-a31b2c5ac540"
   },
   "outputs": [
    {
     "data": {
      "text/plain": [
       "(25000, 410)"
      ]
     },
     "execution_count": 36,
     "metadata": {
      "tags": []
     },
     "output_type": "execute_result"
    }
   ],
   "source": [
    "df = pd.DataFrame(embeddings)\n",
    "df.shape"
   ]
  },
  {
   "cell_type": "code",
   "execution_count": null,
   "metadata": {
    "colab": {},
    "colab_type": "code",
    "id": "XJ8StDUKb-8o"
   },
   "outputs": [],
   "source": [
    "df.to_csv('embeddings.tsv', sep='\\t', index=False, header=False)"
   ]
  },
  {
   "cell_type": "code",
   "execution_count": 38,
   "metadata": {
    "colab": {
     "base_uri": "https://localhost:8080/",
     "height": 253
    },
    "colab_type": "code",
    "id": "-I_R9RFtcAVp",
    "outputId": "930be555-3ea1-443c-9ba0-0c08573bf848"
   },
   "outputs": [
    {
     "data": {
      "text/html": [
       "<div>\n",
       "<style scoped>\n",
       "    .dataframe tbody tr th:only-of-type {\n",
       "        vertical-align: middle;\n",
       "    }\n",
       "\n",
       "    .dataframe tbody tr th {\n",
       "        vertical-align: top;\n",
       "    }\n",
       "\n",
       "    .dataframe thead th {\n",
       "        text-align: right;\n",
       "    }\n",
       "</style>\n",
       "<table border=\"1\" class=\"dataframe\">\n",
       "  <thead>\n",
       "    <tr style=\"text-align: right;\">\n",
       "      <th></th>\n",
       "      <th>0</th>\n",
       "      <th>1</th>\n",
       "      <th>2</th>\n",
       "      <th>3</th>\n",
       "      <th>4</th>\n",
       "      <th>5</th>\n",
       "      <th>6</th>\n",
       "      <th>7</th>\n",
       "      <th>8</th>\n",
       "      <th>9</th>\n",
       "      <th>10</th>\n",
       "      <th>11</th>\n",
       "      <th>12</th>\n",
       "      <th>13</th>\n",
       "      <th>14</th>\n",
       "      <th>15</th>\n",
       "      <th>16</th>\n",
       "      <th>17</th>\n",
       "      <th>18</th>\n",
       "      <th>19</th>\n",
       "      <th>20</th>\n",
       "      <th>21</th>\n",
       "      <th>22</th>\n",
       "      <th>23</th>\n",
       "      <th>24</th>\n",
       "      <th>25</th>\n",
       "      <th>26</th>\n",
       "      <th>27</th>\n",
       "      <th>28</th>\n",
       "      <th>29</th>\n",
       "      <th>30</th>\n",
       "      <th>31</th>\n",
       "      <th>32</th>\n",
       "      <th>33</th>\n",
       "      <th>34</th>\n",
       "      <th>35</th>\n",
       "      <th>36</th>\n",
       "      <th>37</th>\n",
       "      <th>38</th>\n",
       "      <th>39</th>\n",
       "      <th>...</th>\n",
       "      <th>370</th>\n",
       "      <th>371</th>\n",
       "      <th>372</th>\n",
       "      <th>373</th>\n",
       "      <th>374</th>\n",
       "      <th>375</th>\n",
       "      <th>376</th>\n",
       "      <th>377</th>\n",
       "      <th>378</th>\n",
       "      <th>379</th>\n",
       "      <th>380</th>\n",
       "      <th>381</th>\n",
       "      <th>382</th>\n",
       "      <th>383</th>\n",
       "      <th>384</th>\n",
       "      <th>385</th>\n",
       "      <th>386</th>\n",
       "      <th>387</th>\n",
       "      <th>388</th>\n",
       "      <th>389</th>\n",
       "      <th>390</th>\n",
       "      <th>391</th>\n",
       "      <th>392</th>\n",
       "      <th>393</th>\n",
       "      <th>394</th>\n",
       "      <th>395</th>\n",
       "      <th>396</th>\n",
       "      <th>397</th>\n",
       "      <th>398</th>\n",
       "      <th>399</th>\n",
       "      <th>400</th>\n",
       "      <th>401</th>\n",
       "      <th>402</th>\n",
       "      <th>403</th>\n",
       "      <th>404</th>\n",
       "      <th>405</th>\n",
       "      <th>406</th>\n",
       "      <th>407</th>\n",
       "      <th>408</th>\n",
       "      <th>409</th>\n",
       "    </tr>\n",
       "  </thead>\n",
       "  <tbody>\n",
       "    <tr>\n",
       "      <th>0</th>\n",
       "      <td>0.168456</td>\n",
       "      <td>0.250936</td>\n",
       "      <td>0.103543</td>\n",
       "      <td>-0.172454</td>\n",
       "      <td>-0.041535</td>\n",
       "      <td>-0.045538</td>\n",
       "      <td>0.061835</td>\n",
       "      <td>0.232078</td>\n",
       "      <td>-0.176761</td>\n",
       "      <td>0.153493</td>\n",
       "      <td>-0.011900</td>\n",
       "      <td>-0.187309</td>\n",
       "      <td>-0.233887</td>\n",
       "      <td>-0.147983</td>\n",
       "      <td>0.106419</td>\n",
       "      <td>0.175018</td>\n",
       "      <td>-0.049819</td>\n",
       "      <td>0.120155</td>\n",
       "      <td>-0.034908</td>\n",
       "      <td>0.008750</td>\n",
       "      <td>0.110372</td>\n",
       "      <td>0.146387</td>\n",
       "      <td>-0.130649</td>\n",
       "      <td>-0.140149</td>\n",
       "      <td>-0.301429</td>\n",
       "      <td>-0.011796</td>\n",
       "      <td>-0.036150</td>\n",
       "      <td>0.098545</td>\n",
       "      <td>-0.143862</td>\n",
       "      <td>-0.007573</td>\n",
       "      <td>-0.024107</td>\n",
       "      <td>0.176211</td>\n",
       "      <td>-0.197268</td>\n",
       "      <td>-0.038095</td>\n",
       "      <td>0.152785</td>\n",
       "      <td>0.290618</td>\n",
       "      <td>0.189962</td>\n",
       "      <td>0.015514</td>\n",
       "      <td>-0.065284</td>\n",
       "      <td>0.271778</td>\n",
       "      <td>...</td>\n",
       "      <td>-0.117204</td>\n",
       "      <td>-0.101579</td>\n",
       "      <td>-0.035541</td>\n",
       "      <td>-0.161840</td>\n",
       "      <td>0.170878</td>\n",
       "      <td>-0.186538</td>\n",
       "      <td>-0.057563</td>\n",
       "      <td>0.220164</td>\n",
       "      <td>-0.063298</td>\n",
       "      <td>0.025578</td>\n",
       "      <td>0.113246</td>\n",
       "      <td>-0.269617</td>\n",
       "      <td>-0.105775</td>\n",
       "      <td>0.016454</td>\n",
       "      <td>0.209866</td>\n",
       "      <td>-0.133459</td>\n",
       "      <td>0.073281</td>\n",
       "      <td>-0.031263</td>\n",
       "      <td>0.415724</td>\n",
       "      <td>0.151674</td>\n",
       "      <td>-0.171354</td>\n",
       "      <td>0.145311</td>\n",
       "      <td>0.207090</td>\n",
       "      <td>-0.101140</td>\n",
       "      <td>-0.064890</td>\n",
       "      <td>0.122351</td>\n",
       "      <td>-0.207216</td>\n",
       "      <td>-0.157048</td>\n",
       "      <td>0.308678</td>\n",
       "      <td>-0.134374</td>\n",
       "      <td>-0.121189</td>\n",
       "      <td>0.199974</td>\n",
       "      <td>0.065700</td>\n",
       "      <td>-0.021250</td>\n",
       "      <td>0.177341</td>\n",
       "      <td>-0.291452</td>\n",
       "      <td>0.143585</td>\n",
       "      <td>0.061026</td>\n",
       "      <td>0.078947</td>\n",
       "      <td>0.155917</td>\n",
       "    </tr>\n",
       "    <tr>\n",
       "      <th>1</th>\n",
       "      <td>-0.220249</td>\n",
       "      <td>-0.188598</td>\n",
       "      <td>-0.345878</td>\n",
       "      <td>0.112449</td>\n",
       "      <td>0.023840</td>\n",
       "      <td>0.101148</td>\n",
       "      <td>-0.033054</td>\n",
       "      <td>-0.144005</td>\n",
       "      <td>0.423079</td>\n",
       "      <td>0.006505</td>\n",
       "      <td>0.057473</td>\n",
       "      <td>-0.179813</td>\n",
       "      <td>0.037655</td>\n",
       "      <td>-0.185398</td>\n",
       "      <td>0.250641</td>\n",
       "      <td>0.082603</td>\n",
       "      <td>0.149942</td>\n",
       "      <td>0.041512</td>\n",
       "      <td>0.287772</td>\n",
       "      <td>0.145918</td>\n",
       "      <td>-0.398235</td>\n",
       "      <td>-0.076679</td>\n",
       "      <td>0.004896</td>\n",
       "      <td>0.432985</td>\n",
       "      <td>0.510667</td>\n",
       "      <td>-0.146145</td>\n",
       "      <td>-0.098704</td>\n",
       "      <td>0.074941</td>\n",
       "      <td>0.277632</td>\n",
       "      <td>0.215441</td>\n",
       "      <td>0.297296</td>\n",
       "      <td>-0.539252</td>\n",
       "      <td>0.032001</td>\n",
       "      <td>-0.156901</td>\n",
       "      <td>-0.296157</td>\n",
       "      <td>-0.043996</td>\n",
       "      <td>-0.093337</td>\n",
       "      <td>-0.002278</td>\n",
       "      <td>-0.083677</td>\n",
       "      <td>-0.132683</td>\n",
       "      <td>...</td>\n",
       "      <td>0.282637</td>\n",
       "      <td>-0.166021</td>\n",
       "      <td>-0.158601</td>\n",
       "      <td>0.300466</td>\n",
       "      <td>0.112300</td>\n",
       "      <td>0.216768</td>\n",
       "      <td>0.205630</td>\n",
       "      <td>-0.148975</td>\n",
       "      <td>-0.038599</td>\n",
       "      <td>0.128784</td>\n",
       "      <td>0.289732</td>\n",
       "      <td>0.540004</td>\n",
       "      <td>0.057157</td>\n",
       "      <td>0.116406</td>\n",
       "      <td>-0.278459</td>\n",
       "      <td>0.028926</td>\n",
       "      <td>0.160498</td>\n",
       "      <td>0.369616</td>\n",
       "      <td>-0.340823</td>\n",
       "      <td>-0.306371</td>\n",
       "      <td>-0.129633</td>\n",
       "      <td>0.073938</td>\n",
       "      <td>0.078633</td>\n",
       "      <td>-0.234326</td>\n",
       "      <td>-0.124070</td>\n",
       "      <td>-0.263269</td>\n",
       "      <td>0.102418</td>\n",
       "      <td>0.114218</td>\n",
       "      <td>-0.386652</td>\n",
       "      <td>0.219183</td>\n",
       "      <td>0.151405</td>\n",
       "      <td>-0.082154</td>\n",
       "      <td>0.032850</td>\n",
       "      <td>0.136987</td>\n",
       "      <td>0.057410</td>\n",
       "      <td>0.396601</td>\n",
       "      <td>-0.054791</td>\n",
       "      <td>0.152203</td>\n",
       "      <td>-0.138082</td>\n",
       "      <td>-0.218087</td>\n",
       "    </tr>\n",
       "    <tr>\n",
       "      <th>2</th>\n",
       "      <td>-0.221206</td>\n",
       "      <td>-0.199571</td>\n",
       "      <td>-0.370084</td>\n",
       "      <td>0.126621</td>\n",
       "      <td>0.025762</td>\n",
       "      <td>0.102211</td>\n",
       "      <td>-0.025885</td>\n",
       "      <td>-0.145297</td>\n",
       "      <td>0.439236</td>\n",
       "      <td>0.002734</td>\n",
       "      <td>0.062535</td>\n",
       "      <td>-0.146085</td>\n",
       "      <td>0.033095</td>\n",
       "      <td>-0.180524</td>\n",
       "      <td>0.230115</td>\n",
       "      <td>0.067725</td>\n",
       "      <td>0.104293</td>\n",
       "      <td>0.011355</td>\n",
       "      <td>0.268263</td>\n",
       "      <td>0.128675</td>\n",
       "      <td>-0.382109</td>\n",
       "      <td>-0.101414</td>\n",
       "      <td>0.003718</td>\n",
       "      <td>0.431207</td>\n",
       "      <td>0.499839</td>\n",
       "      <td>-0.146140</td>\n",
       "      <td>-0.121144</td>\n",
       "      <td>0.075234</td>\n",
       "      <td>0.291923</td>\n",
       "      <td>0.218704</td>\n",
       "      <td>0.311183</td>\n",
       "      <td>-0.528095</td>\n",
       "      <td>0.006491</td>\n",
       "      <td>-0.182094</td>\n",
       "      <td>-0.291808</td>\n",
       "      <td>-0.052686</td>\n",
       "      <td>-0.086928</td>\n",
       "      <td>-0.000844</td>\n",
       "      <td>-0.067001</td>\n",
       "      <td>-0.154394</td>\n",
       "      <td>...</td>\n",
       "      <td>0.278401</td>\n",
       "      <td>-0.165919</td>\n",
       "      <td>-0.141969</td>\n",
       "      <td>0.323553</td>\n",
       "      <td>0.120676</td>\n",
       "      <td>0.203688</td>\n",
       "      <td>0.198097</td>\n",
       "      <td>-0.149195</td>\n",
       "      <td>-0.029635</td>\n",
       "      <td>0.115855</td>\n",
       "      <td>0.310436</td>\n",
       "      <td>0.559299</td>\n",
       "      <td>0.054549</td>\n",
       "      <td>0.121131</td>\n",
       "      <td>-0.262636</td>\n",
       "      <td>0.008539</td>\n",
       "      <td>0.157656</td>\n",
       "      <td>0.375482</td>\n",
       "      <td>-0.344028</td>\n",
       "      <td>-0.294314</td>\n",
       "      <td>-0.096098</td>\n",
       "      <td>0.078326</td>\n",
       "      <td>0.067719</td>\n",
       "      <td>-0.236995</td>\n",
       "      <td>-0.133526</td>\n",
       "      <td>-0.257952</td>\n",
       "      <td>0.152134</td>\n",
       "      <td>0.113968</td>\n",
       "      <td>-0.371074</td>\n",
       "      <td>0.230251</td>\n",
       "      <td>0.154383</td>\n",
       "      <td>-0.068707</td>\n",
       "      <td>0.040037</td>\n",
       "      <td>0.141809</td>\n",
       "      <td>0.047365</td>\n",
       "      <td>0.377341</td>\n",
       "      <td>-0.068729</td>\n",
       "      <td>0.150654</td>\n",
       "      <td>-0.132315</td>\n",
       "      <td>-0.233182</td>\n",
       "    </tr>\n",
       "    <tr>\n",
       "      <th>3</th>\n",
       "      <td>0.242197</td>\n",
       "      <td>0.227901</td>\n",
       "      <td>0.124662</td>\n",
       "      <td>-0.277270</td>\n",
       "      <td>-0.232432</td>\n",
       "      <td>-0.123582</td>\n",
       "      <td>0.156905</td>\n",
       "      <td>0.132048</td>\n",
       "      <td>-0.071580</td>\n",
       "      <td>0.291700</td>\n",
       "      <td>0.341650</td>\n",
       "      <td>-0.336078</td>\n",
       "      <td>0.234957</td>\n",
       "      <td>-0.267962</td>\n",
       "      <td>-0.150138</td>\n",
       "      <td>0.498996</td>\n",
       "      <td>-0.204145</td>\n",
       "      <td>0.190308</td>\n",
       "      <td>-0.114767</td>\n",
       "      <td>-0.302684</td>\n",
       "      <td>0.104871</td>\n",
       "      <td>0.153976</td>\n",
       "      <td>0.266462</td>\n",
       "      <td>0.026090</td>\n",
       "      <td>-0.279269</td>\n",
       "      <td>0.307306</td>\n",
       "      <td>0.234660</td>\n",
       "      <td>-0.319518</td>\n",
       "      <td>-0.252226</td>\n",
       "      <td>0.202733</td>\n",
       "      <td>-0.314149</td>\n",
       "      <td>0.250380</td>\n",
       "      <td>-0.181458</td>\n",
       "      <td>-0.226488</td>\n",
       "      <td>0.046271</td>\n",
       "      <td>0.208720</td>\n",
       "      <td>0.121967</td>\n",
       "      <td>0.165322</td>\n",
       "      <td>-0.166402</td>\n",
       "      <td>0.306722</td>\n",
       "      <td>...</td>\n",
       "      <td>0.330487</td>\n",
       "      <td>0.199902</td>\n",
       "      <td>0.206052</td>\n",
       "      <td>0.421675</td>\n",
       "      <td>0.217915</td>\n",
       "      <td>0.187960</td>\n",
       "      <td>-0.222863</td>\n",
       "      <td>0.280560</td>\n",
       "      <td>0.078392</td>\n",
       "      <td>-0.406938</td>\n",
       "      <td>0.242978</td>\n",
       "      <td>-0.308894</td>\n",
       "      <td>-0.220781</td>\n",
       "      <td>0.044165</td>\n",
       "      <td>0.208608</td>\n",
       "      <td>0.309743</td>\n",
       "      <td>-0.383192</td>\n",
       "      <td>0.097210</td>\n",
       "      <td>0.253515</td>\n",
       "      <td>0.050509</td>\n",
       "      <td>0.167909</td>\n",
       "      <td>0.162783</td>\n",
       "      <td>-0.200553</td>\n",
       "      <td>0.145214</td>\n",
       "      <td>-0.290715</td>\n",
       "      <td>0.222507</td>\n",
       "      <td>0.546484</td>\n",
       "      <td>-0.217568</td>\n",
       "      <td>0.209692</td>\n",
       "      <td>-0.378208</td>\n",
       "      <td>-0.124360</td>\n",
       "      <td>0.256641</td>\n",
       "      <td>0.113278</td>\n",
       "      <td>-0.003507</td>\n",
       "      <td>-0.099903</td>\n",
       "      <td>-0.221089</td>\n",
       "      <td>0.314803</td>\n",
       "      <td>-0.174330</td>\n",
       "      <td>0.278329</td>\n",
       "      <td>0.182786</td>\n",
       "    </tr>\n",
       "    <tr>\n",
       "      <th>4</th>\n",
       "      <td>-0.350860</td>\n",
       "      <td>0.209580</td>\n",
       "      <td>0.249544</td>\n",
       "      <td>-0.309201</td>\n",
       "      <td>-0.129478</td>\n",
       "      <td>-0.198060</td>\n",
       "      <td>-0.070070</td>\n",
       "      <td>0.255033</td>\n",
       "      <td>-0.190754</td>\n",
       "      <td>0.138165</td>\n",
       "      <td>-0.190626</td>\n",
       "      <td>-0.130491</td>\n",
       "      <td>-0.185311</td>\n",
       "      <td>0.217766</td>\n",
       "      <td>0.013398</td>\n",
       "      <td>-0.312968</td>\n",
       "      <td>-0.268597</td>\n",
       "      <td>0.204573</td>\n",
       "      <td>-0.187261</td>\n",
       "      <td>-0.336301</td>\n",
       "      <td>-0.085469</td>\n",
       "      <td>0.181205</td>\n",
       "      <td>-0.289729</td>\n",
       "      <td>-0.228696</td>\n",
       "      <td>-0.182647</td>\n",
       "      <td>0.071288</td>\n",
       "      <td>0.154409</td>\n",
       "      <td>-0.208595</td>\n",
       "      <td>-0.266289</td>\n",
       "      <td>-0.139497</td>\n",
       "      <td>-0.304062</td>\n",
       "      <td>0.265459</td>\n",
       "      <td>-0.235694</td>\n",
       "      <td>-0.053357</td>\n",
       "      <td>0.167990</td>\n",
       "      <td>0.215649</td>\n",
       "      <td>-0.359658</td>\n",
       "      <td>0.238233</td>\n",
       "      <td>-0.060195</td>\n",
       "      <td>0.198973</td>\n",
       "      <td>...</td>\n",
       "      <td>0.246661</td>\n",
       "      <td>0.242423</td>\n",
       "      <td>0.048206</td>\n",
       "      <td>-0.118178</td>\n",
       "      <td>-0.193151</td>\n",
       "      <td>-0.118218</td>\n",
       "      <td>-0.104784</td>\n",
       "      <td>0.267716</td>\n",
       "      <td>0.139456</td>\n",
       "      <td>-0.065833</td>\n",
       "      <td>-0.230980</td>\n",
       "      <td>-0.271742</td>\n",
       "      <td>-0.074918</td>\n",
       "      <td>-0.228812</td>\n",
       "      <td>0.200427</td>\n",
       "      <td>0.355319</td>\n",
       "      <td>-0.290702</td>\n",
       "      <td>0.254139</td>\n",
       "      <td>0.350473</td>\n",
       "      <td>0.202767</td>\n",
       "      <td>-0.050586</td>\n",
       "      <td>-0.002205</td>\n",
       "      <td>0.436756</td>\n",
       "      <td>0.288826</td>\n",
       "      <td>-0.283149</td>\n",
       "      <td>-0.032611</td>\n",
       "      <td>-0.313930</td>\n",
       "      <td>-0.305459</td>\n",
       "      <td>0.278596</td>\n",
       "      <td>-0.235510</td>\n",
       "      <td>-0.462689</td>\n",
       "      <td>0.287846</td>\n",
       "      <td>0.197053</td>\n",
       "      <td>0.021274</td>\n",
       "      <td>-0.147399</td>\n",
       "      <td>-0.338517</td>\n",
       "      <td>0.277038</td>\n",
       "      <td>-0.069104</td>\n",
       "      <td>0.260537</td>\n",
       "      <td>0.222542</td>\n",
       "    </tr>\n",
       "  </tbody>\n",
       "</table>\n",
       "<p>5 rows × 410 columns</p>\n",
       "</div>"
      ],
      "text/plain": [
       "        0         1         2    ...       407       408       409\n",
       "0  0.168456  0.250936  0.103543  ...  0.061026  0.078947  0.155917\n",
       "1 -0.220249 -0.188598 -0.345878  ...  0.152203 -0.138082 -0.218087\n",
       "2 -0.221206 -0.199571 -0.370084  ...  0.150654 -0.132315 -0.233182\n",
       "3  0.242197  0.227901  0.124662  ... -0.174330  0.278329  0.182786\n",
       "4 -0.350860  0.209580  0.249544  ... -0.069104  0.260537  0.222542\n",
       "\n",
       "[5 rows x 410 columns]"
      ]
     },
     "execution_count": 38,
     "metadata": {
      "tags": []
     },
     "output_type": "execute_result"
    }
   ],
   "source": [
    "df.head()"
   ]
  },
  {
   "cell_type": "code",
   "execution_count": 39,
   "metadata": {
    "colab": {
     "base_uri": "https://localhost:8080/",
     "height": 204
    },
    "colab_type": "code",
    "id": "g5yN5OoMcGLl",
    "outputId": "651b02d2-1907-40ac-8ce4-04a13c728f92"
   },
   "outputs": [
    {
     "data": {
      "text/html": [
       "<div>\n",
       "<style scoped>\n",
       "    .dataframe tbody tr th:only-of-type {\n",
       "        vertical-align: middle;\n",
       "    }\n",
       "\n",
       "    .dataframe tbody tr th {\n",
       "        vertical-align: top;\n",
       "    }\n",
       "\n",
       "    .dataframe thead th {\n",
       "        text-align: right;\n",
       "    }\n",
       "</style>\n",
       "<table border=\"1\" class=\"dataframe\">\n",
       "  <thead>\n",
       "    <tr style=\"text-align: right;\">\n",
       "      <th></th>\n",
       "      <th>0</th>\n",
       "    </tr>\n",
       "  </thead>\n",
       "  <tbody>\n",
       "    <tr>\n",
       "      <th>0</th>\n",
       "      <td>&lt;unk&gt;</td>\n",
       "    </tr>\n",
       "    <tr>\n",
       "      <th>1</th>\n",
       "      <td>&lt;s&gt;</td>\n",
       "    </tr>\n",
       "    <tr>\n",
       "      <th>2</th>\n",
       "      <td>&lt;/s&gt;</td>\n",
       "    </tr>\n",
       "    <tr>\n",
       "      <th>3</th>\n",
       "      <td>.</td>\n",
       "    </tr>\n",
       "    <tr>\n",
       "      <th>4</th>\n",
       "      <td>,</td>\n",
       "    </tr>\n",
       "  </tbody>\n",
       "</table>\n",
       "</div>"
      ],
      "text/plain": [
       "       0\n",
       "0  <unk>\n",
       "1    <s>\n",
       "2   </s>\n",
       "3      .\n",
       "4      ,"
      ]
     },
     "execution_count": 39,
     "metadata": {
      "tags": []
     },
     "output_type": "execute_result"
    }
   ],
   "source": [
    "df2 = pd.DataFrame(itos)\n",
    "df2.head()"
   ]
  },
  {
   "cell_type": "code",
   "execution_count": null,
   "metadata": {
    "colab": {},
    "colab_type": "code",
    "id": "HSKbgwagcJ3C"
   },
   "outputs": [],
   "source": [
    "\n",
    "df2.to_csv('embeddings_transformer_metadata.tsv', sep='\\t', index=False, header=False)"
   ]
  },
  {
   "cell_type": "code",
   "execution_count": 41,
   "metadata": {
    "colab": {
     "base_uri": "https://localhost:8080/",
     "height": 901
    },
    "colab_type": "code",
    "id": "5JxFJdwdcMi2",
    "outputId": "c75243bc-06e5-473e-faa5-5ae06f1998a1"
   },
   "outputs": [
    {
     "data": {
      "text/plain": [
       "tensor([-0.2202, -0.1886, -0.3459,  0.1124,  0.0238,  0.1011, -0.0331, -0.1440,\n",
       "         0.4231,  0.0065,  0.0575, -0.1798,  0.0377, -0.1854,  0.2506,  0.0826,\n",
       "         0.1499,  0.0415,  0.2878,  0.1459, -0.3982, -0.0767,  0.0049,  0.4330,\n",
       "         0.5107, -0.1461, -0.0987,  0.0749,  0.2776,  0.2154,  0.2973, -0.5393,\n",
       "         0.0320, -0.1569, -0.2962, -0.0440, -0.0933, -0.0023, -0.0837, -0.1327,\n",
       "         0.2630, -0.1078, -0.0708, -0.2659,  0.0255,  0.2543, -0.2125,  0.1126,\n",
       "         0.0870,  0.1243, -0.2405,  0.0682, -0.1645, -0.1054, -0.2425,  0.1273,\n",
       "         0.1253,  0.0968,  0.0073,  0.2726,  0.4936,  0.2044,  0.2313,  0.3345,\n",
       "         0.1602, -0.0084,  0.0213,  0.1490, -0.1309,  0.0580, -0.0496,  0.3038,\n",
       "        -0.1837, -0.0866,  0.3255, -0.1287,  0.2909, -0.1200, -0.1072, -0.3180,\n",
       "        -0.2481, -0.2994,  0.0709,  0.1636, -0.3588, -0.0551,  0.1584, -0.1144,\n",
       "        -0.0661, -0.0121, -0.0988,  0.1080,  0.0884, -0.0399,  0.2740,  0.0260,\n",
       "         0.4446, -0.1439, -0.1277, -0.2029,  0.2065,  0.0485, -0.2626, -0.0981,\n",
       "        -0.0604,  0.1054, -0.0348,  0.3148,  0.1755, -0.1252, -0.0890, -0.1598,\n",
       "         0.0501, -0.2093,  0.3049,  0.2028, -0.4852,  0.1101,  0.2994,  0.0917,\n",
       "         0.1052, -0.2258, -0.0584,  0.0439, -0.2646, -0.1952,  0.0239, -0.1993,\n",
       "        -0.3674, -0.0343, -0.2421, -0.1667, -0.0497, -0.2913, -0.2172,  0.1313,\n",
       "         0.0663,  0.0898, -0.0827, -0.0566,  0.0020, -0.0154, -0.2592,  0.1973,\n",
       "        -0.0079,  0.2128, -0.5962, -0.1508, -0.0607,  0.1220, -0.1792,  0.1995,\n",
       "        -0.3520,  0.0757,  0.0652, -0.3526,  0.2048,  0.0621,  0.1721, -0.1130,\n",
       "        -0.2007,  0.3504, -0.0621, -0.2884,  0.0954, -0.3039, -0.2067,  0.2590,\n",
       "         0.2779, -0.0124, -0.4596,  0.1060, -0.0214, -0.2112, -0.2159, -0.0167,\n",
       "        -0.2853,  0.0902, -0.0669,  0.2583,  0.0609, -0.0550, -0.1187, -0.3088,\n",
       "        -0.2191,  0.3084, -0.0918, -0.3645, -0.2140, -0.0890,  0.1263, -0.2261,\n",
       "         0.0214,  0.1310, -0.1579, -0.0442, -0.0276,  0.0566, -0.1040,  0.1113,\n",
       "        -0.1121,  0.4092, -0.2985, -0.4422,  0.0997,  0.1892,  0.0511, -0.1039,\n",
       "         0.4390,  0.2450, -0.0206, -0.1765,  0.0278,  0.5254, -0.0158, -0.1377,\n",
       "        -0.1845, -0.1768, -0.2186, -0.2542,  0.0207, -0.2900, -0.1420,  0.0339,\n",
       "        -0.0556, -0.1533, -0.0176, -0.2175, -0.3406, -0.1895,  0.0507,  0.4072,\n",
       "        -0.1962, -0.3094,  0.3710, -0.3235, -0.0561, -0.4511, -0.1537, -0.2298,\n",
       "         0.3334, -0.1913,  0.0023,  0.3425,  0.2943,  0.1227, -0.1058, -0.0854,\n",
       "         0.2880,  0.2984,  0.0721,  0.0491,  0.3039,  0.2709, -0.0575,  0.3290,\n",
       "         0.1491, -0.1797, -0.3234,  0.0424,  0.2266,  0.3917, -0.5896, -0.0577,\n",
       "         0.0659,  0.0779,  0.0051,  0.4180, -0.0251,  0.4702,  0.3890, -0.1146,\n",
       "        -0.2898, -0.2619, -0.2055, -0.1266,  0.2506, -0.3154,  0.0333, -0.0563,\n",
       "         0.1130, -0.2200, -0.2575,  0.0202, -0.0128, -0.2980,  0.0421, -0.4127,\n",
       "        -0.1101, -0.1915,  0.1475, -0.2435, -0.3135, -0.1098, -0.3925, -0.0332,\n",
       "         0.1237, -0.2716, -0.1407, -0.0700,  0.0261, -0.0355, -0.1455,  0.2710,\n",
       "         0.1668, -0.2129,  0.1965,  0.3360, -0.2341,  0.0875,  0.0307,  0.4980,\n",
       "         0.1162, -0.0492,  0.5545, -0.0122,  0.0992, -0.1633,  0.0695, -0.0138,\n",
       "        -0.0322, -0.1532, -0.0885, -0.0400,  0.2335, -0.3093,  0.0293, -0.4859,\n",
       "        -0.0044,  0.2104,  0.0512, -0.2785, -0.2534, -0.0073, -0.2519,  0.3947,\n",
       "        -0.3478,  0.2611, -0.3470,  0.0838, -0.1698,  0.0500,  0.0329,  0.3750,\n",
       "         0.2982,  0.0142, -0.0374, -0.1774,  0.1111, -0.2690,  0.0552,  0.3230,\n",
       "         0.1150, -0.1564,  0.1686, -0.2301, -0.0247,  0.0516,  0.2171,  0.1122,\n",
       "        -0.0195, -0.0464, -0.0920, -0.0278, -0.1797, -0.1997, -0.1284,  0.3314,\n",
       "        -0.1518, -0.0287,  0.2826, -0.1660, -0.1586,  0.3005,  0.1123,  0.2168,\n",
       "         0.2056, -0.1490, -0.0386,  0.1288,  0.2897,  0.5400,  0.0572,  0.1164,\n",
       "        -0.2785,  0.0289,  0.1605,  0.3696, -0.3408, -0.3064, -0.1296,  0.0739,\n",
       "         0.0786, -0.2343, -0.1241, -0.2633,  0.1024,  0.1142, -0.3867,  0.2192,\n",
       "         0.1514, -0.0822,  0.0329,  0.1370,  0.0574,  0.3966, -0.0548,  0.1522,\n",
       "        -0.1381, -0.2181])"
      ]
     },
     "execution_count": 41,
     "metadata": {
      "tags": []
     },
     "output_type": "execute_result"
    }
   ],
   "source": [
    "encoder.state_dict()['encoder.weight'][1]"
   ]
  },
  {
   "cell_type": "code",
   "execution_count": null,
   "metadata": {
    "colab": {},
    "colab_type": "code",
    "id": "L2NOT1LYcOVU"
   },
   "outputs": [],
   "source": [
    "!cp -r 'embeddings.tsv' 'drive/My Drive/nlp-telugu/transformer/'"
   ]
  },
  {
   "cell_type": "code",
   "execution_count": null,
   "metadata": {
    "colab": {},
    "colab_type": "code",
    "id": "esbMVK07cS9V"
   },
   "outputs": [],
   "source": []
  }
 ],
 "metadata": {
  "accelerator": "GPU",
  "colab": {
   "name": "telugu-tansformer.ipynb",
   "provenance": []
  },
  "kernelspec": {
   "display_name": "Python 3",
   "language": "python",
   "name": "python3"
  },
  "language_info": {
   "codemirror_mode": {
    "name": "ipython",
    "version": 3
   },
   "file_extension": ".py",
   "mimetype": "text/x-python",
   "name": "python",
   "nbconvert_exporter": "python",
   "pygments_lexer": "ipython3",
   "version": "3.7.1"
  }
 },
 "nbformat": 4,
 "nbformat_minor": 2
}
