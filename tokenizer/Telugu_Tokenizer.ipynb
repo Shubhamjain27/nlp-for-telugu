{
 "cells": [
  {
   "cell_type": "code",
   "execution_count": 1,
   "metadata": {
    "colab": {
     "base_uri": "https://localhost:8080/",
     "height": 122
    },
    "colab_type": "code",
    "id": "VzKSKcu9fdIr",
    "outputId": "f2e39c8e-2904-491f-d00e-02d061f1781c"
   },
   "outputs": [
    {
     "name": "stdout",
     "output_type": "stream",
     "text": [
      "Collecting sentencepiece\n",
      "\u001b[?25l  Downloading https://files.pythonhosted.org/packages/74/f4/2d5214cbf13d06e7cb2c20d84115ca25b53ea76fa1f0ade0e3c9749de214/sentencepiece-0.1.85-cp36-cp36m-manylinux1_x86_64.whl (1.0MB)\n",
      "\u001b[K     |████████████████████████████████| 1.0MB 2.8MB/s \n",
      "\u001b[?25hInstalling collected packages: sentencepiece\n",
      "Successfully installed sentencepiece-0.1.85\n"
     ]
    }
   ],
   "source": [
    "\n",
    "import pandas as pd\n",
    "import numpy as np\n",
    "import re\n",
    "import os\n",
    "!pip install sentencepiece\n",
    "import sentencepiece as spm\n",
    "import pickle\n",
    "import pathlib\n"
   ]
  },
  {
   "cell_type": "code",
   "execution_count": 2,
   "metadata": {
    "colab": {
     "base_uri": "https://localhost:8080/",
     "height": 34
    },
    "colab_type": "code",
    "id": "Vx8r9Y_efwQ-",
    "outputId": "34f91e38-2818-4470-8daa-d2b7681232e3"
   },
   "outputs": [
    {
     "data": {
      "text/plain": [
       "((90000, 2), Index(['title', 'text'], dtype='object'))"
      ]
     },
     "execution_count": 2,
     "metadata": {
      "tags": []
     },
     "output_type": "execute_result"
    }
   ],
   "source": [
    "tel_df = pd.read_parquet('drive/My Drive/nlp-telugu/telugu_wikipedia_dataset.parquet')\n",
    "tel_df.shape, tel_df.columns"
   ]
  },
  {
   "cell_type": "code",
   "execution_count": 3,
   "metadata": {
    "colab": {
     "base_uri": "https://localhost:8080/",
     "height": 34
    },
    "colab_type": "code",
    "id": "lSvY_kwFf7lP",
    "outputId": "79ef066b-2a6e-45c8-ee81-c6ba9d546437"
   },
   "outputs": [
    {
     "name": "stdout",
     "output_type": "stream",
     "text": [
      "83953\n"
     ]
    }
   ],
   "source": [
    "texts = (tel_df['title'] + ' ' + tel_df['text']).tolist()\n",
    "texts = [t for t in tel_df['text'] if len(t.strip())>1]\n",
    "print(len(texts))"
   ]
  },
  {
   "cell_type": "code",
   "execution_count": null,
   "metadata": {
    "colab": {},
    "colab_type": "code",
    "id": "I9Pua_sUgbzV"
   },
   "outputs": [],
   "source": [
    "\n",
    "def preprocess(article):\n",
    "    article = re.sub(r'^https?:\\/\\/.*[\\r\\n]*', '', article)\n",
    "    article = article.replace(u'\\ufeff',' ')\n",
    "    article = article.replace(u'\\xa0', u' ')\n",
    "    article = article.replace('  ', ' ');\n",
    "    article = article.replace(' , ', ', ');\n",
    "    return article"
   ]
  },
  {
   "cell_type": "code",
   "execution_count": 11,
   "metadata": {
    "colab": {
     "base_uri": "https://localhost:8080/",
     "height": 34
    },
    "colab_type": "code",
    "id": "gKHlv-ZHg2f4",
    "outputId": "ffcabedb-aaee-4906-d290-207db3bcac3e"
   },
   "outputs": [
    {
     "name": "stdout",
     "output_type": "stream",
     "text": [
      "1230333\n"
     ]
    }
   ],
   "source": [
    "sentences = []\n",
    "for t in texts:\n",
    "    t = t.strip('\\\\n')\n",
    "    ts = t.split('\\n')\n",
    "    ts = [s.strip() for s in ts if len(s) > 1]\n",
    "    ts = [preprocess(s) for s in ts]\n",
    "    sentences.extend(ts)\n",
    "print(len(sentences))"
   ]
  },
  {
   "cell_type": "code",
   "execution_count": null,
   "metadata": {
    "colab": {},
    "colab_type": "code",
    "id": "-JB9mZucgdLW"
   },
   "outputs": [],
   "source": [
    "tel_path = os.path.join('./', 'TeluguWikiSentences.txt')\n",
    "with open(tel_path, 'w') as f:\n",
    "    f.write('\\n'.join(sentences))"
   ]
  },
  {
   "cell_type": "code",
   "execution_count": 13,
   "metadata": {
    "colab": {
     "base_uri": "https://localhost:8080/",
     "height": 34
    },
    "colab_type": "code",
    "id": "r-nk_PqBghkJ",
    "outputId": "e5347ae9-1845-4ee6-f99f-4c5917eeb937"
   },
   "outputs": [
    {
     "data": {
      "text/plain": [
       "True"
      ]
     },
     "execution_count": 13,
     "metadata": {
      "tags": []
     },
     "output_type": "execute_result"
    }
   ],
   "source": [
    "spm.SentencePieceTrainer.Train(f'--input={tel_path} --model_prefix=telugu_tok --vocab_size=25000')"
   ]
  },
  {
   "cell_type": "code",
   "execution_count": 14,
   "metadata": {
    "colab": {
     "base_uri": "https://localhost:8080/",
     "height": 34
    },
    "colab_type": "code",
    "id": "BVSv9Vl8gn49",
    "outputId": "7a30151e-c2e5-4ab6-c2f9-0b47113e9d66"
   },
   "outputs": [
    {
     "data": {
      "text/plain": [
       "True"
      ]
     },
     "execution_count": 14,
     "metadata": {
      "tags": []
     },
     "output_type": "execute_result"
    }
   ],
   "source": [
    "sp = spm.SentencePieceProcessor()\n",
    "sp.Load(\"telugu_tok.model\")"
   ]
  },
  {
   "cell_type": "code",
   "execution_count": 15,
   "metadata": {
    "colab": {
     "base_uri": "https://localhost:8080/",
     "height": 377
    },
    "colab_type": "code",
    "id": "yLv_CZ54gqvR",
    "outputId": "edbb3611-012a-4ee2-f274-7bd7e93aa978"
   },
   "outputs": [
    {
     "name": "stdout",
     "output_type": "stream",
     "text": [
      "\n",
      "\n",
      "వేములకొండ, తూర్పు గోదావరి జిల్లా, రంపచోడవరం మండలానికి చెందిన గ్రామం.[1]. పిన్ కోడ్: 533 288.\n",
      "['▁వేముల', 'కొండ', ',', '▁తూర్పు', '▁గోదావరి', '▁జిల్లా', ',', '▁రంపచోడవరం', '▁మండలానికి', '▁చెందిన', '▁గ్రామం', '.[1]', '.', '▁పిన్', '▁కోడ్', ':', '▁533', '▁28', '8.']\n",
      "\n",
      "\n",
      "ఇది మండల కేంద్రమైన రంపచోడవరం నుండి 12 కి. మీ. దూరం లోను, సమీప పట్టణమైన రాజమహేంద్రవరం నుండి 68 కి. మీ. దూరంలోనూ ఉంది. 2011 భారత జనగణన గణాంకాల ప్రకారం ఈ గ్రామం 75 ఇళ్లతో, 232 జనాభాతో 76 హెక్టార్లలో విస్తరించి ఉంది. గ్రామంలో మగవారి సంఖ్య 117, ఆడవారి సంఖ్య 115. షెడ్యూల్డ్ కులాల సంఖ్య 0 కాగా షెడ్యూల్డ్ తెగల సంఖ్య 219. గ్రామం యొక్క జనగణన లొకేషన్ కోడ్ 587154[2].పిన్ కోడ్: 533288.\n",
      "['▁ఇది', '▁మండల', '▁కేంద్రమైన', '▁రంపచోడవరం', '▁నుండి', '▁12', '▁కి', '.', '▁మీ', '.', '▁దూరం', '▁లోను', ',', '▁సమీప', '▁పట్టణమైన', '▁రాజమహేంద్రవరం', '▁నుండి', '▁68', '▁కి', '.', '▁మీ', '.', '▁దూరంలోనూ', '▁ఉంది', '.', '▁2011', '▁భారత', '▁జనగణన', '▁గణాంకాల', '▁ప్రకారం', '▁ఈ', '▁గ్రామం', '▁75', '▁ఇళ్లతో', ',', '▁', '232', '▁జనాభాతో', '▁76', '▁హెక్టార్లలో', '▁విస్తరించి', '▁ఉంది', '.', '▁గ్రామంలో', '▁మగవారి', '▁సంఖ్య', '▁117', ',', '▁ఆడవారి', '▁సంఖ్య', '▁115', '.', '▁షెడ్యూల్డ్', '▁కులాల', '▁సంఖ్య', '▁0', '▁కాగా', '▁షెడ్యూల్డ్', '▁తెగల', '▁సంఖ్య', '▁2', '19', '.', '▁గ్రామం', '▁యొక్క', '▁జనగణన', '▁లొకేషన్', '▁కోడ్', '▁58', '71', '54[2].', 'పిన్', '▁కోడ్', ':', '▁533', '28', '8.']\n",
      "\n",
      "\n",
      "గ్రామంలో ప్రభుత్వ ప్రాథమిక పాఠశాల ఒకటి ఉంది.సమీప బాలబడి, ప్రాథమికోన్నత పాఠశాల రంపచోడవరంలోను, మాధ్యమిక పాఠశాల కాకవాడలోనూ ఉన్నాయి.సమీప జూనియర్ కళాశాల పెదగెద్దాడలోను, ప్రభుత్వ ఆర్ట్స్ / సైన్స్ డిగ్రీ కళాశాల, ఇంజనీరింగ్ కళాశాల‌లు రంపచోడవరంలోనూ ఉన్నాయి. సమీప వైద్య కళాశాల, మేనేజిమెంటు కళాశాల కాకినాడలోను, పాలీటెక్నిక్ ఈర్లపల్లిలోనూ ఉన్నాయి.సమీప వృత్తి విద్యా శిక్షణ పాఠశాల రంపచోడవరంలోను, అనియత విద్యా కేంద్రం కాకినాడలోను, దివ్యాంగుల ప్రత్యేక పాఠశాల రాజమహేంద్రవరం లోనూ ఉన్నాయి.\n",
      "['▁గ్రామంలో', '▁ప్రభుత్వ', '▁ప్రాథమిక', '▁పాఠశాల', '▁ఒకటి', '▁ఉంది', '.', 'సమీప', '▁బాలబడి', ',', '▁ప్రాథమికోన్నత', '▁పాఠశాల', '▁రంపచోడవరంలో', 'ను', ',', '▁మాధ్యమిక', '▁పాఠశాల', '▁కాక', 'వాడ', 'లోనూ', '▁ఉన్నాయి', '.', 'సమీప', '▁జూనియర్', '▁కళాశాల', '▁పెద', 'గె', 'ద్ద', 'ాడలో', 'ను', ',', '▁ప్రభుత్వ', '▁ఆర్ట్స్', '▁/', '▁సైన్స్', '▁డిగ్రీ', '▁కళాశాల', ',', '▁ఇంజనీరింగ్', '▁కళాశాల', '▁లు', '▁రంపచోడవరం', 'లోనూ', '▁ఉన్నాయి', '.', '▁సమీప', '▁వైద్య', '▁కళాశాల', ',', '▁మేనేజిమెంటు', '▁కళాశాల', '▁కాకినాడలోను', ',', '▁పాలీటెక్నిక్', '▁ఈ', 'ర్ల', 'పల్లిలోనూ', '▁ఉన్నాయి', '.', 'సమీప', '▁వృత్తి', '▁విద్యా', '▁శిక్షణ', '▁పాఠశాల', '▁రంపచోడవరంలో', 'ను', ',', '▁అనియత', '▁విద్యా', '▁కేంద్రం', '▁కాకినాడలోను', ',', '▁దివ్యాంగుల', '▁ప్రత్యేక', '▁పాఠశాల', '▁రాజమహేంద్రవరం', '▁లోనూ', '▁ఉన్నాయి', '.']\n",
      "\n",
      "\n",
      "సమీప సామాజిక ఆరోగ్య కేంద్రం, ప్రాథమిక ఆరోగ్య కేంద్రం, ప్రాథమిక ఆరోగ్య ఉప కేంద్రం, మాతా శిశు సంరక్షణ కేంద్రం, టి. బి వైద్యశాల గ్రామం నుండి 10 కి.మీ. కంటే ఎక్కువ దూరంలో ఉన్నాయి. అలోపతి ఆసుపత్రి, ప్రత్యామ్నాయ ఔషధ ఆసుపత్రి, డిస్పెన్సరీ, పశు వైద్యశాల, సంచార వైద్య శాల, కుటుంబ సంక్షేమ కేంద్రం గ్రామం నుండి 10 కి.మీ. కంటే ఎక్కువ దూరంలో ఉన్నాయి.\n",
      "['▁సమీప', '▁సామాజిక', '▁ఆరోగ్య', '▁కేంద్రం', ',', '▁ప్రాథమిక', '▁ఆరోగ్య', '▁కేంద్రం', ',', '▁ప్రాథమిక', '▁ఆరోగ్య', '▁ఉప', '▁కేంద్రం', ',', '▁మాతా', '▁శిశు', '▁సంరక్షణ', '▁కేంద్రం', ',', '▁టి', '.', '▁బి', '▁వైద్యశాల', '▁గ్రామం', '▁నుండి', '▁10', '▁కి', '.', 'మీ', '.', '▁కంటే', '▁ఎక్కువ', '▁దూరంలో', '▁ఉన్నాయి', '.', '▁అలోపతి', '▁ఆసుపత్రి', ',', '▁ప్రత్యామ్నాయ', '▁ఔషధ', '▁ఆసుపత్రి', ',', '▁డిస్పెన్సరీ', ',', '▁పశు', '▁వైద్యశాల', ',', '▁సంచార', '▁వైద్య', '▁శాల', ',', '▁కుటుంబ', '▁సంక్షేమ', '▁కేంద్రం', '▁గ్రామం', '▁నుండి', '▁10', '▁కి', '.', 'మీ', '.', '▁కంటే', '▁ఎక్కువ', '▁దూరంలో', '▁ఉన్నాయి', '.']\n",
      "\n",
      "\n",
      "గ్రామంలో ఏడాది పొడుగునా చేతిపంపుల ద్వారా నీరు అందుతుంది.బోరుబావుల ద్వారా కూడా ఏడాది పొడుగునా నీరు అందుతుంది.\n",
      "['▁గ్రామంలో', '▁ఏడాది', '▁పొడుగునా', '▁చేతిపంపుల', '▁ద్వారా', '▁నీరు', '▁అందుతుంది', '.', 'బోరుబావుల', '▁ద్వారా', '▁కూడా', '▁ఏడాది', '▁పొడుగునా', '▁నీరు', '▁అందుతుంది', '.']\n"
     ]
    }
   ],
   "source": [
    "for i in range(0,5):\n",
    "    tokens = sp.EncodeAsPieces(sentences[i])\n",
    "    print('\\n')\n",
    "    print(sentences[i])\n",
    "    print(tokens)"
   ]
  },
  {
   "cell_type": "code",
   "execution_count": null,
   "metadata": {
    "colab": {},
    "colab_type": "code",
    "id": "Fxg8cvUJhsXo"
   },
   "outputs": [],
   "source": []
  }
 ],
 "metadata": {
  "colab": {
   "name": "Telegu Tokenizer.ipynb",
   "provenance": []
  },
  "kernelspec": {
   "display_name": "Python 3",
   "language": "python",
   "name": "python3"
  },
  "language_info": {
   "codemirror_mode": {
    "name": "ipython",
    "version": 3
   },
   "file_extension": ".py",
   "mimetype": "text/x-python",
   "name": "python",
   "nbconvert_exporter": "python",
   "pygments_lexer": "ipython3",
   "version": "3.7.1"
  }
 },
 "nbformat": 4,
 "nbformat_minor": 2
}
