{
  "nbformat": 4,
  "nbformat_minor": 0,
  "metadata": {
    "colab": {
      "name": "telugu-news-classification.ipynb",
      "provenance": []
    },
    "kernelspec": {
      "name": "python3",
      "display_name": "Python 3"
    },
    "accelerator": "GPU"
  },
  "cells": [
    {
      "cell_type": "code",
      "metadata": {
        "id": "vupLSJy69fl1",
        "colab_type": "code",
        "colab": {
          "base_uri": "https://localhost:8080/",
          "height": 122
        },
        "outputId": "b72bcc5e-e7e8-4299-86ca-dfb2a58420db"
      },
      "source": [
        "import pandas as pd\n",
        "import numpy as np\n",
        "import re\n",
        "import os\n",
        "!pip install sentencepiece\n",
        "import sentencepiece as spm\n",
        "import pickle\n",
        "import pathlib\n",
        "from fastai.text import *\n",
        "torch.cuda.set_device(0)"
      ],
      "execution_count": 1,
      "outputs": [
        {
          "output_type": "stream",
          "text": [
            "Collecting sentencepiece\n",
            "\u001b[?25l  Downloading https://files.pythonhosted.org/packages/d4/a4/d0a884c4300004a78cca907a6ff9a5e9fe4f090f5d95ab341c53d28cbc58/sentencepiece-0.1.91-cp36-cp36m-manylinux1_x86_64.whl (1.1MB)\n",
            "\u001b[K     |████████████████████████████████| 1.1MB 3.5MB/s \n",
            "\u001b[?25hInstalling collected packages: sentencepiece\n",
            "Successfully installed sentencepiece-0.1.91\n"
          ],
          "name": "stdout"
        }
      ]
    },
    {
      "cell_type": "code",
      "metadata": {
        "id": "_HTnQ87c-N2i",
        "colab_type": "code",
        "colab": {
          "base_uri": "https://localhost:8080/",
          "height": 34
        },
        "outputId": "6568d507-6029-4ed8-dd7a-e9f3ddb9a432"
      },
      "source": [
        "\n",
        "import fastai, torch\n",
        "fastai.__version__ , torch.__version__"
      ],
      "execution_count": 2,
      "outputs": [
        {
          "output_type": "execute_result",
          "data": {
            "text/plain": [
              "('1.0.61', '1.5.1+cu101')"
            ]
          },
          "metadata": {
            "tags": []
          },
          "execution_count": 2
        }
      ]
    },
    {
      "cell_type": "code",
      "metadata": {
        "id": "KxyUliXO-U-I",
        "colab_type": "code",
        "colab": {
          "base_uri": "https://localhost:8080/",
          "height": 34
        },
        "outputId": "26211316-7fab-4461-8a94-be8499f9f974"
      },
      "source": [
        "data_df = pd.read_parquet('drive/My Drive/nlp-telugu/telugu_news_dataset.parquet')\n",
        "data_df.shape, data_df.columns"
      ],
      "execution_count": 3,
      "outputs": [
        {
          "output_type": "execute_result",
          "data": {
            "text/plain": [
              "((20527, 3), Index(['title', 'text', 'category'], dtype='object'))"
            ]
          },
          "metadata": {
            "tags": []
          },
          "execution_count": 3
        }
      ]
    },
    {
      "cell_type": "code",
      "metadata": {
        "id": "4mQDQT4l-hZp",
        "colab_type": "code",
        "colab": {
          "base_uri": "https://localhost:8080/",
          "height": 34
        },
        "outputId": "e90b16b3-ee3b-41d1-c5c5-ce7a296ebb4d"
      },
      "source": [
        "data_df['t'] = (data_df['title'] + ' ' + data_df['text']).tolist()\n",
        "data_df['t'].str.len().mean(), data_df['t'].str.len().min(), data_df['t'].str.len().max()# in characters"
      ],
      "execution_count": 4,
      "outputs": [
        {
          "output_type": "execute_result",
          "data": {
            "text/plain": [
              "(1172.7989477273834, 1, 14027)"
            ]
          },
          "metadata": {
            "tags": []
          },
          "execution_count": 4
        }
      ]
    },
    {
      "cell_type": "code",
      "metadata": {
        "id": "TMInCb8j_ewk",
        "colab_type": "code",
        "colab": {
          "base_uri": "https://localhost:8080/",
          "height": 34
        },
        "outputId": "12560a19-e100-4356-dd4f-a7c53bda35c2"
      },
      "source": [
        "from sklearn.model_selection import train_test_split\n",
        "train_df, test_df = train_test_split(data_df, test_size=0.2)\n",
        "train_df.shape, test_df.shape"
      ],
      "execution_count": 5,
      "outputs": [
        {
          "output_type": "execute_result",
          "data": {
            "text/plain": [
              "((16421, 4), (4106, 4))"
            ]
          },
          "metadata": {
            "tags": []
          },
          "execution_count": 5
        }
      ]
    },
    {
      "cell_type": "code",
      "metadata": {
        "id": "5TJsuvTaHLzg",
        "colab_type": "code",
        "colab": {}
      },
      "source": [
        "train_df.to_parquet('telugu_news_train.parquet', index = None)\n",
        "test_df.to_parquet('telugu_news_test.parquet', index = None)"
      ],
      "execution_count": 40,
      "outputs": []
    },
    {
      "cell_type": "code",
      "metadata": {
        "id": "8DuKaBg9_hOX",
        "colab_type": "code",
        "colab": {}
      },
      "source": [
        "sp = spm.SentencePieceProcessor()\n",
        "sp.Load('tokenizer.model')\n",
        "itos = [sp.IdToPiece(int(i)) for i in range(25000)] # 25,000 is the vocab_size selected in sm tokenizer\n",
        "telugu_vocab = Vocab(itos)"
      ],
      "execution_count": 7,
      "outputs": []
    },
    {
      "cell_type": "code",
      "metadata": {
        "id": "31VWO9sr_yT3",
        "colab_type": "code",
        "colab": {
          "base_uri": "https://localhost:8080/",
          "height": 170
        },
        "outputId": "a27df16e-c419-4f82-e109-7e89b7136c55"
      },
      "source": [
        "from inltk.tokenizer import TeluguTokenizer\n",
        "tokenizer = Tokenizer(tok_func=TeluguTokenizer, lang='te')\n",
        "tokenizer.special_cases"
      ],
      "execution_count": 8,
      "outputs": [
        {
          "output_type": "execute_result",
          "data": {
            "text/plain": [
              "['xxunk',\n",
              " 'xxpad',\n",
              " 'xxbos',\n",
              " 'xxeos',\n",
              " 'xxfld',\n",
              " 'xxmaj',\n",
              " 'xxup',\n",
              " 'xxrep',\n",
              " 'xxwrep']"
            ]
          },
          "metadata": {
            "tags": []
          },
          "execution_count": 8
        }
      ]
    },
    {
      "cell_type": "code",
      "metadata": {
        "id": "Ckrb8OiOBObK",
        "colab_type": "code",
        "colab": {
          "base_uri": "https://localhost:8080/",
          "height": 17
        },
        "outputId": "a4f9179e-f663-43c5-8802-8899bf1189f7"
      },
      "source": [
        "data_lm = TextLMDataBunch.from_df('./', train_df=train_df, valid_df=test_df,\n",
        "                                  text_cols=[\"t\"], bs=96,\n",
        "                                  tokenizer=tokenizer, vocab=telugu_vocab) # default bs=64\n",
        "data_lm.save('telugu_cls_lm.data')"
      ],
      "execution_count": 9,
      "outputs": [
        {
          "output_type": "display_data",
          "data": {
            "text/html": [
              ""
            ],
            "text/plain": [
              "<IPython.core.display.HTML object>"
            ]
          },
          "metadata": {
            "tags": []
          }
        },
        {
          "output_type": "display_data",
          "data": {
            "text/html": [
              ""
            ],
            "text/plain": [
              "<IPython.core.display.HTML object>"
            ]
          },
          "metadata": {
            "tags": []
          }
        }
      ]
    },
    {
      "cell_type": "code",
      "metadata": {
        "id": "cFkngDzIBTcv",
        "colab_type": "code",
        "colab": {
          "base_uri": "https://localhost:8080/",
          "height": 408
        },
        "outputId": "efcc0c6a-f65d-46aa-9dfa-74bd6856341c"
      },
      "source": [
        "data_lm.show_batch()"
      ],
      "execution_count": 10,
      "outputs": [
        {
          "output_type": "display_data",
          "data": {
            "text/html": [
              "<table border=\"1\" class=\"dataframe\">\n",
              "  <thead>\n",
              "    <tr style=\"text-align: right;\">\n",
              "      <th>idx</th>\n",
              "      <th>text</th>\n",
              "    </tr>\n",
              "  </thead>\n",
              "  <tbody>\n",
              "    <tr>\n",
              "      <td>0</td>\n",
              "      <td>నా ▁( 48 ▁నాట ౌట్ ▁) ▁సత్తా ▁చాట డంతో ▁భారత్ ▁400 ▁దాట గలిగింది . ▁అనంతరం ▁తొలి ▁ఇన్నింగ్స్ ▁లో ▁దక్షిణాఫ్రికా - ఎ ▁తడ బడింది . ▁కు ల్ ▁ దీప్ ▁యాదవ్ ▁(2 ▁/ ▁51 ), ▁నదీ మ్ ▁(2 ▁/ ▁41 ) ▁విజృంభించ డంతో ▁ఆట ▁ముగిసే ▁సమయానికి ▁159 ▁పరుగుల కే ▁5 ▁వికెట్లు ▁చే జార్ చ ుకుంది . ▁ఓ పె నర్ ▁మార్ ▁క్రమ ్ ▁( 81 ▁బ్యాటింగ్ ▁) ▁చక్కని ▁ఇన్నింగ్స్ ▁ఆడాడు . ▁అతడికి ▁తోడుగా</td>\n",
              "    </tr>\n",
              "    <tr>\n",
              "      <td>1</td>\n",
              "      <td>▁కేంద్రపాలిత ▁ప్రాంతాల ▁లెఫ్టినెంట్ ▁గవర్నర్ లు , ▁కేంద్ర ▁మంత్రులు ▁తదితరులు ▁పాల్గొన నున్నారు . ▁x x bo s ▁ఇక ▁ట్రాన్స్ ▁జె ండర్ లు ▁ఆడే య ొచ్చు ! ▁క్రికెట్ ▁ఆస్ట్రేలియా ▁నిర్ణయం ▁సిడ్నీ : ▁లింగ ▁మార్పిడి ▁చేసుకున్న ▁వ్యక్తులు ▁( ట్రాన్ స్ ▁జె ండర్ లు ) ▁క్రికెట్ లో ▁ప్రా తిని థ్య ం ▁వహించే ▁విషయంపై ▁ఆస్ట్రేలియా ▁బోర్డు ▁సంచలన ▁నిర్ణయం ▁తీసుకుంది . ▁టె స్టో స్టి రాన్ ▁పరిమితులు ▁విధ ిస్తూ ▁రాష్ట్ర , ▁జాతీయ ▁మహిళా ▁జట్ల ▁తరపున ▁ట్రాన్స్ ▁జె</td>\n",
              "    </tr>\n",
              "    <tr>\n",
              "      <td>2</td>\n",
              "      <td>చ్ఛ ికంగా ▁మే ం ▁ఈ ▁రోజు ▁రామోజీ ▁ఫిలిం సిటీ లో ▁చిత్రీకరణ లో ▁ఉన్నా ం . ▁18 ▁ఏళ్ల ▁కి ందట ▁మే ం ▁ఇక్కడ ▁ఈ ▁షాట్ ▁ని ▁తీ శా ం . ▁చాలా ▁మార్పులు ▁చోటు ▁చేసుకొన్న ాయి . ▁కానీ ▁జక్క న్న తో ▁కలిసి ▁పనిచేయడం ▁ఎప్పుడూ ▁సర దా గా ▁ఉంటుంది ’’ ▁అంటూ ▁ ట్ వీ ట్ ▁చేశారు ▁ఎన్టీఆర్ ▁ . ▁‘‘ ప ద్దె ని మిది ▁సంవత్సరాల ▁కి ందట ▁సరిగ్గా ▁ఇదే ▁రోజు ▁‘ స్ టూ</td>\n",
              "    </tr>\n",
              "    <tr>\n",
              "      <td>3</td>\n",
              "      <td>ు ▁అసౌకర్య ానికి ▁గుర య్య ారని ▁తప్పుడు ▁వార్తలు ▁వచ్చాయి . ▁దీనికి ▁సంబంధించిన ▁ఓ ▁వీడియో ▁యూ ట్యూ బ్ ▁లో ▁వై రల్ ▁గా ▁మారింది . ▁ఈ ▁విషయం ▁గురించి ▁శనివారం ▁జరిగిన ▁ప్రీ ▁రిలీజ ్ ▁వేడుక లో ▁రాజేంద్రప్రసాద్ ▁స్పందించ ారు . ▁‘ నేను ▁చదువుకున్న ▁నట ుడిని . ▁నేను ▁సీనియర్ ▁ఎన్టీఆర్ ▁లాగా ▁పాత్రలో ▁లీనమ ై పోయి ▁నటి స్తు ంటా ను . ▁ఎందుకంటే ▁నన్ను ▁ఇండస్ట్రీ కు ▁పరిచయం ▁చేసింది ▁ఆయనే . ▁ఆయన ▁ఓ ▁పాత్రలో ▁నటిస్తున్న ప్పుడు ▁ఇంటికి</td>\n",
              "    </tr>\n",
              "    <tr>\n",
              "      <td>4</td>\n",
              "      <td>▁ఏప్రిల్ ▁1 ▁నుంచి ▁స్వీకరించ ను న్నట్లు ▁పేర్కొంది . ▁20 21 ▁సీజన్ ▁లో ▁హెచ్ ▁ -1 బీ ▁వీసా ల ▁కింద ▁విదేశీ ▁ఉద్యోగుల ను ▁నియమించ ుకో వ ాలనుకునే ▁కంపెనీలు ▁మార్చి ▁1 ▁నుంచి ▁20 ▁వరకూ ▁ఆన్ ▁లైన్ ▁రిజిస్ట్రేషన్ ▁చేస ుకోవాల్సి ▁ఉంటుంది . ▁x x bo s ▁ఆర్ చ రీ లో ▁రంగారెడ్డి కి ▁నాలుగు ▁పతకాలు ▁జ్యోతి నగర్ ▁ , ▁న్యూస్ ▁టు డే : ▁పెద్దపల్లి ▁జిల్లా ▁రామగుండం లో ▁రాష్ట్ర ▁పాఠశాల ▁క్రీడల ▁సమాఖ్య ▁ఆధ్వర్యంలో ▁జరుగుతున్న ▁అండర్</td>\n",
              "    </tr>\n",
              "  </tbody>\n",
              "</table>"
            ],
            "text/plain": [
              "<IPython.core.display.HTML object>"
            ]
          },
          "metadata": {
            "tags": []
          }
        }
      ]
    },
    {
      "cell_type": "code",
      "metadata": {
        "id": "F455lukWS8EJ",
        "colab_type": "code",
        "colab": {
          "base_uri": "https://localhost:8080/",
          "height": 207
        },
        "outputId": "520bd9d5-e70c-4f7c-a4f4-9ed6cebb3312"
      },
      "source": [
        "learn = load_learner('drive/My Drive/nlp-telugu/transformer/', 'export.pkl')"
      ],
      "execution_count": 11,
      "outputs": [
        {
          "output_type": "stream",
          "text": [
            "/usr/local/lib/python3.6/dist-packages/torch/serialization.py:657: SourceChangeWarning: source code of class 'torch.nn.modules.loss.CrossEntropyLoss' has changed. you can retrieve the original source code by accessing the object's source attribute or set `torch.nn.Module.dump_patches = True` and use the patch tool to revert the changes.\n",
            "  warnings.warn(msg, SourceChangeWarning)\n",
            "/usr/local/lib/python3.6/dist-packages/torch/serialization.py:657: SourceChangeWarning: source code of class 'torch.nn.modules.container.ModuleList' has changed. you can retrieve the original source code by accessing the object's source attribute or set `torch.nn.Module.dump_patches = True` and use the patch tool to revert the changes.\n",
            "  warnings.warn(msg, SourceChangeWarning)\n",
            "/usr/local/lib/python3.6/dist-packages/torch/serialization.py:657: SourceChangeWarning: source code of class 'torch.nn.modules.linear.Linear' has changed. you can retrieve the original source code by accessing the object's source attribute or set `torch.nn.Module.dump_patches = True` and use the patch tool to revert the changes.\n",
            "  warnings.warn(msg, SourceChangeWarning)\n",
            "/usr/local/lib/python3.6/dist-packages/torch/serialization.py:657: SourceChangeWarning: source code of class 'torch.nn.modules.normalization.LayerNorm' has changed. you can retrieve the original source code by accessing the object's source attribute or set `torch.nn.Module.dump_patches = True` and use the patch tool to revert the changes.\n",
            "  warnings.warn(msg, SourceChangeWarning)\n",
            "/usr/local/lib/python3.6/dist-packages/torch/serialization.py:657: SourceChangeWarning: source code of class 'torch.nn.modules.activation.ReLU' has changed. you can retrieve the original source code by accessing the object's source attribute or set `torch.nn.Module.dump_patches = True` and use the patch tool to revert the changes.\n",
            "  warnings.warn(msg, SourceChangeWarning)\n"
          ],
          "name": "stderr"
        },
        {
          "output_type": "display_data",
          "data": {
            "text/html": [
              ""
            ],
            "text/plain": [
              "<IPython.core.display.HTML object>"
            ]
          },
          "metadata": {
            "tags": []
          }
        },
        {
          "output_type": "display_data",
          "data": {
            "text/html": [
              ""
            ],
            "text/plain": [
              "<IPython.core.display.HTML object>"
            ]
          },
          "metadata": {
            "tags": []
          }
        }
      ]
    },
    {
      "cell_type": "code",
      "metadata": {
        "id": "6CAy5cI2XU1R",
        "colab_type": "code",
        "colab": {}
      },
      "source": [
        "!cp -r 'drive/My Drive/nlp-telugu/transformer/models/trained_model.pth' 'models/'"
      ],
      "execution_count": 14,
      "outputs": []
    },
    {
      "cell_type": "code",
      "metadata": {
        "id": "G8cmBu5Hik6s",
        "colab_type": "code",
        "colab": {
          "base_uri": "https://localhost:8080/",
          "height": 34
        },
        "outputId": "6f4f7f07-dbe3-491e-e12d-3b9bceb1e9d0"
      },
      "source": [
        "learn.save(\"./trained_model\", return_path=True)"
      ],
      "execution_count": 12,
      "outputs": [
        {
          "output_type": "execute_result",
          "data": {
            "text/plain": [
              "PosixPath('drive/My Drive/nlp-telugu/transformer/models/trained_model.pth')"
            ]
          },
          "metadata": {
            "tags": []
          },
          "execution_count": 12
        }
      ]
    },
    {
      "cell_type": "code",
      "metadata": {
        "id": "E5bYg8ymit7R",
        "colab_type": "code",
        "colab": {
          "base_uri": "https://localhost:8080/",
          "height": 34
        },
        "outputId": "d0db7ad4-8ffc-4993-cda5-d6858cd2b879"
      },
      "source": [
        "\n",
        "learn = language_model_learner(data_lm, AWD_LSTM, drop_mult=0.25)\n",
        "learn = learn.to_fp16(clip=0.1)"
      ],
      "execution_count": 15,
      "outputs": [
        {
          "output_type": "stream",
          "text": [
            "Downloading https://s3.amazonaws.com/fast-ai-modelzoo/wt103-fwd.tgz\n"
          ],
          "name": "stdout"
        },
        {
          "output_type": "display_data",
          "data": {
            "text/html": [
              ""
            ],
            "text/plain": [
              "<IPython.core.display.HTML object>"
            ]
          },
          "metadata": {
            "tags": []
          }
        }
      ]
    },
    {
      "cell_type": "code",
      "metadata": {
        "id": "9bUuZ8fOi5Ad",
        "colab_type": "code",
        "colab": {
          "base_uri": "https://localhost:8080/",
          "height": 786
        },
        "outputId": "3ffe81ee-0c75-4e53-e4dc-48adaf898f64"
      },
      "source": [
        "learn.load('trained_model', with_opt=True)"
      ],
      "execution_count": 16,
      "outputs": [
        {
          "output_type": "stream",
          "text": [
            "/usr/local/lib/python3.6/dist-packages/fastai/basic_train.py:279: UserWarning: Saved filed doesn't contain an optimizer state.\n",
            "  if with_opt: warn(\"Saved filed doesn't contain an optimizer state.\")\n"
          ],
          "name": "stderr"
        },
        {
          "output_type": "error",
          "ename": "RuntimeError",
          "evalue": "ignored",
          "traceback": [
            "\u001b[0;31m---------------------------------------------------------------------------\u001b[0m",
            "\u001b[0;31mRuntimeError\u001b[0m                              Traceback (most recent call last)",
            "\u001b[0;32m<ipython-input-16-e73fa97b8221>\u001b[0m in \u001b[0;36m<module>\u001b[0;34m()\u001b[0m\n\u001b[0;32m----> 1\u001b[0;31m \u001b[0mlearn\u001b[0m\u001b[0;34m.\u001b[0m\u001b[0mload\u001b[0m\u001b[0;34m(\u001b[0m\u001b[0;34m'trained_model'\u001b[0m\u001b[0;34m,\u001b[0m \u001b[0mwith_opt\u001b[0m\u001b[0;34m=\u001b[0m\u001b[0;32mTrue\u001b[0m\u001b[0;34m)\u001b[0m\u001b[0;34m\u001b[0m\u001b[0;34m\u001b[0m\u001b[0m\n\u001b[0m",
            "\u001b[0;32m/usr/local/lib/python3.6/dist-packages/fastai/basic_train.py\u001b[0m in \u001b[0;36mload\u001b[0;34m(self, file, device, strict, with_opt, purge, remove_module)\u001b[0m\n\u001b[1;32m    279\u001b[0m             \u001b[0;32mif\u001b[0m \u001b[0mwith_opt\u001b[0m\u001b[0;34m:\u001b[0m \u001b[0mwarn\u001b[0m\u001b[0;34m(\u001b[0m\u001b[0;34m\"Saved filed doesn't contain an optimizer state.\"\u001b[0m\u001b[0;34m)\u001b[0m\u001b[0;34m\u001b[0m\u001b[0;34m\u001b[0m\u001b[0m\n\u001b[1;32m    280\u001b[0m             \u001b[0;32mif\u001b[0m \u001b[0mremove_module\u001b[0m\u001b[0;34m:\u001b[0m \u001b[0mstate\u001b[0m \u001b[0;34m=\u001b[0m \u001b[0mremove_module_load\u001b[0m\u001b[0;34m(\u001b[0m\u001b[0mstate\u001b[0m\u001b[0;34m)\u001b[0m\u001b[0;34m\u001b[0m\u001b[0;34m\u001b[0m\u001b[0m\n\u001b[0;32m--> 281\u001b[0;31m             \u001b[0mget_model\u001b[0m\u001b[0;34m(\u001b[0m\u001b[0mself\u001b[0m\u001b[0;34m.\u001b[0m\u001b[0mmodel\u001b[0m\u001b[0;34m)\u001b[0m\u001b[0;34m.\u001b[0m\u001b[0mload_state_dict\u001b[0m\u001b[0;34m(\u001b[0m\u001b[0mstate\u001b[0m\u001b[0;34m,\u001b[0m \u001b[0mstrict\u001b[0m\u001b[0;34m=\u001b[0m\u001b[0mstrict\u001b[0m\u001b[0;34m)\u001b[0m\u001b[0;34m\u001b[0m\u001b[0;34m\u001b[0m\u001b[0m\n\u001b[0m\u001b[1;32m    282\u001b[0m         \u001b[0;32mdel\u001b[0m \u001b[0mstate\u001b[0m\u001b[0;34m\u001b[0m\u001b[0;34m\u001b[0m\u001b[0m\n\u001b[1;32m    283\u001b[0m         \u001b[0mgc\u001b[0m\u001b[0;34m.\u001b[0m\u001b[0mcollect\u001b[0m\u001b[0;34m(\u001b[0m\u001b[0;34m)\u001b[0m\u001b[0;34m\u001b[0m\u001b[0;34m\u001b[0m\u001b[0m\n",
            "\u001b[0;32m/usr/local/lib/python3.6/dist-packages/torch/nn/modules/module.py\u001b[0m in \u001b[0;36mload_state_dict\u001b[0;34m(self, state_dict, strict)\u001b[0m\n\u001b[1;32m    845\u001b[0m         \u001b[0;32mif\u001b[0m \u001b[0mlen\u001b[0m\u001b[0;34m(\u001b[0m\u001b[0merror_msgs\u001b[0m\u001b[0;34m)\u001b[0m \u001b[0;34m>\u001b[0m \u001b[0;36m0\u001b[0m\u001b[0;34m:\u001b[0m\u001b[0;34m\u001b[0m\u001b[0;34m\u001b[0m\u001b[0m\n\u001b[1;32m    846\u001b[0m             raise RuntimeError('Error(s) in loading state_dict for {}:\\n\\t{}'.format(\n\u001b[0;32m--> 847\u001b[0;31m                                self.__class__.__name__, \"\\n\\t\".join(error_msgs)))\n\u001b[0m\u001b[1;32m    848\u001b[0m         \u001b[0;32mreturn\u001b[0m \u001b[0m_IncompatibleKeys\u001b[0m\u001b[0;34m(\u001b[0m\u001b[0mmissing_keys\u001b[0m\u001b[0;34m,\u001b[0m \u001b[0munexpected_keys\u001b[0m\u001b[0;34m)\u001b[0m\u001b[0;34m\u001b[0m\u001b[0;34m\u001b[0m\u001b[0m\n\u001b[1;32m    849\u001b[0m \u001b[0;34m\u001b[0m\u001b[0m\n",
            "\u001b[0;31mRuntimeError\u001b[0m: Error(s) in loading state_dict for SequentialRNN:\n\tMissing key(s) in state_dict: \"0.encoder_dp.emb.weight\", \"0.rnns.0.weight_hh_l0_raw\", \"0.rnns.0.module.weight_ih_l0\", \"0.rnns.0.module.weight_hh_l0\", \"0.rnns.0.module.bias_ih_l0\", \"0.rnns.0.module.bias_hh_l0\", \"0.rnns.1.weight_hh_l0_raw\", \"0.rnns.1.module.weight_ih_l0\", \"0.rnns.1.module.weight_hh_l0\", \"0.rnns.1.module.bias_ih_l0\", \"0.rnns.1.module.bias_hh_l0\", \"0.rnns.2.weight_hh_l0_raw\", \"0.rnns.2.module.weight_ih_l0\", \"0.rnns.2.module.weight_hh_l0\", \"0.rnns.2.module.bias_ih_l0\", \"0.rnns.2.module.bias_hh_l0\". \n\tUnexpected key(s) in state_dict: \"0.u\", \"0.v\", \"0.pos_enc.freq\", \"0.layers.0.mhra.attention.weight\", \"0.layers.0.mhra.out.weight\", \"0.layers.0.mhra.ln.weight\", \"0.layers.0.mhra.ln.bias\", \"0.layers.0.mhra.r_attn.weight\", \"0.layers.0.ff.layers.0.weight\", \"0.layers.0.ff.layers.0.bias\", \"0.layers.0.ff.layers.3.weight\", \"0.layers.0.ff.layers.3.bias\", \"0.layers.0.ff.layers.6.weight\", \"0.layers.0.ff.layers.6.bias\", \"0.layers.1.mhra.attention.weight\", \"0.layers.1.mhra.out.weight\", \"0.layers.1.mhra.ln.weight\", \"0.layers.1.mhra.ln.bias\", \"0.layers.1.mhra.r_attn.weight\", \"0.layers.1.ff.layers.0.weight\", \"0.layers.1.ff.layers.0.bias\", \"0.layers.1.ff.layers.3.weight\", \"0.layers.1.ff.layers.3.bias\", \"0.layers.1.ff.layers.6.weight\", \"0.layers.1.ff.layers.6.bias\", \"0.layers.2.mhra.attention.weight\", \"0.layers.2.mhra.out.weight\", \"0.layers.2.mhra.ln.weight\", \"0.layers.2.mhra.ln.bias\", \"0.layers.2.mhra.r_attn.weight\", \"0.layers.2.ff.layers.0.weight\", \"0.layers.2.ff.layers.0.bias\", \"0.layers.2.ff.layers.3.weight\", \"0.layers.2.ff.layers.3.bias\", \"0.layers.2.ff.layers.6.weight\", \"0.layers.2.ff.layers.6.bias\", \"0.layers.3.mhra.attention.weight\", \"0.layers.3.mhra.out.weight\", \"0.layers.3.mhra.ln.weight\", \"0.layers.3.mhra.ln.bias\", \"0.layers.3.mhra.r_attn.weight\", \"0.layers.3.ff.layers.0.weight\", \"0.layers.3.ff.layers.0.bias\", \"0.layers.3.ff.layers.3.weight\", \"0.layers.3.ff.layers.3.bias\", \"0.layers.3.ff.layers.6.weight\", \"0.layers.3.ff.layers.6.bias\", \"0.layers.4.mhra.attention.weight\", \"0.laye...\n\tsize mismatch for 0.encoder.weight: copying a param with shape torch.Size([25000, 410]) from checkpoint, the shape in current model is torch.Size([25000, 400]).\n\tsize mismatch for 1.decoder.weight: copying a param with shape torch.Size([25000, 410]) from checkpoint, the shape in current model is torch.Size([25000, 400])."
          ]
        }
      ]
    },
    {
      "cell_type": "code",
      "metadata": {
        "id": "EHpqWjiKmtFt",
        "colab_type": "code",
        "colab": {
          "base_uri": "https://localhost:8080/",
          "height": 375
        },
        "outputId": "abb0a65d-8a11-4f83-fb2b-af74f8a7ed2c"
      },
      "source": [
        "learn.lr_find()\n",
        "learn.recorder.plot()"
      ],
      "execution_count": null,
      "outputs": [
        {
          "output_type": "display_data",
          "data": {
            "text/html": [
              "\n",
              "    <div>\n",
              "        <style>\n",
              "            /* Turns off some styling */\n",
              "            progress {\n",
              "                /* gets rid of default border in Firefox and Opera. */\n",
              "                border: none;\n",
              "                /* Needs to be in here for Safari polyfill so background images work as expected. */\n",
              "                background-size: auto;\n",
              "            }\n",
              "            .progress-bar-interrupted, .progress-bar-interrupted::-webkit-progress-bar {\n",
              "                background: #F44336;\n",
              "            }\n",
              "        </style>\n",
              "      <progress value='0' class='' max='1', style='width:300px; height:20px; vertical-align: middle;'></progress>\n",
              "      0.00% [0/1 00:00<00:00]\n",
              "    </div>\n",
              "    \n",
              "<table border=\"1\" class=\"dataframe\">\n",
              "  <thead>\n",
              "    <tr style=\"text-align: left;\">\n",
              "      <th>epoch</th>\n",
              "      <th>train_loss</th>\n",
              "      <th>valid_loss</th>\n",
              "      <th>accuracy</th>\n",
              "      <th>time</th>\n",
              "    </tr>\n",
              "  </thead>\n",
              "  <tbody>\n",
              "  </tbody>\n",
              "</table><p>\n",
              "\n",
              "    <div>\n",
              "        <style>\n",
              "            /* Turns off some styling */\n",
              "            progress {\n",
              "                /* gets rid of default border in Firefox and Opera. */\n",
              "                border: none;\n",
              "                /* Needs to be in here for Safari polyfill so background images work as expected. */\n",
              "                background-size: auto;\n",
              "            }\n",
              "            .progress-bar-interrupted, .progress-bar-interrupted::-webkit-progress-bar {\n",
              "                background: #F44336;\n",
              "            }\n",
              "        </style>\n",
              "      <progress value='99' class='' max='642', style='width:300px; height:20px; vertical-align: middle;'></progress>\n",
              "      15.42% [99/642 00:17<01:37 14.6167]\n",
              "    </div>\n",
              "    "
            ],
            "text/plain": [
              "<IPython.core.display.HTML object>"
            ]
          },
          "metadata": {
            "tags": []
          }
        },
        {
          "output_type": "stream",
          "text": [
            "LR Finder is complete, type {learner_name}.recorder.plot() to see the graph.\n"
          ],
          "name": "stdout"
        },
        {
          "output_type": "display_data",
          "data": {
            "image/png": "[encoded data removed]",
            "text/plain": [
              "<Figure size 432x288 with 1 Axes>"
            ]
          },
          "metadata": {
            "tags": []
          }
        }
      ]
    },
    {
      "cell_type": "code",
      "metadata": {
        "id": "VjItHfbrXXv1",
        "colab_type": "code",
        "colab": {
          "base_uri": "https://localhost:8080/",
          "height": 111
        },
        "outputId": "a08c7e07-1c94-437b-9377-2dc3e5372ccb"
      },
      "source": [
        "learn.freeze()\n",
        "learn.fit_one_cycle(2, 1e-2, moms=(0.8,0.7))\n",
        "learn.save('fit_head', with_opt=True)"
      ],
      "execution_count": 17,
      "outputs": [
        {
          "output_type": "display_data",
          "data": {
            "text/html": [
              "<table border=\"1\" class=\"dataframe\">\n",
              "  <thead>\n",
              "    <tr style=\"text-align: left;\">\n",
              "      <th>epoch</th>\n",
              "      <th>train_loss</th>\n",
              "      <th>valid_loss</th>\n",
              "      <th>accuracy</th>\n",
              "      <th>time</th>\n",
              "    </tr>\n",
              "  </thead>\n",
              "  <tbody>\n",
              "    <tr>\n",
              "      <td>0</td>\n",
              "      <td>4.883865</td>\n",
              "      <td>4.717376</td>\n",
              "      <td>0.284560</td>\n",
              "      <td>11:01</td>\n",
              "    </tr>\n",
              "    <tr>\n",
              "      <td>1</td>\n",
              "      <td>4.442290</td>\n",
              "      <td>4.407163</td>\n",
              "      <td>0.313722</td>\n",
              "      <td>11:02</td>\n",
              "    </tr>\n",
              "  </tbody>\n",
              "</table>"
            ],
            "text/plain": [
              "<IPython.core.display.HTML object>"
            ]
          },
          "metadata": {
            "tags": []
          }
        }
      ]
    },
    {
      "cell_type": "code",
      "metadata": {
        "id": "pwJaX0d_XdN7",
        "colab_type": "code",
        "colab": {
          "base_uri": "https://localhost:8080/",
          "height": 1000
        },
        "outputId": "e1fe5a1e-8440-4afa-b233-3f70a9f02323"
      },
      "source": [
        "learn.load('fit_head', with_opt=True)"
      ],
      "execution_count": 18,
      "outputs": [
        {
          "output_type": "execute_result",
          "data": {
            "text/plain": [
              "LanguageLearner(data=TextLMDataBunch;\n",
              "\n",
              "Train: LabelList (16421 items)\n",
              "x: LMTextList\n",
              "▁x x bo s ▁పట్టు బి గ ించిన ▁భారత్ ▁- ఎ ▁మైసూరు : ▁దక్షిణాఫ్రికా - ఎ తో ▁రెండో ▁అనధికార ▁టెస్టు పై ▁భారత్ ▁- ఎ ▁పట్టు బి గ ించింది . ▁ఓవర్ ▁నైట్ ▁స్కోరు ▁23 3 ▁/ ▁3 తో ▁రెండో ▁రోజు , ▁బుధవారం ▁తొలి ▁ఇన్నింగ్స్ ▁కొన సా ంచిన ▁భారత్ ▁- ఎ ▁4 17 ▁పరుగుల కు ▁ఆ లౌ ట ైంది . ▁శివ మ్ ▁దు బె ▁( 68 ), ▁జల జ్ ▁స క్ సే నా ▁( 48 ▁నాట ౌట్ ▁) ▁సత్తా ▁చాట డంతో ▁భారత్ ▁400 ▁దాట గలిగింది . ▁అనంతరం ▁తొలి ▁ఇన్నింగ్స్ ▁లో ▁దక్షిణాఫ్రికా - ఎ ▁తడ బడింది . ▁కు ల్ ▁ దీప్ ▁యాదవ్ ▁(2 ▁/ ▁51 ), ▁నదీ మ్ ▁(2 ▁/ ▁41 ) ▁విజృంభించ డంతో ▁ఆట ▁ముగిసే ▁సమయానికి ▁159 ▁పరుగుల కే ▁5 ▁వికెట్లు ▁చే జార్ చ ుకుంది . ▁ఓ పె నర్ ▁మార్ ▁క్రమ ్ ▁( 81 ▁బ్యాటింగ్ ▁) ▁చక్కని ▁ఇన్నింగ్స్ ▁ఆడాడు . ▁అతడికి ▁తోడుగా ▁ముల్ దర్ ▁( 9) ▁క్రీ జు లో ▁ఉన్నాడు . ▁బ్ర ు యిన్ ▁41 ▁పరుగులు ▁చేశాడు .,▁x x bo s ▁చైనాలో ▁భూకంపాలు ▁: ▁12 ▁మంది ▁మృతి ▁125 ▁మందికి ▁గాయాలు ▁బీజింగ్ ▁: ▁చైనా ▁నైరుతి ▁ప్రాంతంలోని ▁సి చు వాన్ ▁ప్రావిన్స్ ▁లో ▁సోమవారం ▁సంభవించిన ▁రెండు ▁భూకంప ాల ▁ధాటికి ▁12 ▁మంది ▁మృతి ▁చెందారు . ▁మరో ▁125 ▁మంది ▁గాయపడ్డారు . ▁యి బిన్ ▁నగరానికి ▁చెందిన ▁చా ంగ్ ▁ నింగ్ ▁ప్రాంతంలో ▁స్థానిక ▁కాల మానం ▁ప్రకారం ▁రాత్రి ▁10 . 55 ▁గంటల ▁సమయంలో ▁6 . 0 ▁తీవ్రత తో ను , ▁అనంతరం ▁5 . 3 ▁తీవ్రత తోనూ ▁భూకంపాలు ▁సంభవించిన ట్లు ▁చైనా ▁భూకంప ▁పరిశోధన ▁కేంద్రం ▁మంగళవారం ▁తెలిపింది . ▁16 ▁కి . మీ . ల ▁లోతు న ▁భూకంప ▁కేంద్రం ▁ఉన్నట్లు ▁వెల్లడించింది . ▁ఇ ళ్లు ▁కుప్పకూల డం ▁వల్ల ▁ఎక్కువ ▁మంది ▁చనిపోయిన ట్లు ▁అధికారులు ▁తెలిపారు . ▁నైరుతి ▁జపాన్ ▁లో . . ▁టోక్యో : ▁నైరుతి ▁జపాన్ ▁లో ▁మంగళవారం ▁6 . 8 ▁తీవ్రత తో ▁భూకంపం ▁ఏర్పడటం తో ▁ఆ ▁దేశం ▁సునామీ ▁హెచ్చరిక లు ▁జారీ ▁చేసింది . ▁రెండున్నర ▁గంటల ▁తరువాత ▁ఉపసంహరించ ుకుంది . ▁తొలుత ▁ఉత్తర ▁టోక్యో లో ▁తీర ▁ప్రాంతాన్ని ▁మూడు ▁అడుగుల ▁ఎత్తైన ▁అల లు ▁తా కే ▁అవకాశం ▁ఉందని ▁వాతావరణ ▁విభాగం ▁తెలిపింది . ▁కొన్ని ▁అల లు ▁నైరుతి ▁జపాన్ ▁లోని ▁యమ గత , ▁నీ గత ▁తీర ాలను ▁తా కి ▁ఉండవచ్చని ▁పేర్కొంది . ▁దీంతో ▁ముందు ▁జాగ్రత్త ▁చర్య గా ▁ఆ ▁ప్రాంతంలో ▁బుల్లెట్ ▁రైలు ▁సేవలను ▁తక్షణమే ▁నిలిపి వేశారు . ▁కొన్ని ▁వేల ▁ఇళ్ల కు ▁విద్యుత్తు ▁సరఫరా ▁నిలిచిపోయింది . ▁భూకంప కేంద్ర ానికి ▁సమీప ాన ▁గల ▁అణు విద్యుత్ తు ▁కర్మాగార ాల్లో ▁ఎలాంటి ▁అసాధారణ త ▁కనిపించ లేదు .,▁x x bo s ▁నేటి ▁బోర్డు ▁సమావేశాలు ▁ <unk> ▁ఎన్ ▁టీ పీ సీ ▁ <unk> ▁ఆయిల్ ▁ఇండియా ▁ <unk> ▁అమర రాజా ▁బ్యాటరీ స్ ▁ <unk> ▁చోళ మండలం ▁ఫైనాన్షియల్ ▁హోల్ డింగ్ స్ ▁ <unk> ▁జే కే ▁సిమెంట్ ▁ <unk> ▁జై ప్రకాశ ్ ▁అసోసియేట్ స్ ▁ , ▁లక్ష్మీ వి లాస్ ▁బ్యాంక్ ▁ <unk> ▁మంగళ ం ▁సిమెంట్ ▁ <unk> ▁మంజ ీ రా ▁కన్ ▁స్ట్ర క్షన్ స్ ▁ <unk> ▁మనో ర మ ▁ఇండస్ట్రీ స్ ▁ <unk> ▁మేఘ మణి ▁ఆర్ గా నిక్స్ ▁ <unk> ▁రె సో నా న్స్ ▁స్పె షా లిటీ స్ ▁ <unk> ▁తా న్ లా ▁సొ ల్యూషన్ స్ ▁ <unk> ▁ఉషా ▁మార్టిన్ ▁ <unk> ▁వి మ్ టా ▁ల ్యా బ్స్ ▁ <unk> ▁వీ ఆర్ ▁ఎల్ ▁లా జి స్టిక్ స్,▁x x bo s ▁ఇద్దరు ▁ఇంటర్ ▁విద్యార్థుల ▁ఆత్మహత్య ▁నెక్ కొండ , ▁షా బాద్ ▁ , ▁న్యూస్ ▁టు డే : ▁ఇంటర్ ▁పరీక్ష ల్లో ▁తప్ప ినందుకు ▁మన స్తా పం ▁చెందిన ▁ఇద్దరు ▁విద్యార్థులు ▁మంగళవారం ▁ఆత్మహత్య కు ▁పాల్ పడ్డారు . ▁వరంగల్ ▁రూరల్ ▁జిల్లా ▁రెడ్ ల వాడ ▁శివారు ▁మ త్త డి ▁తండా కు ▁చెందిన ▁మా లో తు ▁నవీన ్ ▁(17 ) ▁ఇంటర్ ▁ఎంపీ సీ ▁చదివాడు . ▁ఇటీవల ▁వెల్ల డైన ▁ఫలితాల ్లో ▁ఆ ▁విద్యార్థి ▁అన్ని ▁సబ్జెక్టు ల్లో ▁ఫెయి ల య్యాడు . ▁దీంతో ▁మన స్తా పం ▁చెందిన ▁నవీన ్ ▁నెక్ కొండలో ▁రైలు ▁కింద పడి ▁ఆత్మహత్య కు ▁పాల్ పడ్డాడు . ▁రంగారెడ్డి ▁జిల్లా ▁షా బాద్ ▁మండలం ▁తి ర్మ లాపూర్ ▁కు ▁చెందిన ▁స త్త ూరి ▁జ్యోతి ( 17 ) ▁ఇంటర్ ▁సీ ఈ సీ ▁చదివి ంది . ▁ఇటీవల ▁వెలువడిన ▁ఫలితాల ్లో ▁ద్వితీయ ▁సంవత్సరం ▁సబ్జెక్టు ల్లో ▁ఒక దా ంట్ లో ▁ఫెయి ల వడంతో ▁కి రో సిన్ ▁పోస ుకుని ▁ని ప్ప ంట ించుకుని ▁బల వన్ మరణ ానికి ▁పాల్పడ ింది . ▁ఫలితాల ▁సమయంలో ▁ఆమె ▁అమ్మ మ్మ ▁ఇంట ▁ఉంది . ▁మంగళవారం ▁ఇంటికి ▁వచ్చిన ▁ఆమె . . ▁మధ్యాహ్నం ▁ఇంట్లో ▁ఎవరూ ▁లేని ▁సమయంలో ▁ఈ ▁దారుణ ానికి ▁పాల్పడ ింది . ▁కుటుంబసభ్యుల ▁ఫిర్యాదు ▁మేరకు ▁పోలీసులు ▁వేర్వేరు గా ▁కేసులు ▁నమోదు ▁చేసి ▁దర్యాప్తు ▁చేస్తున్నారు .,▁x x bo s ▁టీకా ల ▁నిల్వ కు ▁తగిన ▁సదుపాయాల ే వీ . . ? ▁పూర్తి ▁స్థాయిలో ▁సౌకర్యాల ▁కల్పన పై ▁ప్రభుత్వం ▁దృష్టి ▁సార ించాలి ▁కొన్ని ▁టీకా ల ▁ధర ▁తయారీ ▁ఖర్చు ▁కంటే ▁తక్కువ ▁150 ▁దేశాలకు ▁ఎగుమతులు ▁చేసే ▁లక్ష్యంతో ▁కొత్త ▁యూనిట్ ▁పెట్ట ాం ▁డె ంగీ , ▁మలేరియా , ▁న్యుమోనియా ▁వ్యా క్సి న్లు , ▁ఇతర ▁ఔషధ ాలు ▁తయారు ▁చే స్తాం ▁‘ ఈనాడు ’ ▁ఇంటర్వ్యూ ▁సీ రమ్ ▁ఇన్ ▁స్టిట్యూట్ ▁ఆఫ్ ▁ఇండియా ▁సీ ఈ ఓ ▁అ దర్ ▁పూ నా వాలా ▁మన దేశం ▁నుంచి ▁ఇతర దేశాల కు ▁టీకా లు ▁పెద్ద ఎత్తు న ▁ఎగుమతి ▁చేయటానికి ▁అవసరమైన ▁అన్ని ▁ప్రో త్స హా కాలను ▁ప్రభుత్వం ▁కల్పించ ాలని ▁అంటున్నారు ▁సీ రమ్ ▁ఇన్ ▁స్టిట్యూట్ ▁ఆఫ్ ▁ఇండియా ▁సీ ఈ ఓ , ▁ఐ వీ ఎం ఏ ▁అధ్యక్షుడు ▁అయిన ▁అ దర్ ▁పూ నా వాలా . ▁దేశీయ ▁మార్కెట్ లో ▁కొన్ని ▁టీకా లకు ▁వాటి ▁తయారీ క య్యే ▁ఖర్చు ▁కంటే ▁తక్కువ ▁ధరలు ▁నిర్ణయించ ారని , ▁ఈ ▁విషయంలో ▁ప్రభుత్వం ▁పున రా లోచన ▁చేసి ▁టీకా ల ▁పరిశ్రమకు ▁అండగా ▁నిలవ ాలని ▁కోరారు . ▁ఈ ▁సంస్థ ▁ప్రపంచంలోనే ▁అతిపెద్ద దైన ▁నూతన ▁టీకా ల ▁తయారీ ▁కర్మాగార ాన్ని ▁పు ణ ె లో ▁నెలకొల్ప ింది . ▁ఈ ▁కర్మాగార ాన్ని ▁కేంద్ర ▁ఆరోగ్య ▁మంత్రి ▁డాక్టర్ ▁హర్ష వర్థన ్ ▁సోమవారం ▁ప్రారంభించారు . ▁ఈ ▁యూనిట్ ▁లో ▁పలు ▁నూతన ▁టీకా లు , ▁ఔషధ ాలు ▁తయారు ▁చేసి ▁ప్రపంచ ▁వ్యాప్తంగా ▁పలు ▁దేశాలకు ▁సరఫరా ▁చేస్తామని ▁అ దర్ ▁పూ నా వాలా ▁‘ ఈనాడు ’ కి చ్చిన ▁ఇంటర్వ్యూ లో ▁పేర్కొన్నారు . ▁ఈ ▁ఏడాది ▁చివరికి ▁పూర్తి ▁స్థాయిలో ▁ఈ ▁యూనిట్ ▁ను ▁ఉత్పత్తి ▁దశలో కి ▁తీసుకువస్త ామని ▁తెలిపారు . ▁మనదేశంలో ▁టీకా ల ▁నిల్వ ▁సదుపాయాల ▁కొరత ▁తీవ్రంగా ▁ఉందని , ▁దీని ▁పరిష్కారం పై ▁ప్రభుత్వం ▁దృష్టి ▁పెట్ట ాలని ▁ఆయన ▁కోరారు . ▁ఇంటర్వ్యూ ▁విశేషాలు . . ▁సీ రమ్ ▁ఇన్ ▁స్టిట్యూట్ ▁టీకా ల ▁తయారీలో ▁ఇప్పటికే ▁అగ్ర గా మి ▁సంస్థ ల్లో ▁ఒకటిగా ▁ఉంది . ▁మళ్లీ ▁కొత్తగా ▁ఒక ▁అతిపెద్ద ▁యూనిట్ ▁ను ▁ఏ ▁ఉద్దేశంతో ▁ఏర్పాటు ▁చేశారు . ▁ఇక్కడ ▁ఎటువంటి ▁టీకా లు , ▁మందులు ▁తయారు ▁చేస్తారు ▁? ▁చిన్న ▁పిల్లలను ▁వ్యాధుల ▁బారి ▁నుంచి ▁కాపాడ ాలంటే ▁సరైన ▁టీకా లు , ▁మందులు ▁అందించ ాలి . ▁మనదేశంలో ▁టీకా ల ▁అవసరాలు ▁పెరుగుతున్న ాయి . ▁అదేవిధంగా ▁ఎగుమతి ▁అవకాశాలు ▁ఉన్నాయి . ▁అందువల్ల ▁దేశీయ ▁అవసరాల ▁కోసమే ▁కాకుండా ▁ఎగుమతుల ను ▁దృష్టిలో ▁ఉంచుకుని ▁ఈ ▁కొత్త ▁యూనిట్ ▁నెలకొల్ప ాం . ▁గత ▁నాలుగేళ్ల ుగా ▁మే ం ▁దీనిపై ▁పనిచేస్తున్న ాం . ▁మనదేశంలో ▁ఎక్కడా ▁లే నటువంటి ▁అది పెద్ద ▁ సదుపాయ మిది . ▁సీ రమ్ ▁ఇన్ ▁స్టిట్యూట్ ▁కు ▁హా లె ండ్ ▁ , ▁చెక్ ▁రిపబ్లిక్ ▁లలో ▁యూనిట్ లు ▁ఉన్నాయి . ▁అక్కడ ▁సామర్థ్యాన్ని ▁విస్తరించ వచ్చు . ▁కానీ ▁‘ మే కిన్ ▁ఇండియా ’ లో ▁భాగం ▁పంచ ుకోవాలని , ▁స్థానికంగా ▁కొత్త ▁ఉద్యోగాలు ▁కల్పించ ాలనే ▁ఆలోచన తో ▁ఇక్కడే ▁కొత్త ▁యూనిట్ ▁నిర్మించ ాం . ▁ఈ ▁ప్లాంటు లో ▁ఈ ▁ఏడాది ▁నవంబరు ▁నుంచి ▁పూర్తి ▁స్థాయిలో ▁ఉత్పత్తి ▁కార్యకలాపాలు ▁మొదల వుతాయి . ▁ఇంకా ▁సామర్థ్యాన్ని ▁విస్తరించ ుకునే ▁అవకాశం ▁కూడా ▁ఉంది . ▁ట్రస్టు జు మ్యా బ్ ▁( హెర్ సెప్ టిన్ ▁), ▁ఉ స్టె కి ను మ్యా బ్ ▁( స్టె ల రా ) ▁వంటి ▁మోనో క్ లో నల్ ▁యాంటీ బా డీ స్ ▁ , ▁హెచ్ ▁పీవీ , ▁డె ంగీ , ▁మలేరియా , ▁న్యూ మో నియా ▁వ్యా క్సి న్లు ▁ఈ ▁కర్మాగారం లో ▁తయారు ▁చే స్తాం . ▁మోనో క్ లో నల్ ▁యాంటీ బా డీ స్ ▁ఉత్పత్తుల పై ▁ప్రస్తుతం ▁ఆస్ట్రేలియా లో ▁క్లినికల్ ▁పరీక్షలు ▁నిర్వహిస్తున్న ాం . ▁వచ్చే ▁ఏడాది ▁చివరికి ▁ఆ ▁ఔషధ ాలను ▁ఇక్కడ ▁విడుదల ▁చేయగల మని ▁భావిస్తున్న ాం . ▁యూనిట్ ▁నిర్మాణానికి ▁ఎంత ▁పెట్టుబడి ▁పెట్టారు . ▁దీని ▁సామర్థ్య మె ంత ▁? ▁ప్రస్తుతం ▁ప్రపంచంలో ▁అతిపెద్ద ▁టీకా ల ▁తయారీ ▁కర్మాగారం ▁ఇదే . ▁దీనిపై ▁ఇప్పటి ▁వరకూ ▁రూ . 3,000 ▁కోట్లు ▁పెట్టుబడి ▁పెట్ట ాం . ▁వచ్చే ▁అయి దే ళ్లలో ▁దాదాపు ▁ 3,000 ▁మందికి ▁ఇక్కడ ▁ఉద్యోగ ావకాశాల ు ▁కల్ప ి స్తాం . ▁ఏటా ▁ఈ ▁యూనిట్ లో ▁50 ▁లక్షల ▁డో సుల ▁టీకా లు ▁తయారు ▁చేయగల ం . ▁యూ ఎస్ ▁ , ▁ఐరోపా ▁దేశాల ▁తయారీ ▁ప్రమాణాల కు ▁అనుగుణంగా ▁దీన్ని ▁నిర్మించ ాం . ▁ఇక్కడి ▁నుంచి ▁ఔషధ ాలు , ▁వ్యా క్సి న్లు ▁ఐరోపా , ▁ఉత్తర ▁అమెరికా తో ▁సహా ▁150 ▁దేశాలకు ▁ఎగుమతి ▁చేయాలనే ది ▁మా ▁లక్ష్యం . ▁కొత్త ▁ఔషధ ాల ▁ఆవిష్కరణ కు ▁ఏమైనా ▁కృషి ▁చేస్తున్న ారా . . . ▁మీకు ▁ఏ మేరకు ▁పరిశోధనా ▁నైపుణ్యం ▁ఉంది . ▁? ▁ఎన్ ▁ఐ హెచ్ ▁- ▁యూ ఎస్ ▁ఏ తో ▁కలిసి ▁సీ రమ్ ▁ఇన్ ▁స్టిట్యూట్ ▁రో టో వై రస్ ▁వ్యా క్సి న్ ▁ను ▁అభివృద్ధి ▁చేసింది . ▁‘ రొ టా సిల్ ▁’ ▁పేరుతో ▁దీన్ని ▁ఆవిష్కరించ ాం . ▁దీని ▁ప్రత్యేకత ▁ఏమిటంటే . . . ▁25 ▁డిగ్రీల ▁ఉష్ణోగ్రత లో ▁30 ▁నెలల ▁వరకూ ▁ఈ ▁వ్యా క్సి న్ ▁ఉపయోగపడుతుంది . ▁ఇంకా ▁పలు ▁ఔషధ ాల ▁మీద ▁పని ▁చేస్తున్న ాం . ▁మే ం ▁కొత్తగా ▁నిర్మించిన ▁యూనిట్ లో ▁అధునాతన ▁ఉపకరణాలు , ▁సామగ్రి , ▁సాంకేతిక ▁పరిజ్ఞానం ▁ఉన్నాయి . ▁తత్ఫలితంగా ▁పెద్ద ఎత్తు న ▁పరిశోధనలు ▁చేపట్ట గల ం . ▁మీరు ▁ఐ వీ ఎం ఏ ▁అధ్యక్షుడిగా ▁వ్యవహరిస్తున్న ారు . ▁దేశంలో ▁వ్యా క్సి న్ ▁తయారీ ▁సంస్థలు ▁ఎదుర్కొంటున్న ▁స వాళ్లు ▁ఏమిటి , ▁వాటిని ▁ఏవిధంగా ▁పరిష్కరించ వచ్చు ▁? ▁దేశంలో ▁సులభ తర ▁వ్యాపార ▁నిర్వహణ ▁( ఈ జ్ ▁ఆఫ్ ▁డూ యింగ్ ▁బిజినెస్ ▁) కు ▁అవకాశం ▁ఉండాలనే ది ▁నా ▁ప్రధాన ోద్ దేశం . ▁‘ సింగి ల్ ▁వి ండో ’ ▁పద్ధతిలో ▁వ్యాపార ▁అనుమతుల ు ▁లభించ ాలి . ▁వ్యా క్సి న్లు , ▁ఔషధ ాల ▁తయారీకి ▁అవసరమైన ▁అన్ని ▁అనుమతుల ు ▁త్వరితంగా ▁లభించే ▁వాతావరణం ▁ఉండాలి . ▁పరిశోధన లను ▁ప్రోత్సహించ ే ▁పరిస్థితి ▁ఉండాలి . ▁తద్వారా ▁నూతన ▁ఔషధ ాలు ▁ఆవిష్కరించ ే ▁అవకాశం ▁ఏర్పడుతుంది . ▁దీనికి ▁ప్రభుత్వం ▁నుంచి ▁ఎటువంటి ▁చర్యలు ▁ఆశ ిస్తున్నారు . . ▁? ▁తగిన ▁మౌలిక ▁సదుపాయాలు ▁లేకపోవటం , ▁ఇతరత్రా ▁స వాళ్ల ను ▁ఎప్పటికప్పుడు ▁ప్రభుత్వం ▁దృష్టి కి ▁తీసుకు వె ళ్ తున్న ాం . ▁మనదేశంలో ▁టీకా లను ▁నిల్వ ▁చేయటానికి ▁అనువైన ▁సదుపాయాల ▁కొరత ▁ఉంది . ▁దేశంలో ▁పిల్లల ందరికీ ▁టీకా లు ▁ఇచ్చి ▁నూరు శాతం ▁టీకా ల ▁లక్ష్యాన్ని ▁సాధించ ాలంటే ▁అన్ని ▁రకాల ▁సదుపాయాలు ▁మెరుగు ▁పరచ ాలి . ▁నిల్వ ▁చేసే ▁సదుపాయాల తో ▁పాటు ▁శీతల ▁రవాణా , ▁పంపిణీ . . . ▁తదితర ▁విభాగాల్లో ▁ఉన్నత ▁ప్రమాణాలు ▁సాధించ ాలి . ▁మన దేశ ానికి ▁టీకా ల ▁తయారీ ▁కేంద్రంగా ▁ఎ ది గే ▁అవకాశం ▁ఉంది . ▁అందుకు ▁చర్యలు ▁చేపట్ట ాలి . ▁స్థానిక ▁కంపెనీ లకు ▁అన్ని ▁రకాల ▁ప్రోత్సాహక ాలు ▁ఇవ్వాలి . ▁కొన్ని ▁వ్యా క్సి న్ ల ▁ధరలు , ▁మరికొన్ని ంటి ▁ధరలు ▁తక్కువగా ▁ఉన్నాయి . ▁ప్రజల పై ▁భార ాన్ని ▁తగ్గించ ాలంటే ▁ఎటువంటి ▁మార్పులు ▁రావ ాలి . ▁? ▁కొన్ని ▁వ్యా క్సి న్ ల ▁ధరలు ▁ఎక్కువగా ▁ఉన్న ▁విషయం ▁వాస్తవ మే . ▁అదే ▁సమయంలో ▁కొన్ని ▁టీకా లకు ▁ఎన్ ▁పీ పీ ఏ ▁నిర్ణయించిన ▁ధరలు , ▁తయారీ ▁వ్యయం ▁కంటే ▁తక్కువగా ▁ఉన్నాయి . ▁టీకా ల ▁పరిశ్రమ ▁పరిశోధనలు ▁చేపట్టి ▁కొత్త ▁టీకా లు ▁ఆవిష్కరించ ాలంటే ▁తయారీ దార్ల కు ▁ఎంతో ▁కొంత ▁లాభం ▁ఉండాలి . ▁అందువల్ల ▁ధరల ▁నిర్ణయం లో ▁హే తు బద్ధంగా ▁ఉండాలి . ▁ఐరోపా , ▁ఉత్తర ▁అమెరికా ▁దేశాల్లో ▁వ్యా క్సి న్ ల ▁ధరలు ▁ఎంతో ▁ఎక్కువ . ▁మనదేశంలో ▁వాటికి ▁పదో వంతు ▁ధర లో ▁వాటిని ▁అందించ గలుగుతున్నా ం . ▁అయినా ▁ఇంకా ▁తక్కువ ▁ధర ▁నిర్ణయించ టం ▁వల్ల ▁ఇబ్బందులు ▁ఎదుర వ ుతున్నాయి . ▁- ▁ఈనాడు , ▁హైదరాబాద్\n",
              "y: LMLabelList\n",
              ",,,,\n",
              "Path: .;\n",
              "\n",
              "Valid: LabelList (4106 items)\n",
              "x: LMTextList\n",
              "▁x x bo s ▁జీవ న్ మృత ురాలి కి ▁పాప ాయి ▁ప్రా గ్ ▁: ▁జీవ న్ మృత ురాల ై ( బ్ రెయిన్ ▁ డెడ్ ▁) న ▁117 ▁రోజుల ▁తర్వాత ▁ఓ ▁గర్భ ిణి కి ▁పండ ంటి ▁పాప ాయి ▁జన్మించిన ▁అత్యంత ▁అరుదైన ▁సంఘటన ▁ఇది . ▁బ్ర ొ నో ▁విశ్వవిద్యాలయ ▁ఆసుపత్రి ▁వైద్యులు ▁ఈ ▁ఘనత ను ▁సాధించారు . ▁ఏప్రిల్ ▁లో ▁పక్షవాతం ▁వచ్చి ▁జీవ న్ మృత ురాలైన ▁ఆమెకు ▁గత ▁నెల ▁15 న ▁వైద్యులు ▁పెద్ద ాప రేషన్ ▁చేసి ▁బిడ్డ కు ▁ప్రాణం ▁పో శారు . ▁ఏప్రిల్ ▁నుంచీ ▁గర్భ స్థ ▁శిశువు ను ▁కాపాడ ేందుకు ▁వైద్యులు ▁ఎంతో ▁శ్రమ ించారు .,▁x x bo s ▁అంతర్ ▁జిల్లా ▁ఫుట్ ▁బాల్ ▁షు రూ ▁ఈనాడు ▁డిజిటల్ ▁ , ▁హైదరాబాద్ ▁: ▁తెలంగాణ ▁రాష్ట్ర ▁సీనియర్ ▁అంతర్ ▁జిల్లా ▁ఫుట్ ▁బాల్ ▁ఛాంపియన్ ▁షిప్ ▁పోటీలు ▁గురువారం ▁ఆరంభ మయ్యాయి . ▁ఖమ్మంలో ని ▁సర్దార్ ▁పటేల్ ▁స్టేడియం లో ▁జరిగిన ▁ఛాంపియన్ ▁షిప్ ▁ప్రారంభ ోత్సవ ▁కార్యక్రమానికి ▁ఏ సీ పీ ▁వెంకట ్ ▁రావు ▁ముఖ్య ▁అతిథి గా ▁హాజరై ▁టోర్నీ ని ▁ఆరంభించారు . ▁నాలుగు ▁రోజు ▁పాటు ▁జరిగే ▁ఈ ▁టోర్నీ లో ▁ఖమ్మం , ▁వనపర్తి , ▁రంగారెడ్డి , ▁నిజామాబాద్ ▁ , ▁మెదక్ ▁ , ▁మంచిర్యాల , ▁మహబూబ్ ▁నగర్ ▁ , ▁నల్గొండ ▁జిల్లాల ▁జట్లు ▁పోటీపడ ను న్నాయి . ▁ఈ ▁కార్యక్రమంలో ▁తెలంగాణ ▁ఫుట్ ▁బాల్ ▁సంఘం ▁కార్యదర్శి ▁ఫాల్గుణ ▁తదితరులు ▁పాల్గొన్నారు .,▁x x bo s ▁పంచ ్ ▁డైలాగ్ ▁బంధం ▁కోసం ▁ప ంత ాన్ని ▁వదుల ుకున్నా ▁పం తం ▁కోసం ▁బంధ ాన్ని ▁వదుల ుకో కూడదు ▁చిత్రం : ▁విన్న ర్ ▁- ▁పంపిన వారు : ▁దూ లం ▁వంశీ , ▁తుని , ▁తూ . గో . జిల్లా,▁x x bo s ▁వచ్చే ▁ఏడాది లో ▁కొత్త ▁క్షేత్ర ాల్లో ▁గ్యాస్ ▁ఉత్పత్తి ▁ది ల్లీ : ▁ప్రతిష్ఠాత్మక ▁కే జీ - ▁డీ 6 ▁బ్లాకు లోని ▁కొత్త ▁గ్యాస్ ▁క్షేత్రంలో ▁2020 ▁మధ్య ▁నుంచి ▁ఉత్పత్తి ▁ప్రారంభించ ాలన్న ▁లక్ష్య ానికి ▁అనుగుణంగా ▁వెళ్తున్న ట్లు ▁రిలయన్స్ ▁ఇండస్ట్రీ స్ ▁వెల్లడించింది . ▁ప్రస్తుత ▁క్షేత్ర ాల్లో ▁ఉత్పత్తి ▁గణనీయంగా ▁తగ్గి న ▁నేపథ్యంలో ▁కంపెనీ ▁ఈ ▁వ్యాఖ్యలు ▁చేసింది . ▁కే జీ - ▁డీ 6 ▁బ్లాకు లో ▁కనుగొన్న ▁మూడు ▁క్షేత్ర ాల్లో ▁ఉత్పత్తి ▁ప్రారంభించ డానికి ▁రిలయన్స్ ▁ , ▁బ్రిటన్ ▁భాగస్వామి ▁బీ పీ ▁పీ ఎల్ ▁సీ లు ▁రూ . 40,000 ▁కోట్ల ▁పెట్టుబడుల ను ▁2017 ▁జూన్ ▁లో ▁ప్రకటించ ాయి . ▁2020 - 22 ▁మధ్య ▁ఈ ▁క్షేత్రాల ▁నుంచి ▁రోజుకు ▁మొత్తం ▁30 - ▁35 ▁మిలియన్ ▁క్యూబిక్ ▁మీటర్ల ▁( ▁100 ▁కోట్ల ▁ఘన పు ▁అడుగులు ) ▁గ్యాస్ ▁ను ▁వెలికి తీయ ొచ్చ ని ▁అంచనా . ▁రిలయన్స్ ▁కనుగొన్న ▁మూడు ▁క్షేత్రాలు ▁ఆర్ ▁- క్ ల స్టర్ ▁ , ▁శాటిలైట్ ▁క్ల స్టర్ ▁ , ▁ఎం జే ▁ఫీల్డ్ ▁గా ▁ఉన్నాయి . ▁ఇందులో ▁ఆర్ ▁- క్ ల స్టర్ ▁నుంచి ▁ముందుగా ▁ఉత్పత్తి ▁ప్రారంభించ నున్నారు .,▁x x bo s ▁23 ▁నెలల ▁కనిష్ఠ ానికి . . ▁టో కు ▁ద్రవ్యోల్బణం ▁2. 02 % ▁ది ల్లీ : ▁కూరగాయలు , ▁ఇంధనం , ▁విద్యుత్ ▁ధరలు ▁చౌక ▁కావడంతో ▁టో కు ▁ధరల ▁సూ చీ ▁( డబ్ల్యూ పీ ఐ ) ▁ఆధారిత ▁ద్రవ్యోల్బణం ▁23 ▁నెలల ▁కనిష్ఠ ానికి ▁చేరింది . ▁వరుసగా ▁రెండో ▁నెల ా ▁తగ్గి న ▁ డబ్ల్యూ పీ ఐ ▁ద్రవ్యోల్బణం , ▁జూన్ ▁లో ▁2. 02 ▁శాతం గా ▁నమోదైంది . ▁మే లో ▁2. 45 ▁శాతం గా ▁నమోదైన ▁ద్రవ ో ల్ బ ణం , ▁2018 ▁జూన్ ▁లో ▁5 . 68 ▁శాతం గా ▁నమోదు ▁కావడం ▁గమనార్హం . ▁అంతకు ▁ముందు ▁2017 ▁జులై లో ▁ డబ్ల్యూ పీ ఐ ▁ద్రవ్యోల్బణం ▁రికార్డు ▁స్థాయిలో ▁1. 88 ▁శాతానికి ▁చేరింది . ▁ఇక ▁ఏప్రిల్ ▁ద్రవ్యోల్బణ ▁గణాంకాలను ▁3 . 07 ▁శాతం ▁నుంచి ▁3 . 24 ▁శాతానికి ▁సవరించ ారు . ▁వాణిజ్య ▁మంత్రిత్వ ▁శాఖ ▁విడుదల ▁చేసిన ▁గణాంకాల ▁ప్రకారం . . ▁ <unk> ▁మే లో ▁6 . 99 ▁శాతం గా ▁ఉన్న ▁ఆహార ▁వస్తువుల ▁ద్రవ్యోల్బణం . . ▁గత ▁నెలలో ▁స్వల్పంగా ▁తగ్గి ▁6 . 98 ▁శాతానికి ▁చేరింది . ▁ <unk> ▁కూరగాయల ▁ద్రవ్యోల్బణం ▁33 . 15 ▁శాతం ▁నుంచి ▁జూన్ ▁లో ▁24 . 76 ▁శాతానికి ▁తగ్గింది . ▁బంగాళదుంప లు ▁24 . 27 ▁శాతం ▁మేర ▁చౌక య్యాయి . ▁ <unk> ▁ఉల్లిపాయ ల ▁ధరల ▁పెరుగుదల ▁కొనసాగింది . ▁మే లో ▁15 . 89 ▁శాతం ▁పెరిగి తే . . ▁జూన్ ▁లో ▁ఇవి ▁16 . 63 ▁శాతం ▁ప్రియ మయ్యాయి . ▁ <unk> ▁ఇంధనం , ▁విద్యుత్ ▁విభాగం ▁( - ) 2 . 20 ▁శాతం ▁ప్రతి ▁ద్రవ్యోల్బణ ాన్ని ▁నమోదు ▁చేసింది . ▁అంత క్రి తం ▁నెలలో ▁ఇవి ▁0. 98 ▁శాతం ▁పెరిగాయి . ▁తయారీ ▁వస్తువుల ▁ధరలు ▁సైతం ▁1. 28 ▁శాతం ▁నుంచి ▁0. 94 ▁శాతానికి ▁చల్ల బడ్డాయి . ▁ <unk> ▁ఆహార ▁వస్తువుల ▁ధరలు ▁పెరగడం తో ▁గత ▁వారం ▁రిటైల్ ▁ద్రవ్యోల్బణం ▁ఆరు ▁నెలల ▁గరిష్ఠ మైన ▁3 . 18 ▁శాతానికి ▁చేరిన ▁విషయం ▁తెలిసి ందే .\n",
              "y: LMLabelList\n",
              ",,,,\n",
              "Path: .;\n",
              "\n",
              "Test: None, model=SequentialRNN(\n",
              "  (0): AWD_LSTM(\n",
              "    (encoder): Embedding(25000, 400, padding_idx=1)\n",
              "    (encoder_dp): EmbeddingDropout(\n",
              "      (emb): Embedding(25000, 400, padding_idx=1)\n",
              "    )\n",
              "    (rnns): ModuleList(\n",
              "      (0): WeightDropout(\n",
              "        (module): LSTM(400, 1152, batch_first=True)\n",
              "      )\n",
              "      (1): WeightDropout(\n",
              "        (module): LSTM(1152, 1152, batch_first=True)\n",
              "      )\n",
              "      (2): WeightDropout(\n",
              "        (module): LSTM(1152, 400, batch_first=True)\n",
              "      )\n",
              "    )\n",
              "    (input_dp): RNNDropout()\n",
              "    (hidden_dps): ModuleList(\n",
              "      (0): RNNDropout()\n",
              "      (1): RNNDropout()\n",
              "      (2): RNNDropout()\n",
              "    )\n",
              "  )\n",
              "  (1): LinearDecoder(\n",
              "    (decoder): Linear(in_features=400, out_features=25000, bias=True)\n",
              "    (output_dp): RNNDropout()\n",
              "  )\n",
              "), opt_func=functools.partial(<class 'torch.optim.adam.Adam'>, betas=(0.9, 0.99)), loss_func=FlattenedLoss of CrossEntropyLoss(), metrics=[<function accuracy at 0x7fd2af62a840>], true_wd=True, bn_wd=True, wd=0.01, train_bn=True, path=PosixPath('.'), model_dir='models', callback_fns=[functools.partial(<class 'fastai.basic_train.Recorder'>, add_time=True, silent=False)], callbacks=[RNNTrainer\n",
              "learn: LanguageLearner(data=TextLMDataBunch;\n",
              "\n",
              "Train: LabelList (16421 items)\n",
              "x: LMTextList\n",
              "▁x x bo s ▁పట్టు బి గ ించిన ▁భారత్ ▁- ఎ ▁మైసూరు : ▁దక్షిణాఫ్రికా - ఎ తో ▁రెండో ▁అనధికార ▁టెస్టు పై ▁భారత్ ▁- ఎ ▁పట్టు బి గ ించింది . ▁ఓవర్ ▁నైట్ ▁స్కోరు ▁23 3 ▁/ ▁3 తో ▁రెండో ▁రోజు , ▁బుధవారం ▁తొలి ▁ఇన్నింగ్స్ ▁కొన సా ంచిన ▁భారత్ ▁- ఎ ▁4 17 ▁పరుగుల కు ▁ఆ లౌ ట ైంది . ▁శివ మ్ ▁దు బె ▁( 68 ), ▁జల జ్ ▁స క్ సే నా ▁( 48 ▁నాట ౌట్ ▁) ▁సత్తా ▁చాట డంతో ▁భారత్ ▁400 ▁దాట గలిగింది . ▁అనంతరం ▁తొలి ▁ఇన్నింగ్స్ ▁లో ▁దక్షిణాఫ్రికా - ఎ ▁తడ బడింది . ▁కు ల్ ▁ దీప్ ▁యాదవ్ ▁(2 ▁/ ▁51 ), ▁నదీ మ్ ▁(2 ▁/ ▁41 ) ▁విజృంభించ డంతో ▁ఆట ▁ముగిసే ▁సమయానికి ▁159 ▁పరుగుల కే ▁5 ▁వికెట్లు ▁చే జార్ చ ుకుంది . ▁ఓ పె నర్ ▁మార్ ▁క్రమ ్ ▁( 81 ▁బ్యాటింగ్ ▁) ▁చక్కని ▁ఇన్నింగ్స్ ▁ఆడాడు . ▁అతడికి ▁తోడుగా ▁ముల్ దర్ ▁( 9) ▁క్రీ జు లో ▁ఉన్నాడు . ▁బ్ర ు యిన్ ▁41 ▁పరుగులు ▁చేశాడు .,▁x x bo s ▁చైనాలో ▁భూకంపాలు ▁: ▁12 ▁మంది ▁మృతి ▁125 ▁మందికి ▁గాయాలు ▁బీజింగ్ ▁: ▁చైనా ▁నైరుతి ▁ప్రాంతంలోని ▁సి చు వాన్ ▁ప్రావిన్స్ ▁లో ▁సోమవారం ▁సంభవించిన ▁రెండు ▁భూకంప ాల ▁ధాటికి ▁12 ▁మంది ▁మృతి ▁చెందారు . ▁మరో ▁125 ▁మంది ▁గాయపడ్డారు . ▁యి బిన్ ▁నగరానికి ▁చెందిన ▁చా ంగ్ ▁ నింగ్ ▁ప్రాంతంలో ▁స్థానిక ▁కాల మానం ▁ప్రకారం ▁రాత్రి ▁10 . 55 ▁గంటల ▁సమయంలో ▁6 . 0 ▁తీవ్రత తో ను , ▁అనంతరం ▁5 . 3 ▁తీవ్రత తోనూ ▁భూకంపాలు ▁సంభవించిన ట్లు ▁చైనా ▁భూకంప ▁పరిశోధన ▁కేంద్రం ▁మంగళవారం ▁తెలిపింది . ▁16 ▁కి . మీ . ల ▁లోతు న ▁భూకంప ▁కేంద్రం ▁ఉన్నట్లు ▁వెల్లడించింది . ▁ఇ ళ్లు ▁కుప్పకూల డం ▁వల్ల ▁ఎక్కువ ▁మంది ▁చనిపోయిన ట్లు ▁అధికారులు ▁తెలిపారు . ▁నైరుతి ▁జపాన్ ▁లో . . ▁టోక్యో : ▁నైరుతి ▁జపాన్ ▁లో ▁మంగళవారం ▁6 . 8 ▁తీవ్రత తో ▁భూకంపం ▁ఏర్పడటం తో ▁ఆ ▁దేశం ▁సునామీ ▁హెచ్చరిక లు ▁జారీ ▁చేసింది . ▁రెండున్నర ▁గంటల ▁తరువాత ▁ఉపసంహరించ ుకుంది . ▁తొలుత ▁ఉత్తర ▁టోక్యో లో ▁తీర ▁ప్రాంతాన్ని ▁మూడు ▁అడుగుల ▁ఎత్తైన ▁అల లు ▁తా కే ▁అవకాశం ▁ఉందని ▁వాతావరణ ▁విభాగం ▁తెలిపింది . ▁కొన్ని ▁అల లు ▁నైరుతి ▁జపాన్ ▁లోని ▁యమ గత , ▁నీ గత ▁తీర ాలను ▁తా కి ▁ఉండవచ్చని ▁పేర్కొంది . ▁దీంతో ▁ముందు ▁జాగ్రత్త ▁చర్య గా ▁ఆ ▁ప్రాంతంలో ▁బుల్లెట్ ▁రైలు ▁సేవలను ▁తక్షణమే ▁నిలిపి వేశారు . ▁కొన్ని ▁వేల ▁ఇళ్ల కు ▁విద్యుత్తు ▁సరఫరా ▁నిలిచిపోయింది . ▁భూకంప కేంద్ర ానికి ▁సమీప ాన ▁గల ▁అణు విద్యుత్ తు ▁కర్మాగార ాల్లో ▁ఎలాంటి ▁అసాధారణ త ▁కనిపించ లేదు .,▁x x bo s ▁నేటి ▁బోర్డు ▁సమావేశాలు ▁ <unk> ▁ఎన్ ▁టీ పీ సీ ▁ <unk> ▁ఆయిల్ ▁ఇండియా ▁ <unk> ▁అమర రాజా ▁బ్యాటరీ స్ ▁ <unk> ▁చోళ మండలం ▁ఫైనాన్షియల్ ▁హోల్ డింగ్ స్ ▁ <unk> ▁జే కే ▁సిమెంట్ ▁ <unk> ▁జై ప్రకాశ ్ ▁అసోసియేట్ స్ ▁ , ▁లక్ష్మీ వి లాస్ ▁బ్యాంక్ ▁ <unk> ▁మంగళ ం ▁సిమెంట్ ▁ <unk> ▁మంజ ీ రా ▁కన్ ▁స్ట్ర క్షన్ స్ ▁ <unk> ▁మనో ర మ ▁ఇండస్ట్రీ స్ ▁ <unk> ▁మేఘ మణి ▁ఆర్ గా నిక్స్ ▁ <unk> ▁రె సో నా న్స్ ▁స్పె షా లిటీ స్ ▁ <unk> ▁తా న్ లా ▁సొ ల్యూషన్ స్ ▁ <unk> ▁ఉషా ▁మార్టిన్ ▁ <unk> ▁వి మ్ టా ▁ల ్యా బ్స్ ▁ <unk> ▁వీ ఆర్ ▁ఎల్ ▁లా జి స్టిక్ స్,▁x x bo s ▁ఇద్దరు ▁ఇంటర్ ▁విద్యార్థుల ▁ఆత్మహత్య ▁నెక్ కొండ , ▁షా బాద్ ▁ , ▁న్యూస్ ▁టు డే : ▁ఇంటర్ ▁పరీక్ష ల్లో ▁తప్ప ినందుకు ▁మన స్తా పం ▁చెందిన ▁ఇద్దరు ▁విద్యార్థులు ▁మంగళవారం ▁ఆత్మహత్య కు ▁పాల్ పడ్డారు . ▁వరంగల్ ▁రూరల్ ▁జిల్లా ▁రెడ్ ల వాడ ▁శివారు ▁మ త్త డి ▁తండా కు ▁చెందిన ▁మా లో తు ▁నవీన ్ ▁(17 ) ▁ఇంటర్ ▁ఎంపీ సీ ▁చదివాడు . ▁ఇటీవల ▁వెల్ల డైన ▁ఫలితాల ్లో ▁ఆ ▁విద్యార్థి ▁అన్ని ▁సబ్జెక్టు ల్లో ▁ఫెయి ల య్యాడు . ▁దీంతో ▁మన స్తా పం ▁చెందిన ▁నవీన ్ ▁నెక్ కొండలో ▁రైలు ▁కింద పడి ▁ఆత్మహత్య కు ▁పాల్ పడ్డాడు . ▁రంగారెడ్డి ▁జిల్లా ▁షా బాద్ ▁మండలం ▁తి ర్మ లాపూర్ ▁కు ▁చెందిన ▁స త్త ూరి ▁జ్యోతి ( 17 ) ▁ఇంటర్ ▁సీ ఈ సీ ▁చదివి ంది . ▁ఇటీవల ▁వెలువడిన ▁ఫలితాల ్లో ▁ద్వితీయ ▁సంవత్సరం ▁సబ్జెక్టు ల్లో ▁ఒక దా ంట్ లో ▁ఫెయి ల వడంతో ▁కి రో సిన్ ▁పోస ుకుని ▁ని ప్ప ంట ించుకుని ▁బల వన్ మరణ ానికి ▁పాల్పడ ింది . ▁ఫలితాల ▁సమయంలో ▁ఆమె ▁అమ్మ మ్మ ▁ఇంట ▁ఉంది . ▁మంగళవారం ▁ఇంటికి ▁వచ్చిన ▁ఆమె . . ▁మధ్యాహ్నం ▁ఇంట్లో ▁ఎవరూ ▁లేని ▁సమయంలో ▁ఈ ▁దారుణ ానికి ▁పాల్పడ ింది . ▁కుటుంబసభ్యుల ▁ఫిర్యాదు ▁మేరకు ▁పోలీసులు ▁వేర్వేరు గా ▁కేసులు ▁నమోదు ▁చేసి ▁దర్యాప్తు ▁చేస్తున్నారు .,▁x x bo s ▁టీకా ల ▁నిల్వ కు ▁తగిన ▁సదుపాయాల ే వీ . . ? ▁పూర్తి ▁స్థాయిలో ▁సౌకర్యాల ▁కల్పన పై ▁ప్రభుత్వం ▁దృష్టి ▁సార ించాలి ▁కొన్ని ▁టీకా ల ▁ధర ▁తయారీ ▁ఖర్చు ▁కంటే ▁తక్కువ ▁150 ▁దేశాలకు ▁ఎగుమతులు ▁చేసే ▁లక్ష్యంతో ▁కొత్త ▁యూనిట్ ▁పెట్ట ాం ▁డె ంగీ , ▁మలేరియా , ▁న్యుమోనియా ▁వ్యా క్సి న్లు , ▁ఇతర ▁ఔషధ ాలు ▁తయారు ▁చే స్తాం ▁‘ ఈనాడు ’ ▁ఇంటర్వ్యూ ▁సీ రమ్ ▁ఇన్ ▁స్టిట్యూట్ ▁ఆఫ్ ▁ఇండియా ▁సీ ఈ ఓ ▁అ దర్ ▁పూ నా వాలా ▁మన దేశం ▁నుంచి ▁ఇతర దేశాల కు ▁టీకా లు ▁పెద్ద ఎత్తు న ▁ఎగుమతి ▁చేయటానికి ▁అవసరమైన ▁అన్ని ▁ప్రో త్స హా కాలను ▁ప్రభుత్వం ▁కల్పించ ాలని ▁అంటున్నారు ▁సీ రమ్ ▁ఇన్ ▁స్టిట్యూట్ ▁ఆఫ్ ▁ఇండియా ▁సీ ఈ ఓ , ▁ఐ వీ ఎం ఏ ▁అధ్యక్షుడు ▁అయిన ▁అ దర్ ▁పూ నా వాలా . ▁దేశీయ ▁మార్కెట్ లో ▁కొన్ని ▁టీకా లకు ▁వాటి ▁తయారీ క య్యే ▁ఖర్చు ▁కంటే ▁తక్కువ ▁ధరలు ▁నిర్ణయించ ారని , ▁ఈ ▁విషయంలో ▁ప్రభుత్వం ▁పున రా లోచన ▁చేసి ▁టీకా ల ▁పరిశ్రమకు ▁అండగా ▁నిలవ ాలని ▁కోరారు . ▁ఈ ▁సంస్థ ▁ప్రపంచంలోనే ▁అతిపెద్ద దైన ▁నూతన ▁టీకా ల ▁తయారీ ▁కర్మాగార ాన్ని ▁పు ణ ె లో ▁నెలకొల్ప ింది . ▁ఈ ▁కర్మాగార ాన్ని ▁కేంద్ర ▁ఆరోగ్య ▁మంత్రి ▁డాక్టర్ ▁హర్ష వర్థన ్ ▁సోమవారం ▁ప్రారంభించారు . ▁ఈ ▁యూనిట్ ▁లో ▁పలు ▁నూతన ▁టీకా లు , ▁ఔషధ ాలు ▁తయారు ▁చేసి ▁ప్రపంచ ▁వ్యాప్తంగా ▁పలు ▁దేశాలకు ▁సరఫరా ▁చేస్తామని ▁అ దర్ ▁పూ నా వాలా ▁‘ ఈనాడు ’ కి చ్చిన ▁ఇంటర్వ్యూ లో ▁పేర్కొన్నారు . ▁ఈ ▁ఏడాది ▁చివరికి ▁పూర్తి ▁స్థాయిలో ▁ఈ ▁యూనిట్ ▁ను ▁ఉత్పత్తి ▁దశలో కి ▁తీసుకువస్త ామని ▁తెలిపారు . ▁మనదేశంలో ▁టీకా ల ▁నిల్వ ▁సదుపాయాల ▁కొరత ▁తీవ్రంగా ▁ఉందని , ▁దీని ▁పరిష్కారం పై ▁ప్రభుత్వం ▁దృష్టి ▁పెట్ట ాలని ▁ఆయన ▁కోరారు . ▁ఇంటర్వ్యూ ▁విశేషాలు . . ▁సీ రమ్ ▁ఇన్ ▁స్టిట్యూట్ ▁టీకా ల ▁తయారీలో ▁ఇప్పటికే ▁అగ్ర గా మి ▁సంస్థ ల్లో ▁ఒకటిగా ▁ఉంది . ▁మళ్లీ ▁కొత్తగా ▁ఒక ▁అతిపెద్ద ▁యూనిట్ ▁ను ▁ఏ ▁ఉద్దేశంతో ▁ఏర్పాటు ▁చేశారు . ▁ఇక్కడ ▁ఎటువంటి ▁టీకా లు , ▁మందులు ▁తయారు ▁చేస్తారు ▁? ▁చిన్న ▁పిల్లలను ▁వ్యాధుల ▁బారి ▁నుంచి ▁కాపాడ ాలంటే ▁సరైన ▁టీకా లు , ▁మందులు ▁అందించ ాలి . ▁మనదేశంలో ▁టీకా ల ▁అవసరాలు ▁పెరుగుతున్న ాయి . ▁అదేవిధంగా ▁ఎగుమతి ▁అవకాశాలు ▁ఉన్నాయి . ▁అందువల్ల ▁దేశీయ ▁అవసరాల ▁కోసమే ▁కాకుండా ▁ఎగుమతుల ను ▁దృష్టిలో ▁ఉంచుకుని ▁ఈ ▁కొత్త ▁యూనిట్ ▁నెలకొల్ప ాం . ▁గత ▁నాలుగేళ్ల ుగా ▁మే ం ▁దీనిపై ▁పనిచేస్తున్న ాం . ▁మనదేశంలో ▁ఎక్కడా ▁లే నటువంటి ▁అది పెద్ద ▁ సదుపాయ మిది . ▁సీ రమ్ ▁ఇన్ ▁స్టిట్యూట్ ▁కు ▁హా లె ండ్ ▁ , ▁చెక్ ▁రిపబ్లిక్ ▁లలో ▁యూనిట్ లు ▁ఉన్నాయి . ▁అక్కడ ▁సామర్థ్యాన్ని ▁విస్తరించ వచ్చు . ▁కానీ ▁‘ మే కిన్ ▁ఇండియా ’ లో ▁భాగం ▁పంచ ుకోవాలని , ▁స్థానికంగా ▁కొత్త ▁ఉద్యోగాలు ▁కల్పించ ాలనే ▁ఆలోచన తో ▁ఇక్కడే ▁కొత్త ▁యూనిట్ ▁నిర్మించ ాం . ▁ఈ ▁ప్లాంటు లో ▁ఈ ▁ఏడాది ▁నవంబరు ▁నుంచి ▁పూర్తి ▁స్థాయిలో ▁ఉత్పత్తి ▁కార్యకలాపాలు ▁మొదల వుతాయి . ▁ఇంకా ▁సామర్థ్యాన్ని ▁విస్తరించ ుకునే ▁అవకాశం ▁కూడా ▁ఉంది . ▁ట్రస్టు జు మ్యా బ్ ▁( హెర్ సెప్ టిన్ ▁), ▁ఉ స్టె కి ను మ్యా బ్ ▁( స్టె ల రా ) ▁వంటి ▁మోనో క్ లో నల్ ▁యాంటీ బా డీ స్ ▁ , ▁హెచ్ ▁పీవీ , ▁డె ంగీ , ▁మలేరియా , ▁న్యూ మో నియా ▁వ్యా క్సి న్లు ▁ఈ ▁కర్మాగారం లో ▁తయారు ▁చే స్తాం . ▁మోనో క్ లో నల్ ▁యాంటీ బా డీ స్ ▁ఉత్పత్తుల పై ▁ప్రస్తుతం ▁ఆస్ట్రేలియా లో ▁క్లినికల్ ▁పరీక్షలు ▁నిర్వహిస్తున్న ాం . ▁వచ్చే ▁ఏడాది ▁చివరికి ▁ఆ ▁ఔషధ ాలను ▁ఇక్కడ ▁విడుదల ▁చేయగల మని ▁భావిస్తున్న ాం . ▁యూనిట్ ▁నిర్మాణానికి ▁ఎంత ▁పెట్టుబడి ▁పెట్టారు . ▁దీని ▁సామర్థ్య మె ంత ▁? ▁ప్రస్తుతం ▁ప్రపంచంలో ▁అతిపెద్ద ▁టీకా ల ▁తయారీ ▁కర్మాగారం ▁ఇదే . ▁దీనిపై ▁ఇప్పటి ▁వరకూ ▁రూ . 3,000 ▁కోట్లు ▁పెట్టుబడి ▁పెట్ట ాం . ▁వచ్చే ▁అయి దే ళ్లలో ▁దాదాపు ▁ 3,000 ▁మందికి ▁ఇక్కడ ▁ఉద్యోగ ావకాశాల ు ▁కల్ప ి స్తాం . ▁ఏటా ▁ఈ ▁యూనిట్ లో ▁50 ▁లక్షల ▁డో సుల ▁టీకా లు ▁తయారు ▁చేయగల ం . ▁యూ ఎస్ ▁ , ▁ఐరోపా ▁దేశాల ▁తయారీ ▁ప్రమాణాల కు ▁అనుగుణంగా ▁దీన్ని ▁నిర్మించ ాం . ▁ఇక్కడి ▁నుంచి ▁ఔషధ ాలు , ▁వ్యా క్సి న్లు ▁ఐరోపా , ▁ఉత్తర ▁అమెరికా తో ▁సహా ▁150 ▁దేశాలకు ▁ఎగుమతి ▁చేయాలనే ది ▁మా ▁లక్ష్యం . ▁కొత్త ▁ఔషధ ాల ▁ఆవిష్కరణ కు ▁ఏమైనా ▁కృషి ▁చేస్తున్న ారా . . . ▁మీకు ▁ఏ మేరకు ▁పరిశోధనా ▁నైపుణ్యం ▁ఉంది . ▁? ▁ఎన్ ▁ఐ హెచ్ ▁- ▁యూ ఎస్ ▁ఏ తో ▁కలిసి ▁సీ రమ్ ▁ఇన్ ▁స్టిట్యూట్ ▁రో టో వై రస్ ▁వ్యా క్సి న్ ▁ను ▁అభివృద్ధి ▁చేసింది . ▁‘ రొ టా సిల్ ▁’ ▁పేరుతో ▁దీన్ని ▁ఆవిష్కరించ ాం . ▁దీని ▁ప్రత్యేకత ▁ఏమిటంటే . . . ▁25 ▁డిగ్రీల ▁ఉష్ణోగ్రత లో ▁30 ▁నెలల ▁వరకూ ▁ఈ ▁వ్యా క్సి న్ ▁ఉపయోగపడుతుంది . ▁ఇంకా ▁పలు ▁ఔషధ ాల ▁మీద ▁పని ▁చేస్తున్న ాం . ▁మే ం ▁కొత్తగా ▁నిర్మించిన ▁యూనిట్ లో ▁అధునాతన ▁ఉపకరణాలు , ▁సామగ్రి , ▁సాంకేతిక ▁పరిజ్ఞానం ▁ఉన్నాయి . ▁తత్ఫలితంగా ▁పెద్ద ఎత్తు న ▁పరిశోధనలు ▁చేపట్ట గల ం . ▁మీరు ▁ఐ వీ ఎం ఏ ▁అధ్యక్షుడిగా ▁వ్యవహరిస్తున్న ారు . ▁దేశంలో ▁వ్యా క్సి న్ ▁తయారీ ▁సంస్థలు ▁ఎదుర్కొంటున్న ▁స వాళ్లు ▁ఏమిటి , ▁వాటిని ▁ఏవిధంగా ▁పరిష్కరించ వచ్చు ▁? ▁దేశంలో ▁సులభ తర ▁వ్యాపార ▁నిర్వహణ ▁( ఈ జ్ ▁ఆఫ్ ▁డూ యింగ్ ▁బిజినెస్ ▁) కు ▁అవకాశం ▁ఉండాలనే ది ▁నా ▁ప్రధాన ోద్ దేశం . ▁‘ సింగి ల్ ▁వి ండో ’ ▁పద్ధతిలో ▁వ్యాపార ▁అనుమతుల ు ▁లభించ ాలి . ▁వ్యా క్సి న్లు , ▁ఔషధ ాల ▁తయారీకి ▁అవసరమైన ▁అన్ని ▁అనుమతుల ు ▁త్వరితంగా ▁లభించే ▁వాతావరణం ▁ఉండాలి . ▁పరిశోధన లను ▁ప్రోత్సహించ ే ▁పరిస్థితి ▁ఉండాలి . ▁తద్వారా ▁నూతన ▁ఔషధ ాలు ▁ఆవిష్కరించ ే ▁అవకాశం ▁ఏర్పడుతుంది . ▁దీనికి ▁ప్రభుత్వం ▁నుంచి ▁ఎటువంటి ▁చర్యలు ▁ఆశ ిస్తున్నారు . . ▁? ▁తగిన ▁మౌలిక ▁సదుపాయాలు ▁లేకపోవటం , ▁ఇతరత్రా ▁స వాళ్ల ను ▁ఎప్పటికప్పుడు ▁ప్రభుత్వం ▁దృష్టి కి ▁తీసుకు వె ళ్ తున్న ాం . ▁మనదేశంలో ▁టీకా లను ▁నిల్వ ▁చేయటానికి ▁అనువైన ▁సదుపాయాల ▁కొరత ▁ఉంది . ▁దేశంలో ▁పిల్లల ందరికీ ▁టీకా లు ▁ఇచ్చి ▁నూరు శాతం ▁టీకా ల ▁లక్ష్యాన్ని ▁సాధించ ాలంటే ▁అన్ని ▁రకాల ▁సదుపాయాలు ▁మెరుగు ▁పరచ ాలి . ▁నిల్వ ▁చేసే ▁సదుపాయాల తో ▁పాటు ▁శీతల ▁రవాణా , ▁పంపిణీ . . . ▁తదితర ▁విభాగాల్లో ▁ఉన్నత ▁ప్రమాణాలు ▁సాధించ ాలి . ▁మన దేశ ానికి ▁టీకా ల ▁తయారీ ▁కేంద్రంగా ▁ఎ ది గే ▁అవకాశం ▁ఉంది . ▁అందుకు ▁చర్యలు ▁చేపట్ట ాలి . ▁స్థానిక ▁కంపెనీ లకు ▁అన్ని ▁రకాల ▁ప్రోత్సాహక ాలు ▁ఇవ్వాలి . ▁కొన్ని ▁వ్యా క్సి న్ ల ▁ధరలు , ▁మరికొన్ని ంటి ▁ధరలు ▁తక్కువగా ▁ఉన్నాయి . ▁ప్రజల పై ▁భార ాన్ని ▁తగ్గించ ాలంటే ▁ఎటువంటి ▁మార్పులు ▁రావ ాలి . ▁? ▁కొన్ని ▁వ్యా క్సి న్ ల ▁ధరలు ▁ఎక్కువగా ▁ఉన్న ▁విషయం ▁వాస్తవ మే . ▁అదే ▁సమయంలో ▁కొన్ని ▁టీకా లకు ▁ఎన్ ▁పీ పీ ఏ ▁నిర్ణయించిన ▁ధరలు , ▁తయారీ ▁వ్యయం ▁కంటే ▁తక్కువగా ▁ఉన్నాయి . ▁టీకా ల ▁పరిశ్రమ ▁పరిశోధనలు ▁చేపట్టి ▁కొత్త ▁టీకా లు ▁ఆవిష్కరించ ాలంటే ▁తయారీ దార్ల కు ▁ఎంతో ▁కొంత ▁లాభం ▁ఉండాలి . ▁అందువల్ల ▁ధరల ▁నిర్ణయం లో ▁హే తు బద్ధంగా ▁ఉండాలి . ▁ఐరోపా , ▁ఉత్తర ▁అమెరికా ▁దేశాల్లో ▁వ్యా క్సి న్ ల ▁ధరలు ▁ఎంతో ▁ఎక్కువ . ▁మనదేశంలో ▁వాటికి ▁పదో వంతు ▁ధర లో ▁వాటిని ▁అందించ గలుగుతున్నా ం . ▁అయినా ▁ఇంకా ▁తక్కువ ▁ధర ▁నిర్ణయించ టం ▁వల్ల ▁ఇబ్బందులు ▁ఎదుర వ ుతున్నాయి . ▁- ▁ఈనాడు , ▁హైదరాబాద్\n",
              "y: LMLabelList\n",
              ",,,,\n",
              "Path: .;\n",
              "\n",
              "Valid: LabelList (4106 items)\n",
              "x: LMTextList\n",
              "▁x x bo s ▁జీవ న్ మృత ురాలి కి ▁పాప ాయి ▁ప్రా గ్ ▁: ▁జీవ న్ మృత ురాల ై ( బ్ రెయిన్ ▁ డెడ్ ▁) న ▁117 ▁రోజుల ▁తర్వాత ▁ఓ ▁గర్భ ిణి కి ▁పండ ంటి ▁పాప ాయి ▁జన్మించిన ▁అత్యంత ▁అరుదైన ▁సంఘటన ▁ఇది . ▁బ్ర ొ నో ▁విశ్వవిద్యాలయ ▁ఆసుపత్రి ▁వైద్యులు ▁ఈ ▁ఘనత ను ▁సాధించారు . ▁ఏప్రిల్ ▁లో ▁పక్షవాతం ▁వచ్చి ▁జీవ న్ మృత ురాలైన ▁ఆమెకు ▁గత ▁నెల ▁15 న ▁వైద్యులు ▁పెద్ద ాప రేషన్ ▁చేసి ▁బిడ్డ కు ▁ప్రాణం ▁పో శారు . ▁ఏప్రిల్ ▁నుంచీ ▁గర్భ స్థ ▁శిశువు ను ▁కాపాడ ేందుకు ▁వైద్యులు ▁ఎంతో ▁శ్రమ ించారు .,▁x x bo s ▁అంతర్ ▁జిల్లా ▁ఫుట్ ▁బాల్ ▁షు రూ ▁ఈనాడు ▁డిజిటల్ ▁ , ▁హైదరాబాద్ ▁: ▁తెలంగాణ ▁రాష్ట్ర ▁సీనియర్ ▁అంతర్ ▁జిల్లా ▁ఫుట్ ▁బాల్ ▁ఛాంపియన్ ▁షిప్ ▁పోటీలు ▁గురువారం ▁ఆరంభ మయ్యాయి . ▁ఖమ్మంలో ని ▁సర్దార్ ▁పటేల్ ▁స్టేడియం లో ▁జరిగిన ▁ఛాంపియన్ ▁షిప్ ▁ప్రారంభ ోత్సవ ▁కార్యక్రమానికి ▁ఏ సీ పీ ▁వెంకట ్ ▁రావు ▁ముఖ్య ▁అతిథి గా ▁హాజరై ▁టోర్నీ ని ▁ఆరంభించారు . ▁నాలుగు ▁రోజు ▁పాటు ▁జరిగే ▁ఈ ▁టోర్నీ లో ▁ఖమ్మం , ▁వనపర్తి , ▁రంగారెడ్డి , ▁నిజామాబాద్ ▁ , ▁మెదక్ ▁ , ▁మంచిర్యాల , ▁మహబూబ్ ▁నగర్ ▁ , ▁నల్గొండ ▁జిల్లాల ▁జట్లు ▁పోటీపడ ను న్నాయి . ▁ఈ ▁కార్యక్రమంలో ▁తెలంగాణ ▁ఫుట్ ▁బాల్ ▁సంఘం ▁కార్యదర్శి ▁ఫాల్గుణ ▁తదితరులు ▁పాల్గొన్నారు .,▁x x bo s ▁పంచ ్ ▁డైలాగ్ ▁బంధం ▁కోసం ▁ప ంత ాన్ని ▁వదుల ుకున్నా ▁పం తం ▁కోసం ▁బంధ ాన్ని ▁వదుల ుకో కూడదు ▁చిత్రం : ▁విన్న ర్ ▁- ▁పంపిన వారు : ▁దూ లం ▁వంశీ , ▁తుని , ▁తూ . గో . జిల్లా,▁x x bo s ▁వచ్చే ▁ఏడాది లో ▁కొత్త ▁క్షేత్ర ాల్లో ▁గ్యాస్ ▁ఉత్పత్తి ▁ది ల్లీ : ▁ప్రతిష్ఠాత్మక ▁కే జీ - ▁డీ 6 ▁బ్లాకు లోని ▁కొత్త ▁గ్యాస్ ▁క్షేత్రంలో ▁2020 ▁మధ్య ▁నుంచి ▁ఉత్పత్తి ▁ప్రారంభించ ాలన్న ▁లక్ష్య ానికి ▁అనుగుణంగా ▁వెళ్తున్న ట్లు ▁రిలయన్స్ ▁ఇండస్ట్రీ స్ ▁వెల్లడించింది . ▁ప్రస్తుత ▁క్షేత్ర ాల్లో ▁ఉత్పత్తి ▁గణనీయంగా ▁తగ్గి న ▁నేపథ్యంలో ▁కంపెనీ ▁ఈ ▁వ్యాఖ్యలు ▁చేసింది . ▁కే జీ - ▁డీ 6 ▁బ్లాకు లో ▁కనుగొన్న ▁మూడు ▁క్షేత్ర ాల్లో ▁ఉత్పత్తి ▁ప్రారంభించ డానికి ▁రిలయన్స్ ▁ , ▁బ్రిటన్ ▁భాగస్వామి ▁బీ పీ ▁పీ ఎల్ ▁సీ లు ▁రూ . 40,000 ▁కోట్ల ▁పెట్టుబడుల ను ▁2017 ▁జూన్ ▁లో ▁ప్రకటించ ాయి . ▁2020 - 22 ▁మధ్య ▁ఈ ▁క్షేత్రాల ▁నుంచి ▁రోజుకు ▁మొత్తం ▁30 - ▁35 ▁మిలియన్ ▁క్యూబిక్ ▁మీటర్ల ▁( ▁100 ▁కోట్ల ▁ఘన పు ▁అడుగులు ) ▁గ్యాస్ ▁ను ▁వెలికి తీయ ొచ్చ ని ▁అంచనా . ▁రిలయన్స్ ▁కనుగొన్న ▁మూడు ▁క్షేత్రాలు ▁ఆర్ ▁- క్ ల స్టర్ ▁ , ▁శాటిలైట్ ▁క్ల స్టర్ ▁ , ▁ఎం జే ▁ఫీల్డ్ ▁గా ▁ఉన్నాయి . ▁ఇందులో ▁ఆర్ ▁- క్ ల స్టర్ ▁నుంచి ▁ముందుగా ▁ఉత్పత్తి ▁ప్రారంభించ నున్నారు .,▁x x bo s ▁23 ▁నెలల ▁కనిష్ఠ ానికి . . ▁టో కు ▁ద్రవ్యోల్బణం ▁2. 02 % ▁ది ల్లీ : ▁కూరగాయలు , ▁ఇంధనం , ▁విద్యుత్ ▁ధరలు ▁చౌక ▁కావడంతో ▁టో కు ▁ధరల ▁సూ చీ ▁( డబ్ల్యూ పీ ఐ ) ▁ఆధారిత ▁ద్రవ్యోల్బణం ▁23 ▁నెలల ▁కనిష్ఠ ానికి ▁చేరింది . ▁వరుసగా ▁రెండో ▁నెల ా ▁తగ్గి న ▁ డబ్ల్యూ పీ ఐ ▁ద్రవ్యోల్బణం , ▁జూన్ ▁లో ▁2. 02 ▁శాతం గా ▁నమోదైంది . ▁మే లో ▁2. 45 ▁శాతం గా ▁నమోదైన ▁ద్రవ ో ల్ బ ణం , ▁2018 ▁జూన్ ▁లో ▁5 . 68 ▁శాతం గా ▁నమోదు ▁కావడం ▁గమనార్హం . ▁అంతకు ▁ముందు ▁2017 ▁జులై లో ▁ డబ్ల్యూ పీ ఐ ▁ద్రవ్యోల్బణం ▁రికార్డు ▁స్థాయిలో ▁1. 88 ▁శాతానికి ▁చేరింది . ▁ఇక ▁ఏప్రిల్ ▁ద్రవ్యోల్బణ ▁గణాంకాలను ▁3 . 07 ▁శాతం ▁నుంచి ▁3 . 24 ▁శాతానికి ▁సవరించ ారు . ▁వాణిజ్య ▁మంత్రిత్వ ▁శాఖ ▁విడుదల ▁చేసిన ▁గణాంకాల ▁ప్రకారం . . ▁ <unk> ▁మే లో ▁6 . 99 ▁శాతం గా ▁ఉన్న ▁ఆహార ▁వస్తువుల ▁ద్రవ్యోల్బణం . . ▁గత ▁నెలలో ▁స్వల్పంగా ▁తగ్గి ▁6 . 98 ▁శాతానికి ▁చేరింది . ▁ <unk> ▁కూరగాయల ▁ద్రవ్యోల్బణం ▁33 . 15 ▁శాతం ▁నుంచి ▁జూన్ ▁లో ▁24 . 76 ▁శాతానికి ▁తగ్గింది . ▁బంగాళదుంప లు ▁24 . 27 ▁శాతం ▁మేర ▁చౌక య్యాయి . ▁ <unk> ▁ఉల్లిపాయ ల ▁ధరల ▁పెరుగుదల ▁కొనసాగింది . ▁మే లో ▁15 . 89 ▁శాతం ▁పెరిగి తే . . ▁జూన్ ▁లో ▁ఇవి ▁16 . 63 ▁శాతం ▁ప్రియ మయ్యాయి . ▁ <unk> ▁ఇంధనం , ▁విద్యుత్ ▁విభాగం ▁( - ) 2 . 20 ▁శాతం ▁ప్రతి ▁ద్రవ్యోల్బణ ాన్ని ▁నమోదు ▁చేసింది . ▁అంత క్రి తం ▁నెలలో ▁ఇవి ▁0. 98 ▁శాతం ▁పెరిగాయి . ▁తయారీ ▁వస్తువుల ▁ధరలు ▁సైతం ▁1. 28 ▁శాతం ▁నుంచి ▁0. 94 ▁శాతానికి ▁చల్ల బడ్డాయి . ▁ <unk> ▁ఆహార ▁వస్తువుల ▁ధరలు ▁పెరగడం తో ▁గత ▁వారం ▁రిటైల్ ▁ద్రవ్యోల్బణం ▁ఆరు ▁నెలల ▁గరిష్ఠ మైన ▁3 . 18 ▁శాతానికి ▁చేరిన ▁విషయం ▁తెలిసి ందే .\n",
              "y: LMLabelList\n",
              ",,,,\n",
              "Path: .;\n",
              "\n",
              "Test: None, model=SequentialRNN(\n",
              "  (0): AWD_LSTM(\n",
              "    (encoder): Embedding(25000, 400, padding_idx=1)\n",
              "    (encoder_dp): EmbeddingDropout(\n",
              "      (emb): Embedding(25000, 400, padding_idx=1)\n",
              "    )\n",
              "    (rnns): ModuleList(\n",
              "      (0): WeightDropout(\n",
              "        (module): LSTM(400, 1152, batch_first=True)\n",
              "      )\n",
              "      (1): WeightDropout(\n",
              "        (module): LSTM(1152, 1152, batch_first=True)\n",
              "      )\n",
              "      (2): WeightDropout(\n",
              "        (module): LSTM(1152, 400, batch_first=True)\n",
              "      )\n",
              "    )\n",
              "    (input_dp): RNNDropout()\n",
              "    (hidden_dps): ModuleList(\n",
              "      (0): RNNDropout()\n",
              "      (1): RNNDropout()\n",
              "      (2): RNNDropout()\n",
              "    )\n",
              "  )\n",
              "  (1): LinearDecoder(\n",
              "    (decoder): Linear(in_features=400, out_features=25000, bias=True)\n",
              "    (output_dp): RNNDropout()\n",
              "  )\n",
              "), opt_func=functools.partial(<class 'torch.optim.adam.Adam'>, betas=(0.9, 0.99)), loss_func=FlattenedLoss of CrossEntropyLoss(), metrics=[<function accuracy at 0x7fd2af62a840>], true_wd=True, bn_wd=True, wd=0.01, train_bn=True, path=PosixPath('.'), model_dir='models', callback_fns=[functools.partial(<class 'fastai.basic_train.Recorder'>, add_time=True, silent=False)], callbacks=[...], layer_groups=[Sequential(\n",
              "  (0): WeightDropout(\n",
              "    (module): LSTM(400, 1152, batch_first=True)\n",
              "  )\n",
              "  (1): RNNDropout()\n",
              "), Sequential(\n",
              "  (0): WeightDropout(\n",
              "    (module): LSTM(1152, 1152, batch_first=True)\n",
              "  )\n",
              "  (1): RNNDropout()\n",
              "), Sequential(\n",
              "  (0): WeightDropout(\n",
              "    (module): LSTM(1152, 400, batch_first=True)\n",
              "  )\n",
              "  (1): RNNDropout()\n",
              "), Sequential(\n",
              "  (0): Embedding(25000, 400, padding_idx=1)\n",
              "  (1): EmbeddingDropout(\n",
              "    (emb): Embedding(25000, 400, padding_idx=1)\n",
              "  )\n",
              "  (2): LinearDecoder(\n",
              "    (decoder): Linear(in_features=400, out_features=25000, bias=True)\n",
              "    (output_dp): RNNDropout()\n",
              "  )\n",
              ")], add_time=True, silent=False)\n",
              "alpha: 2.0\n",
              "beta: 1.0, MixedPrecision\n",
              "learn: LanguageLearner(data=TextLMDataBunch;\n",
              "\n",
              "Train: LabelList (16421 items)\n",
              "x: LMTextList\n",
              "▁x x bo s ▁పట్టు బి గ ించిన ▁భారత్ ▁- ఎ ▁మైసూరు : ▁దక్షిణాఫ్రికా - ఎ తో ▁రెండో ▁అనధికార ▁టెస్టు పై ▁భారత్ ▁- ఎ ▁పట్టు బి గ ించింది . ▁ఓవర్ ▁నైట్ ▁స్కోరు ▁23 3 ▁/ ▁3 తో ▁రెండో ▁రోజు , ▁బుధవారం ▁తొలి ▁ఇన్నింగ్స్ ▁కొన సా ంచిన ▁భారత్ ▁- ఎ ▁4 17 ▁పరుగుల కు ▁ఆ లౌ ట ైంది . ▁శివ మ్ ▁దు బె ▁( 68 ), ▁జల జ్ ▁స క్ సే నా ▁( 48 ▁నాట ౌట్ ▁) ▁సత్తా ▁చాట డంతో ▁భారత్ ▁400 ▁దాట గలిగింది . ▁అనంతరం ▁తొలి ▁ఇన్నింగ్స్ ▁లో ▁దక్షిణాఫ్రికా - ఎ ▁తడ బడింది . ▁కు ల్ ▁ దీప్ ▁యాదవ్ ▁(2 ▁/ ▁51 ), ▁నదీ మ్ ▁(2 ▁/ ▁41 ) ▁విజృంభించ డంతో ▁ఆట ▁ముగిసే ▁సమయానికి ▁159 ▁పరుగుల కే ▁5 ▁వికెట్లు ▁చే జార్ చ ుకుంది . ▁ఓ పె నర్ ▁మార్ ▁క్రమ ్ ▁( 81 ▁బ్యాటింగ్ ▁) ▁చక్కని ▁ఇన్నింగ్స్ ▁ఆడాడు . ▁అతడికి ▁తోడుగా ▁ముల్ దర్ ▁( 9) ▁క్రీ జు లో ▁ఉన్నాడు . ▁బ్ర ు యిన్ ▁41 ▁పరుగులు ▁చేశాడు .,▁x x bo s ▁చైనాలో ▁భూకంపాలు ▁: ▁12 ▁మంది ▁మృతి ▁125 ▁మందికి ▁గాయాలు ▁బీజింగ్ ▁: ▁చైనా ▁నైరుతి ▁ప్రాంతంలోని ▁సి చు వాన్ ▁ప్రావిన్స్ ▁లో ▁సోమవారం ▁సంభవించిన ▁రెండు ▁భూకంప ాల ▁ధాటికి ▁12 ▁మంది ▁మృతి ▁చెందారు . ▁మరో ▁125 ▁మంది ▁గాయపడ్డారు . ▁యి బిన్ ▁నగరానికి ▁చెందిన ▁చా ంగ్ ▁ నింగ్ ▁ప్రాంతంలో ▁స్థానిక ▁కాల మానం ▁ప్రకారం ▁రాత్రి ▁10 . 55 ▁గంటల ▁సమయంలో ▁6 . 0 ▁తీవ్రత తో ను , ▁అనంతరం ▁5 . 3 ▁తీవ్రత తోనూ ▁భూకంపాలు ▁సంభవించిన ట్లు ▁చైనా ▁భూకంప ▁పరిశోధన ▁కేంద్రం ▁మంగళవారం ▁తెలిపింది . ▁16 ▁కి . మీ . ల ▁లోతు న ▁భూకంప ▁కేంద్రం ▁ఉన్నట్లు ▁వెల్లడించింది . ▁ఇ ళ్లు ▁కుప్పకూల డం ▁వల్ల ▁ఎక్కువ ▁మంది ▁చనిపోయిన ట్లు ▁అధికారులు ▁తెలిపారు . ▁నైరుతి ▁జపాన్ ▁లో . . ▁టోక్యో : ▁నైరుతి ▁జపాన్ ▁లో ▁మంగళవారం ▁6 . 8 ▁తీవ్రత తో ▁భూకంపం ▁ఏర్పడటం తో ▁ఆ ▁దేశం ▁సునామీ ▁హెచ్చరిక లు ▁జారీ ▁చేసింది . ▁రెండున్నర ▁గంటల ▁తరువాత ▁ఉపసంహరించ ుకుంది . ▁తొలుత ▁ఉత్తర ▁టోక్యో లో ▁తీర ▁ప్రాంతాన్ని ▁మూడు ▁అడుగుల ▁ఎత్తైన ▁అల లు ▁తా కే ▁అవకాశం ▁ఉందని ▁వాతావరణ ▁విభాగం ▁తెలిపింది . ▁కొన్ని ▁అల లు ▁నైరుతి ▁జపాన్ ▁లోని ▁యమ గత , ▁నీ గత ▁తీర ాలను ▁తా కి ▁ఉండవచ్చని ▁పేర్కొంది . ▁దీంతో ▁ముందు ▁జాగ్రత్త ▁చర్య గా ▁ఆ ▁ప్రాంతంలో ▁బుల్లెట్ ▁రైలు ▁సేవలను ▁తక్షణమే ▁నిలిపి వేశారు . ▁కొన్ని ▁వేల ▁ఇళ్ల కు ▁విద్యుత్తు ▁సరఫరా ▁నిలిచిపోయింది . ▁భూకంప కేంద్ర ానికి ▁సమీప ాన ▁గల ▁అణు విద్యుత్ తు ▁కర్మాగార ాల్లో ▁ఎలాంటి ▁అసాధారణ త ▁కనిపించ లేదు .,▁x x bo s ▁నేటి ▁బోర్డు ▁సమావేశాలు ▁ <unk> ▁ఎన్ ▁టీ పీ సీ ▁ <unk> ▁ఆయిల్ ▁ఇండియా ▁ <unk> ▁అమర రాజా ▁బ్యాటరీ స్ ▁ <unk> ▁చోళ మండలం ▁ఫైనాన్షియల్ ▁హోల్ డింగ్ స్ ▁ <unk> ▁జే కే ▁సిమెంట్ ▁ <unk> ▁జై ప్రకాశ ్ ▁అసోసియేట్ స్ ▁ , ▁లక్ష్మీ వి లాస్ ▁బ్యాంక్ ▁ <unk> ▁మంగళ ం ▁సిమెంట్ ▁ <unk> ▁మంజ ీ రా ▁కన్ ▁స్ట్ర క్షన్ స్ ▁ <unk> ▁మనో ర మ ▁ఇండస్ట్రీ స్ ▁ <unk> ▁మేఘ మణి ▁ఆర్ గా నిక్స్ ▁ <unk> ▁రె సో నా న్స్ ▁స్పె షా లిటీ స్ ▁ <unk> ▁తా న్ లా ▁సొ ల్యూషన్ స్ ▁ <unk> ▁ఉషా ▁మార్టిన్ ▁ <unk> ▁వి మ్ టా ▁ల ్యా బ్స్ ▁ <unk> ▁వీ ఆర్ ▁ఎల్ ▁లా జి స్టిక్ స్,▁x x bo s ▁ఇద్దరు ▁ఇంటర్ ▁విద్యార్థుల ▁ఆత్మహత్య ▁నెక్ కొండ , ▁షా బాద్ ▁ , ▁న్యూస్ ▁టు డే : ▁ఇంటర్ ▁పరీక్ష ల్లో ▁తప్ప ినందుకు ▁మన స్తా పం ▁చెందిన ▁ఇద్దరు ▁విద్యార్థులు ▁మంగళవారం ▁ఆత్మహత్య కు ▁పాల్ పడ్డారు . ▁వరంగల్ ▁రూరల్ ▁జిల్లా ▁రెడ్ ల వాడ ▁శివారు ▁మ త్త డి ▁తండా కు ▁చెందిన ▁మా లో తు ▁నవీన ్ ▁(17 ) ▁ఇంటర్ ▁ఎంపీ సీ ▁చదివాడు . ▁ఇటీవల ▁వెల్ల డైన ▁ఫలితాల ్లో ▁ఆ ▁విద్యార్థి ▁అన్ని ▁సబ్జెక్టు ల్లో ▁ఫెయి ల య్యాడు . ▁దీంతో ▁మన స్తా పం ▁చెందిన ▁నవీన ్ ▁నెక్ కొండలో ▁రైలు ▁కింద పడి ▁ఆత్మహత్య కు ▁పాల్ పడ్డాడు . ▁రంగారెడ్డి ▁జిల్లా ▁షా బాద్ ▁మండలం ▁తి ర్మ లాపూర్ ▁కు ▁చెందిన ▁స త్త ూరి ▁జ్యోతి ( 17 ) ▁ఇంటర్ ▁సీ ఈ సీ ▁చదివి ంది . ▁ఇటీవల ▁వెలువడిన ▁ఫలితాల ్లో ▁ద్వితీయ ▁సంవత్సరం ▁సబ్జెక్టు ల్లో ▁ఒక దా ంట్ లో ▁ఫెయి ల వడంతో ▁కి రో సిన్ ▁పోస ుకుని ▁ని ప్ప ంట ించుకుని ▁బల వన్ మరణ ానికి ▁పాల్పడ ింది . ▁ఫలితాల ▁సమయంలో ▁ఆమె ▁అమ్మ మ్మ ▁ఇంట ▁ఉంది . ▁మంగళవారం ▁ఇంటికి ▁వచ్చిన ▁ఆమె . . ▁మధ్యాహ్నం ▁ఇంట్లో ▁ఎవరూ ▁లేని ▁సమయంలో ▁ఈ ▁దారుణ ానికి ▁పాల్పడ ింది . ▁కుటుంబసభ్యుల ▁ఫిర్యాదు ▁మేరకు ▁పోలీసులు ▁వేర్వేరు గా ▁కేసులు ▁నమోదు ▁చేసి ▁దర్యాప్తు ▁చేస్తున్నారు .,▁x x bo s ▁టీకా ల ▁నిల్వ కు ▁తగిన ▁సదుపాయాల ే వీ . . ? ▁పూర్తి ▁స్థాయిలో ▁సౌకర్యాల ▁కల్పన పై ▁ప్రభుత్వం ▁దృష్టి ▁సార ించాలి ▁కొన్ని ▁టీకా ల ▁ధర ▁తయారీ ▁ఖర్చు ▁కంటే ▁తక్కువ ▁150 ▁దేశాలకు ▁ఎగుమతులు ▁చేసే ▁లక్ష్యంతో ▁కొత్త ▁యూనిట్ ▁పెట్ట ాం ▁డె ంగీ , ▁మలేరియా , ▁న్యుమోనియా ▁వ్యా క్సి న్లు , ▁ఇతర ▁ఔషధ ాలు ▁తయారు ▁చే స్తాం ▁‘ ఈనాడు ’ ▁ఇంటర్వ్యూ ▁సీ రమ్ ▁ఇన్ ▁స్టిట్యూట్ ▁ఆఫ్ ▁ఇండియా ▁సీ ఈ ఓ ▁అ దర్ ▁పూ నా వాలా ▁మన దేశం ▁నుంచి ▁ఇతర దేశాల కు ▁టీకా లు ▁పెద్ద ఎత్తు న ▁ఎగుమతి ▁చేయటానికి ▁అవసరమైన ▁అన్ని ▁ప్రో త్స హా కాలను ▁ప్రభుత్వం ▁కల్పించ ాలని ▁అంటున్నారు ▁సీ రమ్ ▁ఇన్ ▁స్టిట్యూట్ ▁ఆఫ్ ▁ఇండియా ▁సీ ఈ ఓ , ▁ఐ వీ ఎం ఏ ▁అధ్యక్షుడు ▁అయిన ▁అ దర్ ▁పూ నా వాలా . ▁దేశీయ ▁మార్కెట్ లో ▁కొన్ని ▁టీకా లకు ▁వాటి ▁తయారీ క య్యే ▁ఖర్చు ▁కంటే ▁తక్కువ ▁ధరలు ▁నిర్ణయించ ారని , ▁ఈ ▁విషయంలో ▁ప్రభుత్వం ▁పున రా లోచన ▁చేసి ▁టీకా ల ▁పరిశ్రమకు ▁అండగా ▁నిలవ ాలని ▁కోరారు . ▁ఈ ▁సంస్థ ▁ప్రపంచంలోనే ▁అతిపెద్ద దైన ▁నూతన ▁టీకా ల ▁తయారీ ▁కర్మాగార ాన్ని ▁పు ణ ె లో ▁నెలకొల్ప ింది . ▁ఈ ▁కర్మాగార ాన్ని ▁కేంద్ర ▁ఆరోగ్య ▁మంత్రి ▁డాక్టర్ ▁హర్ష వర్థన ్ ▁సోమవారం ▁ప్రారంభించారు . ▁ఈ ▁యూనిట్ ▁లో ▁పలు ▁నూతన ▁టీకా లు , ▁ఔషధ ాలు ▁తయారు ▁చేసి ▁ప్రపంచ ▁వ్యాప్తంగా ▁పలు ▁దేశాలకు ▁సరఫరా ▁చేస్తామని ▁అ దర్ ▁పూ నా వాలా ▁‘ ఈనాడు ’ కి చ్చిన ▁ఇంటర్వ్యూ లో ▁పేర్కొన్నారు . ▁ఈ ▁ఏడాది ▁చివరికి ▁పూర్తి ▁స్థాయిలో ▁ఈ ▁యూనిట్ ▁ను ▁ఉత్పత్తి ▁దశలో కి ▁తీసుకువస్త ామని ▁తెలిపారు . ▁మనదేశంలో ▁టీకా ల ▁నిల్వ ▁సదుపాయాల ▁కొరత ▁తీవ్రంగా ▁ఉందని , ▁దీని ▁పరిష్కారం పై ▁ప్రభుత్వం ▁దృష్టి ▁పెట్ట ాలని ▁ఆయన ▁కోరారు . ▁ఇంటర్వ్యూ ▁విశేషాలు . . ▁సీ రమ్ ▁ఇన్ ▁స్టిట్యూట్ ▁టీకా ల ▁తయారీలో ▁ఇప్పటికే ▁అగ్ర గా మి ▁సంస్థ ల్లో ▁ఒకటిగా ▁ఉంది . ▁మళ్లీ ▁కొత్తగా ▁ఒక ▁అతిపెద్ద ▁యూనిట్ ▁ను ▁ఏ ▁ఉద్దేశంతో ▁ఏర్పాటు ▁చేశారు . ▁ఇక్కడ ▁ఎటువంటి ▁టీకా లు , ▁మందులు ▁తయారు ▁చేస్తారు ▁? ▁చిన్న ▁పిల్లలను ▁వ్యాధుల ▁బారి ▁నుంచి ▁కాపాడ ాలంటే ▁సరైన ▁టీకా లు , ▁మందులు ▁అందించ ాలి . ▁మనదేశంలో ▁టీకా ల ▁అవసరాలు ▁పెరుగుతున్న ాయి . ▁అదేవిధంగా ▁ఎగుమతి ▁అవకాశాలు ▁ఉన్నాయి . ▁అందువల్ల ▁దేశీయ ▁అవసరాల ▁కోసమే ▁కాకుండా ▁ఎగుమతుల ను ▁దృష్టిలో ▁ఉంచుకుని ▁ఈ ▁కొత్త ▁యూనిట్ ▁నెలకొల్ప ాం . ▁గత ▁నాలుగేళ్ల ుగా ▁మే ం ▁దీనిపై ▁పనిచేస్తున్న ాం . ▁మనదేశంలో ▁ఎక్కడా ▁లే నటువంటి ▁అది పెద్ద ▁ సదుపాయ మిది . ▁సీ రమ్ ▁ఇన్ ▁స్టిట్యూట్ ▁కు ▁హా లె ండ్ ▁ , ▁చెక్ ▁రిపబ్లిక్ ▁లలో ▁యూనిట్ లు ▁ఉన్నాయి . ▁అక్కడ ▁సామర్థ్యాన్ని ▁విస్తరించ వచ్చు . ▁కానీ ▁‘ మే కిన్ ▁ఇండియా ’ లో ▁భాగం ▁పంచ ుకోవాలని , ▁స్థానికంగా ▁కొత్త ▁ఉద్యోగాలు ▁కల్పించ ాలనే ▁ఆలోచన తో ▁ఇక్కడే ▁కొత్త ▁యూనిట్ ▁నిర్మించ ాం . ▁ఈ ▁ప్లాంటు లో ▁ఈ ▁ఏడాది ▁నవంబరు ▁నుంచి ▁పూర్తి ▁స్థాయిలో ▁ఉత్పత్తి ▁కార్యకలాపాలు ▁మొదల వుతాయి . ▁ఇంకా ▁సామర్థ్యాన్ని ▁విస్తరించ ుకునే ▁అవకాశం ▁కూడా ▁ఉంది . ▁ట్రస్టు జు మ్యా బ్ ▁( హెర్ సెప్ టిన్ ▁), ▁ఉ స్టె కి ను మ్యా బ్ ▁( స్టె ల రా ) ▁వంటి ▁మోనో క్ లో నల్ ▁యాంటీ బా డీ స్ ▁ , ▁హెచ్ ▁పీవీ , ▁డె ంగీ , ▁మలేరియా , ▁న్యూ మో నియా ▁వ్యా క్సి న్లు ▁ఈ ▁కర్మాగారం లో ▁తయారు ▁చే స్తాం . ▁మోనో క్ లో నల్ ▁యాంటీ బా డీ స్ ▁ఉత్పత్తుల పై ▁ప్రస్తుతం ▁ఆస్ట్రేలియా లో ▁క్లినికల్ ▁పరీక్షలు ▁నిర్వహిస్తున్న ాం . ▁వచ్చే ▁ఏడాది ▁చివరికి ▁ఆ ▁ఔషధ ాలను ▁ఇక్కడ ▁విడుదల ▁చేయగల మని ▁భావిస్తున్న ాం . ▁యూనిట్ ▁నిర్మాణానికి ▁ఎంత ▁పెట్టుబడి ▁పెట్టారు . ▁దీని ▁సామర్థ్య మె ంత ▁? ▁ప్రస్తుతం ▁ప్రపంచంలో ▁అతిపెద్ద ▁టీకా ల ▁తయారీ ▁కర్మాగారం ▁ఇదే . ▁దీనిపై ▁ఇప్పటి ▁వరకూ ▁రూ . 3,000 ▁కోట్లు ▁పెట్టుబడి ▁పెట్ట ాం . ▁వచ్చే ▁అయి దే ళ్లలో ▁దాదాపు ▁ 3,000 ▁మందికి ▁ఇక్కడ ▁ఉద్యోగ ావకాశాల ు ▁కల్ప ి స్తాం . ▁ఏటా ▁ఈ ▁యూనిట్ లో ▁50 ▁లక్షల ▁డో సుల ▁టీకా లు ▁తయారు ▁చేయగల ం . ▁యూ ఎస్ ▁ , ▁ఐరోపా ▁దేశాల ▁తయారీ ▁ప్రమాణాల కు ▁అనుగుణంగా ▁దీన్ని ▁నిర్మించ ాం . ▁ఇక్కడి ▁నుంచి ▁ఔషధ ాలు , ▁వ్యా క్సి న్లు ▁ఐరోపా , ▁ఉత్తర ▁అమెరికా తో ▁సహా ▁150 ▁దేశాలకు ▁ఎగుమతి ▁చేయాలనే ది ▁మా ▁లక్ష్యం . ▁కొత్త ▁ఔషధ ాల ▁ఆవిష్కరణ కు ▁ఏమైనా ▁కృషి ▁చేస్తున్న ారా . . . ▁మీకు ▁ఏ మేరకు ▁పరిశోధనా ▁నైపుణ్యం ▁ఉంది . ▁? ▁ఎన్ ▁ఐ హెచ్ ▁- ▁యూ ఎస్ ▁ఏ తో ▁కలిసి ▁సీ రమ్ ▁ఇన్ ▁స్టిట్యూట్ ▁రో టో వై రస్ ▁వ్యా క్సి న్ ▁ను ▁అభివృద్ధి ▁చేసింది . ▁‘ రొ టా సిల్ ▁’ ▁పేరుతో ▁దీన్ని ▁ఆవిష్కరించ ాం . ▁దీని ▁ప్రత్యేకత ▁ఏమిటంటే . . . ▁25 ▁డిగ్రీల ▁ఉష్ణోగ్రత లో ▁30 ▁నెలల ▁వరకూ ▁ఈ ▁వ్యా క్సి న్ ▁ఉపయోగపడుతుంది . ▁ఇంకా ▁పలు ▁ఔషధ ాల ▁మీద ▁పని ▁చేస్తున్న ాం . ▁మే ం ▁కొత్తగా ▁నిర్మించిన ▁యూనిట్ లో ▁అధునాతన ▁ఉపకరణాలు , ▁సామగ్రి , ▁సాంకేతిక ▁పరిజ్ఞానం ▁ఉన్నాయి . ▁తత్ఫలితంగా ▁పెద్ద ఎత్తు న ▁పరిశోధనలు ▁చేపట్ట గల ం . ▁మీరు ▁ఐ వీ ఎం ఏ ▁అధ్యక్షుడిగా ▁వ్యవహరిస్తున్న ారు . ▁దేశంలో ▁వ్యా క్సి న్ ▁తయారీ ▁సంస్థలు ▁ఎదుర్కొంటున్న ▁స వాళ్లు ▁ఏమిటి , ▁వాటిని ▁ఏవిధంగా ▁పరిష్కరించ వచ్చు ▁? ▁దేశంలో ▁సులభ తర ▁వ్యాపార ▁నిర్వహణ ▁( ఈ జ్ ▁ఆఫ్ ▁డూ యింగ్ ▁బిజినెస్ ▁) కు ▁అవకాశం ▁ఉండాలనే ది ▁నా ▁ప్రధాన ోద్ దేశం . ▁‘ సింగి ల్ ▁వి ండో ’ ▁పద్ధతిలో ▁వ్యాపార ▁అనుమతుల ు ▁లభించ ాలి . ▁వ్యా క్సి న్లు , ▁ఔషధ ాల ▁తయారీకి ▁అవసరమైన ▁అన్ని ▁అనుమతుల ు ▁త్వరితంగా ▁లభించే ▁వాతావరణం ▁ఉండాలి . ▁పరిశోధన లను ▁ప్రోత్సహించ ే ▁పరిస్థితి ▁ఉండాలి . ▁తద్వారా ▁నూతన ▁ఔషధ ాలు ▁ఆవిష్కరించ ే ▁అవకాశం ▁ఏర్పడుతుంది . ▁దీనికి ▁ప్రభుత్వం ▁నుంచి ▁ఎటువంటి ▁చర్యలు ▁ఆశ ిస్తున్నారు . . ▁? ▁తగిన ▁మౌలిక ▁సదుపాయాలు ▁లేకపోవటం , ▁ఇతరత్రా ▁స వాళ్ల ను ▁ఎప్పటికప్పుడు ▁ప్రభుత్వం ▁దృష్టి కి ▁తీసుకు వె ళ్ తున్న ాం . ▁మనదేశంలో ▁టీకా లను ▁నిల్వ ▁చేయటానికి ▁అనువైన ▁సదుపాయాల ▁కొరత ▁ఉంది . ▁దేశంలో ▁పిల్లల ందరికీ ▁టీకా లు ▁ఇచ్చి ▁నూరు శాతం ▁టీకా ల ▁లక్ష్యాన్ని ▁సాధించ ాలంటే ▁అన్ని ▁రకాల ▁సదుపాయాలు ▁మెరుగు ▁పరచ ాలి . ▁నిల్వ ▁చేసే ▁సదుపాయాల తో ▁పాటు ▁శీతల ▁రవాణా , ▁పంపిణీ . . . ▁తదితర ▁విభాగాల్లో ▁ఉన్నత ▁ప్రమాణాలు ▁సాధించ ాలి . ▁మన దేశ ానికి ▁టీకా ల ▁తయారీ ▁కేంద్రంగా ▁ఎ ది గే ▁అవకాశం ▁ఉంది . ▁అందుకు ▁చర్యలు ▁చేపట్ట ాలి . ▁స్థానిక ▁కంపెనీ లకు ▁అన్ని ▁రకాల ▁ప్రోత్సాహక ాలు ▁ఇవ్వాలి . ▁కొన్ని ▁వ్యా క్సి న్ ల ▁ధరలు , ▁మరికొన్ని ంటి ▁ధరలు ▁తక్కువగా ▁ఉన్నాయి . ▁ప్రజల పై ▁భార ాన్ని ▁తగ్గించ ాలంటే ▁ఎటువంటి ▁మార్పులు ▁రావ ాలి . ▁? ▁కొన్ని ▁వ్యా క్సి న్ ల ▁ధరలు ▁ఎక్కువగా ▁ఉన్న ▁విషయం ▁వాస్తవ మే . ▁అదే ▁సమయంలో ▁కొన్ని ▁టీకా లకు ▁ఎన్ ▁పీ పీ ఏ ▁నిర్ణయించిన ▁ధరలు , ▁తయారీ ▁వ్యయం ▁కంటే ▁తక్కువగా ▁ఉన్నాయి . ▁టీకా ల ▁పరిశ్రమ ▁పరిశోధనలు ▁చేపట్టి ▁కొత్త ▁టీకా లు ▁ఆవిష్కరించ ాలంటే ▁తయారీ దార్ల కు ▁ఎంతో ▁కొంత ▁లాభం ▁ఉండాలి . ▁అందువల్ల ▁ధరల ▁నిర్ణయం లో ▁హే తు బద్ధంగా ▁ఉండాలి . ▁ఐరోపా , ▁ఉత్తర ▁అమెరికా ▁దేశాల్లో ▁వ్యా క్సి న్ ల ▁ధరలు ▁ఎంతో ▁ఎక్కువ . ▁మనదేశంలో ▁వాటికి ▁పదో వంతు ▁ధర లో ▁వాటిని ▁అందించ గలుగుతున్నా ం . ▁అయినా ▁ఇంకా ▁తక్కువ ▁ధర ▁నిర్ణయించ టం ▁వల్ల ▁ఇబ్బందులు ▁ఎదుర వ ుతున్నాయి . ▁- ▁ఈనాడు , ▁హైదరాబాద్\n",
              "y: LMLabelList\n",
              ",,,,\n",
              "Path: .;\n",
              "\n",
              "Valid: LabelList (4106 items)\n",
              "x: LMTextList\n",
              "▁x x bo s ▁జీవ న్ మృత ురాలి కి ▁పాప ాయి ▁ప్రా గ్ ▁: ▁జీవ న్ మృత ురాల ై ( బ్ రెయిన్ ▁ డెడ్ ▁) న ▁117 ▁రోజుల ▁తర్వాత ▁ఓ ▁గర్భ ిణి కి ▁పండ ంటి ▁పాప ాయి ▁జన్మించిన ▁అత్యంత ▁అరుదైన ▁సంఘటన ▁ఇది . ▁బ్ర ొ నో ▁విశ్వవిద్యాలయ ▁ఆసుపత్రి ▁వైద్యులు ▁ఈ ▁ఘనత ను ▁సాధించారు . ▁ఏప్రిల్ ▁లో ▁పక్షవాతం ▁వచ్చి ▁జీవ న్ మృత ురాలైన ▁ఆమెకు ▁గత ▁నెల ▁15 న ▁వైద్యులు ▁పెద్ద ాప రేషన్ ▁చేసి ▁బిడ్డ కు ▁ప్రాణం ▁పో శారు . ▁ఏప్రిల్ ▁నుంచీ ▁గర్భ స్థ ▁శిశువు ను ▁కాపాడ ేందుకు ▁వైద్యులు ▁ఎంతో ▁శ్రమ ించారు .,▁x x bo s ▁అంతర్ ▁జిల్లా ▁ఫుట్ ▁బాల్ ▁షు రూ ▁ఈనాడు ▁డిజిటల్ ▁ , ▁హైదరాబాద్ ▁: ▁తెలంగాణ ▁రాష్ట్ర ▁సీనియర్ ▁అంతర్ ▁జిల్లా ▁ఫుట్ ▁బాల్ ▁ఛాంపియన్ ▁షిప్ ▁పోటీలు ▁గురువారం ▁ఆరంభ మయ్యాయి . ▁ఖమ్మంలో ని ▁సర్దార్ ▁పటేల్ ▁స్టేడియం లో ▁జరిగిన ▁ఛాంపియన్ ▁షిప్ ▁ప్రారంభ ోత్సవ ▁కార్యక్రమానికి ▁ఏ సీ పీ ▁వెంకట ్ ▁రావు ▁ముఖ్య ▁అతిథి గా ▁హాజరై ▁టోర్నీ ని ▁ఆరంభించారు . ▁నాలుగు ▁రోజు ▁పాటు ▁జరిగే ▁ఈ ▁టోర్నీ లో ▁ఖమ్మం , ▁వనపర్తి , ▁రంగారెడ్డి , ▁నిజామాబాద్ ▁ , ▁మెదక్ ▁ , ▁మంచిర్యాల , ▁మహబూబ్ ▁నగర్ ▁ , ▁నల్గొండ ▁జిల్లాల ▁జట్లు ▁పోటీపడ ను న్నాయి . ▁ఈ ▁కార్యక్రమంలో ▁తెలంగాణ ▁ఫుట్ ▁బాల్ ▁సంఘం ▁కార్యదర్శి ▁ఫాల్గుణ ▁తదితరులు ▁పాల్గొన్నారు .,▁x x bo s ▁పంచ ్ ▁డైలాగ్ ▁బంధం ▁కోసం ▁ప ంత ాన్ని ▁వదుల ుకున్నా ▁పం తం ▁కోసం ▁బంధ ాన్ని ▁వదుల ుకో కూడదు ▁చిత్రం : ▁విన్న ర్ ▁- ▁పంపిన వారు : ▁దూ లం ▁వంశీ , ▁తుని , ▁తూ . గో . జిల్లా,▁x x bo s ▁వచ్చే ▁ఏడాది లో ▁కొత్త ▁క్షేత్ర ాల్లో ▁గ్యాస్ ▁ఉత్పత్తి ▁ది ల్లీ : ▁ప్రతిష్ఠాత్మక ▁కే జీ - ▁డీ 6 ▁బ్లాకు లోని ▁కొత్త ▁గ్యాస్ ▁క్షేత్రంలో ▁2020 ▁మధ్య ▁నుంచి ▁ఉత్పత్తి ▁ప్రారంభించ ాలన్న ▁లక్ష్య ానికి ▁అనుగుణంగా ▁వెళ్తున్న ట్లు ▁రిలయన్స్ ▁ఇండస్ట్రీ స్ ▁వెల్లడించింది . ▁ప్రస్తుత ▁క్షేత్ర ాల్లో ▁ఉత్పత్తి ▁గణనీయంగా ▁తగ్గి న ▁నేపథ్యంలో ▁కంపెనీ ▁ఈ ▁వ్యాఖ్యలు ▁చేసింది . ▁కే జీ - ▁డీ 6 ▁బ్లాకు లో ▁కనుగొన్న ▁మూడు ▁క్షేత్ర ాల్లో ▁ఉత్పత్తి ▁ప్రారంభించ డానికి ▁రిలయన్స్ ▁ , ▁బ్రిటన్ ▁భాగస్వామి ▁బీ పీ ▁పీ ఎల్ ▁సీ లు ▁రూ . 40,000 ▁కోట్ల ▁పెట్టుబడుల ను ▁2017 ▁జూన్ ▁లో ▁ప్రకటించ ాయి . ▁2020 - 22 ▁మధ్య ▁ఈ ▁క్షేత్రాల ▁నుంచి ▁రోజుకు ▁మొత్తం ▁30 - ▁35 ▁మిలియన్ ▁క్యూబిక్ ▁మీటర్ల ▁( ▁100 ▁కోట్ల ▁ఘన పు ▁అడుగులు ) ▁గ్యాస్ ▁ను ▁వెలికి తీయ ొచ్చ ని ▁అంచనా . ▁రిలయన్స్ ▁కనుగొన్న ▁మూడు ▁క్షేత్రాలు ▁ఆర్ ▁- క్ ల స్టర్ ▁ , ▁శాటిలైట్ ▁క్ల స్టర్ ▁ , ▁ఎం జే ▁ఫీల్డ్ ▁గా ▁ఉన్నాయి . ▁ఇందులో ▁ఆర్ ▁- క్ ల స్టర్ ▁నుంచి ▁ముందుగా ▁ఉత్పత్తి ▁ప్రారంభించ నున్నారు .,▁x x bo s ▁23 ▁నెలల ▁కనిష్ఠ ానికి . . ▁టో కు ▁ద్రవ్యోల్బణం ▁2. 02 % ▁ది ల్లీ : ▁కూరగాయలు , ▁ఇంధనం , ▁విద్యుత్ ▁ధరలు ▁చౌక ▁కావడంతో ▁టో కు ▁ధరల ▁సూ చీ ▁( డబ్ల్యూ పీ ఐ ) ▁ఆధారిత ▁ద్రవ్యోల్బణం ▁23 ▁నెలల ▁కనిష్ఠ ానికి ▁చేరింది . ▁వరుసగా ▁రెండో ▁నెల ా ▁తగ్గి న ▁ డబ్ల్యూ పీ ఐ ▁ద్రవ్యోల్బణం , ▁జూన్ ▁లో ▁2. 02 ▁శాతం గా ▁నమోదైంది . ▁మే లో ▁2. 45 ▁శాతం గా ▁నమోదైన ▁ద్రవ ో ల్ బ ణం , ▁2018 ▁జూన్ ▁లో ▁5 . 68 ▁శాతం గా ▁నమోదు ▁కావడం ▁గమనార్హం . ▁అంతకు ▁ముందు ▁2017 ▁జులై లో ▁ డబ్ల్యూ పీ ఐ ▁ద్రవ్యోల్బణం ▁రికార్డు ▁స్థాయిలో ▁1. 88 ▁శాతానికి ▁చేరింది . ▁ఇక ▁ఏప్రిల్ ▁ద్రవ్యోల్బణ ▁గణాంకాలను ▁3 . 07 ▁శాతం ▁నుంచి ▁3 . 24 ▁శాతానికి ▁సవరించ ారు . ▁వాణిజ్య ▁మంత్రిత్వ ▁శాఖ ▁విడుదల ▁చేసిన ▁గణాంకాల ▁ప్రకారం . . ▁ <unk> ▁మే లో ▁6 . 99 ▁శాతం గా ▁ఉన్న ▁ఆహార ▁వస్తువుల ▁ద్రవ్యోల్బణం . . ▁గత ▁నెలలో ▁స్వల్పంగా ▁తగ్గి ▁6 . 98 ▁శాతానికి ▁చేరింది . ▁ <unk> ▁కూరగాయల ▁ద్రవ్యోల్బణం ▁33 . 15 ▁శాతం ▁నుంచి ▁జూన్ ▁లో ▁24 . 76 ▁శాతానికి ▁తగ్గింది . ▁బంగాళదుంప లు ▁24 . 27 ▁శాతం ▁మేర ▁చౌక య్యాయి . ▁ <unk> ▁ఉల్లిపాయ ల ▁ధరల ▁పెరుగుదల ▁కొనసాగింది . ▁మే లో ▁15 . 89 ▁శాతం ▁పెరిగి తే . . ▁జూన్ ▁లో ▁ఇవి ▁16 . 63 ▁శాతం ▁ప్రియ మయ్యాయి . ▁ <unk> ▁ఇంధనం , ▁విద్యుత్ ▁విభాగం ▁( - ) 2 . 20 ▁శాతం ▁ప్రతి ▁ద్రవ్యోల్బణ ాన్ని ▁నమోదు ▁చేసింది . ▁అంత క్రి తం ▁నెలలో ▁ఇవి ▁0. 98 ▁శాతం ▁పెరిగాయి . ▁తయారీ ▁వస్తువుల ▁ధరలు ▁సైతం ▁1. 28 ▁శాతం ▁నుంచి ▁0. 94 ▁శాతానికి ▁చల్ల బడ్డాయి . ▁ <unk> ▁ఆహార ▁వస్తువుల ▁ధరలు ▁పెరగడం తో ▁గత ▁వారం ▁రిటైల్ ▁ద్రవ్యోల్బణం ▁ఆరు ▁నెలల ▁గరిష్ఠ మైన ▁3 . 18 ▁శాతానికి ▁చేరిన ▁విషయం ▁తెలిసి ందే .\n",
              "y: LMLabelList\n",
              ",,,,\n",
              "Path: .;\n",
              "\n",
              "Test: None, model=SequentialRNN(\n",
              "  (0): AWD_LSTM(\n",
              "    (encoder): Embedding(25000, 400, padding_idx=1)\n",
              "    (encoder_dp): EmbeddingDropout(\n",
              "      (emb): Embedding(25000, 400, padding_idx=1)\n",
              "    )\n",
              "    (rnns): ModuleList(\n",
              "      (0): WeightDropout(\n",
              "        (module): LSTM(400, 1152, batch_first=True)\n",
              "      )\n",
              "      (1): WeightDropout(\n",
              "        (module): LSTM(1152, 1152, batch_first=True)\n",
              "      )\n",
              "      (2): WeightDropout(\n",
              "        (module): LSTM(1152, 400, batch_first=True)\n",
              "      )\n",
              "    )\n",
              "    (input_dp): RNNDropout()\n",
              "    (hidden_dps): ModuleList(\n",
              "      (0): RNNDropout()\n",
              "      (1): RNNDropout()\n",
              "      (2): RNNDropout()\n",
              "    )\n",
              "  )\n",
              "  (1): LinearDecoder(\n",
              "    (decoder): Linear(in_features=400, out_features=25000, bias=True)\n",
              "    (output_dp): RNNDropout()\n",
              "  )\n",
              "), opt_func=functools.partial(<class 'torch.optim.adam.Adam'>, betas=(0.9, 0.99)), loss_func=FlattenedLoss of CrossEntropyLoss(), metrics=[<function accuracy at 0x7fd2af62a840>], true_wd=True, bn_wd=True, wd=0.01, train_bn=True, path=PosixPath('.'), model_dir='models', callback_fns=[functools.partial(<class 'fastai.basic_train.Recorder'>, add_time=True, silent=False)], callbacks=[...], layer_groups=[Sequential(\n",
              "  (0): WeightDropout(\n",
              "    (module): LSTM(400, 1152, batch_first=True)\n",
              "  )\n",
              "  (1): RNNDropout()\n",
              "), Sequential(\n",
              "  (0): WeightDropout(\n",
              "    (module): LSTM(1152, 1152, batch_first=True)\n",
              "  )\n",
              "  (1): RNNDropout()\n",
              "), Sequential(\n",
              "  (0): WeightDropout(\n",
              "    (module): LSTM(1152, 400, batch_first=True)\n",
              "  )\n",
              "  (1): RNNDropout()\n",
              "), Sequential(\n",
              "  (0): Embedding(25000, 400, padding_idx=1)\n",
              "  (1): EmbeddingDropout(\n",
              "    (emb): Embedding(25000, 400, padding_idx=1)\n",
              "  )\n",
              "  (2): LinearDecoder(\n",
              "    (decoder): Linear(in_features=400, out_features=25000, bias=True)\n",
              "    (output_dp): RNNDropout()\n",
              "  )\n",
              ")], add_time=True, silent=False)\n",
              "loss_scale: 131072\n",
              "max_noskip: 1000\n",
              "dynamic: True\n",
              "clip: 0.1\n",
              "flat_master: False\n",
              "max_scale: 16777216\n",
              "loss_fp32: True], layer_groups=[Sequential(\n",
              "  (0): WeightDropout(\n",
              "    (module): LSTM(400, 1152, batch_first=True)\n",
              "  )\n",
              "  (1): RNNDropout()\n",
              "), Sequential(\n",
              "  (0): WeightDropout(\n",
              "    (module): LSTM(1152, 1152, batch_first=True)\n",
              "  )\n",
              "  (1): RNNDropout()\n",
              "), Sequential(\n",
              "  (0): WeightDropout(\n",
              "    (module): LSTM(1152, 400, batch_first=True)\n",
              "  )\n",
              "  (1): RNNDropout()\n",
              "), Sequential(\n",
              "  (0): Embedding(25000, 400, padding_idx=1)\n",
              "  (1): EmbeddingDropout(\n",
              "    (emb): Embedding(25000, 400, padding_idx=1)\n",
              "  )\n",
              "  (2): LinearDecoder(\n",
              "    (decoder): Linear(in_features=400, out_features=25000, bias=True)\n",
              "    (output_dp): RNNDropout()\n",
              "  )\n",
              ")], add_time=True, silent=False)"
            ]
          },
          "metadata": {
            "tags": []
          },
          "execution_count": 18
        }
      ]
    },
    {
      "cell_type": "code",
      "metadata": {
        "id": "9n7Dezua4FRT",
        "colab_type": "code",
        "colab": {}
      },
      "source": [
        "import warnings\n",
        "warnings.filterwarnings(\"ignore\")"
      ],
      "execution_count": 20,
      "outputs": []
    },
    {
      "cell_type": "code",
      "metadata": {
        "id": "HUqEZP3_vvxM",
        "colab_type": "code",
        "colab": {
          "base_uri": "https://localhost:8080/",
          "height": 142
        },
        "outputId": "227a54c5-2ca5-44b2-a59a-7b44dd4f7277"
      },
      "source": [
        "learn.unfreeze()\n",
        "learn.fit_one_cycle(3, 1e-2, moms=(0.8,0.7))\n",
        "learn.save('fine_tuned', with_opt=True)\n",
        "learn.save_encoder('fine_tuned_encoder')"
      ],
      "execution_count": 21,
      "outputs": [
        {
          "output_type": "display_data",
          "data": {
            "text/html": [
              "<table border=\"1\" class=\"dataframe\">\n",
              "  <thead>\n",
              "    <tr style=\"text-align: left;\">\n",
              "      <th>epoch</th>\n",
              "      <th>train_loss</th>\n",
              "      <th>valid_loss</th>\n",
              "      <th>accuracy</th>\n",
              "      <th>time</th>\n",
              "    </tr>\n",
              "  </thead>\n",
              "  <tbody>\n",
              "    <tr>\n",
              "      <td>0</td>\n",
              "      <td>4.185667</td>\n",
              "      <td>4.192355</td>\n",
              "      <td>0.326306</td>\n",
              "      <td>13:04</td>\n",
              "    </tr>\n",
              "    <tr>\n",
              "      <td>1</td>\n",
              "      <td>3.799003</td>\n",
              "      <td>3.768838</td>\n",
              "      <td>0.373089</td>\n",
              "      <td>13:03</td>\n",
              "    </tr>\n",
              "    <tr>\n",
              "      <td>2</td>\n",
              "      <td>3.329849</td>\n",
              "      <td>3.591695</td>\n",
              "      <td>0.395876</td>\n",
              "      <td>13:05</td>\n",
              "    </tr>\n",
              "  </tbody>\n",
              "</table>"
            ],
            "text/plain": [
              "<IPython.core.display.HTML object>"
            ]
          },
          "metadata": {
            "tags": []
          }
        }
      ]
    },
    {
      "cell_type": "code",
      "metadata": {
        "id": "YncL63o8wALe",
        "colab_type": "code",
        "colab": {}
      },
      "source": [
        "del data_lm, learn"
      ],
      "execution_count": 22,
      "outputs": []
    },
    {
      "cell_type": "code",
      "metadata": {
        "id": "qaS4sd1e3xBU",
        "colab_type": "code",
        "colab": {
          "base_uri": "https://localhost:8080/",
          "height": 34
        },
        "outputId": "37f13fd6-239b-4d0c-b408-2bb16c27cf2b"
      },
      "source": [
        "import gc\n",
        "gc.collect()"
      ],
      "execution_count": 23,
      "outputs": [
        {
          "output_type": "execute_result",
          "data": {
            "text/plain": [
              "391"
            ]
          },
          "metadata": {
            "tags": []
          },
          "execution_count": 23
        }
      ]
    },
    {
      "cell_type": "code",
      "metadata": {
        "id": "nuPpKu6F7pBY",
        "colab_type": "code",
        "colab": {}
      },
      "source": [
        "torch.cuda.empty_cache()"
      ],
      "execution_count": 24,
      "outputs": []
    },
    {
      "cell_type": "code",
      "metadata": {
        "id": "DGbIkfIcxdp7",
        "colab_type": "code",
        "colab": {
          "base_uri": "https://localhost:8080/",
          "height": 17
        },
        "outputId": "72f5fc66-2cad-46f2-9e4a-e35b07ca7584"
      },
      "source": [
        "data_clas = TextClasDataBunch.from_df('./', train_df=train_df, valid_df=test_df,\n",
        "                                  text_cols=[\"t\"], label_cols = ['category'], bs=48,\n",
        "                                  tokenizer=tokenizer, vocab=telugu_vocab)"
      ],
      "execution_count": 25,
      "outputs": [
        {
          "output_type": "display_data",
          "data": {
            "text/html": [
              ""
            ],
            "text/plain": [
              "<IPython.core.display.HTML object>"
            ]
          },
          "metadata": {
            "tags": []
          }
        },
        {
          "output_type": "display_data",
          "data": {
            "text/html": [
              ""
            ],
            "text/plain": [
              "<IPython.core.display.HTML object>"
            ]
          },
          "metadata": {
            "tags": []
          }
        }
      ]
    },
    {
      "cell_type": "code",
      "metadata": {
        "id": "8o_CZrXyyXwz",
        "colab_type": "code",
        "colab": {
          "base_uri": "https://localhost:8080/",
          "height": 374
        },
        "outputId": "da91af5c-edee-44db-86e2-3bdcd592122e"
      },
      "source": [
        "data_clas.show_batch()\n"
      ],
      "execution_count": 26,
      "outputs": [
        {
          "output_type": "display_data",
          "data": {
            "text/html": [
              "<table border=\"1\" class=\"dataframe\">\n",
              "  <thead>\n",
              "    <tr style=\"text-align: right;\">\n",
              "      <th>text</th>\n",
              "      <th>target</th>\n",
              "    </tr>\n",
              "  </thead>\n",
              "  <tbody>\n",
              "    <tr>\n",
              "      <td>▁x x bo s ▁మనం ▁అ జేయ ుల ం ▁ఎదురు లేని ▁టీ మ్ ▁ఇండియా ▁పాక్ ▁పై ▁కొనసాగిన ▁జై త్ర యాత్ర ▁రో హి త్ ▁సూపర్ ▁సెంచరీ ▁మాయ ▁చేసిన ▁కు ల్ ▁ దీప్ ▁4 ▁మార్చి ▁1992 . . ▁9 ▁మార్చి ▁1996 . . ▁8 ▁జూన్ ▁1999 . . ▁1 ▁మార్చి ▁2003 . . ▁30 ▁మార్చి ▁2011 . . ▁15 ▁ఫిబ్రవరి ▁2015 . . ▁భారత ▁క్రికెట్ ▁అభిమానుల ▁హృదయ ాలు ▁ఉప్ప ొ ంగ ేలా</td>\n",
              "      <td>eenadu_sports</td>\n",
              "    </tr>\n",
              "    <tr>\n",
              "      <td>▁x x bo s ▁ ఛే దం చేశారు ▁కో హ్ లి ▁కెప్టెన్ ▁ఇన్నింగ్స్ ▁రాణించ ిన ▁రాహుల్ ▁ , ▁రో హి త్ ▁శా ర్ దూ ల్ ▁ , ▁జ డే జా ▁కొస ▁మెరుపు లు ▁మూడో ▁వన్డే ▁భారత్ ▁దే ▁సూపర్ ▁ఫా మ్ ▁లో ▁ఉన్న ▁రో హి త్ ▁మళ్లీ ▁మెరి శాడు . ▁జో రు ▁కొనసాగిస్తూ ▁రాహుల్ ▁మరో ▁విలువైన ▁ఇన్నింగ్స్ ▁ఆడాడు . ▁కెప్టెన్ ▁కో హ్ లి ▁ఇన్నింగ్స్ ▁కు ▁వెన్నెముక లా ▁నిలిచి , ▁ఇబ్బందుల ్లో</td>\n",
              "      <td>eenadu_sports</td>\n",
              "    </tr>\n",
              "    <tr>\n",
              "      <td>▁x x bo s ▁మనం ▁మారి పో యాం . . . ▁తెలుస ా . . !! ▁మనం ▁మారి పో యాం . . ▁తెలుస ా . . . !! ▁అవు న ండీ ▁మనం ▁మారి పో యాం . . . ▁చాలా ▁చాలా . . ▁స్ మార్ ట్ ▁ఫోన్ ▁వచ్చే సింది . . . ▁మన ▁ప్రపంచ ాన్ని ▁చిన్నది ▁చేసే సింది . ▁అమెజాన్ ▁ప్రై మ్ ▁లో నో , ▁నెట్ ▁ఫ్ల ి క్స్ ▁లో నో</td>\n",
              "      <td>eenadu_business</td>\n",
              "    </tr>\n",
              "    <tr>\n",
              "      <td>▁x x bo s ▁సున్నా కు ▁సున్నా ▁రాహుల్ ▁శతకం ▁వృథా ▁మళ్లీ ▁ఓడి న ▁కో హ్ లీ సేన ▁వన్డే ▁సిరీస్ ▁లో ▁టీ మ్ ▁ఇండియా ▁వైట్ ▁వా ష్ ▁టీ 20 ▁పరాభవ ానికి ▁బదులు ▁తీర్చ ుకున్న ▁కి వీ స్ ▁టీ 20 ల ంటే ▁ఎ ప్పుడే ం ▁జరుగ ుతుందో ▁చెప్ప లే ం . ▁ఏ ▁జట్టు ▁మరే ▁జట్టు నైనా ▁ఓడించ ేయ ొచ్చు ! ▁ఆ ▁ఫార్మాట్ లో ▁నిలకడ గా ▁విజయాలు ▁సాధించడం ▁అంత ▁సు లు వు ▁కాదు</td>\n",
              "      <td>eenadu_sports</td>\n",
              "    </tr>\n",
              "    <tr>\n",
              "      <td>▁x x bo s ▁తెలుగు ▁సినిమా కి ▁అత్త ె సరు ▁మార్ కు లే ! ▁సినిమా ▁ఓ ▁విచిత్రమైన ▁వ్యాపారం . ▁ఓ ▁ఫ్యాక్టరీ ▁స్థాపించి ▁నష్ట పోయిన ా ▁- ▁కనీసం ▁దాని ▁తా లు కూ ▁స్థిర , ▁చర ▁ఆస్తుల ైనా ▁మిగులు తాయి . ▁సినిమా ▁అలా ▁కాదు . ▁పోతే . . . ▁అంతా ▁పోయిన ట్టే . ▁రూ . కోట్ల తో ▁తీసిన ▁సినిమా ▁అయినా ▁తేడా ▁వస్తే ▁రూపాయి ▁కూడా ▁మి గలదు . ▁ఒక్కోసారి ▁పది ▁రూపాయలు ▁ పెడితే</td>\n",
              "      <td>eenadu_cinema</td>\n",
              "    </tr>\n",
              "  </tbody>\n",
              "</table>"
            ],
            "text/plain": [
              "<IPython.core.display.HTML object>"
            ]
          },
          "metadata": {
            "tags": []
          }
        }
      ]
    },
    {
      "cell_type": "code",
      "metadata": {
        "id": "2mwV82sgyZ7V",
        "colab_type": "code",
        "colab": {}
      },
      "source": [
        "\n",
        "learn = text_classifier_learner(data_clas, AWD_LSTM, drop_mult=0.5)"
      ],
      "execution_count": 27,
      "outputs": []
    },
    {
      "cell_type": "code",
      "metadata": {
        "id": "Sj7ZoreXycpA",
        "colab_type": "code",
        "colab": {
          "base_uri": "https://localhost:8080/",
          "height": 1000
        },
        "outputId": "1f3f0e25-39a0-49ff-cbf8-07c19db28bf8"
      },
      "source": [
        "learn.load_encoder('fine_tuned_encoder')\n"
      ],
      "execution_count": 28,
      "outputs": [
        {
          "output_type": "execute_result",
          "data": {
            "text/plain": [
              "RNNLearner(data=TextClasDataBunch;\n",
              "\n",
              "Train: LabelList (16421 items)\n",
              "x: TextList\n",
              "▁x x bo s ▁పట్టు బి గ ించిన ▁భారత్ ▁- ఎ ▁మైసూరు : ▁దక్షిణాఫ్రికా - ఎ తో ▁రెండో ▁అనధికార ▁టెస్టు పై ▁భారత్ ▁- ఎ ▁పట్టు బి గ ించింది . ▁ఓవర్ ▁నైట్ ▁స్కోరు ▁23 3 ▁/ ▁3 తో ▁రెండో ▁రోజు , ▁బుధవారం ▁తొలి ▁ఇన్నింగ్స్ ▁కొన సా ంచిన ▁భారత్ ▁- ఎ ▁4 17 ▁పరుగుల కు ▁ఆ లౌ ట ైంది . ▁శివ మ్ ▁దు బె ▁( 68 ), ▁జల జ్ ▁స క్ సే నా ▁( 48 ▁నాట ౌట్ ▁) ▁సత్తా ▁చాట డంతో ▁భారత్ ▁400 ▁దాట గలిగింది . ▁అనంతరం ▁తొలి ▁ఇన్నింగ్స్ ▁లో ▁దక్షిణాఫ్రికా - ఎ ▁తడ బడింది . ▁కు ల్ ▁ దీప్ ▁యాదవ్ ▁(2 ▁/ ▁51 ), ▁నదీ మ్ ▁(2 ▁/ ▁41 ) ▁విజృంభించ డంతో ▁ఆట ▁ముగిసే ▁సమయానికి ▁159 ▁పరుగుల కే ▁5 ▁వికెట్లు ▁చే జార్ చ ుకుంది . ▁ఓ పె నర్ ▁మార్ ▁క్రమ ్ ▁( 81 ▁బ్యాటింగ్ ▁) ▁చక్కని ▁ఇన్నింగ్స్ ▁ఆడాడు . ▁అతడికి ▁తోడుగా ▁ముల్ దర్ ▁( 9) ▁క్రీ జు లో ▁ఉన్నాడు . ▁బ్ర ు యిన్ ▁41 ▁పరుగులు ▁చేశాడు .,▁x x bo s ▁చైనాలో ▁భూకంపాలు ▁: ▁12 ▁మంది ▁మృతి ▁125 ▁మందికి ▁గాయాలు ▁బీజింగ్ ▁: ▁చైనా ▁నైరుతి ▁ప్రాంతంలోని ▁సి చు వాన్ ▁ప్రావిన్స్ ▁లో ▁సోమవారం ▁సంభవించిన ▁రెండు ▁భూకంప ాల ▁ధాటికి ▁12 ▁మంది ▁మృతి ▁చెందారు . ▁మరో ▁125 ▁మంది ▁గాయపడ్డారు . ▁యి బిన్ ▁నగరానికి ▁చెందిన ▁చా ంగ్ ▁ నింగ్ ▁ప్రాంతంలో ▁స్థానిక ▁కాల మానం ▁ప్రకారం ▁రాత్రి ▁10 . 55 ▁గంటల ▁సమయంలో ▁6 . 0 ▁తీవ్రత తో ను , ▁అనంతరం ▁5 . 3 ▁తీవ్రత తోనూ ▁భూకంపాలు ▁సంభవించిన ట్లు ▁చైనా ▁భూకంప ▁పరిశోధన ▁కేంద్రం ▁మంగళవారం ▁తెలిపింది . ▁16 ▁కి . మీ . ల ▁లోతు న ▁భూకంప ▁కేంద్రం ▁ఉన్నట్లు ▁వెల్లడించింది . ▁ఇ ళ్లు ▁కుప్పకూల డం ▁వల్ల ▁ఎక్కువ ▁మంది ▁చనిపోయిన ట్లు ▁అధికారులు ▁తెలిపారు . ▁నైరుతి ▁జపాన్ ▁లో . . ▁టోక్యో : ▁నైరుతి ▁జపాన్ ▁లో ▁మంగళవారం ▁6 . 8 ▁తీవ్రత తో ▁భూకంపం ▁ఏర్పడటం తో ▁ఆ ▁దేశం ▁సునామీ ▁హెచ్చరిక లు ▁జారీ ▁చేసింది . ▁రెండున్నర ▁గంటల ▁తరువాత ▁ఉపసంహరించ ుకుంది . ▁తొలుత ▁ఉత్తర ▁టోక్యో లో ▁తీర ▁ప్రాంతాన్ని ▁మూడు ▁అడుగుల ▁ఎత్తైన ▁అల లు ▁తా కే ▁అవకాశం ▁ఉందని ▁వాతావరణ ▁విభాగం ▁తెలిపింది . ▁కొన్ని ▁అల లు ▁నైరుతి ▁జపాన్ ▁లోని ▁యమ గత , ▁నీ గత ▁తీర ాలను ▁తా కి ▁ఉండవచ్చని ▁పేర్కొంది . ▁దీంతో ▁ముందు ▁జాగ్రత్త ▁చర్య గా ▁ఆ ▁ప్రాంతంలో ▁బుల్లెట్ ▁రైలు ▁సేవలను ▁తక్షణమే ▁నిలిపి వేశారు . ▁కొన్ని ▁వేల ▁ఇళ్ల కు ▁విద్యుత్తు ▁సరఫరా ▁నిలిచిపోయింది . ▁భూకంప కేంద్ర ానికి ▁సమీప ాన ▁గల ▁అణు విద్యుత్ తు ▁కర్మాగార ాల్లో ▁ఎలాంటి ▁అసాధారణ త ▁కనిపించ లేదు .,▁x x bo s ▁నేటి ▁బోర్డు ▁సమావేశాలు ▁ <unk> ▁ఎన్ ▁టీ పీ సీ ▁ <unk> ▁ఆయిల్ ▁ఇండియా ▁ <unk> ▁అమర రాజా ▁బ్యాటరీ స్ ▁ <unk> ▁చోళ మండలం ▁ఫైనాన్షియల్ ▁హోల్ డింగ్ స్ ▁ <unk> ▁జే కే ▁సిమెంట్ ▁ <unk> ▁జై ప్రకాశ ్ ▁అసోసియేట్ స్ ▁ , ▁లక్ష్మీ వి లాస్ ▁బ్యాంక్ ▁ <unk> ▁మంగళ ం ▁సిమెంట్ ▁ <unk> ▁మంజ ీ రా ▁కన్ ▁స్ట్ర క్షన్ స్ ▁ <unk> ▁మనో ర మ ▁ఇండస్ట్రీ స్ ▁ <unk> ▁మేఘ మణి ▁ఆర్ గా నిక్స్ ▁ <unk> ▁రె సో నా న్స్ ▁స్పె షా లిటీ స్ ▁ <unk> ▁తా న్ లా ▁సొ ల్యూషన్ స్ ▁ <unk> ▁ఉషా ▁మార్టిన్ ▁ <unk> ▁వి మ్ టా ▁ల ్యా బ్స్ ▁ <unk> ▁వీ ఆర్ ▁ఎల్ ▁లా జి స్టిక్ స్,▁x x bo s ▁ఇద్దరు ▁ఇంటర్ ▁విద్యార్థుల ▁ఆత్మహత్య ▁నెక్ కొండ , ▁షా బాద్ ▁ , ▁న్యూస్ ▁టు డే : ▁ఇంటర్ ▁పరీక్ష ల్లో ▁తప్ప ినందుకు ▁మన స్తా పం ▁చెందిన ▁ఇద్దరు ▁విద్యార్థులు ▁మంగళవారం ▁ఆత్మహత్య కు ▁పాల్ పడ్డారు . ▁వరంగల్ ▁రూరల్ ▁జిల్లా ▁రెడ్ ల వాడ ▁శివారు ▁మ త్త డి ▁తండా కు ▁చెందిన ▁మా లో తు ▁నవీన ్ ▁(17 ) ▁ఇంటర్ ▁ఎంపీ సీ ▁చదివాడు . ▁ఇటీవల ▁వెల్ల డైన ▁ఫలితాల ్లో ▁ఆ ▁విద్యార్థి ▁అన్ని ▁సబ్జెక్టు ల్లో ▁ఫెయి ల య్యాడు . ▁దీంతో ▁మన స్తా పం ▁చెందిన ▁నవీన ్ ▁నెక్ కొండలో ▁రైలు ▁కింద పడి ▁ఆత్మహత్య కు ▁పాల్ పడ్డాడు . ▁రంగారెడ్డి ▁జిల్లా ▁షా బాద్ ▁మండలం ▁తి ర్మ లాపూర్ ▁కు ▁చెందిన ▁స త్త ూరి ▁జ్యోతి ( 17 ) ▁ఇంటర్ ▁సీ ఈ సీ ▁చదివి ంది . ▁ఇటీవల ▁వెలువడిన ▁ఫలితాల ్లో ▁ద్వితీయ ▁సంవత్సరం ▁సబ్జెక్టు ల్లో ▁ఒక దా ంట్ లో ▁ఫెయి ల వడంతో ▁కి రో సిన్ ▁పోస ుకుని ▁ని ప్ప ంట ించుకుని ▁బల వన్ మరణ ానికి ▁పాల్పడ ింది . ▁ఫలితాల ▁సమయంలో ▁ఆమె ▁అమ్మ మ్మ ▁ఇంట ▁ఉంది . ▁మంగళవారం ▁ఇంటికి ▁వచ్చిన ▁ఆమె . . ▁మధ్యాహ్నం ▁ఇంట్లో ▁ఎవరూ ▁లేని ▁సమయంలో ▁ఈ ▁దారుణ ానికి ▁పాల్పడ ింది . ▁కుటుంబసభ్యుల ▁ఫిర్యాదు ▁మేరకు ▁పోలీసులు ▁వేర్వేరు గా ▁కేసులు ▁నమోదు ▁చేసి ▁దర్యాప్తు ▁చేస్తున్నారు .,▁x x bo s ▁టీకా ల ▁నిల్వ కు ▁తగిన ▁సదుపాయాల ే వీ . . ? ▁పూర్తి ▁స్థాయిలో ▁సౌకర్యాల ▁కల్పన పై ▁ప్రభుత్వం ▁దృష్టి ▁సార ించాలి ▁కొన్ని ▁టీకా ల ▁ధర ▁తయారీ ▁ఖర్చు ▁కంటే ▁తక్కువ ▁150 ▁దేశాలకు ▁ఎగుమతులు ▁చేసే ▁లక్ష్యంతో ▁కొత్త ▁యూనిట్ ▁పెట్ట ాం ▁డె ంగీ , ▁మలేరియా , ▁న్యుమోనియా ▁వ్యా క్సి న్లు , ▁ఇతర ▁ఔషధ ాలు ▁తయారు ▁చే స్తాం ▁‘ ఈనాడు ’ ▁ఇంటర్వ్యూ ▁సీ రమ్ ▁ఇన్ ▁స్టిట్యూట్ ▁ఆఫ్ ▁ఇండియా ▁సీ ఈ ఓ ▁అ దర్ ▁పూ నా వాలా ▁మన దేశం ▁నుంచి ▁ఇతర దేశాల కు ▁టీకా లు ▁పెద్ద ఎత్తు న ▁ఎగుమతి ▁చేయటానికి ▁అవసరమైన ▁అన్ని ▁ప్రో త్స హా కాలను ▁ప్రభుత్వం ▁కల్పించ ాలని ▁అంటున్నారు ▁సీ రమ్ ▁ఇన్ ▁స్టిట్యూట్ ▁ఆఫ్ ▁ఇండియా ▁సీ ఈ ఓ , ▁ఐ వీ ఎం ఏ ▁అధ్యక్షుడు ▁అయిన ▁అ దర్ ▁పూ నా వాలా . ▁దేశీయ ▁మార్కెట్ లో ▁కొన్ని ▁టీకా లకు ▁వాటి ▁తయారీ క య్యే ▁ఖర్చు ▁కంటే ▁తక్కువ ▁ధరలు ▁నిర్ణయించ ారని , ▁ఈ ▁విషయంలో ▁ప్రభుత్వం ▁పున రా లోచన ▁చేసి ▁టీకా ల ▁పరిశ్రమకు ▁అండగా ▁నిలవ ాలని ▁కోరారు . ▁ఈ ▁సంస్థ ▁ప్రపంచంలోనే ▁అతిపెద్ద దైన ▁నూతన ▁టీకా ల ▁తయారీ ▁కర్మాగార ాన్ని ▁పు ణ ె లో ▁నెలకొల్ప ింది . ▁ఈ ▁కర్మాగార ాన్ని ▁కేంద్ర ▁ఆరోగ్య ▁మంత్రి ▁డాక్టర్ ▁హర్ష వర్థన ్ ▁సోమవారం ▁ప్రారంభించారు . ▁ఈ ▁యూనిట్ ▁లో ▁పలు ▁నూతన ▁టీకా లు , ▁ఔషధ ాలు ▁తయారు ▁చేసి ▁ప్రపంచ ▁వ్యాప్తంగా ▁పలు ▁దేశాలకు ▁సరఫరా ▁చేస్తామని ▁అ దర్ ▁పూ నా వాలా ▁‘ ఈనాడు ’ కి చ్చిన ▁ఇంటర్వ్యూ లో ▁పేర్కొన్నారు . ▁ఈ ▁ఏడాది ▁చివరికి ▁పూర్తి ▁స్థాయిలో ▁ఈ ▁యూనిట్ ▁ను ▁ఉత్పత్తి ▁దశలో కి ▁తీసుకువస్త ామని ▁తెలిపారు . ▁మనదేశంలో ▁టీకా ల ▁నిల్వ ▁సదుపాయాల ▁కొరత ▁తీవ్రంగా ▁ఉందని , ▁దీని ▁పరిష్కారం పై ▁ప్రభుత్వం ▁దృష్టి ▁పెట్ట ాలని ▁ఆయన ▁కోరారు . ▁ఇంటర్వ్యూ ▁విశేషాలు . . ▁సీ రమ్ ▁ఇన్ ▁స్టిట్యూట్ ▁టీకా ల ▁తయారీలో ▁ఇప్పటికే ▁అగ్ర గా మి ▁సంస్థ ల్లో ▁ఒకటిగా ▁ఉంది . ▁మళ్లీ ▁కొత్తగా ▁ఒక ▁అతిపెద్ద ▁యూనిట్ ▁ను ▁ఏ ▁ఉద్దేశంతో ▁ఏర్పాటు ▁చేశారు . ▁ఇక్కడ ▁ఎటువంటి ▁టీకా లు , ▁మందులు ▁తయారు ▁చేస్తారు ▁? ▁చిన్న ▁పిల్లలను ▁వ్యాధుల ▁బారి ▁నుంచి ▁కాపాడ ాలంటే ▁సరైన ▁టీకా లు , ▁మందులు ▁అందించ ాలి . ▁మనదేశంలో ▁టీకా ల ▁అవసరాలు ▁పెరుగుతున్న ాయి . ▁అదేవిధంగా ▁ఎగుమతి ▁అవకాశాలు ▁ఉన్నాయి . ▁అందువల్ల ▁దేశీయ ▁అవసరాల ▁కోసమే ▁కాకుండా ▁ఎగుమతుల ను ▁దృష్టిలో ▁ఉంచుకుని ▁ఈ ▁కొత్త ▁యూనిట్ ▁నెలకొల్ప ాం . ▁గత ▁నాలుగేళ్ల ుగా ▁మే ం ▁దీనిపై ▁పనిచేస్తున్న ాం . ▁మనదేశంలో ▁ఎక్కడా ▁లే నటువంటి ▁అది పెద్ద ▁ సదుపాయ మిది . ▁సీ రమ్ ▁ఇన్ ▁స్టిట్యూట్ ▁కు ▁హా లె ండ్ ▁ , ▁చెక్ ▁రిపబ్లిక్ ▁లలో ▁యూనిట్ లు ▁ఉన్నాయి . ▁అక్కడ ▁సామర్థ్యాన్ని ▁విస్తరించ వచ్చు . ▁కానీ ▁‘ మే కిన్ ▁ఇండియా ’ లో ▁భాగం ▁పంచ ుకోవాలని , ▁స్థానికంగా ▁కొత్త ▁ఉద్యోగాలు ▁కల్పించ ాలనే ▁ఆలోచన తో ▁ఇక్కడే ▁కొత్త ▁యూనిట్ ▁నిర్మించ ాం . ▁ఈ ▁ప్లాంటు లో ▁ఈ ▁ఏడాది ▁నవంబరు ▁నుంచి ▁పూర్తి ▁స్థాయిలో ▁ఉత్పత్తి ▁కార్యకలాపాలు ▁మొదల వుతాయి . ▁ఇంకా ▁సామర్థ్యాన్ని ▁విస్తరించ ుకునే ▁అవకాశం ▁కూడా ▁ఉంది . ▁ట్రస్టు జు మ్యా బ్ ▁( హెర్ సెప్ టిన్ ▁), ▁ఉ స్టె కి ను మ్యా బ్ ▁( స్టె ల రా ) ▁వంటి ▁మోనో క్ లో నల్ ▁యాంటీ బా డీ స్ ▁ , ▁హెచ్ ▁పీవీ , ▁డె ంగీ , ▁మలేరియా , ▁న్యూ మో నియా ▁వ్యా క్సి న్లు ▁ఈ ▁కర్మాగారం లో ▁తయారు ▁చే స్తాం . ▁మోనో క్ లో నల్ ▁యాంటీ బా డీ స్ ▁ఉత్పత్తుల పై ▁ప్రస్తుతం ▁ఆస్ట్రేలియా లో ▁క్లినికల్ ▁పరీక్షలు ▁నిర్వహిస్తున్న ాం . ▁వచ్చే ▁ఏడాది ▁చివరికి ▁ఆ ▁ఔషధ ాలను ▁ఇక్కడ ▁విడుదల ▁చేయగల మని ▁భావిస్తున్న ాం . ▁యూనిట్ ▁నిర్మాణానికి ▁ఎంత ▁పెట్టుబడి ▁పెట్టారు . ▁దీని ▁సామర్థ్య మె ంత ▁? ▁ప్రస్తుతం ▁ప్రపంచంలో ▁అతిపెద్ద ▁టీకా ల ▁తయారీ ▁కర్మాగారం ▁ఇదే . ▁దీనిపై ▁ఇప్పటి ▁వరకూ ▁రూ . 3,000 ▁కోట్లు ▁పెట్టుబడి ▁పెట్ట ాం . ▁వచ్చే ▁అయి దే ళ్లలో ▁దాదాపు ▁ 3,000 ▁మందికి ▁ఇక్కడ ▁ఉద్యోగ ావకాశాల ు ▁కల్ప ి స్తాం . ▁ఏటా ▁ఈ ▁యూనిట్ లో ▁50 ▁లక్షల ▁డో సుల ▁టీకా లు ▁తయారు ▁చేయగల ం . ▁యూ ఎస్ ▁ , ▁ఐరోపా ▁దేశాల ▁తయారీ ▁ప్రమాణాల కు ▁అనుగుణంగా ▁దీన్ని ▁నిర్మించ ాం . ▁ఇక్కడి ▁నుంచి ▁ఔషధ ాలు , ▁వ్యా క్సి న్లు ▁ఐరోపా , ▁ఉత్తర ▁అమెరికా తో ▁సహా ▁150 ▁దేశాలకు ▁ఎగుమతి ▁చేయాలనే ది ▁మా ▁లక్ష్యం . ▁కొత్త ▁ఔషధ ాల ▁ఆవిష్కరణ కు ▁ఏమైనా ▁కృషి ▁చేస్తున్న ారా . . . ▁మీకు ▁ఏ మేరకు ▁పరిశోధనా ▁నైపుణ్యం ▁ఉంది . ▁? ▁ఎన్ ▁ఐ హెచ్ ▁- ▁యూ ఎస్ ▁ఏ తో ▁కలిసి ▁సీ రమ్ ▁ఇన్ ▁స్టిట్యూట్ ▁రో టో వై రస్ ▁వ్యా క్సి న్ ▁ను ▁అభివృద్ధి ▁చేసింది . ▁‘ రొ టా సిల్ ▁’ ▁పేరుతో ▁దీన్ని ▁ఆవిష్కరించ ాం . ▁దీని ▁ప్రత్యేకత ▁ఏమిటంటే . . . ▁25 ▁డిగ్రీల ▁ఉష్ణోగ్రత లో ▁30 ▁నెలల ▁వరకూ ▁ఈ ▁వ్యా క్సి న్ ▁ఉపయోగపడుతుంది . ▁ఇంకా ▁పలు ▁ఔషధ ాల ▁మీద ▁పని ▁చేస్తున్న ాం . ▁మే ం ▁కొత్తగా ▁నిర్మించిన ▁యూనిట్ లో ▁అధునాతన ▁ఉపకరణాలు , ▁సామగ్రి , ▁సాంకేతిక ▁పరిజ్ఞానం ▁ఉన్నాయి . ▁తత్ఫలితంగా ▁పెద్ద ఎత్తు న ▁పరిశోధనలు ▁చేపట్ట గల ం . ▁మీరు ▁ఐ వీ ఎం ఏ ▁అధ్యక్షుడిగా ▁వ్యవహరిస్తున్న ారు . ▁దేశంలో ▁వ్యా క్సి న్ ▁తయారీ ▁సంస్థలు ▁ఎదుర్కొంటున్న ▁స వాళ్లు ▁ఏమిటి , ▁వాటిని ▁ఏవిధంగా ▁పరిష్కరించ వచ్చు ▁? ▁దేశంలో ▁సులభ తర ▁వ్యాపార ▁నిర్వహణ ▁( ఈ జ్ ▁ఆఫ్ ▁డూ యింగ్ ▁బిజినెస్ ▁) కు ▁అవకాశం ▁ఉండాలనే ది ▁నా ▁ప్రధాన ోద్ దేశం . ▁‘ సింగి ల్ ▁వి ండో ’ ▁పద్ధతిలో ▁వ్యాపార ▁అనుమతుల ు ▁లభించ ాలి . ▁వ్యా క్సి న్లు , ▁ఔషధ ాల ▁తయారీకి ▁అవసరమైన ▁అన్ని ▁అనుమతుల ు ▁త్వరితంగా ▁లభించే ▁వాతావరణం ▁ఉండాలి . ▁పరిశోధన లను ▁ప్రోత్సహించ ే ▁పరిస్థితి ▁ఉండాలి . ▁తద్వారా ▁నూతన ▁ఔషధ ాలు ▁ఆవిష్కరించ ే ▁అవకాశం ▁ఏర్పడుతుంది . ▁దీనికి ▁ప్రభుత్వం ▁నుంచి ▁ఎటువంటి ▁చర్యలు ▁ఆశ ిస్తున్నారు . . ▁? ▁తగిన ▁మౌలిక ▁సదుపాయాలు ▁లేకపోవటం , ▁ఇతరత్రా ▁స వాళ్ల ను ▁ఎప్పటికప్పుడు ▁ప్రభుత్వం ▁దృష్టి కి ▁తీసుకు వె ళ్ తున్న ాం . ▁మనదేశంలో ▁టీకా లను ▁నిల్వ ▁చేయటానికి ▁అనువైన ▁సదుపాయాల ▁కొరత ▁ఉంది . ▁దేశంలో ▁పిల్లల ందరికీ ▁టీకా లు ▁ఇచ్చి ▁నూరు శాతం ▁టీకా ల ▁లక్ష్యాన్ని ▁సాధించ ాలంటే ▁అన్ని ▁రకాల ▁సదుపాయాలు ▁మెరుగు ▁పరచ ాలి . ▁నిల్వ ▁చేసే ▁సదుపాయాల తో ▁పాటు ▁శీతల ▁రవాణా , ▁పంపిణీ . . . ▁తదితర ▁విభాగాల్లో ▁ఉన్నత ▁ప్రమాణాలు ▁సాధించ ాలి . ▁మన దేశ ానికి ▁టీకా ల ▁తయారీ ▁కేంద్రంగా ▁ఎ ది గే ▁అవకాశం ▁ఉంది . ▁అందుకు ▁చర్యలు ▁చేపట్ట ాలి . ▁స్థానిక ▁కంపెనీ లకు ▁అన్ని ▁రకాల ▁ప్రోత్సాహక ాలు ▁ఇవ్వాలి . ▁కొన్ని ▁వ్యా క్సి న్ ల ▁ధరలు , ▁మరికొన్ని ంటి ▁ధరలు ▁తక్కువగా ▁ఉన్నాయి . ▁ప్రజల పై ▁భార ాన్ని ▁తగ్గించ ాలంటే ▁ఎటువంటి ▁మార్పులు ▁రావ ాలి . ▁? ▁కొన్ని ▁వ్యా క్సి న్ ల ▁ధరలు ▁ఎక్కువగా ▁ఉన్న ▁విషయం ▁వాస్తవ మే . ▁అదే ▁సమయంలో ▁కొన్ని ▁టీకా లకు ▁ఎన్ ▁పీ పీ ఏ ▁నిర్ణయించిన ▁ధరలు , ▁తయారీ ▁వ్యయం ▁కంటే ▁తక్కువగా ▁ఉన్నాయి . ▁టీకా ల ▁పరిశ్రమ ▁పరిశోధనలు ▁చేపట్టి ▁కొత్త ▁టీకా లు ▁ఆవిష్కరించ ాలంటే ▁తయారీ దార్ల కు ▁ఎంతో ▁కొంత ▁లాభం ▁ఉండాలి . ▁అందువల్ల ▁ధరల ▁నిర్ణయం లో ▁హే తు బద్ధంగా ▁ఉండాలి . ▁ఐరోపా , ▁ఉత్తర ▁అమెరికా ▁దేశాల్లో ▁వ్యా క్సి న్ ల ▁ధరలు ▁ఎంతో ▁ఎక్కువ . ▁మనదేశంలో ▁వాటికి ▁పదో వంతు ▁ధర లో ▁వాటిని ▁అందించ గలుగుతున్నా ం . ▁అయినా ▁ఇంకా ▁తక్కువ ▁ధర ▁నిర్ణయించ టం ▁వల్ల ▁ఇబ్బందులు ▁ఎదుర వ ుతున్నాయి . ▁- ▁ఈనాడు , ▁హైదరాబాద్\n",
              "y: CategoryList\n",
              "eenadu_sports,eenadu_national,eenadu_business,eenadu_crime,eenadu_business\n",
              "Path: .;\n",
              "\n",
              "Valid: LabelList (4106 items)\n",
              "x: TextList\n",
              "▁x x bo s ▁జీవ న్ మృత ురాలి కి ▁పాప ాయి ▁ప్రా గ్ ▁: ▁జీవ న్ మృత ురాల ై ( బ్ రెయిన్ ▁ డెడ్ ▁) న ▁117 ▁రోజుల ▁తర్వాత ▁ఓ ▁గర్భ ిణి కి ▁పండ ంటి ▁పాప ాయి ▁జన్మించిన ▁అత్యంత ▁అరుదైన ▁సంఘటన ▁ఇది . ▁బ్ర ొ నో ▁విశ్వవిద్యాలయ ▁ఆసుపత్రి ▁వైద్యులు ▁ఈ ▁ఘనత ను ▁సాధించారు . ▁ఏప్రిల్ ▁లో ▁పక్షవాతం ▁వచ్చి ▁జీవ న్ మృత ురాలైన ▁ఆమెకు ▁గత ▁నెల ▁15 న ▁వైద్యులు ▁పెద్ద ాప రేషన్ ▁చేసి ▁బిడ్డ కు ▁ప్రాణం ▁పో శారు . ▁ఏప్రిల్ ▁నుంచీ ▁గర్భ స్థ ▁శిశువు ను ▁కాపాడ ేందుకు ▁వైద్యులు ▁ఎంతో ▁శ్రమ ించారు .,▁x x bo s ▁అంతర్ ▁జిల్లా ▁ఫుట్ ▁బాల్ ▁షు రూ ▁ఈనాడు ▁డిజిటల్ ▁ , ▁హైదరాబాద్ ▁: ▁తెలంగాణ ▁రాష్ట్ర ▁సీనియర్ ▁అంతర్ ▁జిల్లా ▁ఫుట్ ▁బాల్ ▁ఛాంపియన్ ▁షిప్ ▁పోటీలు ▁గురువారం ▁ఆరంభ మయ్యాయి . ▁ఖమ్మంలో ని ▁సర్దార్ ▁పటేల్ ▁స్టేడియం లో ▁జరిగిన ▁ఛాంపియన్ ▁షిప్ ▁ప్రారంభ ోత్సవ ▁కార్యక్రమానికి ▁ఏ సీ పీ ▁వెంకట ్ ▁రావు ▁ముఖ్య ▁అతిథి గా ▁హాజరై ▁టోర్నీ ని ▁ఆరంభించారు . ▁నాలుగు ▁రోజు ▁పాటు ▁జరిగే ▁ఈ ▁టోర్నీ లో ▁ఖమ్మం , ▁వనపర్తి , ▁రంగారెడ్డి , ▁నిజామాబాద్ ▁ , ▁మెదక్ ▁ , ▁మంచిర్యాల , ▁మహబూబ్ ▁నగర్ ▁ , ▁నల్గొండ ▁జిల్లాల ▁జట్లు ▁పోటీపడ ను న్నాయి . ▁ఈ ▁కార్యక్రమంలో ▁తెలంగాణ ▁ఫుట్ ▁బాల్ ▁సంఘం ▁కార్యదర్శి ▁ఫాల్గుణ ▁తదితరులు ▁పాల్గొన్నారు .,▁x x bo s ▁పంచ ్ ▁డైలాగ్ ▁బంధం ▁కోసం ▁ప ంత ాన్ని ▁వదుల ుకున్నా ▁పం తం ▁కోసం ▁బంధ ాన్ని ▁వదుల ుకో కూడదు ▁చిత్రం : ▁విన్న ర్ ▁- ▁పంపిన వారు : ▁దూ లం ▁వంశీ , ▁తుని , ▁తూ . గో . జిల్లా,▁x x bo s ▁వచ్చే ▁ఏడాది లో ▁కొత్త ▁క్షేత్ర ాల్లో ▁గ్యాస్ ▁ఉత్పత్తి ▁ది ల్లీ : ▁ప్రతిష్ఠాత్మక ▁కే జీ - ▁డీ 6 ▁బ్లాకు లోని ▁కొత్త ▁గ్యాస్ ▁క్షేత్రంలో ▁2020 ▁మధ్య ▁నుంచి ▁ఉత్పత్తి ▁ప్రారంభించ ాలన్న ▁లక్ష్య ానికి ▁అనుగుణంగా ▁వెళ్తున్న ట్లు ▁రిలయన్స్ ▁ఇండస్ట్రీ స్ ▁వెల్లడించింది . ▁ప్రస్తుత ▁క్షేత్ర ాల్లో ▁ఉత్పత్తి ▁గణనీయంగా ▁తగ్గి న ▁నేపథ్యంలో ▁కంపెనీ ▁ఈ ▁వ్యాఖ్యలు ▁చేసింది . ▁కే జీ - ▁డీ 6 ▁బ్లాకు లో ▁కనుగొన్న ▁మూడు ▁క్షేత్ర ాల్లో ▁ఉత్పత్తి ▁ప్రారంభించ డానికి ▁రిలయన్స్ ▁ , ▁బ్రిటన్ ▁భాగస్వామి ▁బీ పీ ▁పీ ఎల్ ▁సీ లు ▁రూ . 40,000 ▁కోట్ల ▁పెట్టుబడుల ను ▁2017 ▁జూన్ ▁లో ▁ప్రకటించ ాయి . ▁2020 - 22 ▁మధ్య ▁ఈ ▁క్షేత్రాల ▁నుంచి ▁రోజుకు ▁మొత్తం ▁30 - ▁35 ▁మిలియన్ ▁క్యూబిక్ ▁మీటర్ల ▁( ▁100 ▁కోట్ల ▁ఘన పు ▁అడుగులు ) ▁గ్యాస్ ▁ను ▁వెలికి తీయ ొచ్చ ని ▁అంచనా . ▁రిలయన్స్ ▁కనుగొన్న ▁మూడు ▁క్షేత్రాలు ▁ఆర్ ▁- క్ ల స్టర్ ▁ , ▁శాటిలైట్ ▁క్ల స్టర్ ▁ , ▁ఎం జే ▁ఫీల్డ్ ▁గా ▁ఉన్నాయి . ▁ఇందులో ▁ఆర్ ▁- క్ ల స్టర్ ▁నుంచి ▁ముందుగా ▁ఉత్పత్తి ▁ప్రారంభించ నున్నారు .,▁x x bo s ▁23 ▁నెలల ▁కనిష్ఠ ానికి . . ▁టో కు ▁ద్రవ్యోల్బణం ▁2. 02 % ▁ది ల్లీ : ▁కూరగాయలు , ▁ఇంధనం , ▁విద్యుత్ ▁ధరలు ▁చౌక ▁కావడంతో ▁టో కు ▁ధరల ▁సూ చీ ▁( డబ్ల్యూ పీ ఐ ) ▁ఆధారిత ▁ద్రవ్యోల్బణం ▁23 ▁నెలల ▁కనిష్ఠ ానికి ▁చేరింది . ▁వరుసగా ▁రెండో ▁నెల ా ▁తగ్గి న ▁ డబ్ల్యూ పీ ఐ ▁ద్రవ్యోల్బణం , ▁జూన్ ▁లో ▁2. 02 ▁శాతం గా ▁నమోదైంది . ▁మే లో ▁2. 45 ▁శాతం గా ▁నమోదైన ▁ద్రవ ో ల్ బ ణం , ▁2018 ▁జూన్ ▁లో ▁5 . 68 ▁శాతం గా ▁నమోదు ▁కావడం ▁గమనార్హం . ▁అంతకు ▁ముందు ▁2017 ▁జులై లో ▁ డబ్ల్యూ పీ ఐ ▁ద్రవ్యోల్బణం ▁రికార్డు ▁స్థాయిలో ▁1. 88 ▁శాతానికి ▁చేరింది . ▁ఇక ▁ఏప్రిల్ ▁ద్రవ్యోల్బణ ▁గణాంకాలను ▁3 . 07 ▁శాతం ▁నుంచి ▁3 . 24 ▁శాతానికి ▁సవరించ ారు . ▁వాణిజ్య ▁మంత్రిత్వ ▁శాఖ ▁విడుదల ▁చేసిన ▁గణాంకాల ▁ప్రకారం . . ▁ <unk> ▁మే లో ▁6 . 99 ▁శాతం గా ▁ఉన్న ▁ఆహార ▁వస్తువుల ▁ద్రవ్యోల్బణం . . ▁గత ▁నెలలో ▁స్వల్పంగా ▁తగ్గి ▁6 . 98 ▁శాతానికి ▁చేరింది . ▁ <unk> ▁కూరగాయల ▁ద్రవ్యోల్బణం ▁33 . 15 ▁శాతం ▁నుంచి ▁జూన్ ▁లో ▁24 . 76 ▁శాతానికి ▁తగ్గింది . ▁బంగాళదుంప లు ▁24 . 27 ▁శాతం ▁మేర ▁చౌక య్యాయి . ▁ <unk> ▁ఉల్లిపాయ ల ▁ధరల ▁పెరుగుదల ▁కొనసాగింది . ▁మే లో ▁15 . 89 ▁శాతం ▁పెరిగి తే . . ▁జూన్ ▁లో ▁ఇవి ▁16 . 63 ▁శాతం ▁ప్రియ మయ్యాయి . ▁ <unk> ▁ఇంధనం , ▁విద్యుత్ ▁విభాగం ▁( - ) 2 . 20 ▁శాతం ▁ప్రతి ▁ద్రవ్యోల్బణ ాన్ని ▁నమోదు ▁చేసింది . ▁అంత క్రి తం ▁నెలలో ▁ఇవి ▁0. 98 ▁శాతం ▁పెరిగాయి . ▁తయారీ ▁వస్తువుల ▁ధరలు ▁సైతం ▁1. 28 ▁శాతం ▁నుంచి ▁0. 94 ▁శాతానికి ▁చల్ల బడ్డాయి . ▁ <unk> ▁ఆహార ▁వస్తువుల ▁ధరలు ▁పెరగడం తో ▁గత ▁వారం ▁రిటైల్ ▁ద్రవ్యోల్బణం ▁ఆరు ▁నెలల ▁గరిష్ఠ మైన ▁3 . 18 ▁శాతానికి ▁చేరిన ▁విషయం ▁తెలిసి ందే .\n",
              "y: CategoryList\n",
              "eenadu_national,eenadu_sports,eenadu_cinema,eenadu_business,eenadu_business\n",
              "Path: .;\n",
              "\n",
              "Test: None, model=SequentialRNN(\n",
              "  (0): MultiBatchEncoder(\n",
              "    (module): AWD_LSTM(\n",
              "      (encoder): Embedding(25000, 400, padding_idx=1)\n",
              "      (encoder_dp): EmbeddingDropout(\n",
              "        (emb): Embedding(25000, 400, padding_idx=1)\n",
              "      )\n",
              "      (rnns): ModuleList(\n",
              "        (0): WeightDropout(\n",
              "          (module): LSTM(400, 1152, batch_first=True)\n",
              "        )\n",
              "        (1): WeightDropout(\n",
              "          (module): LSTM(1152, 1152, batch_first=True)\n",
              "        )\n",
              "        (2): WeightDropout(\n",
              "          (module): LSTM(1152, 400, batch_first=True)\n",
              "        )\n",
              "      )\n",
              "      (input_dp): RNNDropout()\n",
              "      (hidden_dps): ModuleList(\n",
              "        (0): RNNDropout()\n",
              "        (1): RNNDropout()\n",
              "        (2): RNNDropout()\n",
              "      )\n",
              "    )\n",
              "  )\n",
              "  (1): PoolingLinearClassifier(\n",
              "    (layers): Sequential(\n",
              "      (0): BatchNorm1d(1200, eps=1e-05, momentum=0.1, affine=True, track_running_stats=True)\n",
              "      (1): Dropout(p=0.2, inplace=False)\n",
              "      (2): Linear(in_features=1200, out_features=50, bias=True)\n",
              "      (3): ReLU(inplace=True)\n",
              "      (4): BatchNorm1d(50, eps=1e-05, momentum=0.1, affine=True, track_running_stats=True)\n",
              "      (5): Dropout(p=0.1, inplace=False)\n",
              "      (6): Linear(in_features=50, out_features=5, bias=True)\n",
              "    )\n",
              "  )\n",
              "), opt_func=functools.partial(<class 'torch.optim.adam.Adam'>, betas=(0.9, 0.99)), loss_func=FlattenedLoss of CrossEntropyLoss(), metrics=[<function accuracy at 0x7fd2af62a840>], true_wd=True, bn_wd=True, wd=0.01, train_bn=True, path=PosixPath('.'), model_dir='models', callback_fns=[functools.partial(<class 'fastai.basic_train.Recorder'>, add_time=True, silent=False)], callbacks=[RNNTrainer\n",
              "learn: RNNLearner(data=TextClasDataBunch;\n",
              "\n",
              "Train: LabelList (16421 items)\n",
              "x: TextList\n",
              "▁x x bo s ▁పట్టు బి గ ించిన ▁భారత్ ▁- ఎ ▁మైసూరు : ▁దక్షిణాఫ్రికా - ఎ తో ▁రెండో ▁అనధికార ▁టెస్టు పై ▁భారత్ ▁- ఎ ▁పట్టు బి గ ించింది . ▁ఓవర్ ▁నైట్ ▁స్కోరు ▁23 3 ▁/ ▁3 తో ▁రెండో ▁రోజు , ▁బుధవారం ▁తొలి ▁ఇన్నింగ్స్ ▁కొన సా ంచిన ▁భారత్ ▁- ఎ ▁4 17 ▁పరుగుల కు ▁ఆ లౌ ట ైంది . ▁శివ మ్ ▁దు బె ▁( 68 ), ▁జల జ్ ▁స క్ సే నా ▁( 48 ▁నాట ౌట్ ▁) ▁సత్తా ▁చాట డంతో ▁భారత్ ▁400 ▁దాట గలిగింది . ▁అనంతరం ▁తొలి ▁ఇన్నింగ్స్ ▁లో ▁దక్షిణాఫ్రికా - ఎ ▁తడ బడింది . ▁కు ల్ ▁ దీప్ ▁యాదవ్ ▁(2 ▁/ ▁51 ), ▁నదీ మ్ ▁(2 ▁/ ▁41 ) ▁విజృంభించ డంతో ▁ఆట ▁ముగిసే ▁సమయానికి ▁159 ▁పరుగుల కే ▁5 ▁వికెట్లు ▁చే జార్ చ ుకుంది . ▁ఓ పె నర్ ▁మార్ ▁క్రమ ్ ▁( 81 ▁బ్యాటింగ్ ▁) ▁చక్కని ▁ఇన్నింగ్స్ ▁ఆడాడు . ▁అతడికి ▁తోడుగా ▁ముల్ దర్ ▁( 9) ▁క్రీ జు లో ▁ఉన్నాడు . ▁బ్ర ు యిన్ ▁41 ▁పరుగులు ▁చేశాడు .,▁x x bo s ▁చైనాలో ▁భూకంపాలు ▁: ▁12 ▁మంది ▁మృతి ▁125 ▁మందికి ▁గాయాలు ▁బీజింగ్ ▁: ▁చైనా ▁నైరుతి ▁ప్రాంతంలోని ▁సి చు వాన్ ▁ప్రావిన్స్ ▁లో ▁సోమవారం ▁సంభవించిన ▁రెండు ▁భూకంప ాల ▁ధాటికి ▁12 ▁మంది ▁మృతి ▁చెందారు . ▁మరో ▁125 ▁మంది ▁గాయపడ్డారు . ▁యి బిన్ ▁నగరానికి ▁చెందిన ▁చా ంగ్ ▁ నింగ్ ▁ప్రాంతంలో ▁స్థానిక ▁కాల మానం ▁ప్రకారం ▁రాత్రి ▁10 . 55 ▁గంటల ▁సమయంలో ▁6 . 0 ▁తీవ్రత తో ను , ▁అనంతరం ▁5 . 3 ▁తీవ్రత తోనూ ▁భూకంపాలు ▁సంభవించిన ట్లు ▁చైనా ▁భూకంప ▁పరిశోధన ▁కేంద్రం ▁మంగళవారం ▁తెలిపింది . ▁16 ▁కి . మీ . ల ▁లోతు న ▁భూకంప ▁కేంద్రం ▁ఉన్నట్లు ▁వెల్లడించింది . ▁ఇ ళ్లు ▁కుప్పకూల డం ▁వల్ల ▁ఎక్కువ ▁మంది ▁చనిపోయిన ట్లు ▁అధికారులు ▁తెలిపారు . ▁నైరుతి ▁జపాన్ ▁లో . . ▁టోక్యో : ▁నైరుతి ▁జపాన్ ▁లో ▁మంగళవారం ▁6 . 8 ▁తీవ్రత తో ▁భూకంపం ▁ఏర్పడటం తో ▁ఆ ▁దేశం ▁సునామీ ▁హెచ్చరిక లు ▁జారీ ▁చేసింది . ▁రెండున్నర ▁గంటల ▁తరువాత ▁ఉపసంహరించ ుకుంది . ▁తొలుత ▁ఉత్తర ▁టోక్యో లో ▁తీర ▁ప్రాంతాన్ని ▁మూడు ▁అడుగుల ▁ఎత్తైన ▁అల లు ▁తా కే ▁అవకాశం ▁ఉందని ▁వాతావరణ ▁విభాగం ▁తెలిపింది . ▁కొన్ని ▁అల లు ▁నైరుతి ▁జపాన్ ▁లోని ▁యమ గత , ▁నీ గత ▁తీర ాలను ▁తా కి ▁ఉండవచ్చని ▁పేర్కొంది . ▁దీంతో ▁ముందు ▁జాగ్రత్త ▁చర్య గా ▁ఆ ▁ప్రాంతంలో ▁బుల్లెట్ ▁రైలు ▁సేవలను ▁తక్షణమే ▁నిలిపి వేశారు . ▁కొన్ని ▁వేల ▁ఇళ్ల కు ▁విద్యుత్తు ▁సరఫరా ▁నిలిచిపోయింది . ▁భూకంప కేంద్ర ానికి ▁సమీప ాన ▁గల ▁అణు విద్యుత్ తు ▁కర్మాగార ాల్లో ▁ఎలాంటి ▁అసాధారణ త ▁కనిపించ లేదు .,▁x x bo s ▁నేటి ▁బోర్డు ▁సమావేశాలు ▁ <unk> ▁ఎన్ ▁టీ పీ సీ ▁ <unk> ▁ఆయిల్ ▁ఇండియా ▁ <unk> ▁అమర రాజా ▁బ్యాటరీ స్ ▁ <unk> ▁చోళ మండలం ▁ఫైనాన్షియల్ ▁హోల్ డింగ్ స్ ▁ <unk> ▁జే కే ▁సిమెంట్ ▁ <unk> ▁జై ప్రకాశ ్ ▁అసోసియేట్ స్ ▁ , ▁లక్ష్మీ వి లాస్ ▁బ్యాంక్ ▁ <unk> ▁మంగళ ం ▁సిమెంట్ ▁ <unk> ▁మంజ ీ రా ▁కన్ ▁స్ట్ర క్షన్ స్ ▁ <unk> ▁మనో ర మ ▁ఇండస్ట్రీ స్ ▁ <unk> ▁మేఘ మణి ▁ఆర్ గా నిక్స్ ▁ <unk> ▁రె సో నా న్స్ ▁స్పె షా లిటీ స్ ▁ <unk> ▁తా న్ లా ▁సొ ల్యూషన్ స్ ▁ <unk> ▁ఉషా ▁మార్టిన్ ▁ <unk> ▁వి మ్ టా ▁ల ్యా బ్స్ ▁ <unk> ▁వీ ఆర్ ▁ఎల్ ▁లా జి స్టిక్ స్,▁x x bo s ▁ఇద్దరు ▁ఇంటర్ ▁విద్యార్థుల ▁ఆత్మహత్య ▁నెక్ కొండ , ▁షా బాద్ ▁ , ▁న్యూస్ ▁టు డే : ▁ఇంటర్ ▁పరీక్ష ల్లో ▁తప్ప ినందుకు ▁మన స్తా పం ▁చెందిన ▁ఇద్దరు ▁విద్యార్థులు ▁మంగళవారం ▁ఆత్మహత్య కు ▁పాల్ పడ్డారు . ▁వరంగల్ ▁రూరల్ ▁జిల్లా ▁రెడ్ ల వాడ ▁శివారు ▁మ త్త డి ▁తండా కు ▁చెందిన ▁మా లో తు ▁నవీన ్ ▁(17 ) ▁ఇంటర్ ▁ఎంపీ సీ ▁చదివాడు . ▁ఇటీవల ▁వెల్ల డైన ▁ఫలితాల ్లో ▁ఆ ▁విద్యార్థి ▁అన్ని ▁సబ్జెక్టు ల్లో ▁ఫెయి ల య్యాడు . ▁దీంతో ▁మన స్తా పం ▁చెందిన ▁నవీన ్ ▁నెక్ కొండలో ▁రైలు ▁కింద పడి ▁ఆత్మహత్య కు ▁పాల్ పడ్డాడు . ▁రంగారెడ్డి ▁జిల్లా ▁షా బాద్ ▁మండలం ▁తి ర్మ లాపూర్ ▁కు ▁చెందిన ▁స త్త ూరి ▁జ్యోతి ( 17 ) ▁ఇంటర్ ▁సీ ఈ సీ ▁చదివి ంది . ▁ఇటీవల ▁వెలువడిన ▁ఫలితాల ్లో ▁ద్వితీయ ▁సంవత్సరం ▁సబ్జెక్టు ల్లో ▁ఒక దా ంట్ లో ▁ఫెయి ల వడంతో ▁కి రో సిన్ ▁పోస ుకుని ▁ని ప్ప ంట ించుకుని ▁బల వన్ మరణ ానికి ▁పాల్పడ ింది . ▁ఫలితాల ▁సమయంలో ▁ఆమె ▁అమ్మ మ్మ ▁ఇంట ▁ఉంది . ▁మంగళవారం ▁ఇంటికి ▁వచ్చిన ▁ఆమె . . ▁మధ్యాహ్నం ▁ఇంట్లో ▁ఎవరూ ▁లేని ▁సమయంలో ▁ఈ ▁దారుణ ానికి ▁పాల్పడ ింది . ▁కుటుంబసభ్యుల ▁ఫిర్యాదు ▁మేరకు ▁పోలీసులు ▁వేర్వేరు గా ▁కేసులు ▁నమోదు ▁చేసి ▁దర్యాప్తు ▁చేస్తున్నారు .,▁x x bo s ▁టీకా ల ▁నిల్వ కు ▁తగిన ▁సదుపాయాల ే వీ . . ? ▁పూర్తి ▁స్థాయిలో ▁సౌకర్యాల ▁కల్పన పై ▁ప్రభుత్వం ▁దృష్టి ▁సార ించాలి ▁కొన్ని ▁టీకా ల ▁ధర ▁తయారీ ▁ఖర్చు ▁కంటే ▁తక్కువ ▁150 ▁దేశాలకు ▁ఎగుమతులు ▁చేసే ▁లక్ష్యంతో ▁కొత్త ▁యూనిట్ ▁పెట్ట ాం ▁డె ంగీ , ▁మలేరియా , ▁న్యుమోనియా ▁వ్యా క్సి న్లు , ▁ఇతర ▁ఔషధ ాలు ▁తయారు ▁చే స్తాం ▁‘ ఈనాడు ’ ▁ఇంటర్వ్యూ ▁సీ రమ్ ▁ఇన్ ▁స్టిట్యూట్ ▁ఆఫ్ ▁ఇండియా ▁సీ ఈ ఓ ▁అ దర్ ▁పూ నా వాలా ▁మన దేశం ▁నుంచి ▁ఇతర దేశాల కు ▁టీకా లు ▁పెద్ద ఎత్తు న ▁ఎగుమతి ▁చేయటానికి ▁అవసరమైన ▁అన్ని ▁ప్రో త్స హా కాలను ▁ప్రభుత్వం ▁కల్పించ ాలని ▁అంటున్నారు ▁సీ రమ్ ▁ఇన్ ▁స్టిట్యూట్ ▁ఆఫ్ ▁ఇండియా ▁సీ ఈ ఓ , ▁ఐ వీ ఎం ఏ ▁అధ్యక్షుడు ▁అయిన ▁అ దర్ ▁పూ నా వాలా . ▁దేశీయ ▁మార్కెట్ లో ▁కొన్ని ▁టీకా లకు ▁వాటి ▁తయారీ క య్యే ▁ఖర్చు ▁కంటే ▁తక్కువ ▁ధరలు ▁నిర్ణయించ ారని , ▁ఈ ▁విషయంలో ▁ప్రభుత్వం ▁పున రా లోచన ▁చేసి ▁టీకా ల ▁పరిశ్రమకు ▁అండగా ▁నిలవ ాలని ▁కోరారు . ▁ఈ ▁సంస్థ ▁ప్రపంచంలోనే ▁అతిపెద్ద దైన ▁నూతన ▁టీకా ల ▁తయారీ ▁కర్మాగార ాన్ని ▁పు ణ ె లో ▁నెలకొల్ప ింది . ▁ఈ ▁కర్మాగార ాన్ని ▁కేంద్ర ▁ఆరోగ్య ▁మంత్రి ▁డాక్టర్ ▁హర్ష వర్థన ్ ▁సోమవారం ▁ప్రారంభించారు . ▁ఈ ▁యూనిట్ ▁లో ▁పలు ▁నూతన ▁టీకా లు , ▁ఔషధ ాలు ▁తయారు ▁చేసి ▁ప్రపంచ ▁వ్యాప్తంగా ▁పలు ▁దేశాలకు ▁సరఫరా ▁చేస్తామని ▁అ దర్ ▁పూ నా వాలా ▁‘ ఈనాడు ’ కి చ్చిన ▁ఇంటర్వ్యూ లో ▁పేర్కొన్నారు . ▁ఈ ▁ఏడాది ▁చివరికి ▁పూర్తి ▁స్థాయిలో ▁ఈ ▁యూనిట్ ▁ను ▁ఉత్పత్తి ▁దశలో కి ▁తీసుకువస్త ామని ▁తెలిపారు . ▁మనదేశంలో ▁టీకా ల ▁నిల్వ ▁సదుపాయాల ▁కొరత ▁తీవ్రంగా ▁ఉందని , ▁దీని ▁పరిష్కారం పై ▁ప్రభుత్వం ▁దృష్టి ▁పెట్ట ాలని ▁ఆయన ▁కోరారు . ▁ఇంటర్వ్యూ ▁విశేషాలు . . ▁సీ రమ్ ▁ఇన్ ▁స్టిట్యూట్ ▁టీకా ల ▁తయారీలో ▁ఇప్పటికే ▁అగ్ర గా మి ▁సంస్థ ల్లో ▁ఒకటిగా ▁ఉంది . ▁మళ్లీ ▁కొత్తగా ▁ఒక ▁అతిపెద్ద ▁యూనిట్ ▁ను ▁ఏ ▁ఉద్దేశంతో ▁ఏర్పాటు ▁చేశారు . ▁ఇక్కడ ▁ఎటువంటి ▁టీకా లు , ▁మందులు ▁తయారు ▁చేస్తారు ▁? ▁చిన్న ▁పిల్లలను ▁వ్యాధుల ▁బారి ▁నుంచి ▁కాపాడ ాలంటే ▁సరైన ▁టీకా లు , ▁మందులు ▁అందించ ాలి . ▁మనదేశంలో ▁టీకా ల ▁అవసరాలు ▁పెరుగుతున్న ాయి . ▁అదేవిధంగా ▁ఎగుమతి ▁అవకాశాలు ▁ఉన్నాయి . ▁అందువల్ల ▁దేశీయ ▁అవసరాల ▁కోసమే ▁కాకుండా ▁ఎగుమతుల ను ▁దృష్టిలో ▁ఉంచుకుని ▁ఈ ▁కొత్త ▁యూనిట్ ▁నెలకొల్ప ాం . ▁గత ▁నాలుగేళ్ల ుగా ▁మే ం ▁దీనిపై ▁పనిచేస్తున్న ాం . ▁మనదేశంలో ▁ఎక్కడా ▁లే నటువంటి ▁అది పెద్ద ▁ సదుపాయ మిది . ▁సీ రమ్ ▁ఇన్ ▁స్టిట్యూట్ ▁కు ▁హా లె ండ్ ▁ , ▁చెక్ ▁రిపబ్లిక్ ▁లలో ▁యూనిట్ లు ▁ఉన్నాయి . ▁అక్కడ ▁సామర్థ్యాన్ని ▁విస్తరించ వచ్చు . ▁కానీ ▁‘ మే కిన్ ▁ఇండియా ’ లో ▁భాగం ▁పంచ ుకోవాలని , ▁స్థానికంగా ▁కొత్త ▁ఉద్యోగాలు ▁కల్పించ ాలనే ▁ఆలోచన తో ▁ఇక్కడే ▁కొత్త ▁యూనిట్ ▁నిర్మించ ాం . ▁ఈ ▁ప్లాంటు లో ▁ఈ ▁ఏడాది ▁నవంబరు ▁నుంచి ▁పూర్తి ▁స్థాయిలో ▁ఉత్పత్తి ▁కార్యకలాపాలు ▁మొదల వుతాయి . ▁ఇంకా ▁సామర్థ్యాన్ని ▁విస్తరించ ుకునే ▁అవకాశం ▁కూడా ▁ఉంది . ▁ట్రస్టు జు మ్యా బ్ ▁( హెర్ సెప్ టిన్ ▁), ▁ఉ స్టె కి ను మ్యా బ్ ▁( స్టె ల రా ) ▁వంటి ▁మోనో క్ లో నల్ ▁యాంటీ బా డీ స్ ▁ , ▁హెచ్ ▁పీవీ , ▁డె ంగీ , ▁మలేరియా , ▁న్యూ మో నియా ▁వ్యా క్సి న్లు ▁ఈ ▁కర్మాగారం లో ▁తయారు ▁చే స్తాం . ▁మోనో క్ లో నల్ ▁యాంటీ బా డీ స్ ▁ఉత్పత్తుల పై ▁ప్రస్తుతం ▁ఆస్ట్రేలియా లో ▁క్లినికల్ ▁పరీక్షలు ▁నిర్వహిస్తున్న ాం . ▁వచ్చే ▁ఏడాది ▁చివరికి ▁ఆ ▁ఔషధ ాలను ▁ఇక్కడ ▁విడుదల ▁చేయగల మని ▁భావిస్తున్న ాం . ▁యూనిట్ ▁నిర్మాణానికి ▁ఎంత ▁పెట్టుబడి ▁పెట్టారు . ▁దీని ▁సామర్థ్య మె ంత ▁? ▁ప్రస్తుతం ▁ప్రపంచంలో ▁అతిపెద్ద ▁టీకా ల ▁తయారీ ▁కర్మాగారం ▁ఇదే . ▁దీనిపై ▁ఇప్పటి ▁వరకూ ▁రూ . 3,000 ▁కోట్లు ▁పెట్టుబడి ▁పెట్ట ాం . ▁వచ్చే ▁అయి దే ళ్లలో ▁దాదాపు ▁ 3,000 ▁మందికి ▁ఇక్కడ ▁ఉద్యోగ ావకాశాల ు ▁కల్ప ి స్తాం . ▁ఏటా ▁ఈ ▁యూనిట్ లో ▁50 ▁లక్షల ▁డో సుల ▁టీకా లు ▁తయారు ▁చేయగల ం . ▁యూ ఎస్ ▁ , ▁ఐరోపా ▁దేశాల ▁తయారీ ▁ప్రమాణాల కు ▁అనుగుణంగా ▁దీన్ని ▁నిర్మించ ాం . ▁ఇక్కడి ▁నుంచి ▁ఔషధ ాలు , ▁వ్యా క్సి న్లు ▁ఐరోపా , ▁ఉత్తర ▁అమెరికా తో ▁సహా ▁150 ▁దేశాలకు ▁ఎగుమతి ▁చేయాలనే ది ▁మా ▁లక్ష్యం . ▁కొత్త ▁ఔషధ ాల ▁ఆవిష్కరణ కు ▁ఏమైనా ▁కృషి ▁చేస్తున్న ారా . . . ▁మీకు ▁ఏ మేరకు ▁పరిశోధనా ▁నైపుణ్యం ▁ఉంది . ▁? ▁ఎన్ ▁ఐ హెచ్ ▁- ▁యూ ఎస్ ▁ఏ తో ▁కలిసి ▁సీ రమ్ ▁ఇన్ ▁స్టిట్యూట్ ▁రో టో వై రస్ ▁వ్యా క్సి న్ ▁ను ▁అభివృద్ధి ▁చేసింది . ▁‘ రొ టా సిల్ ▁’ ▁పేరుతో ▁దీన్ని ▁ఆవిష్కరించ ాం . ▁దీని ▁ప్రత్యేకత ▁ఏమిటంటే . . . ▁25 ▁డిగ్రీల ▁ఉష్ణోగ్రత లో ▁30 ▁నెలల ▁వరకూ ▁ఈ ▁వ్యా క్సి న్ ▁ఉపయోగపడుతుంది . ▁ఇంకా ▁పలు ▁ఔషధ ాల ▁మీద ▁పని ▁చేస్తున్న ాం . ▁మే ం ▁కొత్తగా ▁నిర్మించిన ▁యూనిట్ లో ▁అధునాతన ▁ఉపకరణాలు , ▁సామగ్రి , ▁సాంకేతిక ▁పరిజ్ఞానం ▁ఉన్నాయి . ▁తత్ఫలితంగా ▁పెద్ద ఎత్తు న ▁పరిశోధనలు ▁చేపట్ట గల ం . ▁మీరు ▁ఐ వీ ఎం ఏ ▁అధ్యక్షుడిగా ▁వ్యవహరిస్తున్న ారు . ▁దేశంలో ▁వ్యా క్సి న్ ▁తయారీ ▁సంస్థలు ▁ఎదుర్కొంటున్న ▁స వాళ్లు ▁ఏమిటి , ▁వాటిని ▁ఏవిధంగా ▁పరిష్కరించ వచ్చు ▁? ▁దేశంలో ▁సులభ తర ▁వ్యాపార ▁నిర్వహణ ▁( ఈ జ్ ▁ఆఫ్ ▁డూ యింగ్ ▁బిజినెస్ ▁) కు ▁అవకాశం ▁ఉండాలనే ది ▁నా ▁ప్రధాన ోద్ దేశం . ▁‘ సింగి ల్ ▁వి ండో ’ ▁పద్ధతిలో ▁వ్యాపార ▁అనుమతుల ు ▁లభించ ాలి . ▁వ్యా క్సి న్లు , ▁ఔషధ ాల ▁తయారీకి ▁అవసరమైన ▁అన్ని ▁అనుమతుల ు ▁త్వరితంగా ▁లభించే ▁వాతావరణం ▁ఉండాలి . ▁పరిశోధన లను ▁ప్రోత్సహించ ే ▁పరిస్థితి ▁ఉండాలి . ▁తద్వారా ▁నూతన ▁ఔషధ ాలు ▁ఆవిష్కరించ ే ▁అవకాశం ▁ఏర్పడుతుంది . ▁దీనికి ▁ప్రభుత్వం ▁నుంచి ▁ఎటువంటి ▁చర్యలు ▁ఆశ ిస్తున్నారు . . ▁? ▁తగిన ▁మౌలిక ▁సదుపాయాలు ▁లేకపోవటం , ▁ఇతరత్రా ▁స వాళ్ల ను ▁ఎప్పటికప్పుడు ▁ప్రభుత్వం ▁దృష్టి కి ▁తీసుకు వె ళ్ తున్న ాం . ▁మనదేశంలో ▁టీకా లను ▁నిల్వ ▁చేయటానికి ▁అనువైన ▁సదుపాయాల ▁కొరత ▁ఉంది . ▁దేశంలో ▁పిల్లల ందరికీ ▁టీకా లు ▁ఇచ్చి ▁నూరు శాతం ▁టీకా ల ▁లక్ష్యాన్ని ▁సాధించ ాలంటే ▁అన్ని ▁రకాల ▁సదుపాయాలు ▁మెరుగు ▁పరచ ాలి . ▁నిల్వ ▁చేసే ▁సదుపాయాల తో ▁పాటు ▁శీతల ▁రవాణా , ▁పంపిణీ . . . ▁తదితర ▁విభాగాల్లో ▁ఉన్నత ▁ప్రమాణాలు ▁సాధించ ాలి . ▁మన దేశ ానికి ▁టీకా ల ▁తయారీ ▁కేంద్రంగా ▁ఎ ది గే ▁అవకాశం ▁ఉంది . ▁అందుకు ▁చర్యలు ▁చేపట్ట ాలి . ▁స్థానిక ▁కంపెనీ లకు ▁అన్ని ▁రకాల ▁ప్రోత్సాహక ాలు ▁ఇవ్వాలి . ▁కొన్ని ▁వ్యా క్సి న్ ల ▁ధరలు , ▁మరికొన్ని ంటి ▁ధరలు ▁తక్కువగా ▁ఉన్నాయి . ▁ప్రజల పై ▁భార ాన్ని ▁తగ్గించ ాలంటే ▁ఎటువంటి ▁మార్పులు ▁రావ ాలి . ▁? ▁కొన్ని ▁వ్యా క్సి న్ ల ▁ధరలు ▁ఎక్కువగా ▁ఉన్న ▁విషయం ▁వాస్తవ మే . ▁అదే ▁సమయంలో ▁కొన్ని ▁టీకా లకు ▁ఎన్ ▁పీ పీ ఏ ▁నిర్ణయించిన ▁ధరలు , ▁తయారీ ▁వ్యయం ▁కంటే ▁తక్కువగా ▁ఉన్నాయి . ▁టీకా ల ▁పరిశ్రమ ▁పరిశోధనలు ▁చేపట్టి ▁కొత్త ▁టీకా లు ▁ఆవిష్కరించ ాలంటే ▁తయారీ దార్ల కు ▁ఎంతో ▁కొంత ▁లాభం ▁ఉండాలి . ▁అందువల్ల ▁ధరల ▁నిర్ణయం లో ▁హే తు బద్ధంగా ▁ఉండాలి . ▁ఐరోపా , ▁ఉత్తర ▁అమెరికా ▁దేశాల్లో ▁వ్యా క్సి న్ ల ▁ధరలు ▁ఎంతో ▁ఎక్కువ . ▁మనదేశంలో ▁వాటికి ▁పదో వంతు ▁ధర లో ▁వాటిని ▁అందించ గలుగుతున్నా ం . ▁అయినా ▁ఇంకా ▁తక్కువ ▁ధర ▁నిర్ణయించ టం ▁వల్ల ▁ఇబ్బందులు ▁ఎదుర వ ుతున్నాయి . ▁- ▁ఈనాడు , ▁హైదరాబాద్\n",
              "y: CategoryList\n",
              "eenadu_sports,eenadu_national,eenadu_business,eenadu_crime,eenadu_business\n",
              "Path: .;\n",
              "\n",
              "Valid: LabelList (4106 items)\n",
              "x: TextList\n",
              "▁x x bo s ▁జీవ న్ మృత ురాలి కి ▁పాప ాయి ▁ప్రా గ్ ▁: ▁జీవ న్ మృత ురాల ై ( బ్ రెయిన్ ▁ డెడ్ ▁) న ▁117 ▁రోజుల ▁తర్వాత ▁ఓ ▁గర్భ ిణి కి ▁పండ ంటి ▁పాప ాయి ▁జన్మించిన ▁అత్యంత ▁అరుదైన ▁సంఘటన ▁ఇది . ▁బ్ర ొ నో ▁విశ్వవిద్యాలయ ▁ఆసుపత్రి ▁వైద్యులు ▁ఈ ▁ఘనత ను ▁సాధించారు . ▁ఏప్రిల్ ▁లో ▁పక్షవాతం ▁వచ్చి ▁జీవ న్ మృత ురాలైన ▁ఆమెకు ▁గత ▁నెల ▁15 న ▁వైద్యులు ▁పెద్ద ాప రేషన్ ▁చేసి ▁బిడ్డ కు ▁ప్రాణం ▁పో శారు . ▁ఏప్రిల్ ▁నుంచీ ▁గర్భ స్థ ▁శిశువు ను ▁కాపాడ ేందుకు ▁వైద్యులు ▁ఎంతో ▁శ్రమ ించారు .,▁x x bo s ▁అంతర్ ▁జిల్లా ▁ఫుట్ ▁బాల్ ▁షు రూ ▁ఈనాడు ▁డిజిటల్ ▁ , ▁హైదరాబాద్ ▁: ▁తెలంగాణ ▁రాష్ట్ర ▁సీనియర్ ▁అంతర్ ▁జిల్లా ▁ఫుట్ ▁బాల్ ▁ఛాంపియన్ ▁షిప్ ▁పోటీలు ▁గురువారం ▁ఆరంభ మయ్యాయి . ▁ఖమ్మంలో ని ▁సర్దార్ ▁పటేల్ ▁స్టేడియం లో ▁జరిగిన ▁ఛాంపియన్ ▁షిప్ ▁ప్రారంభ ోత్సవ ▁కార్యక్రమానికి ▁ఏ సీ పీ ▁వెంకట ్ ▁రావు ▁ముఖ్య ▁అతిథి గా ▁హాజరై ▁టోర్నీ ని ▁ఆరంభించారు . ▁నాలుగు ▁రోజు ▁పాటు ▁జరిగే ▁ఈ ▁టోర్నీ లో ▁ఖమ్మం , ▁వనపర్తి , ▁రంగారెడ్డి , ▁నిజామాబాద్ ▁ , ▁మెదక్ ▁ , ▁మంచిర్యాల , ▁మహబూబ్ ▁నగర్ ▁ , ▁నల్గొండ ▁జిల్లాల ▁జట్లు ▁పోటీపడ ను న్నాయి . ▁ఈ ▁కార్యక్రమంలో ▁తెలంగాణ ▁ఫుట్ ▁బాల్ ▁సంఘం ▁కార్యదర్శి ▁ఫాల్గుణ ▁తదితరులు ▁పాల్గొన్నారు .,▁x x bo s ▁పంచ ్ ▁డైలాగ్ ▁బంధం ▁కోసం ▁ప ంత ాన్ని ▁వదుల ుకున్నా ▁పం తం ▁కోసం ▁బంధ ాన్ని ▁వదుల ుకో కూడదు ▁చిత్రం : ▁విన్న ర్ ▁- ▁పంపిన వారు : ▁దూ లం ▁వంశీ , ▁తుని , ▁తూ . గో . జిల్లా,▁x x bo s ▁వచ్చే ▁ఏడాది లో ▁కొత్త ▁క్షేత్ర ాల్లో ▁గ్యాస్ ▁ఉత్పత్తి ▁ది ల్లీ : ▁ప్రతిష్ఠాత్మక ▁కే జీ - ▁డీ 6 ▁బ్లాకు లోని ▁కొత్త ▁గ్యాస్ ▁క్షేత్రంలో ▁2020 ▁మధ్య ▁నుంచి ▁ఉత్పత్తి ▁ప్రారంభించ ాలన్న ▁లక్ష్య ానికి ▁అనుగుణంగా ▁వెళ్తున్న ట్లు ▁రిలయన్స్ ▁ఇండస్ట్రీ స్ ▁వెల్లడించింది . ▁ప్రస్తుత ▁క్షేత్ర ాల్లో ▁ఉత్పత్తి ▁గణనీయంగా ▁తగ్గి న ▁నేపథ్యంలో ▁కంపెనీ ▁ఈ ▁వ్యాఖ్యలు ▁చేసింది . ▁కే జీ - ▁డీ 6 ▁బ్లాకు లో ▁కనుగొన్న ▁మూడు ▁క్షేత్ర ాల్లో ▁ఉత్పత్తి ▁ప్రారంభించ డానికి ▁రిలయన్స్ ▁ , ▁బ్రిటన్ ▁భాగస్వామి ▁బీ పీ ▁పీ ఎల్ ▁సీ లు ▁రూ . 40,000 ▁కోట్ల ▁పెట్టుబడుల ను ▁2017 ▁జూన్ ▁లో ▁ప్రకటించ ాయి . ▁2020 - 22 ▁మధ్య ▁ఈ ▁క్షేత్రాల ▁నుంచి ▁రోజుకు ▁మొత్తం ▁30 - ▁35 ▁మిలియన్ ▁క్యూబిక్ ▁మీటర్ల ▁( ▁100 ▁కోట్ల ▁ఘన పు ▁అడుగులు ) ▁గ్యాస్ ▁ను ▁వెలికి తీయ ొచ్చ ని ▁అంచనా . ▁రిలయన్స్ ▁కనుగొన్న ▁మూడు ▁క్షేత్రాలు ▁ఆర్ ▁- క్ ల స్టర్ ▁ , ▁శాటిలైట్ ▁క్ల స్టర్ ▁ , ▁ఎం జే ▁ఫీల్డ్ ▁గా ▁ఉన్నాయి . ▁ఇందులో ▁ఆర్ ▁- క్ ల స్టర్ ▁నుంచి ▁ముందుగా ▁ఉత్పత్తి ▁ప్రారంభించ నున్నారు .,▁x x bo s ▁23 ▁నెలల ▁కనిష్ఠ ానికి . . ▁టో కు ▁ద్రవ్యోల్బణం ▁2. 02 % ▁ది ల్లీ : ▁కూరగాయలు , ▁ఇంధనం , ▁విద్యుత్ ▁ధరలు ▁చౌక ▁కావడంతో ▁టో కు ▁ధరల ▁సూ చీ ▁( డబ్ల్యూ పీ ఐ ) ▁ఆధారిత ▁ద్రవ్యోల్బణం ▁23 ▁నెలల ▁కనిష్ఠ ానికి ▁చేరింది . ▁వరుసగా ▁రెండో ▁నెల ా ▁తగ్గి న ▁ డబ్ల్యూ పీ ఐ ▁ద్రవ్యోల్బణం , ▁జూన్ ▁లో ▁2. 02 ▁శాతం గా ▁నమోదైంది . ▁మే లో ▁2. 45 ▁శాతం గా ▁నమోదైన ▁ద్రవ ో ల్ బ ణం , ▁2018 ▁జూన్ ▁లో ▁5 . 68 ▁శాతం గా ▁నమోదు ▁కావడం ▁గమనార్హం . ▁అంతకు ▁ముందు ▁2017 ▁జులై లో ▁ డబ్ల్యూ పీ ఐ ▁ద్రవ్యోల్బణం ▁రికార్డు ▁స్థాయిలో ▁1. 88 ▁శాతానికి ▁చేరింది . ▁ఇక ▁ఏప్రిల్ ▁ద్రవ్యోల్బణ ▁గణాంకాలను ▁3 . 07 ▁శాతం ▁నుంచి ▁3 . 24 ▁శాతానికి ▁సవరించ ారు . ▁వాణిజ్య ▁మంత్రిత్వ ▁శాఖ ▁విడుదల ▁చేసిన ▁గణాంకాల ▁ప్రకారం . . ▁ <unk> ▁మే లో ▁6 . 99 ▁శాతం గా ▁ఉన్న ▁ఆహార ▁వస్తువుల ▁ద్రవ్యోల్బణం . . ▁గత ▁నెలలో ▁స్వల్పంగా ▁తగ్గి ▁6 . 98 ▁శాతానికి ▁చేరింది . ▁ <unk> ▁కూరగాయల ▁ద్రవ్యోల్బణం ▁33 . 15 ▁శాతం ▁నుంచి ▁జూన్ ▁లో ▁24 . 76 ▁శాతానికి ▁తగ్గింది . ▁బంగాళదుంప లు ▁24 . 27 ▁శాతం ▁మేర ▁చౌక య్యాయి . ▁ <unk> ▁ఉల్లిపాయ ల ▁ధరల ▁పెరుగుదల ▁కొనసాగింది . ▁మే లో ▁15 . 89 ▁శాతం ▁పెరిగి తే . . ▁జూన్ ▁లో ▁ఇవి ▁16 . 63 ▁శాతం ▁ప్రియ మయ్యాయి . ▁ <unk> ▁ఇంధనం , ▁విద్యుత్ ▁విభాగం ▁( - ) 2 . 20 ▁శాతం ▁ప్రతి ▁ద్రవ్యోల్బణ ాన్ని ▁నమోదు ▁చేసింది . ▁అంత క్రి తం ▁నెలలో ▁ఇవి ▁0. 98 ▁శాతం ▁పెరిగాయి . ▁తయారీ ▁వస్తువుల ▁ధరలు ▁సైతం ▁1. 28 ▁శాతం ▁నుంచి ▁0. 94 ▁శాతానికి ▁చల్ల బడ్డాయి . ▁ <unk> ▁ఆహార ▁వస్తువుల ▁ధరలు ▁పెరగడం తో ▁గత ▁వారం ▁రిటైల్ ▁ద్రవ్యోల్బణం ▁ఆరు ▁నెలల ▁గరిష్ఠ మైన ▁3 . 18 ▁శాతానికి ▁చేరిన ▁విషయం ▁తెలిసి ందే .\n",
              "y: CategoryList\n",
              "eenadu_national,eenadu_sports,eenadu_cinema,eenadu_business,eenadu_business\n",
              "Path: .;\n",
              "\n",
              "Test: None, model=SequentialRNN(\n",
              "  (0): MultiBatchEncoder(\n",
              "    (module): AWD_LSTM(\n",
              "      (encoder): Embedding(25000, 400, padding_idx=1)\n",
              "      (encoder_dp): EmbeddingDropout(\n",
              "        (emb): Embedding(25000, 400, padding_idx=1)\n",
              "      )\n",
              "      (rnns): ModuleList(\n",
              "        (0): WeightDropout(\n",
              "          (module): LSTM(400, 1152, batch_first=True)\n",
              "        )\n",
              "        (1): WeightDropout(\n",
              "          (module): LSTM(1152, 1152, batch_first=True)\n",
              "        )\n",
              "        (2): WeightDropout(\n",
              "          (module): LSTM(1152, 400, batch_first=True)\n",
              "        )\n",
              "      )\n",
              "      (input_dp): RNNDropout()\n",
              "      (hidden_dps): ModuleList(\n",
              "        (0): RNNDropout()\n",
              "        (1): RNNDropout()\n",
              "        (2): RNNDropout()\n",
              "      )\n",
              "    )\n",
              "  )\n",
              "  (1): PoolingLinearClassifier(\n",
              "    (layers): Sequential(\n",
              "      (0): BatchNorm1d(1200, eps=1e-05, momentum=0.1, affine=True, track_running_stats=True)\n",
              "      (1): Dropout(p=0.2, inplace=False)\n",
              "      (2): Linear(in_features=1200, out_features=50, bias=True)\n",
              "      (3): ReLU(inplace=True)\n",
              "      (4): BatchNorm1d(50, eps=1e-05, momentum=0.1, affine=True, track_running_stats=True)\n",
              "      (5): Dropout(p=0.1, inplace=False)\n",
              "      (6): Linear(in_features=50, out_features=5, bias=True)\n",
              "    )\n",
              "  )\n",
              "), opt_func=functools.partial(<class 'torch.optim.adam.Adam'>, betas=(0.9, 0.99)), loss_func=FlattenedLoss of CrossEntropyLoss(), metrics=[<function accuracy at 0x7fd2af62a840>], true_wd=True, bn_wd=True, wd=0.01, train_bn=True, path=PosixPath('.'), model_dir='models', callback_fns=[functools.partial(<class 'fastai.basic_train.Recorder'>, add_time=True, silent=False)], callbacks=[...], layer_groups=[Sequential(\n",
              "  (0): Embedding(25000, 400, padding_idx=1)\n",
              "  (1): EmbeddingDropout(\n",
              "    (emb): Embedding(25000, 400, padding_idx=1)\n",
              "  )\n",
              "), Sequential(\n",
              "  (0): WeightDropout(\n",
              "    (module): LSTM(400, 1152, batch_first=True)\n",
              "  )\n",
              "  (1): RNNDropout()\n",
              "), Sequential(\n",
              "  (0): WeightDropout(\n",
              "    (module): LSTM(1152, 1152, batch_first=True)\n",
              "  )\n",
              "  (1): RNNDropout()\n",
              "), Sequential(\n",
              "  (0): WeightDropout(\n",
              "    (module): LSTM(1152, 400, batch_first=True)\n",
              "  )\n",
              "  (1): RNNDropout()\n",
              "), Sequential(\n",
              "  (0): PoolingLinearClassifier(\n",
              "    (layers): Sequential(\n",
              "      (0): BatchNorm1d(1200, eps=1e-05, momentum=0.1, affine=True, track_running_stats=True)\n",
              "      (1): Dropout(p=0.2, inplace=False)\n",
              "      (2): Linear(in_features=1200, out_features=50, bias=True)\n",
              "      (3): ReLU(inplace=True)\n",
              "      (4): BatchNorm1d(50, eps=1e-05, momentum=0.1, affine=True, track_running_stats=True)\n",
              "      (5): Dropout(p=0.1, inplace=False)\n",
              "      (6): Linear(in_features=50, out_features=5, bias=True)\n",
              "    )\n",
              "  )\n",
              ")], add_time=True, silent=False)\n",
              "alpha: 2.0\n",
              "beta: 1.0], layer_groups=[Sequential(\n",
              "  (0): Embedding(25000, 400, padding_idx=1)\n",
              "  (1): EmbeddingDropout(\n",
              "    (emb): Embedding(25000, 400, padding_idx=1)\n",
              "  )\n",
              "), Sequential(\n",
              "  (0): WeightDropout(\n",
              "    (module): LSTM(400, 1152, batch_first=True)\n",
              "  )\n",
              "  (1): RNNDropout()\n",
              "), Sequential(\n",
              "  (0): WeightDropout(\n",
              "    (module): LSTM(1152, 1152, batch_first=True)\n",
              "  )\n",
              "  (1): RNNDropout()\n",
              "), Sequential(\n",
              "  (0): WeightDropout(\n",
              "    (module): LSTM(1152, 400, batch_first=True)\n",
              "  )\n",
              "  (1): RNNDropout()\n",
              "), Sequential(\n",
              "  (0): PoolingLinearClassifier(\n",
              "    (layers): Sequential(\n",
              "      (0): BatchNorm1d(1200, eps=1e-05, momentum=0.1, affine=True, track_running_stats=True)\n",
              "      (1): Dropout(p=0.2, inplace=False)\n",
              "      (2): Linear(in_features=1200, out_features=50, bias=True)\n",
              "      (3): ReLU(inplace=True)\n",
              "      (4): BatchNorm1d(50, eps=1e-05, momentum=0.1, affine=True, track_running_stats=True)\n",
              "      (5): Dropout(p=0.1, inplace=False)\n",
              "      (6): Linear(in_features=50, out_features=5, bias=True)\n",
              "    )\n",
              "  )\n",
              ")], add_time=True, silent=False)"
            ]
          },
          "metadata": {
            "tags": []
          },
          "execution_count": 28
        }
      ]
    },
    {
      "cell_type": "code",
      "metadata": {
        "id": "gx-mFfXtyf5C",
        "colab_type": "code",
        "colab": {}
      },
      "source": [
        "learn.freeze()"
      ],
      "execution_count": 29,
      "outputs": []
    },
    {
      "cell_type": "code",
      "metadata": {
        "id": "HTlXs0Sjymml",
        "colab_type": "code",
        "colab": {
          "base_uri": "https://localhost:8080/",
          "height": 374
        },
        "outputId": "32c6d17b-be63-4508-9ff4-9dd9386d49f8"
      },
      "source": [
        "learn.lr_find()\n",
        "learn.recorder.plot()"
      ],
      "execution_count": 30,
      "outputs": [
        {
          "output_type": "display_data",
          "data": {
            "text/html": [
              "\n",
              "    <div>\n",
              "        <style>\n",
              "            /* Turns off some styling */\n",
              "            progress {\n",
              "                /* gets rid of default border in Firefox and Opera. */\n",
              "                border: none;\n",
              "                /* Needs to be in here for Safari polyfill so background images work as expected. */\n",
              "                background-size: auto;\n",
              "            }\n",
              "            .progress-bar-interrupted, .progress-bar-interrupted::-webkit-progress-bar {\n",
              "                background: #F44336;\n",
              "            }\n",
              "        </style>\n",
              "      <progress value='0' class='' max='1' style='width:300px; height:20px; vertical-align: middle;'></progress>\n",
              "      0.00% [0/1 00:00<00:00]\n",
              "    </div>\n",
              "    \n",
              "<table border=\"1\" class=\"dataframe\">\n",
              "  <thead>\n",
              "    <tr style=\"text-align: left;\">\n",
              "      <th>epoch</th>\n",
              "      <th>train_loss</th>\n",
              "      <th>valid_loss</th>\n",
              "      <th>accuracy</th>\n",
              "      <th>time</th>\n",
              "    </tr>\n",
              "  </thead>\n",
              "  <tbody>\n",
              "  </tbody>\n",
              "</table><p>\n",
              "\n",
              "    <div>\n",
              "        <style>\n",
              "            /* Turns off some styling */\n",
              "            progress {\n",
              "                /* gets rid of default border in Firefox and Opera. */\n",
              "                border: none;\n",
              "                /* Needs to be in here for Safari polyfill so background images work as expected. */\n",
              "                background-size: auto;\n",
              "            }\n",
              "            .progress-bar-interrupted, .progress-bar-interrupted::-webkit-progress-bar {\n",
              "                background: #F44336;\n",
              "            }\n",
              "        </style>\n",
              "      <progress value='95' class='' max='342' style='width:300px; height:20px; vertical-align: middle;'></progress>\n",
              "      27.78% [95/342 00:51<02:13 2.9867]\n",
              "    </div>\n",
              "    "
            ],
            "text/plain": [
              "<IPython.core.display.HTML object>"
            ]
          },
          "metadata": {
            "tags": []
          }
        },
        {
          "output_type": "stream",
          "text": [
            "LR Finder is complete, type {learner_name}.recorder.plot() to see the graph.\n"
          ],
          "name": "stdout"
        },
        {
          "output_type": "display_data",
          "data": {
            "image/png": "[encoded data removed]",
            "text/plain": [
              "<Figure size 432x288 with 1 Axes>"
            ]
          },
          "metadata": {
            "tags": [],
            "needs_background": "light"
          }
        }
      ]
    },
    {
      "cell_type": "code",
      "metadata": {
        "id": "Lew3XRx4ym8Y",
        "colab_type": "code",
        "colab": {}
      },
      "source": [
        "kappa = KappaScore()\n",
        "learn.metrics = [accuracy]"
      ],
      "execution_count": 37,
      "outputs": []
    },
    {
      "cell_type": "code",
      "metadata": {
        "id": "HT1xKag842Ee",
        "colab_type": "code",
        "colab": {}
      },
      "source": [
        "torch.cuda.empty_cache()\n"
      ],
      "execution_count": 38,
      "outputs": []
    },
    {
      "cell_type": "code",
      "metadata": {
        "id": "Duw1kGjg4uRc",
        "colab_type": "code",
        "colab": {
          "base_uri": "https://localhost:8080/",
          "height": 142
        },
        "outputId": "316058bb-406c-471c-90ba-bd1193bc97a2"
      },
      "source": [
        "learn.fit_one_cycle(3, 1e-2, moms=(0.8,0.7))\n",
        "learn.save('first_cls', with_opt=True)"
      ],
      "execution_count": 39,
      "outputs": [
        {
          "output_type": "display_data",
          "data": {
            "text/html": [
              "<table border=\"1\" class=\"dataframe\">\n",
              "  <thead>\n",
              "    <tr style=\"text-align: left;\">\n",
              "      <th>epoch</th>\n",
              "      <th>train_loss</th>\n",
              "      <th>valid_loss</th>\n",
              "      <th>accuracy</th>\n",
              "      <th>time</th>\n",
              "    </tr>\n",
              "  </thead>\n",
              "  <tbody>\n",
              "    <tr>\n",
              "      <td>0</td>\n",
              "      <td>0.182688</td>\n",
              "      <td>0.160605</td>\n",
              "      <td>0.944228</td>\n",
              "      <td>03:41</td>\n",
              "    </tr>\n",
              "    <tr>\n",
              "      <td>1</td>\n",
              "      <td>0.163754</td>\n",
              "      <td>0.130074</td>\n",
              "      <td>0.953483</td>\n",
              "      <td>03:52</td>\n",
              "    </tr>\n",
              "    <tr>\n",
              "      <td>2</td>\n",
              "      <td>0.141389</td>\n",
              "      <td>0.128242</td>\n",
              "      <td>0.954700</td>\n",
              "      <td>03:58</td>\n",
              "    </tr>\n",
              "  </tbody>\n",
              "</table>"
            ],
            "text/plain": [
              "<IPython.core.display.HTML object>"
            ]
          },
          "metadata": {
            "tags": []
          }
        }
      ]
    },
    {
      "cell_type": "code",
      "metadata": {
        "id": "a4X_EQbj4wLV",
        "colab_type": "code",
        "colab": {}
      },
      "source": [
        "!cp -r 'telugu_news_test.parquet' 'drive/My Drive/nlp-telugu/'"
      ],
      "execution_count": 42,
      "outputs": []
    },
    {
      "cell_type": "code",
      "metadata": {
        "id": "yKZaYw5aRe1S",
        "colab_type": "code",
        "colab": {}
      },
      "source": [
        "learn.export('classifier.pkl')"
      ],
      "execution_count": 43,
      "outputs": []
    },
    {
      "cell_type": "code",
      "metadata": {
        "id": "I3X57yfuRqex",
        "colab_type": "code",
        "colab": {}
      },
      "source": [
        "!cp -r 'classifier.pkl' 'drive/My Drive/nlp-telugu/ulmfit2'"
      ],
      "execution_count": 44,
      "outputs": []
    },
    {
      "cell_type": "code",
      "metadata": {
        "id": "4bsvuUcDSd89",
        "colab_type": "code",
        "colab": {}
      },
      "source": [
        ""
      ],
      "execution_count": null,
      "outputs": []
    }
  ]
}