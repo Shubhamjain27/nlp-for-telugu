{
  "nbformat": 4,
  "nbformat_minor": 0,
  "metadata": {
    "colab": {
      "name": "Copy of telugu-news-classification2.ipynb",
      "provenance": [],
      "collapsed_sections": []
    },
    "kernelspec": {
      "name": "python3",
      "display_name": "Python 3"
    },
    "accelerator": "GPU"
  },
  "cells": [
    {
      "cell_type": "code",
      "metadata": {
        "id": "vupLSJy69fl1",
        "colab_type": "code",
        "colab": {
          "base_uri": "https://localhost:8080/",
          "height": 122
        },
        "outputId": "9ff21046-563b-48f9-912c-a99fab9f2a9f"
      },
      "source": [
        "import pandas as pd\n",
        "import numpy as np\n",
        "import re\n",
        "import os\n",
        "!pip install sentencepiece\n",
        "import sentencepiece as spm\n",
        "import pickle\n",
        "import pathlib\n",
        "from fastai.text import *\n",
        "torch.cuda.set_device(0)"
      ],
      "execution_count": null,
      "outputs": [
        {
          "output_type": "stream",
          "text": [
            "Collecting sentencepiece\n",
            "\u001b[?25l  Downloading https://files.pythonhosted.org/packages/d4/a4/d0a884c4300004a78cca907a6ff9a5e9fe4f090f5d95ab341c53d28cbc58/sentencepiece-0.1.91-cp36-cp36m-manylinux1_x86_64.whl (1.1MB)\n",
            "\u001b[K     |████████████████████████████████| 1.1MB 2.8MB/s \n",
            "\u001b[?25hInstalling collected packages: sentencepiece\n",
            "Successfully installed sentencepiece-0.1.91\n"
          ],
          "name": "stdout"
        }
      ]
    },
    {
      "cell_type": "code",
      "metadata": {
        "id": "_HTnQ87c-N2i",
        "colab_type": "code",
        "colab": {
          "base_uri": "https://localhost:8080/",
          "height": 34
        },
        "outputId": "62ebf7a8-1607-4c62-e99e-837772e9776b"
      },
      "source": [
        "\n",
        "import fastai, torch\n",
        "fastai.__version__ , torch.__version__"
      ],
      "execution_count": null,
      "outputs": [
        {
          "output_type": "execute_result",
          "data": {
            "text/plain": [
              "('1.0.61', '1.5.1+cu101')"
            ]
          },
          "metadata": {
            "tags": []
          },
          "execution_count": 2
        }
      ]
    },
    {
      "cell_type": "code",
      "metadata": {
        "id": "aLaRw8gqg9UE",
        "colab_type": "code",
        "colab": {}
      },
      "source": [
        "!unzip 'drive/My Drive/nlp-telugu/Telugu_dataset.zip'"
      ],
      "execution_count": null,
      "outputs": []
    },
    {
      "cell_type": "code",
      "metadata": {
        "id": "5s1yGjmln6ug",
        "colab_type": "code",
        "colab": {}
      },
      "source": [
        "from collections import defaultdict\n",
        "from pathlib import Path\n",
        "import pandas as pd\n",
        "\n",
        "def write_text(file):\n",
        "    text = file.readlines()\n",
        "    del text[0:6]\n",
        "    del text[-1:-3]\n",
        "    # text = [line.replace('\\n', ' ') for line in text]\n",
        "    text = [item for sublist in text for item in sublist]\n",
        "    text2 = ''.join(text)\n",
        "    text2 = text2.replace('\\n', ' ').replace(',','')\n",
        "    return text2\n",
        "\n",
        "results = defaultdict(list)\n",
        "\n",
        "for foldername in os.listdir('Telugu_dataset/2017/'):\n",
        "\n",
        "\n",
        "\n",
        "    my_dir_path = \"Telugu_dataset/2017/\"+foldername+\"/\"\n",
        "\n",
        "    for file in Path(my_dir_path).iterdir():\n",
        "        with open(file, \"r\") as file_open:\n",
        "            results[\"label\"].append(foldername)\n",
        "            results[\"text\"].append(write_text(file_open))\n",
        "data_df = pd.DataFrame(results)"
      ],
      "execution_count": null,
      "outputs": []
    },
    {
      "cell_type": "code",
      "metadata": {
        "id": "JrlHVauJqOVE",
        "colab_type": "code",
        "colab": {
          "base_uri": "https://localhost:8080/",
          "height": 255
        },
        "outputId": "70bd3072-aaf8-4e87-dfd6-a185bcd080cf"
      },
      "source": [
        "data_df.head"
      ],
      "execution_count": null,
      "outputs": [
        {
          "output_type": "execute_result",
          "data": {
            "text/plain": [
              "<bound method NDFrame.head of            label                                               text\n",
              "0      editorial  అవగాహనతోనే ఎయిడ్స్ అంతం   ఏ ప్రాంతం వారైనా ఏ స...\n",
              "1      editorial  బహు భాషా కవి సమ్మేళనం   తెలంగాణ అభ్యుదయ రచయితల...\n",
              "2      editorial  బ్యాంకుల బాదుడు!   పెద్దనోట్ల రద్దు నాటి పరిస్...\n",
              "3      editorial  రుద్రమ మరణం 1289లోనే...   సమకాలీన సాహిత్య గ్రం...\n",
              "4      editorial  ‘దంగల్‌’ రాజకీయం   ముఖ్యమంత్రి మెహబూబా ముఫ్తీన...\n",
              "...          ...                                                ...\n",
              "29715  telangana  4 పట్టణాలకు ఔటర్‌ రింగ్‌ రోడ్లు: తుమ్మల  హైదరా...\n",
              "29716  telangana  సాయి ప్రజల్వ మిస్సింగ్ మిస్టరీ వీడింది  హైదరాబ...\n",
              "29717  telangana  పౌరసరఫరాలో పోలీస్‌ మార్క్‌  తనదైన ముద్ర వేసిన ...\n",
              "29718  telangana  వైభవంగా నాగచైతన్య సమంత పెళ్లి   హిందూ సంప్రదాయ...\n",
              "29719  telangana  మూడు రోజులు భారీ వర్షాలు  హైదరాబాద్‌ ఆగస్టు 16...\n",
              "\n",
              "[29720 rows x 2 columns]>"
            ]
          },
          "metadata": {
            "tags": []
          },
          "execution_count": 40
        }
      ]
    },
    {
      "cell_type": "code",
      "metadata": {
        "id": "TMInCb8j_ewk",
        "colab_type": "code",
        "colab": {
          "base_uri": "https://localhost:8080/",
          "height": 34
        },
        "outputId": "483311be-a459-4949-9dbe-104ff59dfe58"
      },
      "source": [
        "from sklearn.model_selection import train_test_split\n",
        "train_df, test_df = train_test_split(data_df, test_size=0.2, random_state=42, shuffle=True)\n",
        "train_df.shape, test_df.shape"
      ],
      "execution_count": null,
      "outputs": [
        {
          "output_type": "execute_result",
          "data": {
            "text/plain": [
              "((23776, 2), (5944, 2))"
            ]
          },
          "metadata": {
            "tags": []
          },
          "execution_count": 41
        }
      ]
    },
    {
      "cell_type": "code",
      "metadata": {
        "id": "5TJsuvTaHLzg",
        "colab_type": "code",
        "colab": {}
      },
      "source": [
        "train_df.to_parquet('telugu_news_train.parquet', index = None)\n",
        "test_df.to_parquet('telugu_news_test.parquet', index = None)"
      ],
      "execution_count": null,
      "outputs": []
    },
    {
      "cell_type": "code",
      "metadata": {
        "id": "8DuKaBg9_hOX",
        "colab_type": "code",
        "colab": {}
      },
      "source": [
        "sp = spm.SentencePieceProcessor()\n",
        "sp.Load('tokenizer.model')\n",
        "itos = [sp.IdToPiece(int(i)) for i in range(25000)] # 25,000 is the vocab_size selected in sm tokenizer\n",
        "telugu_vocab = Vocab(itos)"
      ],
      "execution_count": null,
      "outputs": []
    },
    {
      "cell_type": "code",
      "metadata": {
        "id": "31VWO9sr_yT3",
        "colab_type": "code",
        "colab": {
          "base_uri": "https://localhost:8080/",
          "height": 170
        },
        "outputId": "c917bf53-e734-4143-8c4f-cf4b8566d83a"
      },
      "source": [
        "from inltk.tokenizer import TeluguTokenizer\n",
        "tokenizer = Tokenizer(tok_func=TeluguTokenizer, lang='te')\n",
        "tokenizer.special_cases"
      ],
      "execution_count": null,
      "outputs": [
        {
          "output_type": "execute_result",
          "data": {
            "text/plain": [
              "['xxunk',\n",
              " 'xxpad',\n",
              " 'xxbos',\n",
              " 'xxeos',\n",
              " 'xxfld',\n",
              " 'xxmaj',\n",
              " 'xxup',\n",
              " 'xxrep',\n",
              " 'xxwrep']"
            ]
          },
          "metadata": {
            "tags": []
          },
          "execution_count": 43
        }
      ]
    },
    {
      "cell_type": "code",
      "metadata": {
        "id": "Ckrb8OiOBObK",
        "colab_type": "code",
        "colab": {
          "base_uri": "https://localhost:8080/",
          "height": 17
        },
        "outputId": "b9d773b9-f542-4be3-9f74-7e22800843e3"
      },
      "source": [
        "data_lm = TextLMDataBunch.from_df('./', train_df=train_df, valid_df=test_df,\n",
        "                                  text_cols=[\"text\"], bs=96,\n",
        "                                  tokenizer=tokenizer, vocab=telugu_vocab) # default bs=64\n",
        "data_lm.save('telugu_cls_lm.data')"
      ],
      "execution_count": null,
      "outputs": [
        {
          "output_type": "display_data",
          "data": {
            "text/html": [
              ""
            ],
            "text/plain": [
              "<IPython.core.display.HTML object>"
            ]
          },
          "metadata": {
            "tags": []
          }
        },
        {
          "output_type": "display_data",
          "data": {
            "text/html": [
              ""
            ],
            "text/plain": [
              "<IPython.core.display.HTML object>"
            ]
          },
          "metadata": {
            "tags": []
          }
        }
      ]
    },
    {
      "cell_type": "code",
      "metadata": {
        "id": "cFkngDzIBTcv",
        "colab_type": "code",
        "colab": {
          "base_uri": "https://localhost:8080/",
          "height": 391
        },
        "outputId": "81b2f3b3-e42c-4c05-8b4f-2a5ca0fc8dae"
      },
      "source": [
        "data_lm.show_batch()"
      ],
      "execution_count": null,
      "outputs": [
        {
          "output_type": "display_data",
          "data": {
            "text/html": [
              "<table border=\"1\" class=\"dataframe\">\n",
              "  <thead>\n",
              "    <tr style=\"text-align: right;\">\n",
              "      <th>idx</th>\n",
              "      <th>text</th>\n",
              "    </tr>\n",
              "  </thead>\n",
              "  <tbody>\n",
              "    <tr>\n",
              "      <td>0</td>\n",
              "      <td>నక ▁రాష్ట్రాల పై ▁దాడుల ను ▁కేంద్రం ▁జో క్య ాన్ని ▁ఎలా ▁ఎదుర్కో వాల న్నది ▁మాత్రం ▁అందరూ ▁ఆలోచించ ాల్సిన ▁విషయం . ▁కథా క ళి ▁నృత్య ానికి ▁కమ్యూనిస్టు ▁రాజకీయాల కు ▁ప్రసిద్ధిగాంచి న ▁కేరళ ▁ఇప్పుడు ▁బీజ ే పీ ▁కేంద్ర ▁నేత ల ▁మంత్రుల ▁రాజకీయ ▁యాత్ర లకు ▁కేంద్రంగా ▁మారడం ▁విచిత్ర ం ▁విశేషం . ▁తమ ▁కార్యకర్త లపై ▁హత్యా దా డులు ▁జరుగుతున్నాయి ▁గ నక ▁అక్కడ ున్న ▁పి న ర యి ▁విజయ న్ ▁ప్రభుత్వాన్ని ▁బర్ తర ఫ్ ▁చేయాలని ▁ఆ</td>\n",
              "    </tr>\n",
              "    <tr>\n",
              "      <td>1</td>\n",
              "      <td>▁గా ది గూడ ▁మండలం ▁కు ని కా స లలో ▁వైద్య ▁పరీక్షలు ▁నిర్వహిస్తున్న ామని ▁తెలిపారు . ▁ఆరోగ్య ▁శాఖ ▁మంత్రి ▁కార్యాలయం ▁ప్రత్యేక ▁అధికారి ▁డాక్టర్ ▁గంగాధర ్ ▁పర్యవేక్షణలో ▁ని మ్స్ ▁వైద్యులు ▁రి మ్స్ ▁వైద్యులు ▁పరీక్షలు ▁నిర్వహిస్తున్న ారని ▁తెలిపారు . ▁ &lt;unk&gt; ▁/ ▁ &lt;unk&gt; te x t &lt;unk&gt; ▁ &lt;unk&gt; ▁/ &lt;unk&gt; ▁d o c &lt;unk&gt; ▁x x bo s ▁ఐ ఐ ఐ టి - హెచ్ ▁తో ▁హై సియా ▁ఒప్పందం ▁హైదరాబాద్ ▁( ఆంధ్ర</td>\n",
              "    </tr>\n",
              "    <tr>\n",
              "      <td>2</td>\n",
              "      <td>న్ ▁ జిన్ ▁అమెరికాలోని ▁శాన్ ▁జోస్ ▁సి ఎ ▁హిల్స్ ▁బో రో ల్లోని ▁లా టిస్ ▁ఆస్తులు ▁150 ▁మంది ▁ఆర్ ▁అండ్ ▁డి ▁సిబ్బంది ▁లా బ్స్ ▁బద ల ాయి ంచ నున్నారు . ▁లా టిస్ ▁కు ▁చెందిన ▁హెచ్ ▁డి ఎం ఐ ▁డె వల్ ▁ప మెంట్ ▁టీ మ్ ▁ఆర్ ▁అండ్ ▁డి ▁లా బ్స్ ▁అనుబంధ ▁సంస్థ ▁సిం ప్లే ▁లా బ్స్ ▁ను ▁హస్తగత ం ▁చేసుకోవటం ▁ఎంతగానో ▁కలిసి ▁రాను ందని ▁ఇన్ వె కాస్ ▁చీఫ్ ▁ఎగ్జిక్యూటివ్ ▁డైరెక్టర్ ▁దశరథ ్</td>\n",
              "    </tr>\n",
              "    <tr>\n",
              "      <td>3</td>\n",
              "      <td>▁మద్దతు ▁బ్యాంకు ల్లో ▁వాటా ల ▁విక్రయ ం ▁ద్వారా ▁అందించ ను ంది . ▁మిగిలిన ▁1. 35 ▁లక్షల ▁కోట్ల ▁రూపాయల ను ▁బాండ్ ల ▁రూపంలో ▁జారీ ▁చేయ ను ంది . ▁సూక్ష్మ ▁చిన్న ▁మధ్య ▁తరహా ▁పరిశ్రమల ▁( ఎం ఎ ్ ▁స ఎం ఇ ) కు ▁రుణ ▁వితరణ ▁పెంచ ాలన్న ▁ఎం ఎ ్ ▁స ఎం ఇ ▁మంత్రిత్వ ▁శాఖ ▁అభ్యర్ధన పై ▁చర్చించ టంతో ▁పాటు ▁మొ ండి ▁ప ద్దు లు ▁రుణ ▁వృద్ధి ▁వంటి ▁వాటిపై ▁ఈ ▁సమావేశంలో ▁చర్చించ</td>\n",
              "    </tr>\n",
              "    <tr>\n",
              "      <td>4</td>\n",
              "      <td>bo s ▁శ్వేత ▁ఎక్స్ ▁పోర్ట్ స్ ▁కు ▁హైకోర్టు లో ▁చుక్క ె దురు ▁హామీ ▁ఆస్తుల ▁వేల ానికి ▁గ్రీన్ ▁సిగ్నల్ ▁హైదరాబాద్ ▁( ఆంధ్ర జ్యోతి ): ▁తూర్పుగోదావరి ▁జిల్లాలోని ▁శ్వేత ▁ఎక్స్ ▁పోర్ట్ స్ ▁ఇండియా కు ▁హైకోర్టు లో ▁చుక్క ె దు రై ంది . ▁బ్యాంక్ ▁ఆఫ్ ▁ఇండి ▁యా ▁నుంచి ▁రుణ ంగా ▁తీసుకున్న ▁మొత్తాన్ని ▁చెల్లించ కుండా ▁ఏదో ▁ఒక ▁ మిష తో ▁కాల య ాపన ▁చేయడాన్ని ▁హైకోర్టు ▁డివిజన్ ▁బెం చ్ ▁తప్పు బట్టి ంది . ▁తీసుకున్న ▁రుణ ాలను</td>\n",
              "    </tr>\n",
              "  </tbody>\n",
              "</table>"
            ],
            "text/plain": [
              "<IPython.core.display.HTML object>"
            ]
          },
          "metadata": {
            "tags": []
          }
        }
      ]
    },
    {
      "cell_type": "code",
      "metadata": {
        "id": "F455lukWS8EJ",
        "colab_type": "code",
        "colab": {
          "base_uri": "https://localhost:8080/",
          "height": 17
        },
        "outputId": "6aa636b9-0808-4f1b-8754-863e5d377469"
      },
      "source": [
        "learn = load_learner('drive/My Drive/nlp-telugu/ulmfit2/', 'export.pkl')"
      ],
      "execution_count": null,
      "outputs": [
        {
          "output_type": "display_data",
          "data": {
            "text/html": [
              ""
            ],
            "text/plain": [
              "<IPython.core.display.HTML object>"
            ]
          },
          "metadata": {
            "tags": []
          }
        },
        {
          "output_type": "display_data",
          "data": {
            "text/html": [
              ""
            ],
            "text/plain": [
              "<IPython.core.display.HTML object>"
            ]
          },
          "metadata": {
            "tags": []
          }
        }
      ]
    },
    {
      "cell_type": "code",
      "metadata": {
        "id": "G8cmBu5Hik6s",
        "colab_type": "code",
        "colab": {
          "base_uri": "https://localhost:8080/",
          "height": 34
        },
        "outputId": "0f3c79e2-3291-4b72-dc85-6c29ae0e337a"
      },
      "source": [
        "learn.save(\"./trained_model\", return_path=True)"
      ],
      "execution_count": null,
      "outputs": [
        {
          "output_type": "execute_result",
          "data": {
            "text/plain": [
              "PosixPath('drive/My Drive/nlp-telugu/ulmfit2/models/trained_model.pth')"
            ]
          },
          "metadata": {
            "tags": []
          },
          "execution_count": 30
        }
      ]
    },
    {
      "cell_type": "code",
      "metadata": {
        "id": "E5bYg8ymit7R",
        "colab_type": "code",
        "colab": {}
      },
      "source": [
        "learn = language_model_learner(data_lm, AWD_LSTM, drop_mult=0.25, pretrained=False)\n",
        "learn = learn.to_fp16(clip=0.1)"
      ],
      "execution_count": null,
      "outputs": []
    },
    {
      "cell_type": "code",
      "metadata": {
        "id": "HNijc6SxNfjp",
        "colab_type": "code",
        "colab": {}
      },
      "source": [
        "learn.load('trained_model', with_opt=True)"
      ],
      "execution_count": null,
      "outputs": []
    },
    {
      "cell_type": "markdown",
      "metadata": {
        "id": "CzRCWgqqNq3R",
        "colab_type": "text"
      },
      "source": [
        ""
      ]
    },
    {
      "cell_type": "code",
      "metadata": {
        "id": "bL-vsUACJUgY",
        "colab_type": "code",
        "colab": {
          "base_uri": "https://localhost:8080/",
          "height": 142
        },
        "outputId": "d305fff2-e160-4880-9b31-77504b9fdc42"
      },
      "source": [
        "learn.freeze()\n",
        "learn.fit_one_cycle(3, 1e-2, moms=(0.8,0.7))\n",
        "learn.save('fit_head', with_opt=True)"
      ],
      "execution_count": null,
      "outputs": [
        {
          "output_type": "display_data",
          "data": {
            "text/html": [
              "<table border=\"1\" class=\"dataframe\">\n",
              "  <thead>\n",
              "    <tr style=\"text-align: left;\">\n",
              "      <th>epoch</th>\n",
              "      <th>train_loss</th>\n",
              "      <th>valid_loss</th>\n",
              "      <th>accuracy</th>\n",
              "      <th>time</th>\n",
              "    </tr>\n",
              "  </thead>\n",
              "  <tbody>\n",
              "    <tr>\n",
              "      <td>0</td>\n",
              "      <td>3.800059</td>\n",
              "      <td>3.726185</td>\n",
              "      <td>0.372716</td>\n",
              "      <td>23:38</td>\n",
              "    </tr>\n",
              "    <tr>\n",
              "      <td>1</td>\n",
              "      <td>3.725818</td>\n",
              "      <td>3.700590</td>\n",
              "      <td>0.377963</td>\n",
              "      <td>23:38</td>\n",
              "    </tr>\n",
              "    <tr>\n",
              "      <td>2</td>\n",
              "      <td>3.666171</td>\n",
              "      <td>3.672717</td>\n",
              "      <td>0.382534</td>\n",
              "      <td>23:38</td>\n",
              "    </tr>\n",
              "  </tbody>\n",
              "</table>"
            ],
            "text/plain": [
              "<IPython.core.display.HTML object>"
            ]
          },
          "metadata": {
            "tags": []
          }
        }
      ]
    },
    {
      "cell_type": "code",
      "metadata": {
        "id": "TSg23WGrfspn",
        "colab_type": "code",
        "colab": {}
      },
      "source": [
        "learn.save_encoder('fine_tuned_encoder')"
      ],
      "execution_count": null,
      "outputs": []
    },
    {
      "cell_type": "code",
      "metadata": {
        "id": "YncL63o8wALe",
        "colab_type": "code",
        "colab": {}
      },
      "source": [
        "del data_lm, learn"
      ],
      "execution_count": null,
      "outputs": []
    },
    {
      "cell_type": "code",
      "metadata": {
        "id": "qaS4sd1e3xBU",
        "colab_type": "code",
        "colab": {
          "base_uri": "https://localhost:8080/",
          "height": 34
        },
        "outputId": "c9c369f4-919f-45f2-fb47-c7b327360249"
      },
      "source": [
        "import gc\n",
        "gc.collect()"
      ],
      "execution_count": null,
      "outputs": [
        {
          "output_type": "execute_result",
          "data": {
            "text/plain": [
              "0"
            ]
          },
          "metadata": {
            "tags": []
          },
          "execution_count": 56
        }
      ]
    },
    {
      "cell_type": "code",
      "metadata": {
        "id": "nuPpKu6F7pBY",
        "colab_type": "code",
        "colab": {}
      },
      "source": [
        "torch.cuda.empty_cache()"
      ],
      "execution_count": null,
      "outputs": []
    },
    {
      "cell_type": "code",
      "metadata": {
        "id": "DGbIkfIcxdp7",
        "colab_type": "code",
        "colab": {
          "base_uri": "https://localhost:8080/",
          "height": 17
        },
        "outputId": "6ddd4591-6099-48b2-8d8a-5364c1669ecf"
      },
      "source": [
        "data_clas = TextClasDataBunch.from_df('./', train_df=train_df, valid_df=test_df,\n",
        "                                  text_cols=[\"text\"], label_cols = ['label'], bs=48,\n",
        "                                  tokenizer=tokenizer, vocab=telugu_vocab)"
      ],
      "execution_count": null,
      "outputs": [
        {
          "output_type": "display_data",
          "data": {
            "text/html": [
              ""
            ],
            "text/plain": [
              "<IPython.core.display.HTML object>"
            ]
          },
          "metadata": {
            "tags": []
          }
        },
        {
          "output_type": "display_data",
          "data": {
            "text/html": [
              ""
            ],
            "text/plain": [
              "<IPython.core.display.HTML object>"
            ]
          },
          "metadata": {
            "tags": []
          }
        }
      ]
    },
    {
      "cell_type": "code",
      "metadata": {
        "id": "8o_CZrXyyXwz",
        "colab_type": "code",
        "colab": {
          "base_uri": "https://localhost:8080/",
          "height": 391
        },
        "outputId": "49b445f6-4ee4-456c-91c3-3448ad6dc01c"
      },
      "source": [
        "data_clas.show_batch()\n"
      ],
      "execution_count": null,
      "outputs": [
        {
          "output_type": "display_data",
          "data": {
            "text/html": [
              "<table border=\"1\" class=\"dataframe\">\n",
              "  <thead>\n",
              "    <tr style=\"text-align: right;\">\n",
              "      <th>text</th>\n",
              "      <th>target</th>\n",
              "    </tr>\n",
              "  </thead>\n",
              "  <tbody>\n",
              "    <tr>\n",
              "      <td>▁x x bo s ▁త్రి వే ణీ ▁సంగమ ం ▁అర్హ ుల్ని ▁చేరి నపుడు ▁ఆనందించ ే ▁అవార్డు ల ▁జాబితాలో . . . ఇ పుడు ▁దాదాసాహెబ్ ▁ఫాల్కే ▁అవార్డు ▁చేరింది . చాలా ▁ఏళ్ళ కు ▁అది . . . ▁చేర వలసిన ▁చిరునామా కే ▁చేరింది . దర్ శ క ▁ఋషి ▁కళా త పస్ వి ▁కె . విశ్వ నాథ్ ▁నూ . . . ఆయన ▁సినిమాల నూ ▁మరోసారి ▁మన సా రా ▁గుర్తు ▁చేసుకొనే ▁అవకాశం ▁వచ్చింది . ▁శంకర</td>\n",
              "      <td>navya</td>\n",
              "    </tr>\n",
              "    <tr>\n",
              "      <td>▁x x bo s ▁నిప్పు ల ▁ఉప్ప ెన లో ▁ని బద్ధ ▁ప్రయాణం ▁పునర్జన్మ ▁పొందిన ▁‘ ఆంధ్ర జ్యోతి ’ ▁15 ▁సంవత్సరాలు ▁పూర్తి ▁చేసుకుంది . ▁దశాబ్ద ి న్నర ▁క్రితం ▁మూత బడిన ▁‘ ఆంధ్ర జ్యోతి ’ ▁కార్యాలయ ాన్ని ▁బూ జు ▁దు లు ప ుతున్న ప్పుడు ▁నా తోపాటు ▁చేయి ▁కలిపి ▁‘ ఆంధ్ర జ్యోతి ’ ▁కుటుంబంలో ▁చేరిన ▁సభ్యులకు గానీ ▁ఇతరులకు గానీ ▁‘ ఆంధ్ర జ్యోతి ’ ▁ఇంత ▁ఉన్నత ▁స్థితికి ▁చేర ుతుంద న్న ▁నమ్మకం ▁విశ్వాసం ▁లేవు .</td>\n",
              "      <td>editorial</td>\n",
              "    </tr>\n",
              "    <tr>\n",
              "      <td>▁x x bo s ▁జిన్నా . . ▁ర త్త న్ ▁బాయ్ ▁1918 ▁ఎ ▁లవ్ ▁స్టోరీ ▁మహమ్మద్ ▁అలీ ▁జిన్నా ▁పేరు ▁అందరికీ ▁తెలుసు . మరి ▁ఆయన ▁భార్య ▁మర్ యమ్ ▁జిన్నా ▁అలి యాస్ ▁ర త్త న బా య్ ▁... ▁రు ట్ టీ . . . ▁పె టి ట్ ▁గురించి ? ఈ ▁నలభై ▁రెండేళ్ళ ▁ముస్లిమ్ ▁అబ్బాయి . . . ▁ప ద్ధ ె ని మి దే ళ్ళ ▁పార్ శీ ▁అమ్మాయి ల ▁ప్రేమ ▁గురించి ? ▁ఆ</td>\n",
              "      <td>navya</td>\n",
              "    </tr>\n",
              "    <tr>\n",
              "      <td>▁x x bo s ▁మ లే సియా ▁వాసి ▁తెలుగు ▁వేద న ▁తెలుగు ▁నేల ▁మీద కు ▁వచ్చి పోయిన ▁ప్రతి సా రీ ▁మాకు ▁వేద న ▁మిగుల ుతుంది . ▁బాధ ▁కలుగ ుతోంది . ▁తెలుగు ▁కోసం ▁బయటి ▁దేశాల్లో ▁మే ం ▁పడుతున్న ▁తపన తో ▁పోల్చ ుకుంటే ▁రెండు ▁తెలుగు ▁రాష్ట్రాల్లో ▁జరుగుతున్న ▁పరిణామాలు ▁తీవ్ర ▁నిరాశ ను ▁కలిగి స్తున్నాయి . ▁తెలుగు ▁పట్ల ▁ఉదా సీ న త ▁నిర్లక్ష్యం ▁అడుగ డుగు నా ▁కనిపిస్తూ ▁ఉంటుంది . ▁మా ▁ప్రయాణ ాల్లోనూ ▁బస ▁చేసే</td>\n",
              "      <td>editorial</td>\n",
              "    </tr>\n",
              "    <tr>\n",
              "      <td>▁x x bo s ▁మన దాకా ▁వస్తే నే ! ▁సత్యం ▁పలికే ▁హరిశ్చంద్ర ుల ం . . ▁అవసర ాని కో ▁అ బద్ధ ం ▁నిత్యం ▁న మా జు ▁పూజలు ▁చే స్తాం . . ▁రోజూ ▁తన్ను కు ▁చ స్తాం ▁మే మే ▁ఇండియన్ స్ ▁ . . ▁మే మే ▁ఇండియన్ స్ ▁ . . ▁అంటూ ▁సిరి వెన్ నెల ▁సీతారామశాస్త్రి ▁కాస్త ▁మొహ మాట ంగా ▁చెప్పారు ▁గానీ ▁అతికొద్ది ▁మందిని ▁మినహా య ిస్తే ▁మన లో ▁చాలామంది కి</td>\n",
              "      <td>telangana</td>\n",
              "    </tr>\n",
              "  </tbody>\n",
              "</table>"
            ],
            "text/plain": [
              "<IPython.core.display.HTML object>"
            ]
          },
          "metadata": {
            "tags": []
          }
        }
      ]
    },
    {
      "cell_type": "code",
      "metadata": {
        "id": "2mwV82sgyZ7V",
        "colab_type": "code",
        "colab": {}
      },
      "source": [
        "\n",
        "learn = text_classifier_learner(data_clas, AWD_LSTM, drop_mult=0.5, pretrained=False)"
      ],
      "execution_count": null,
      "outputs": []
    },
    {
      "cell_type": "code",
      "metadata": {
        "id": "wKRZuTi5S2fT",
        "colab_type": "code",
        "colab": {
          "base_uri": "https://localhost:8080/",
          "height": 34
        },
        "outputId": "b57f312f-2598-4138-c7fb-f7734b0ee402"
      },
      "source": [
        "!cp -r 'drive/My Drive/nlp-telugu/ulmfit2/models/fine_tuned_encoder.pth' 'models/'"
      ],
      "execution_count": null,
      "outputs": [
        {
          "output_type": "stream",
          "text": [
            "cp: cannot stat 'drive/My Drive/nlp-telugu/ulmfit2/models/fine_tuned_encoder3.pth': No such file or directory\n"
          ],
          "name": "stdout"
        }
      ]
    },
    {
      "cell_type": "code",
      "metadata": {
        "id": "Sj7ZoreXycpA",
        "colab_type": "code",
        "colab": {}
      },
      "source": [
        "learn.load_encoder('fine_tuned_encoder')\n"
      ],
      "execution_count": null,
      "outputs": []
    },
    {
      "cell_type": "code",
      "metadata": {
        "id": "gx-mFfXtyf5C",
        "colab_type": "code",
        "colab": {}
      },
      "source": [
        "learn.freeze()"
      ],
      "execution_count": null,
      "outputs": []
    },
    {
      "cell_type": "code",
      "metadata": {
        "id": "HTlXs0Sjymml",
        "colab_type": "code",
        "colab": {
          "base_uri": "https://localhost:8080/",
          "height": 374
        },
        "outputId": "32c6d17b-be63-4508-9ff4-9dd9386d49f8"
      },
      "source": [
        "learn.lr_find()\n",
        "learn.recorder.plot()"
      ],
      "execution_count": null,
      "outputs": [
        {
          "output_type": "display_data",
          "data": {
            "text/html": [
              "\n",
              "    <div>\n",
              "        <style>\n",
              "            /* Turns off some styling */\n",
              "            progress {\n",
              "                /* gets rid of default border in Firefox and Opera. */\n",
              "                border: none;\n",
              "                /* Needs to be in here for Safari polyfill so background images work as expected. */\n",
              "                background-size: auto;\n",
              "            }\n",
              "            .progress-bar-interrupted, .progress-bar-interrupted::-webkit-progress-bar {\n",
              "                background: #F44336;\n",
              "            }\n",
              "        </style>\n",
              "      <progress value='0' class='' max='1' style='width:300px; height:20px; vertical-align: middle;'></progress>\n",
              "      0.00% [0/1 00:00<00:00]\n",
              "    </div>\n",
              "    \n",
              "<table border=\"1\" class=\"dataframe\">\n",
              "  <thead>\n",
              "    <tr style=\"text-align: left;\">\n",
              "      <th>epoch</th>\n",
              "      <th>train_loss</th>\n",
              "      <th>valid_loss</th>\n",
              "      <th>accuracy</th>\n",
              "      <th>time</th>\n",
              "    </tr>\n",
              "  </thead>\n",
              "  <tbody>\n",
              "  </tbody>\n",
              "</table><p>\n",
              "\n",
              "    <div>\n",
              "        <style>\n",
              "            /* Turns off some styling */\n",
              "            progress {\n",
              "                /* gets rid of default border in Firefox and Opera. */\n",
              "                border: none;\n",
              "                /* Needs to be in here for Safari polyfill so background images work as expected. */\n",
              "                background-size: auto;\n",
              "            }\n",
              "            .progress-bar-interrupted, .progress-bar-interrupted::-webkit-progress-bar {\n",
              "                background: #F44336;\n",
              "            }\n",
              "        </style>\n",
              "      <progress value='95' class='' max='342' style='width:300px; height:20px; vertical-align: middle;'></progress>\n",
              "      27.78% [95/342 00:51<02:13 2.9867]\n",
              "    </div>\n",
              "    "
            ],
            "text/plain": [
              "<IPython.core.display.HTML object>"
            ]
          },
          "metadata": {
            "tags": []
          }
        },
        {
          "output_type": "stream",
          "text": [
            "LR Finder is complete, type {learner_name}.recorder.plot() to see the graph.\n"
          ],
          "name": "stdout"
        },
        {
          "output_type": "display_data",
          "data": {
            "image/png": "[encoded data removed]",
            "text/plain": [
              "<Figure size 432x288 with 1 Axes>"
            ]
          },
          "metadata": {
            "tags": [],
            "needs_background": "light"
          }
        }
      ]
    },
    {
      "cell_type": "code",
      "metadata": {
        "id": "Lew3XRx4ym8Y",
        "colab_type": "code",
        "colab": {}
      },
      "source": [
        "kappa = KappaScore()\n",
        "learn.metrics = [accuracy]"
      ],
      "execution_count": null,
      "outputs": []
    },
    {
      "cell_type": "code",
      "metadata": {
        "id": "HT1xKag842Ee",
        "colab_type": "code",
        "colab": {}
      },
      "source": [
        "torch.cuda.empty_cache()\n"
      ],
      "execution_count": null,
      "outputs": []
    },
    {
      "cell_type": "code",
      "metadata": {
        "id": "PpgmcqH5HlrS",
        "colab_type": "code",
        "colab": {
          "base_uri": "https://localhost:8080/",
          "height": 142
        },
        "outputId": "20d8686c-6428-4882-bb8f-3ea0994c157d"
      },
      "source": [
        "learn.fit_one_cycle(3, 1e-2, moms=(0.8,0.7))\n",
        "learn.save('first_cls', with_opt=True)"
      ],
      "execution_count": null,
      "outputs": [
        {
          "output_type": "display_data",
          "data": {
            "text/html": [
              "<table border=\"1\" class=\"dataframe\">\n",
              "  <thead>\n",
              "    <tr style=\"text-align: left;\">\n",
              "      <th>epoch</th>\n",
              "      <th>train_loss</th>\n",
              "      <th>valid_loss</th>\n",
              "      <th>accuracy</th>\n",
              "      <th>time</th>\n",
              "    </tr>\n",
              "  </thead>\n",
              "  <tbody>\n",
              "    <tr>\n",
              "      <td>0</td>\n",
              "      <td>0.453637</td>\n",
              "      <td>0.288522</td>\n",
              "      <td>0.907301</td>\n",
              "      <td>08:29</td>\n",
              "    </tr>\n",
              "    <tr>\n",
              "      <td>1</td>\n",
              "      <td>0.385648</td>\n",
              "      <td>0.260304</td>\n",
              "      <td>0.916386</td>\n",
              "      <td>08:44</td>\n",
              "    </tr>\n",
              "    <tr>\n",
              "      <td>2</td>\n",
              "      <td>0.328376</td>\n",
              "      <td>0.228165</td>\n",
              "      <td>0.920929</td>\n",
              "      <td>09:40</td>\n",
              "    </tr>\n",
              "  </tbody>\n",
              "</table>"
            ],
            "text/plain": [
              "<IPython.core.display.HTML object>"
            ]
          },
          "metadata": {
            "tags": []
          }
        }
      ]
    },
    {
      "cell_type": "code",
      "metadata": {
        "id": "I3X57yfuRqex",
        "colab_type": "code",
        "colab": {}
      },
      "source": [
        "!cp -r 'first_cls' 'drive/My Drive/nlp-telugu/ulmfit2'"
      ],
      "execution_count": null,
      "outputs": []
    },
    {
      "cell_type": "code",
      "metadata": {
        "id": "4bsvuUcDSd89",
        "colab_type": "code",
        "colab": {}
      },
      "source": [
        ""
      ],
      "execution_count": null,
      "outputs": []
    }
  ]
}